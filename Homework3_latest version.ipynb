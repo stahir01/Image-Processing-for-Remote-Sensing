{
 "cells": [
  {
   "cell_type": "markdown",
   "id": "81ae23b4-73ff-42fa-b9c7-0ac69b71e02d",
   "metadata": {},
   "source": [
    "# Homework 3 - CNN on Multilabel remote sensing images\n",
    "## By: Syed Ali Murad Tahir\n",
    "\n",
    "In this homework we will be performing CNN on UCMerced dataset. This dataset contains Multispectral images. \n",
    "\n",
    "\n",
    "The task is divided into following step\n",
    "\n",
    "1)  Prepairing data\n",
    "2) The data we get, we divide that data, into training, test and validation. We divide training data into training and test\n",
    "3) To pretrain the model in order to avoid overfitting, we can use pretrained data already provided to us. Or, we can perform data augmentation\n",
    "to pre train the data so we have more samples of data\n",
    "4) Now we perform Convolution. So we choose the number of layers, neuron in that layer and the activation function of that layer (Check if need to perform padding before,). For padding check the following link: https://www.youtube.com/watch?v=mTVf7BN7S8w&list=PLeo1K3hjS3uu7CxAacxVndI4bE_o3BDtO&index=27\n",
    "5) Then we add Max pooling to take out dominant features\n",
    "6) We can add dropout\n",
    "7) Then we have to perform flatten the data\n",
    "8) We can add a desne layer (Check if we need it or not) -> These are actually the hidden layers we specify when performing forward propgation\n",
    "9) Then we train or data\n",
    "10) After that we check our results on test data to check for overfitting\n",
    "11) At the end we check validation\n",
    "\n",
    "\n"
   ]
  },
  {
   "cell_type": "markdown",
   "id": "849277b8-81c2-4a68-8b4d-f8be2b5b5e12",
   "metadata": {},
   "source": [
    "## Understanding the dataset\n",
    "\n",
    "This is a 21 class land use image dataset meant for research purposes. However, for multilabel, we only have 17 labels\n",
    "\n",
    "There are 100 images for each of the following classes:\n",
    "    \n",
    "    \n",
    " 1) airplane\t\n",
    " 2) bare-soil\t\n",
    " 3) buildings\t\n",
    " 4) cars\t\n",
    " 5) chaparral\t\n",
    " 6) court\t\n",
    " 7) dock\t\n",
    " 8) field\t\n",
    " 9) grass\t\n",
    " 10) mobile-home\t\n",
    " 11) pavement\t\n",
    " 12) sand\t\n",
    " 13) sea\t\n",
    " 14) ship\t\n",
    " 15) tanks\t\n",
    " 16) trees\t\n",
    " 17) water\n",
    "\n",
    "Each image measures 256x256 pixels.\n",
    "\n"
   ]
  },
  {
   "cell_type": "markdown",
   "id": "3bc67344-a238-412f-8080-3c4d35354b82",
   "metadata": {},
   "source": [
    "## Imporint Libraries"
   ]
  },
  {
   "cell_type": "code",
   "execution_count": 106,
   "id": "4e94269a-5bca-4a57-8c42-5f7439f4773a",
   "metadata": {
    "execution": {
     "iopub.execute_input": "2022-07-15T19:06:43.295767Z",
     "iopub.status.busy": "2022-07-15T19:06:43.295407Z",
     "iopub.status.idle": "2022-07-15T19:06:43.302473Z",
     "shell.execute_reply": "2022-07-15T19:06:43.301369Z",
     "shell.execute_reply.started": "2022-07-15T19:06:43.295741Z"
    }
   },
   "outputs": [],
   "source": [
    "import copy\n",
    "import os\n",
    "import numpy as np\n",
    "import pandas as pd\n",
    "import zipfile\n",
    "from simple_downloader import download\n",
    "import matplotlib.pyplot as plt\n",
    "from tqdm.notebook import tqdm\n",
    "from pathlib import Path\n",
    "from PIL import Image\n",
    "from sklearn.metrics import classification_report, multilabel_confusion_matrix, f1_score, average_precision_score\n",
    "\n",
    "import torch\n",
    "import torch.nn as nn\n",
    "import torch.nn.functional as F\n",
    "import torch.optim as optim\n",
    "from torchvision import transforms\n",
    "from torch.utils.data import Dataset, Subset, DataLoader"
   ]
  },
  {
   "cell_type": "markdown",
   "id": "2d177c7b-b47a-40b1-9be2-4ba6c56240fe",
   "metadata": {},
   "source": [
    "## Importing Dataset"
   ]
  },
  {
   "cell_type": "code",
   "execution_count": null,
   "id": "67e8c1fb-493d-4f50-982e-7fa7bcdf621d",
   "metadata": {},
   "outputs": [],
   "source": [
    "download_dir = Path(\"./Hw3_data\")\n",
    "download_dir.mkdir(exist_ok=True)"
   ]
  },
  {
   "cell_type": "code",
   "execution_count": null,
   "id": "44799501-6f9f-48f3-972f-e06da44261b6",
   "metadata": {},
   "outputs": [],
   "source": [
    "TUB_URL = \"https://tubcloud.tu-berlin.de/s/H4QHX5GPDY6wDog/download/UCMerced_LandUse.zip\"\n",
    "output_file = download(TUB_URL, \"./Hw3_data/\")"
   ]
  },
  {
   "cell_type": "code",
   "execution_count": null,
   "id": "8ae871bb-0c4f-4ccb-9e22-7081116dd301",
   "metadata": {},
   "outputs": [],
   "source": [
    "zipf = zipfile.ZipFile(output_file)\n",
    "zipf.extractall(path=\"Hw3_data\")"
   ]
  },
  {
   "cell_type": "markdown",
   "id": "b51bc050-301b-4730-9dff-b0a59de81aa9",
   "metadata": {},
   "source": [
    "## Visualizing our Dataset"
   ]
  },
  {
   "cell_type": "code",
   "execution_count": 4,
   "id": "b93d92a8-6d59-46b2-b706-c12aa21c341d",
   "metadata": {
    "execution": {
     "iopub.execute_input": "2022-07-15T16:46:27.074950Z",
     "iopub.status.busy": "2022-07-15T16:46:27.074389Z",
     "iopub.status.idle": "2022-07-15T16:46:27.843944Z",
     "shell.execute_reply": "2022-07-15T16:46:27.843065Z",
     "shell.execute_reply.started": "2022-07-15T16:46:27.074947Z"
    }
   },
   "outputs": [
    {
     "name": "stdout",
     "output_type": "stream",
     "text": [
      "Current working directory: /notebooks/Hw3_data/UCMerced_LandUse/multilabels\n"
     ]
    },
    {
     "data": {
      "text/html": [
       "<div>\n",
       "<style scoped>\n",
       "    .dataframe tbody tr th:only-of-type {\n",
       "        vertical-align: middle;\n",
       "    }\n",
       "\n",
       "    .dataframe tbody tr th {\n",
       "        vertical-align: top;\n",
       "    }\n",
       "\n",
       "    .dataframe thead th {\n",
       "        text-align: right;\n",
       "    }\n",
       "</style>\n",
       "<table border=\"1\" class=\"dataframe\">\n",
       "  <thead>\n",
       "    <tr style=\"text-align: right;\">\n",
       "      <th></th>\n",
       "      <th>IMAGE\\LABEL</th>\n",
       "      <th>airplane</th>\n",
       "      <th>bare-soil</th>\n",
       "      <th>buildings</th>\n",
       "      <th>cars</th>\n",
       "      <th>chaparral</th>\n",
       "      <th>court</th>\n",
       "      <th>dock</th>\n",
       "      <th>field</th>\n",
       "      <th>grass</th>\n",
       "      <th>mobile-home</th>\n",
       "      <th>pavement</th>\n",
       "      <th>sand</th>\n",
       "      <th>sea</th>\n",
       "      <th>ship</th>\n",
       "      <th>tanks</th>\n",
       "      <th>trees</th>\n",
       "      <th>water</th>\n",
       "    </tr>\n",
       "  </thead>\n",
       "  <tbody>\n",
       "    <tr>\n",
       "      <th>0</th>\n",
       "      <td>agricultural00</td>\n",
       "      <td>0</td>\n",
       "      <td>0</td>\n",
       "      <td>0</td>\n",
       "      <td>0</td>\n",
       "      <td>0</td>\n",
       "      <td>0</td>\n",
       "      <td>0</td>\n",
       "      <td>1</td>\n",
       "      <td>0</td>\n",
       "      <td>0</td>\n",
       "      <td>0</td>\n",
       "      <td>0</td>\n",
       "      <td>0</td>\n",
       "      <td>0</td>\n",
       "      <td>0</td>\n",
       "      <td>1</td>\n",
       "      <td>0</td>\n",
       "    </tr>\n",
       "    <tr>\n",
       "      <th>1</th>\n",
       "      <td>agricultural01</td>\n",
       "      <td>0</td>\n",
       "      <td>0</td>\n",
       "      <td>0</td>\n",
       "      <td>0</td>\n",
       "      <td>0</td>\n",
       "      <td>0</td>\n",
       "      <td>0</td>\n",
       "      <td>1</td>\n",
       "      <td>0</td>\n",
       "      <td>0</td>\n",
       "      <td>0</td>\n",
       "      <td>0</td>\n",
       "      <td>0</td>\n",
       "      <td>0</td>\n",
       "      <td>0</td>\n",
       "      <td>0</td>\n",
       "      <td>0</td>\n",
       "    </tr>\n",
       "    <tr>\n",
       "      <th>2</th>\n",
       "      <td>agricultural02</td>\n",
       "      <td>0</td>\n",
       "      <td>0</td>\n",
       "      <td>0</td>\n",
       "      <td>0</td>\n",
       "      <td>0</td>\n",
       "      <td>0</td>\n",
       "      <td>0</td>\n",
       "      <td>1</td>\n",
       "      <td>0</td>\n",
       "      <td>0</td>\n",
       "      <td>0</td>\n",
       "      <td>0</td>\n",
       "      <td>0</td>\n",
       "      <td>0</td>\n",
       "      <td>0</td>\n",
       "      <td>0</td>\n",
       "      <td>0</td>\n",
       "    </tr>\n",
       "    <tr>\n",
       "      <th>3</th>\n",
       "      <td>agricultural03</td>\n",
       "      <td>0</td>\n",
       "      <td>0</td>\n",
       "      <td>0</td>\n",
       "      <td>0</td>\n",
       "      <td>0</td>\n",
       "      <td>0</td>\n",
       "      <td>0</td>\n",
       "      <td>1</td>\n",
       "      <td>0</td>\n",
       "      <td>0</td>\n",
       "      <td>0</td>\n",
       "      <td>0</td>\n",
       "      <td>0</td>\n",
       "      <td>0</td>\n",
       "      <td>0</td>\n",
       "      <td>0</td>\n",
       "      <td>0</td>\n",
       "    </tr>\n",
       "    <tr>\n",
       "      <th>4</th>\n",
       "      <td>agricultural04</td>\n",
       "      <td>0</td>\n",
       "      <td>0</td>\n",
       "      <td>0</td>\n",
       "      <td>0</td>\n",
       "      <td>0</td>\n",
       "      <td>0</td>\n",
       "      <td>0</td>\n",
       "      <td>0</td>\n",
       "      <td>0</td>\n",
       "      <td>0</td>\n",
       "      <td>0</td>\n",
       "      <td>0</td>\n",
       "      <td>0</td>\n",
       "      <td>0</td>\n",
       "      <td>0</td>\n",
       "      <td>1</td>\n",
       "      <td>0</td>\n",
       "    </tr>\n",
       "    <tr>\n",
       "      <th>...</th>\n",
       "      <td>...</td>\n",
       "      <td>...</td>\n",
       "      <td>...</td>\n",
       "      <td>...</td>\n",
       "      <td>...</td>\n",
       "      <td>...</td>\n",
       "      <td>...</td>\n",
       "      <td>...</td>\n",
       "      <td>...</td>\n",
       "      <td>...</td>\n",
       "      <td>...</td>\n",
       "      <td>...</td>\n",
       "      <td>...</td>\n",
       "      <td>...</td>\n",
       "      <td>...</td>\n",
       "      <td>...</td>\n",
       "      <td>...</td>\n",
       "      <td>...</td>\n",
       "    </tr>\n",
       "    <tr>\n",
       "      <th>2095</th>\n",
       "      <td>tenniscourt95</td>\n",
       "      <td>0</td>\n",
       "      <td>1</td>\n",
       "      <td>0</td>\n",
       "      <td>0</td>\n",
       "      <td>0</td>\n",
       "      <td>1</td>\n",
       "      <td>0</td>\n",
       "      <td>0</td>\n",
       "      <td>1</td>\n",
       "      <td>0</td>\n",
       "      <td>1</td>\n",
       "      <td>0</td>\n",
       "      <td>0</td>\n",
       "      <td>0</td>\n",
       "      <td>0</td>\n",
       "      <td>0</td>\n",
       "      <td>0</td>\n",
       "    </tr>\n",
       "    <tr>\n",
       "      <th>2096</th>\n",
       "      <td>tenniscourt96</td>\n",
       "      <td>0</td>\n",
       "      <td>1</td>\n",
       "      <td>1</td>\n",
       "      <td>1</td>\n",
       "      <td>0</td>\n",
       "      <td>1</td>\n",
       "      <td>0</td>\n",
       "      <td>0</td>\n",
       "      <td>1</td>\n",
       "      <td>0</td>\n",
       "      <td>1</td>\n",
       "      <td>0</td>\n",
       "      <td>0</td>\n",
       "      <td>0</td>\n",
       "      <td>0</td>\n",
       "      <td>1</td>\n",
       "      <td>0</td>\n",
       "    </tr>\n",
       "    <tr>\n",
       "      <th>2097</th>\n",
       "      <td>tenniscourt97</td>\n",
       "      <td>0</td>\n",
       "      <td>1</td>\n",
       "      <td>1</td>\n",
       "      <td>1</td>\n",
       "      <td>0</td>\n",
       "      <td>1</td>\n",
       "      <td>0</td>\n",
       "      <td>0</td>\n",
       "      <td>1</td>\n",
       "      <td>0</td>\n",
       "      <td>1</td>\n",
       "      <td>0</td>\n",
       "      <td>0</td>\n",
       "      <td>0</td>\n",
       "      <td>0</td>\n",
       "      <td>1</td>\n",
       "      <td>0</td>\n",
       "    </tr>\n",
       "    <tr>\n",
       "      <th>2098</th>\n",
       "      <td>tenniscourt98</td>\n",
       "      <td>0</td>\n",
       "      <td>1</td>\n",
       "      <td>1</td>\n",
       "      <td>1</td>\n",
       "      <td>0</td>\n",
       "      <td>1</td>\n",
       "      <td>0</td>\n",
       "      <td>0</td>\n",
       "      <td>1</td>\n",
       "      <td>0</td>\n",
       "      <td>1</td>\n",
       "      <td>0</td>\n",
       "      <td>0</td>\n",
       "      <td>0</td>\n",
       "      <td>0</td>\n",
       "      <td>1</td>\n",
       "      <td>0</td>\n",
       "    </tr>\n",
       "    <tr>\n",
       "      <th>2099</th>\n",
       "      <td>tenniscourt99</td>\n",
       "      <td>0</td>\n",
       "      <td>1</td>\n",
       "      <td>0</td>\n",
       "      <td>1</td>\n",
       "      <td>0</td>\n",
       "      <td>1</td>\n",
       "      <td>0</td>\n",
       "      <td>0</td>\n",
       "      <td>1</td>\n",
       "      <td>0</td>\n",
       "      <td>1</td>\n",
       "      <td>0</td>\n",
       "      <td>0</td>\n",
       "      <td>0</td>\n",
       "      <td>0</td>\n",
       "      <td>1</td>\n",
       "      <td>0</td>\n",
       "    </tr>\n",
       "  </tbody>\n",
       "</table>\n",
       "<p>2100 rows × 18 columns</p>\n",
       "</div>"
      ],
      "text/plain": [
       "         IMAGE\\LABEL  airplane  bare-soil  buildings  cars  chaparral  court  \\\n",
       "0     agricultural00         0          0          0     0          0      0   \n",
       "1     agricultural01         0          0          0     0          0      0   \n",
       "2     agricultural02         0          0          0     0          0      0   \n",
       "3     agricultural03         0          0          0     0          0      0   \n",
       "4     agricultural04         0          0          0     0          0      0   \n",
       "...              ...       ...        ...        ...   ...        ...    ...   \n",
       "2095   tenniscourt95         0          1          0     0          0      1   \n",
       "2096   tenniscourt96         0          1          1     1          0      1   \n",
       "2097   tenniscourt97         0          1          1     1          0      1   \n",
       "2098   tenniscourt98         0          1          1     1          0      1   \n",
       "2099   tenniscourt99         0          1          0     1          0      1   \n",
       "\n",
       "      dock  field  grass  mobile-home  pavement  sand  sea  ship  tanks  \\\n",
       "0        0      1      0            0         0     0    0     0      0   \n",
       "1        0      1      0            0         0     0    0     0      0   \n",
       "2        0      1      0            0         0     0    0     0      0   \n",
       "3        0      1      0            0         0     0    0     0      0   \n",
       "4        0      0      0            0         0     0    0     0      0   \n",
       "...    ...    ...    ...          ...       ...   ...  ...   ...    ...   \n",
       "2095     0      0      1            0         1     0    0     0      0   \n",
       "2096     0      0      1            0         1     0    0     0      0   \n",
       "2097     0      0      1            0         1     0    0     0      0   \n",
       "2098     0      0      1            0         1     0    0     0      0   \n",
       "2099     0      0      1            0         1     0    0     0      0   \n",
       "\n",
       "      trees  water  \n",
       "0         1      0  \n",
       "1         0      0  \n",
       "2         0      0  \n",
       "3         0      0  \n",
       "4         1      0  \n",
       "...     ...    ...  \n",
       "2095      0      0  \n",
       "2096      1      0  \n",
       "2097      1      0  \n",
       "2098      1      0  \n",
       "2099      1      0  \n",
       "\n",
       "[2100 rows x 18 columns]"
      ]
     },
     "execution_count": 4,
     "metadata": {},
     "output_type": "execute_result"
    }
   ],
   "source": [
    "#Go to different file directory\n",
    "path = os.path.join(\"/notebooks\", \"Hw3_data\", \"UCMerced_LandUse\", \"multilabels\", \"\")\n",
    "os.chdir(path)\n",
    "\n",
    "\n",
    "\n",
    "\n",
    "# Print the current working directory\n",
    "print(\"Current working directory: {0}\".format(os.getcwd()))\n",
    "\n",
    "\n",
    "data = pd.DataFrame(pd.read_excel(\"LandUse_Multilabeled.xlsx\"))\n",
    "data"
   ]
  },
  {
   "cell_type": "code",
   "execution_count": 7,
   "id": "8a7b62f0-ffc1-49e6-a73c-2f9d269bd06e",
   "metadata": {
    "execution": {
     "iopub.execute_input": "2022-07-15T16:47:09.574126Z",
     "iopub.status.busy": "2022-07-15T16:47:09.573735Z",
     "iopub.status.idle": "2022-07-15T16:47:09.825056Z",
     "shell.execute_reply": "2022-07-15T16:47:09.824109Z",
     "shell.execute_reply.started": "2022-07-15T16:47:09.574099Z"
    }
   },
   "outputs": [
    {
     "name": "stdout",
     "output_type": "stream",
     "text": [
      "            Number of labels\n",
      "airplane                 100\n",
      "bare-soil                718\n",
      "buildings                691\n",
      "cars                     886\n",
      "chaparral                115\n",
      "court                    105\n",
      "dock                     100\n",
      "field                    103\n",
      "grass                    975\n",
      "mobile-home              102\n",
      "pavement                1300\n",
      "sand                     294\n",
      "sea                      100\n",
      "ship                     102\n",
      "tanks                    100\n",
      "trees                   1009\n",
      "water                    203\n"
     ]
    },
    {
     "data": {
      "text/plain": [
       "Text(0.5, 1.0, 'Total no. of labels that belong to each class')"
      ]
     },
     "execution_count": 7,
     "metadata": {},
     "output_type": "execute_result"
    },
    {
     "data": {
      "image/png": "[encoded data removed]",
      "text/plain": [
       "<Figure size 720x720 with 1 Axes>"
      ]
     },
     "metadata": {
      "needs_background": "light"
     },
     "output_type": "display_data"
    }
   ],
   "source": [
    "result = data.sum(axis=\"rows\")\n",
    "df = pd.DataFrame(result,columns=['Number of labels'])   #Convert into Data Frame\n",
    "#Drop the first row\n",
    "df.drop(index=df.index[0], \n",
    "        axis=0, \n",
    "        inplace=True)\n",
    "print(df)\n",
    "\n",
    "\n",
    "df.plot.bar(figsize=(10,10))\n",
    "plt.xlabel(\"Total Classes\")\n",
    "plt.ylabel(\"No. of Labels\")\n",
    "plt.title(\"Total no. of labels that belong to each class\")"
   ]
  },
  {
   "cell_type": "markdown",
   "id": "069b3e66-0f3f-4d5c-a749-3eaee0efec8f",
   "metadata": {},
   "source": [
    "## Designing Data Pipeline\n"
   ]
  },
  {
   "cell_type": "code",
   "execution_count": 12,
   "id": "0b4a6bed-5835-4132-b310-a77f67f2793c",
   "metadata": {
    "execution": {
     "iopub.execute_input": "2022-07-15T17:07:17.663865Z",
     "iopub.status.busy": "2022-07-15T17:07:17.663520Z",
     "iopub.status.idle": "2022-07-15T17:07:17.673906Z",
     "shell.execute_reply": "2022-07-15T17:07:17.672983Z",
     "shell.execute_reply.started": "2022-07-15T17:07:17.663826Z"
    }
   },
   "outputs": [],
   "source": [
    "class UCMerced(Dataset):\n",
    "    def __init__(self, root_dir, img_transform=None, multilabel=True):\n",
    "\n",
    "        self.root_dir = root_dir\n",
    "        self.images_path = os.path.join(root_dir, \"Images\")\n",
    "        self.class_names = sorted(\n",
    "            [cl for cl in os.listdir(self.images_path) if not cl.startswith(\".\")]\n",
    "        )\n",
    "        self.img_paths, self.img_labels = self.init_dataset()\n",
    "        self.img_transform = img_transform\n",
    "\n",
    "        if multilabel:\n",
    "            self.img_labels = self.read_multilabels()  # important for loss calculation\n",
    "            self.img_labels = self.img_labels.astype(float)\n",
    "\n",
    "    def init_dataset(self):\n",
    "        img_paths, img_labels = [], []\n",
    "        for cl_id, cl_name in enumerate(self.class_names):\n",
    "            cl_path = os.path.join(self.images_path, cl_name)\n",
    "\n",
    "            for img in sorted(os.listdir(cl_path)):\n",
    "                img_path = os.path.join(cl_path, img)\n",
    "                img_paths.append(img_path)\n",
    "                img_labels.append(cl_id)\n",
    "\n",
    "        return img_paths, img_labels\n",
    "\n",
    "    def read_multilabels(self):\n",
    "        label = pd.read_excel(\"./Hw3_data/UCMerced_LandUse/multilabels/LandUse_Multilabeled.xlsx\")\n",
    "        label = label.set_index(\"IMAGE\\LABEL\")\n",
    "        label = np.array(label)\n",
    "        return label\n",
    "\n",
    "    def __getitem__(self, idx):\n",
    "        img_path = self.img_paths[idx]\n",
    "        label = self.img_labels[idx]\n",
    "\n",
    "        img = Image.open(img_path).convert(\"RGB\")\n",
    "        if self.img_transform is not None:\n",
    "            img = self.img_transform(img)\n",
    "\n",
    "        return dict(img=img, label=label)\n",
    "\n",
    "    def __len__(self):\n",
    "        return len(self.img_paths)"
   ]
  },
  {
   "cell_type": "code",
   "execution_count": 13,
   "id": "eeff5703-931e-45ca-b2a0-7e36913630dd",
   "metadata": {
    "execution": {
     "iopub.execute_input": "2022-07-15T17:07:18.072983Z",
     "iopub.status.busy": "2022-07-15T17:07:18.072483Z",
     "iopub.status.idle": "2022-07-15T17:07:18.079849Z",
     "shell.execute_reply": "2022-07-15T17:07:18.078447Z",
     "shell.execute_reply.started": "2022-07-15T17:07:18.072955Z"
    }
   },
   "outputs": [],
   "source": [
    "class MetricTracker(object):\n",
    "    \"\"\"Computes and stores the average and current value.\"\"\"\n",
    "\n",
    "    def __init__(self):\n",
    "        self.reset()\n",
    "\n",
    "    def reset(self):\n",
    "        self.val = 0\n",
    "        self.avg = 0\n",
    "        self.sum = 0\n",
    "        self.count = 0\n",
    "\n",
    "    def update(self, val, n=1):\n",
    "        self.val = val\n",
    "        self.sum += val * n\n",
    "        self.count += n\n",
    "        self.avg = self.sum / self.count"
   ]
  },
  {
   "cell_type": "code",
   "execution_count": 14,
   "id": "af72c425-858b-4ac9-a29b-b134e9c8c97b",
   "metadata": {
    "execution": {
     "iopub.execute_input": "2022-07-15T17:07:18.447519Z",
     "iopub.status.busy": "2022-07-15T17:07:18.447094Z",
     "iopub.status.idle": "2022-07-15T17:07:18.452987Z",
     "shell.execute_reply": "2022-07-15T17:07:18.451896Z",
     "shell.execute_reply.started": "2022-07-15T17:07:18.447491Z"
    }
   },
   "outputs": [],
   "source": [
    "def get_device(cuda_int):\n",
    "    \"\"\"Get Cuda-Device. If cuda_int < 0 compute on CPU.\"\"\"\n",
    "    if cuda_int < 0:\n",
    "        print(\"Computation on CPU\")\n",
    "        device = torch.device(\"cpu\")\n",
    "    elif torch.cuda.is_available():\n",
    "        print(\"Computation on CUDA GPU device {}\".format(cuda_int))\n",
    "        device = torch.device(\"cuda:{}\".format(cuda_int))\n",
    "    return device"
   ]
  },
  {
   "cell_type": "code",
   "execution_count": 15,
   "id": "cba7d50f-1d3e-4f4e-9a27-7adda55aa865",
   "metadata": {
    "execution": {
     "iopub.execute_input": "2022-07-15T17:07:20.010858Z",
     "iopub.status.busy": "2022-07-15T17:07:20.010521Z",
     "iopub.status.idle": "2022-07-15T17:07:20.018899Z",
     "shell.execute_reply": "2022-07-15T17:07:20.017971Z",
     "shell.execute_reply.started": "2022-07-15T17:07:20.010832Z"
    }
   },
   "outputs": [],
   "source": [
    "from torchvision import datasets ,models , transforms\n",
    "import json\n",
    "from torch.utils.data import Dataset, DataLoader ,random_split\n",
    "from PIL import Image\n",
    "from pathlib import Path\n",
    "from torchvision.models import ResNet18_Weights\n",
    "from torch.optim import Adam\n",
    "\n",
    "def get_dataset(root_dir, tr_transform,seed=1, multilabel=True):\n",
    "    valid_no = int(2100*0.1)\n",
    "    train_no = int(2100*0.7) \n",
    "    test_no = int(2100*0.2)\n",
    "    \n",
    "    \"\"\"\n",
    "    Parameter\n",
    "    ---------\n",
    "    root_dir     : path to UCMerced Dataset\n",
    "    tr_transform : transformation for training data\n",
    "    te_transform : transformation for training data\n",
    "    set_sizes    : list of percentage of either train-test or train-val-test (sum to 100)\n",
    "\n",
    "    Output\n",
    "    ------\n",
    "    sets for train and test, optionally also val if len(set_sizes)==3\n",
    "    \"\"\"\n",
    "    ucm_dataset_tr = UCMerced(root_dir, img_transform=tr_transform, multilabel=multilabel)\n",
    "    #ucm_dataset_te = UCMerced(root_dir, img_transform=te_transform, multilabel=multilabel)\n",
    "    \n",
    "    trainset ,validset, testset  = random_split(ucm_dataset_tr, [train_no, valid_no, test_no])\n",
    "    \n",
    "    return trainset ,validset, testset\n",
    "    \n",
    "    \n",
    "    #idx_list = split_ucm_indices(set_sizes, seed=seed)\n",
    "\n",
    "   # train_set = Subset(ucm_dataset_tr, idx_list[0])\n",
    "    #test_set = Subset(ucm_dataset_te, idx_list[-1])\n",
    "\n",
    "    #if len(idx_list) > 2:\n",
    "     #   val_set = Subset(ucm_dataset_te, idx_list[1])\n",
    "      #  return train_set, val_set, test_set\n",
    "    #else:\n",
    "     #   return train_set, test_set"
   ]
  },
  {
   "cell_type": "code",
   "execution_count": 17,
   "id": "fa9e27cd-697e-494a-b93f-0f3ec05aaec3",
   "metadata": {
    "execution": {
     "iopub.execute_input": "2022-07-15T17:07:24.863445Z",
     "iopub.status.busy": "2022-07-15T17:07:24.862797Z",
     "iopub.status.idle": "2022-07-15T17:07:24.870513Z",
     "shell.execute_reply": "2022-07-15T17:07:24.869429Z",
     "shell.execute_reply.started": "2022-07-15T17:07:24.863398Z"
    }
   },
   "outputs": [
    {
     "data": {
      "text/plain": [
       "'/notebooks'"
      ]
     },
     "execution_count": 17,
     "metadata": {},
     "output_type": "execute_result"
    }
   ],
   "source": [
    "#Create class labels\n",
    "classLabels = [\"airplane\", \"bare-soil\", \"buildings\", \"cars\",\"chaparral\", \"court\", \"dock\", \"field\", \"grass\", \"mobile-home\",\"pavement\",\"sand\", \"sea\",\"ship\",\n",
    "               \"tanks\", \"trees\", \"water\"]\n",
    "\n",
    "import os\n",
    "os.chdir(\"/notebooks\")\n",
    "os.getcwd()"
   ]
  },
  {
   "cell_type": "markdown",
   "id": "7dfe22e1-0d8c-415d-a0f4-c84b1c8ff3e0",
   "metadata": {},
   "source": [
    "# Training Design\n",
    "\n",
    "In this part, we will be creating a CNN. In order to perform CNN, we had to perform the following tasks: \n",
    "1) Divide our data into training, test and validation. We use 70% data for training, 20% for testing and 10% for validation. \n",
    "2) We create the Convolution layer. In this case we use the pytorch pretrained resnet 18 model \n",
    "3) For criterion, we use a BCEWithLogitsLoss function. This is due to the fact that we want to perform multilabel classification \n",
    "4) For optimizer, we use Adam optimizer. It is the same as stochastic gradient descent \n",
    "5) We create a dense layer that used for training the model \n",
    "6) We evaluate the model in order to check whether the model is overfitting or underfitting \n",
    "7) Test the model for unseen data"
   ]
  },
  {
   "cell_type": "markdown",
   "id": "dbb00ebf-e8d4-40b4-8a64-f9747e191565",
   "metadata": {},
   "source": [
    "\n",
    "In the first part, we divide our dataset into training test and validation. We provide 70% data to training, 10% to validation and 20% to testing. We already splitted the data randomly in the function get_dataset"
   ]
  },
  {
   "cell_type": "code",
   "execution_count": 19,
   "id": "06bcca3a-c413-46fc-ba33-bd03930c0e02",
   "metadata": {
    "execution": {
     "iopub.execute_input": "2022-07-15T17:07:29.699657Z",
     "iopub.status.busy": "2022-07-15T17:07:29.699287Z",
     "iopub.status.idle": "2022-07-15T17:07:29.704494Z",
     "shell.execute_reply": "2022-07-15T17:07:29.703565Z",
     "shell.execute_reply.started": "2022-07-15T17:07:29.699632Z"
    }
   },
   "outputs": [
    {
     "name": "stdout",
     "output_type": "stream",
     "text": [
      "Computation on CUDA GPU device 0\n"
     ]
    }
   ],
   "source": [
    "#Choose our device\n",
    "cuda_device = get_device(0)"
   ]
  },
  {
   "cell_type": "code",
   "execution_count": 20,
   "id": "53f2f9ad-276e-4d8c-a4a3-8f9a2d0809cd",
   "metadata": {
    "execution": {
     "iopub.execute_input": "2022-07-15T17:07:32.453584Z",
     "iopub.status.busy": "2022-07-15T17:07:32.453232Z",
     "iopub.status.idle": "2022-07-15T17:07:32.458805Z",
     "shell.execute_reply": "2022-07-15T17:07:32.457647Z",
     "shell.execute_reply.started": "2022-07-15T17:07:32.453558Z"
    }
   },
   "outputs": [],
   "source": [
    "#Choose our parameter\n",
    "batch_size = 64\n",
    "learning_rate = 0.001\n",
    "epochs = 20"
   ]
  },
  {
   "cell_type": "code",
   "execution_count": 21,
   "id": "4b104c9d-3e74-474d-ac16-f74251462c9b",
   "metadata": {
    "execution": {
     "iopub.execute_input": "2022-07-15T17:07:32.798931Z",
     "iopub.status.busy": "2022-07-15T17:07:32.798532Z",
     "iopub.status.idle": "2022-07-15T17:07:32.804986Z",
     "shell.execute_reply": "2022-07-15T17:07:32.804203Z",
     "shell.execute_reply.started": "2022-07-15T17:07:32.798876Z"
    }
   },
   "outputs": [],
   "source": [
    "ucm_mean = [0.595425, 0.3518577, 0.3225522]\n",
    "ucm_std = [0.19303136, 0.12492529, 0.10577361]\n",
    "\n",
    "#So we resize the images so all image have same size\n",
    "#This is how we transform all images\n",
    "\n",
    "#We do it for both training and testing data\n",
    "#For further understanding, pls refer to the following webste: https://www.programcreek.com/python/example/104832/torchvision.transforms.Compose\n",
    "\n",
    "tr_transform = transforms.Compose(\n",
    "    [\n",
    "        transforms.Resize((64, 64)),\n",
    "        transforms.ToTensor(),\n",
    "        transforms.Normalize(mean=ucm_mean, std=ucm_std),\n",
    "    ]\n",
    ")\n",
    "\n",
    "te_transform = transforms.Compose(\n",
    "    [\n",
    "        transforms.Resize((64, 64)),\n",
    "        transforms.ToTensor(),\n",
    "        transforms.Normalize(mean=ucm_mean, std=ucm_std),\n",
    "    ]\n",
    ")"
   ]
  },
  {
   "cell_type": "code",
   "execution_count": 22,
   "id": "7d0bb8c9-dee6-4579-9459-023ac17f47e5",
   "metadata": {
    "execution": {
     "iopub.execute_input": "2022-07-15T17:07:33.453335Z",
     "iopub.status.busy": "2022-07-15T17:07:33.452942Z",
     "iopub.status.idle": "2022-07-15T17:07:34.154614Z",
     "shell.execute_reply": "2022-07-15T17:07:34.153679Z",
     "shell.execute_reply.started": "2022-07-15T17:07:33.453294Z"
    }
   },
   "outputs": [],
   "source": [
    "#Split data into train, validation and test\n",
    "trainset, valset, testset = get_dataset(\n",
    "    \"./Hw3_data/UCMerced_LandUse\",\n",
    "    tr_transform=tr_transform,\n",
    "    multilabel=True\n",
    ")"
   ]
  },
  {
   "cell_type": "code",
   "execution_count": 23,
   "id": "5b6638c1-aa85-4824-b54e-8ce639983b55",
   "metadata": {
    "execution": {
     "iopub.execute_input": "2022-07-15T17:07:37.367279Z",
     "iopub.status.busy": "2022-07-15T17:07:37.366866Z",
     "iopub.status.idle": "2022-07-15T17:07:37.373184Z",
     "shell.execute_reply": "2022-07-15T17:07:37.371996Z",
     "shell.execute_reply.started": "2022-07-15T17:07:37.367240Z"
    }
   },
   "outputs": [],
   "source": [
    "\n",
    "train_loader = DataLoader(trainset, batch_size=batch_size, shuffle=True, pin_memory=True)\n",
    "val_loader = DataLoader(valset, batch_size=batch_size, shuffle=False, pin_memory=True)\n",
    "test_loader = DataLoader(testset, batch_size=batch_size, shuffle=False, pin_memory=True)"
   ]
  },
  {
   "cell_type": "markdown",
   "id": "26768bb9-53c5-4c31-9c5a-b3708a76ecb5",
   "metadata": {},
   "source": [
    "## Define our Model"
   ]
  },
  {
   "cell_type": "code",
   "execution_count": 24,
   "id": "7ea52a99-0770-43f6-b608-906da0b58ac8",
   "metadata": {
    "execution": {
     "iopub.execute_input": "2022-07-15T17:07:39.828398Z",
     "iopub.status.busy": "2022-07-15T17:07:39.828020Z",
     "iopub.status.idle": "2022-07-15T17:07:44.197625Z",
     "shell.execute_reply": "2022-07-15T17:07:44.196678Z",
     "shell.execute_reply.started": "2022-07-15T17:07:39.828372Z"
    }
   },
   "outputs": [
    {
     "data": {
      "text/plain": [
       "ResNet(\n",
       "  (conv1): Conv2d(3, 64, kernel_size=(7, 7), stride=(2, 2), padding=(3, 3), bias=False)\n",
       "  (bn1): BatchNorm2d(64, eps=1e-05, momentum=0.1, affine=True, track_running_stats=True)\n",
       "  (relu): ReLU(inplace=True)\n",
       "  (maxpool): MaxPool2d(kernel_size=3, stride=2, padding=1, dilation=1, ceil_mode=False)\n",
       "  (layer1): Sequential(\n",
       "    (0): BasicBlock(\n",
       "      (conv1): Conv2d(64, 64, kernel_size=(3, 3), stride=(1, 1), padding=(1, 1), bias=False)\n",
       "      (bn1): BatchNorm2d(64, eps=1e-05, momentum=0.1, affine=True, track_running_stats=True)\n",
       "      (relu): ReLU(inplace=True)\n",
       "      (conv2): Conv2d(64, 64, kernel_size=(3, 3), stride=(1, 1), padding=(1, 1), bias=False)\n",
       "      (bn2): BatchNorm2d(64, eps=1e-05, momentum=0.1, affine=True, track_running_stats=True)\n",
       "    )\n",
       "    (1): BasicBlock(\n",
       "      (conv1): Conv2d(64, 64, kernel_size=(3, 3), stride=(1, 1), padding=(1, 1), bias=False)\n",
       "      (bn1): BatchNorm2d(64, eps=1e-05, momentum=0.1, affine=True, track_running_stats=True)\n",
       "      (relu): ReLU(inplace=True)\n",
       "      (conv2): Conv2d(64, 64, kernel_size=(3, 3), stride=(1, 1), padding=(1, 1), bias=False)\n",
       "      (bn2): BatchNorm2d(64, eps=1e-05, momentum=0.1, affine=True, track_running_stats=True)\n",
       "    )\n",
       "  )\n",
       "  (layer2): Sequential(\n",
       "    (0): BasicBlock(\n",
       "      (conv1): Conv2d(64, 128, kernel_size=(3, 3), stride=(2, 2), padding=(1, 1), bias=False)\n",
       "      (bn1): BatchNorm2d(128, eps=1e-05, momentum=0.1, affine=True, track_running_stats=True)\n",
       "      (relu): ReLU(inplace=True)\n",
       "      (conv2): Conv2d(128, 128, kernel_size=(3, 3), stride=(1, 1), padding=(1, 1), bias=False)\n",
       "      (bn2): BatchNorm2d(128, eps=1e-05, momentum=0.1, affine=True, track_running_stats=True)\n",
       "      (downsample): Sequential(\n",
       "        (0): Conv2d(64, 128, kernel_size=(1, 1), stride=(2, 2), bias=False)\n",
       "        (1): BatchNorm2d(128, eps=1e-05, momentum=0.1, affine=True, track_running_stats=True)\n",
       "      )\n",
       "    )\n",
       "    (1): BasicBlock(\n",
       "      (conv1): Conv2d(128, 128, kernel_size=(3, 3), stride=(1, 1), padding=(1, 1), bias=False)\n",
       "      (bn1): BatchNorm2d(128, eps=1e-05, momentum=0.1, affine=True, track_running_stats=True)\n",
       "      (relu): ReLU(inplace=True)\n",
       "      (conv2): Conv2d(128, 128, kernel_size=(3, 3), stride=(1, 1), padding=(1, 1), bias=False)\n",
       "      (bn2): BatchNorm2d(128, eps=1e-05, momentum=0.1, affine=True, track_running_stats=True)\n",
       "    )\n",
       "  )\n",
       "  (layer3): Sequential(\n",
       "    (0): BasicBlock(\n",
       "      (conv1): Conv2d(128, 256, kernel_size=(3, 3), stride=(2, 2), padding=(1, 1), bias=False)\n",
       "      (bn1): BatchNorm2d(256, eps=1e-05, momentum=0.1, affine=True, track_running_stats=True)\n",
       "      (relu): ReLU(inplace=True)\n",
       "      (conv2): Conv2d(256, 256, kernel_size=(3, 3), stride=(1, 1), padding=(1, 1), bias=False)\n",
       "      (bn2): BatchNorm2d(256, eps=1e-05, momentum=0.1, affine=True, track_running_stats=True)\n",
       "      (downsample): Sequential(\n",
       "        (0): Conv2d(128, 256, kernel_size=(1, 1), stride=(2, 2), bias=False)\n",
       "        (1): BatchNorm2d(256, eps=1e-05, momentum=0.1, affine=True, track_running_stats=True)\n",
       "      )\n",
       "    )\n",
       "    (1): BasicBlock(\n",
       "      (conv1): Conv2d(256, 256, kernel_size=(3, 3), stride=(1, 1), padding=(1, 1), bias=False)\n",
       "      (bn1): BatchNorm2d(256, eps=1e-05, momentum=0.1, affine=True, track_running_stats=True)\n",
       "      (relu): ReLU(inplace=True)\n",
       "      (conv2): Conv2d(256, 256, kernel_size=(3, 3), stride=(1, 1), padding=(1, 1), bias=False)\n",
       "      (bn2): BatchNorm2d(256, eps=1e-05, momentum=0.1, affine=True, track_running_stats=True)\n",
       "    )\n",
       "  )\n",
       "  (layer4): Sequential(\n",
       "    (0): BasicBlock(\n",
       "      (conv1): Conv2d(256, 512, kernel_size=(3, 3), stride=(2, 2), padding=(1, 1), bias=False)\n",
       "      (bn1): BatchNorm2d(512, eps=1e-05, momentum=0.1, affine=True, track_running_stats=True)\n",
       "      (relu): ReLU(inplace=True)\n",
       "      (conv2): Conv2d(512, 512, kernel_size=(3, 3), stride=(1, 1), padding=(1, 1), bias=False)\n",
       "      (bn2): BatchNorm2d(512, eps=1e-05, momentum=0.1, affine=True, track_running_stats=True)\n",
       "      (downsample): Sequential(\n",
       "        (0): Conv2d(256, 512, kernel_size=(1, 1), stride=(2, 2), bias=False)\n",
       "        (1): BatchNorm2d(512, eps=1e-05, momentum=0.1, affine=True, track_running_stats=True)\n",
       "      )\n",
       "    )\n",
       "    (1): BasicBlock(\n",
       "      (conv1): Conv2d(512, 512, kernel_size=(3, 3), stride=(1, 1), padding=(1, 1), bias=False)\n",
       "      (bn1): BatchNorm2d(512, eps=1e-05, momentum=0.1, affine=True, track_running_stats=True)\n",
       "      (relu): ReLU(inplace=True)\n",
       "      (conv2): Conv2d(512, 512, kernel_size=(3, 3), stride=(1, 1), padding=(1, 1), bias=False)\n",
       "      (bn2): BatchNorm2d(512, eps=1e-05, momentum=0.1, affine=True, track_running_stats=True)\n",
       "    )\n",
       "  )\n",
       "  (avgpool): AdaptiveAvgPool2d(output_size=(1, 1))\n",
       "  (fc): Linear(in_features=512, out_features=17, bias=True)\n",
       ")"
      ]
     },
     "execution_count": 80,
     "metadata": {},
     "output_type": "execute_result"
    }
   ],
   "source": [
    "\n",
    "model = models.resnet18(weights=ResNet18_Weights.DEFAULT)\n",
    "model.fc = nn.Linear(512, 17) #21 - number of classes\n",
    "model.to(cuda_device)\n"
   ]
  },
  {
   "cell_type": "markdown",
   "id": "77159ed1-9352-4ab3-b567-957f802b93a2",
   "metadata": {},
   "source": [
    "## Define our criterion and gradient descent as stochastic gradient descent"
   ]
  },
  {
   "cell_type": "code",
   "execution_count": 25,
   "id": "54eb38b1-ee40-40b2-afc7-2aeaf4e8be0b",
   "metadata": {
    "execution": {
     "iopub.execute_input": "2022-07-15T17:07:48.211117Z",
     "iopub.status.busy": "2022-07-15T17:07:48.210685Z",
     "iopub.status.idle": "2022-07-15T17:07:48.217683Z",
     "shell.execute_reply": "2022-07-15T17:07:48.216716Z",
     "shell.execute_reply.started": "2022-07-15T17:07:48.211072Z"
    }
   },
   "outputs": [],
   "source": [
    "import torch.optim as optim\n",
    "from torch.optim import lr_scheduler\n",
    "\n",
    "\n",
    "#Criterion\n",
    "criterion = nn.BCEWithLogitsLoss().to(cuda_device)\n",
    "#criterion = nn.CrossEntropyLoss()\n",
    "\n",
    "\n",
    "\n",
    "\n",
    "# specify optimizer\n",
    "optimizer = optim.Adam(model.parameters(), lr=0.001, weight_decay=0.0001)"
   ]
  },
  {
   "cell_type": "markdown",
   "id": "80fd695f-a16d-4ef1-a1c9-11f11ed56960",
   "metadata": {},
   "source": [
    "## Define functions for training and validation"
   ]
  },
  {
   "cell_type": "code",
   "execution_count": 117,
   "id": "a8d3a7b2-bf97-4df9-ac84-be19841ff20d",
   "metadata": {
    "execution": {
     "iopub.execute_input": "2022-07-15T19:21:16.365144Z",
     "iopub.status.busy": "2022-07-15T19:21:16.364771Z",
     "iopub.status.idle": "2022-07-15T19:21:16.373666Z",
     "shell.execute_reply": "2022-07-15T19:21:16.372416Z",
     "shell.execute_reply.started": "2022-07-15T19:21:16.365096Z"
    }
   },
   "outputs": [],
   "source": [
    "def train(model, train_loader, val_loader, optimizer, criterion, epochs, device, early_stop=False):\n",
    "    train_losses, val_losses = [], []\n",
    "    accuracy_scores = []\n",
    "    best_model = copy.deepcopy(model)\n",
    "    best_acc = 0\n",
    "    best_epoch = 1\n",
    "\n",
    "    for epoch in range(1, epochs + 1):\n",
    "\n",
    "        print(\"Epoch {}/{}\".format(epoch, epochs))\n",
    "        print(\"-\" * 10)\n",
    "\n",
    "        train_loss = train_epoch(model, train_loader, optimizer, criterion, device)\n",
    "        val_loss, report, _ = val_epoch(model, val_loader, criterion, device)\n",
    "        overall_acc = report[\"accuracy\"]\n",
    "\n",
    "        train_losses.append(train_loss)\n",
    "        val_losses.append(val_loss)\n",
    "        accuracy_scores.append(overall_acc)\n",
    "\n",
    "        if best_acc < overall_acc:\n",
    "            best_acc = overall_acc\n",
    "            best_epoch = epoch\n",
    "            best_model = copy.deepcopy(model)\n",
    "\n",
    "        if epoch - best_epoch > 10 and early_stop:\n",
    "            break\n",
    "\n",
    "    return best_model, train_losses, val_losses, accuracy_scores"
   ]
  },
  {
   "cell_type": "code",
   "execution_count": 118,
   "id": "472ff0aa-cc35-41f4-8584-a94042d12026",
   "metadata": {
    "execution": {
     "iopub.execute_input": "2022-07-15T19:21:16.719213Z",
     "iopub.status.busy": "2022-07-15T19:21:16.718750Z",
     "iopub.status.idle": "2022-07-15T19:21:16.727807Z",
     "shell.execute_reply": "2022-07-15T19:21:16.726771Z",
     "shell.execute_reply.started": "2022-07-15T19:21:16.719186Z"
    }
   },
   "outputs": [],
   "source": [
    "def train_epoch(model, train_loader, optimizer, criterion, device):\n",
    "    loss_tracker = MetricTracker()\n",
    "    acc_tracker = MetricTracker()\n",
    "    model.train()\n",
    "\n",
    "    tqdm_bar = tqdm(train_loader, desc=\"Training: \")\n",
    "    for batch in tqdm_bar:\n",
    "\n",
    "        images = batch[\"img\"].to(device)\n",
    "        labels = batch[\"label\"].to(device)\n",
    "        batch_size = images.size(0)\n",
    "        optimizer.zero_grad()\n",
    "\n",
    "        logits = model(images)\n",
    "        loss = criterion(logits, labels)\n",
    "        #loss = criterion(logits, labels.float())\n",
    "        loss.backward()\n",
    "        optimizer.step()\n",
    "\n",
    "        probs = F.softmax(logits, dim=1)\n",
    "        loss_tracker.update(loss.item(), batch_size)\n",
    "\n",
    "        _, predicted = torch.max(probs.data, 1)\n",
    "        #batch_acc = (predicted == labels).sum().item() / batch_size\n",
    "        #acc_tracker.update(batch_acc, batch_size)\n",
    "        tqdm_bar.set_postfix(loss=loss_tracker.avg, accuracy=acc_tracker.avg)\n",
    "        tqdm_bar.set_postfix(loss=loss_tracker.avg)\n",
    "\n",
    "    return loss_tracker.avg"
   ]
  },
  {
   "cell_type": "code",
   "execution_count": null,
   "id": "b0321b5b-865b-445c-b00a-46f0eef283c8",
   "metadata": {},
   "outputs": [],
   "source": []
  },
  {
   "cell_type": "code",
   "execution_count": 134,
   "id": "9f3903f7-15aa-4e4a-9d2d-f8a9477debdb",
   "metadata": {
    "execution": {
     "iopub.execute_input": "2022-07-15T19:27:43.808253Z",
     "iopub.status.busy": "2022-07-15T19:27:43.807904Z",
     "iopub.status.idle": "2022-07-15T19:27:43.820248Z",
     "shell.execute_reply": "2022-07-15T19:27:43.818830Z",
     "shell.execute_reply.started": "2022-07-15T19:27:43.808225Z"
    }
   },
   "outputs": [],
   "source": [
    "def val_epoch(model, val_loader, criterion, device):\n",
    "    loss_tracker = MetricTracker()\n",
    "    acc_tracker = MetricTracker()\n",
    "    model.eval()\n",
    "\n",
    "    y_pred = []\n",
    "    y_true = []\n",
    "    y_prediction_normalize = []\n",
    "    y_pred_segmented = []\n",
    "    classLabels = [\"airplane\", \"bare-soil\", \"buildings\", \"cars\",\"chaparral\", \"court\", \"dock\", \"field\", \"grass\", \"mobile-home\",\"pavement\",\"sand\", \"sea\",\"ship\",\n",
    "               \"tanks\", \"trees\", \"water\"]\n",
    "    \n",
    "    \n",
    "\n",
    "    with torch.no_grad():\n",
    "        tqdm_bar = tqdm(val_loader, desc=\"Validation: \")\n",
    "        for batch in tqdm_bar:\n",
    "\n",
    "            images = batch[\"img\"].to(device)\n",
    "            labels = batch[\"label\"].to(device)\n",
    "            batch_size = images.size(0)\n",
    "\n",
    "            logits = model(images)\n",
    "            probs = F.softmax(logits, dim=1)\n",
    "            loss = criterion(logits, labels)\n",
    "            loss_tracker.update(loss.item(), batch_size)\n",
    "\n",
    "            #_, predicted = torch.max(probs.data, 1)\n",
    "            predicted_prob, predicted_labels = torch.topk(probs.data, 17) #Find values fo all classes\n",
    "           # batch_acc = (predicted == labels).sum().item() / batch_size\n",
    "            #acc_tracker.update(batch_acc, batch_size)\n",
    "            acc_tracker.update(batch_size)\n",
    "\n",
    "            y_pred += predicted_labels.tolist()\n",
    "            y_true += labels.tolist()\n",
    "            tqdm_bar.set_postfix(loss=loss_tracker.avg, accuracy=acc_tracker.avg)\n",
    "            \n",
    "            y_pred_arr = np.array(y_pred)\n",
    "            y_true_arr = np.array(y_true)\n",
    "            \n",
    "            # We can normalize the y_prediction values between 0 & 1\n",
    "\n",
    "            \n",
    "            y_prediction_normalize  = normalization(y_pred_arr)\n",
    "            \n",
    "            \n",
    "            \"\"\"\n",
    "            min_val = np.amin(y_pred_arr)\n",
    "            max_val = np.amax(y_pred_arr)\n",
    "            for i in y_pred_arr:\n",
    "                for j in i:\n",
    "                    z = ((y_pred_arr[j] - min_val)/ (max_val -min_val))\n",
    "                y_prediction_normalize.append(z)\n",
    "\n",
    "            y_prediction_normalize = np.array(y_prediction_normalize)\n",
    "            print(y_prediction_normalize)\n",
    "            print(y_prediction_normalize.shape)\n",
    "            \n",
    "           \"\"\"         \n",
    "            \n",
    "            \n",
    "            # Now we perform segmentation. Values > 0.5 -> 1 while other -> 0\n",
    "            \n",
    "            y_pred_segmented = np.where(y_prediction_normalize > 0.5, 1, 0) \n",
    "            y_pred_segmented = np.array(y_pred_segmented)\n",
    "            \n",
    "    print(y_pred_segmented)\n",
    "    print(y_pred_segmented.shape)\n",
    "      \n",
    "     \n",
    "    #Classfication_report and Multilabel confusion matrix\n",
    "    \n",
    "    report = classification_report(y_true, y_pred_segmented,target_names=classLabels)\n",
    "    #report = classification_report(y_true, y_pred_segmented, zero_division=0, output_dict=True)\n",
    "    conf_mat = multilabel_confusion_matrix(y_true, y_pred_segmented)\n",
    "        \n",
    "    return loss_tracker.avg, report, conf_mat"
   ]
  },
  {
   "cell_type": "code",
   "execution_count": 135,
   "id": "4e9570c1-5452-4638-bead-b77061f6d648",
   "metadata": {
    "execution": {
     "iopub.execute_input": "2022-07-15T19:27:45.311500Z",
     "iopub.status.busy": "2022-07-15T19:27:45.311085Z",
     "iopub.status.idle": "2022-07-15T19:27:45.316117Z",
     "shell.execute_reply": "2022-07-15T19:27:45.315148Z",
     "shell.execute_reply.started": "2022-07-15T19:27:45.311472Z"
    }
   },
   "outputs": [],
   "source": [
    "eval_accuracies = []"
   ]
  },
  {
   "cell_type": "code",
   "execution_count": 136,
   "id": "e17a9ee0-48c6-43df-9f7c-391be9c4325c",
   "metadata": {
    "execution": {
     "iopub.execute_input": "2022-07-15T19:27:46.352503Z",
     "iopub.status.busy": "2022-07-15T19:27:46.351812Z",
     "iopub.status.idle": "2022-07-15T19:27:52.499177Z",
     "shell.execute_reply": "2022-07-15T19:27:52.495851Z",
     "shell.execute_reply.started": "2022-07-15T19:27:46.352475Z"
    }
   },
   "outputs": [
    {
     "name": "stdout",
     "output_type": "stream",
     "text": [
      "Epoch 1/3\n",
      "----------\n"
     ]
    },
    {
     "data": {
      "application/vnd.jupyter.widget-view+json": {
       "model_id": "eea8e0fe495b4118bda4da33ff13b56f",
       "version_major": 2,
       "version_minor": 0
      },
      "text/plain": [
       "Training:   0%|          | 0/23 [00:00<?, ?it/s]"
      ]
     },
     "metadata": {},
     "output_type": "display_data"
    },
    {
     "data": {
      "application/vnd.jupyter.widget-view+json": {
       "model_id": "e6aff969006a4f13aee6a22cb186af39",
       "version_major": 2,
       "version_minor": 0
      },
      "text/plain": [
       "Validation:   0%|          | 0/4 [00:00<?, ?it/s]"
      ]
     },
     "metadata": {},
     "output_type": "display_data"
    },
    {
     "name": "stdout",
     "output_type": "stream",
     "text": [
      "[[1 0 0 ... 1 1 1]\n",
      " [1 1 1 ... 0 0 0]\n",
      " [1 1 1 ... 0 0 0]\n",
      " ...\n",
      " [0 0 1 ... 1 0 1]\n",
      " [0 1 1 ... 0 1 0]\n",
      " [0 1 0 ... 1 1 0]]\n",
      "(210, 17)\n"
     ]
    },
    {
     "ename": "TypeError",
     "evalue": "string indices must be integers",
     "output_type": "error",
     "traceback": [
      "\u001b[0;31m---------------------------------------------------------------------------\u001b[0m",
      "\u001b[0;31mTypeError\u001b[0m                                 Traceback (most recent call last)",
      "Input \u001b[0;32mIn [136]\u001b[0m, in \u001b[0;36m<cell line: 1>\u001b[0;34m()\u001b[0m\n\u001b[0;32m----> 1\u001b[0m best_model, train_losses, val_losses, accuracy_scores \u001b[38;5;241m=\u001b[39m \u001b[43mtrain\u001b[49m\u001b[43m(\u001b[49m\n\u001b[1;32m      2\u001b[0m \u001b[43m    \u001b[49m\u001b[43mmodel\u001b[49m\u001b[43m,\u001b[49m\n\u001b[1;32m      3\u001b[0m \u001b[43m    \u001b[49m\u001b[43mtrain_loader\u001b[49m\u001b[43m,\u001b[49m\n\u001b[1;32m      4\u001b[0m \u001b[43m    \u001b[49m\u001b[43mval_loader\u001b[49m\u001b[43m,\u001b[49m\n\u001b[1;32m      5\u001b[0m \u001b[43m    \u001b[49m\u001b[43moptimizer\u001b[49m\u001b[43m,\u001b[49m\n\u001b[1;32m      6\u001b[0m \u001b[43m    \u001b[49m\u001b[43mcriterion\u001b[49m\u001b[43m,\u001b[49m\n\u001b[1;32m      7\u001b[0m \u001b[43m    \u001b[49m\u001b[43mepochs\u001b[49m\u001b[38;5;241;43m=\u001b[39;49m\u001b[38;5;241;43m3\u001b[39;49m\u001b[43m,\u001b[49m\n\u001b[1;32m      8\u001b[0m \u001b[43m    \u001b[49m\u001b[43mdevice\u001b[49m\u001b[38;5;241;43m=\u001b[39;49m\u001b[43mcuda_device\u001b[49m\u001b[43m,\u001b[49m\n\u001b[1;32m      9\u001b[0m \u001b[43m)\u001b[49m\n\u001b[1;32m     10\u001b[0m eval_accuracies\u001b[38;5;241m.\u001b[39mappend(accuracy_scores)\n",
      "Input \u001b[0;32mIn [117]\u001b[0m, in \u001b[0;36mtrain\u001b[0;34m(model, train_loader, val_loader, optimizer, criterion, epochs, device, early_stop)\u001b[0m\n\u001b[1;32m     13\u001b[0m train_loss \u001b[38;5;241m=\u001b[39m train_epoch(model, train_loader, optimizer, criterion, device)\n\u001b[1;32m     14\u001b[0m val_loss, report, _ \u001b[38;5;241m=\u001b[39m val_epoch(model, val_loader, criterion, device)\n\u001b[0;32m---> 15\u001b[0m overall_acc \u001b[38;5;241m=\u001b[39m \u001b[43mreport\u001b[49m\u001b[43m[\u001b[49m\u001b[38;5;124;43m\"\u001b[39;49m\u001b[38;5;124;43maccuracy\u001b[39;49m\u001b[38;5;124;43m\"\u001b[39;49m\u001b[43m]\u001b[49m\n\u001b[1;32m     17\u001b[0m train_losses\u001b[38;5;241m.\u001b[39mappend(train_loss)\n\u001b[1;32m     18\u001b[0m val_losses\u001b[38;5;241m.\u001b[39mappend(val_loss)\n",
      "\u001b[0;31mTypeError\u001b[0m: string indices must be integers"
     ]
    }
   ],
   "source": [
    "best_model, train_losses, val_losses, accuracy_scores = train(\n",
    "    model,\n",
    "    train_loader,\n",
    "    val_loader,\n",
    "    optimizer,\n",
    "    criterion,\n",
    "    epochs=3,\n",
    "    device=cuda_device,\n",
    ")\n",
    "eval_accuracies.append(accuracy_scores)"
   ]
  },
  {
   "cell_type": "code",
   "execution_count": 78,
   "id": "6fae4c3b-fa64-4335-a8a6-ee99f5c688ff",
   "metadata": {
    "execution": {
     "iopub.execute_input": "2022-07-15T18:41:38.595892Z",
     "iopub.status.busy": "2022-07-15T18:41:38.595532Z",
     "iopub.status.idle": "2022-07-15T18:41:38.604492Z",
     "shell.execute_reply": "2022-07-15T18:41:38.603407Z",
     "shell.execute_reply.started": "2022-07-15T18:41:38.595865Z"
    }
   },
   "outputs": [],
   "source": [
    "#Testing val_epoch to test results\n",
    "#Check the following link: https://discuss.pytorch.org/t/how-to-extract-probabilities/2720/9\n",
    "\n",
    "def val_epoch(model, val_loader, criterion, device):\n",
    "    loss_tracker = MetricTracker()\n",
    "    acc_tracker = MetricTracker()\n",
    "    model.eval()\n",
    "\n",
    "    y_pred = []\n",
    "    y_true = []\n",
    "    y_prediction_normalize = []\n",
    "    y_pred_segmented=[]\n",
    "    classLabels = [\"airplane\", \"bare-soil\", \"buildings\", \"cars\",\"chaparral\", \"court\", \"dock\", \"field\", \"grass\", \"mobile-home\",\"pavement\",\"sand\", \"sea\",\"ship\",\n",
    "               \"tanks\", \"trees\", \"water\"]\n",
    "    \n",
    "\n",
    "    with torch.no_grad():\n",
    "        tqdm_bar = tqdm(val_loader, desc=\"Validation: \")\n",
    "        for batch in tqdm_bar:\n",
    "\n",
    "            images = batch[\"img\"].to(device) #Array of images\n",
    "            labels = batch[\"label\"].to(device) #Array of labels\n",
    "            batch_size = images.size(0)\n",
    "\n",
    "            logits = model(images)\n",
    "            probs = F.softmax(logits, dim=1)\n",
    "            loss = criterion(logits, labels)\n",
    "            \n",
    "            loss_tracker.update(loss.item(), batch_size)\n",
    "            predicted_prob, predicted_labels = torch.topk(probs.data, 17)\n",
    "            #predicted_prob, predicted_labels = torch.max(probs.data, 1)\n",
    "            \n",
    "            \n",
    "           # batch_acc = (predicted == labels).sum().item() / batch_size\n",
    "            #acc_tracker.update(batch_acc, batch_size)\n",
    "            acc_tracker.update(batch_size)\n",
    "\n",
    "            y_pred += predicted_labels.tolist()\n",
    "            y_true += labels.tolist()\n",
    "            \n",
    "            y_pred_arr = np.array(y_pred)\n",
    "            y_true_arr = np.array(y_true)\n",
    "           \n",
    "        \n",
    "        return images, labels, y_pred_arr, y_true_arr, logits, probs, predicted_labels\n",
    "          \n",
    "            "
   ]
  },
  {
   "cell_type": "code",
   "execution_count": 94,
   "id": "60658d9b-5726-489a-ae80-d9beb439b73d",
   "metadata": {
    "execution": {
     "iopub.execute_input": "2022-07-15T18:52:56.170676Z",
     "iopub.status.busy": "2022-07-15T18:52:56.170266Z",
     "iopub.status.idle": "2022-07-15T18:52:56.826051Z",
     "shell.execute_reply": "2022-07-15T18:52:56.824833Z",
     "shell.execute_reply.started": "2022-07-15T18:52:56.170651Z"
    }
   },
   "outputs": [
    {
     "data": {
      "application/vnd.jupyter.widget-view+json": {
       "model_id": "9ccaf7ca0025405380a392865e7bf215",
       "version_major": 2,
       "version_minor": 0
      },
      "text/plain": [
       "Validation:   0%|          | 0/4 [00:00<?, ?it/s]"
      ]
     },
     "metadata": {},
     "output_type": "display_data"
    },
    {
     "name": "stdout",
     "output_type": "stream",
     "text": [
      "Y true values are:  [[0. 0. 0. ... 0. 0. 0.]\n",
      " [0. 0. 0. ... 0. 1. 0.]\n",
      " [0. 0. 0. ... 0. 1. 0.]\n",
      " ...\n",
      " [0. 0. 0. ... 0. 0. 1.]\n",
      " [0. 1. 0. ... 0. 1. 1.]\n",
      " [1. 0. 0. ... 0. 0. 0.]]\n",
      "(210, 17)\n",
      "Y prediction values are:  [[ 8  4 10 ...  5 15  1]\n",
      " [ 5  6  0 ...  7 16  1]\n",
      " [14 13 12 ... 16  4  9]\n",
      " ...\n",
      " [13  8 14 ... 16  1 15]\n",
      " [ 0  8 12 ...  1  4 16]\n",
      " [13  6  8 ...  2  4 15]]\n",
      "(210, 17)\n",
      "Type:  <class 'numpy.ndarray'>\n"
     ]
    }
   ],
   "source": [
    "#Idea taken from the following website: https://colab.research.google.com/github/kmkarakaya/ML_tutorials/blob/master/Multi_Label_Model_Evaulation.ipynb#scrollTo=H8WBPN1OxXmw\n",
    "# We have 210 values because our validation takes 10% of our data so we get 210 values out of 2100\n",
    "im, lb, y_prediction, y_true, log, probs, pre = val_epoch(model, val_loader, criterion, cuda_device)\n",
    "print(\"Y true values are: \", y_true)\n",
    "print(y_true.shape)\n",
    "\n",
    "print(\"Y prediction values are: \", y_prediction)\n",
    "print(y_prediction.shape)\n",
    "print(\"Type: \", type(y_prediction))\n",
    "\n",
    "\n"
   ]
  },
  {
   "cell_type": "code",
   "execution_count": 113,
   "id": "18ab0785-e808-41e3-b600-ac6994cb7bff",
   "metadata": {
    "execution": {
     "iopub.execute_input": "2022-07-15T19:20:15.149410Z",
     "iopub.status.busy": "2022-07-15T19:20:15.149003Z",
     "iopub.status.idle": "2022-07-15T19:20:15.172971Z",
     "shell.execute_reply": "2022-07-15T19:20:15.172097Z",
     "shell.execute_reply.started": "2022-07-15T19:20:15.149381Z"
    }
   },
   "outputs": [
    {
     "name": "stdout",
     "output_type": "stream",
     "text": [
      "[[0.3125 0.375  0.     ... 0.4375 1.     0.0625]\n",
      " [0.3125 0.375  0.     ... 0.4375 1.     0.0625]\n",
      " [0.5    0.3125 0.75   ... 0.125  0.9375 0.0625]\n",
      " ...\n",
      " [0.3125 0.375  0.625  ... 0.0625 1.     0.4375]\n",
      " [0.8125 0.5    0.375  ... 0.5625 0.9375 1.    ]\n",
      " [0.3125 0.375  0.625  ... 0.0625 1.     0.4375]]\n",
      "(210, 17)\n"
     ]
    }
   ],
   "source": [
    "# We can normalize the y_prediction values between 0 & 1\n",
    "\n",
    "\n",
    "\n",
    "def normalization(arr: np.array) -> np.array:\n",
    "    norm = []\n",
    "    min_val = np.amin(arr)\n",
    "    max_val = np.amax(arr)\n",
    "    \n",
    "    for i in arr:\n",
    "        for j in i:\n",
    "            z = ((arr[j] - min_val)/ (max_val -min_val))\n",
    "        norm.append(z)\n",
    "\n",
    "    norm = np.array(norm)\n",
    "    \n",
    "    return norm\n",
    "\n",
    "\n",
    "y_prediction_normalize  = normalization(y_prediction)\n",
    "print(y_prediction_normalize)\n",
    "print(y_prediction_normalize.shape)\n"
   ]
  },
  {
   "cell_type": "code",
   "execution_count": 91,
   "id": "8b9a63bd-d47d-4518-919b-e86222335f1c",
   "metadata": {
    "execution": {
     "iopub.execute_input": "2022-07-15T18:46:44.741696Z",
     "iopub.status.busy": "2022-07-15T18:46:44.741293Z",
     "iopub.status.idle": "2022-07-15T18:46:44.749379Z",
     "shell.execute_reply": "2022-07-15T18:46:44.748237Z",
     "shell.execute_reply.started": "2022-07-15T18:46:44.741668Z"
    }
   },
   "outputs": [
    {
     "name": "stdout",
     "output_type": "stream",
     "text": [
      "[[0 0 0 ... 0 0 0]\n",
      " [0 0 0 ... 0 0 0]\n",
      " [0 0 0 ... 0 0 0]\n",
      " ...\n",
      " [0 0 0 ... 0 0 0]\n",
      " [0 0 0 ... 0 0 0]\n",
      " [0 0 0 ... 0 0 0]]\n",
      "(210, 17)\n"
     ]
    }
   ],
   "source": [
    "# Now we perform segmentation. Values > 0.5 -> 1 while other -> 0\n",
    "\n",
    "\n",
    "y_pred_segmented=[]\n",
    "\n",
    "y_pred_segmented = np.where(y_prediction_normalize > 0.5, 1, 0) \n",
    "\n",
    "y_pred_segmented = np.array(y_pred_segmented)\n",
    "print(y_pred_segmented)\n",
    "print(y_pred_segmented.shape)\n"
   ]
  },
  {
   "cell_type": "code",
   "execution_count": 46,
   "id": "c4c0846d-2012-4902-8da4-b6738bca4417",
   "metadata": {
    "execution": {
     "iopub.execute_input": "2022-07-15T18:11:46.672451Z",
     "iopub.status.busy": "2022-07-15T18:11:46.672110Z",
     "iopub.status.idle": "2022-07-15T18:11:46.693763Z",
     "shell.execute_reply": "2022-07-15T18:11:46.692747Z",
     "shell.execute_reply.started": "2022-07-15T18:11:46.672424Z"
    }
   },
   "outputs": [
    {
     "name": "stdout",
     "output_type": "stream",
     "text": [
      "              precision    recall  f1-score   support\n",
      "\n",
      "    airplane       0.03      0.25      0.05         4\n",
      "   bare-soil       0.71      0.08      0.14        63\n",
      "   buildings       0.32      0.93      0.47        67\n",
      "        cars       0.47      0.55      0.51        89\n",
      "   chaparral       0.03      0.50      0.05         6\n",
      "       court       0.06      0.64      0.10        11\n",
      "        dock       0.04      0.64      0.07        11\n",
      "       field       0.02      0.17      0.04        12\n",
      "       grass       0.44      0.75      0.56        93\n",
      " mobile-home       0.09      0.50      0.16        14\n",
      "    pavement       0.53      0.42      0.47       133\n",
      "        sand       0.04      0.03      0.03        34\n",
      "         sea       0.05      0.70      0.10        10\n",
      "        ship       0.04      0.55      0.08        11\n",
      "       tanks       0.04      0.50      0.08         6\n",
      "       trees       0.51      0.49      0.50       112\n",
      "       water       0.08      0.04      0.06        24\n",
      "\n",
      "   micro avg       0.20      0.49      0.29       700\n",
      "   macro avg       0.21      0.45      0.20       700\n",
      "weighted avg       0.41      0.49      0.38       700\n",
      " samples avg       0.20      0.43      0.27       700\n",
      "\n"
     ]
    }
   ],
   "source": [
    "# Create a confusion matrix:\n",
    "from sklearn.metrics import multilabel_confusion_matrix, f1_score, average_precision_score\n",
    "st = multilabel_confusion_matrix(y_true, y_pred_segmented)\n",
    "\n",
    "\n",
    "classLabels = [\"airplane\", \"bare-soil\", \"buildings\", \"cars\",\"chaparral\", \"court\", \"dock\", \"field\", \"grass\", \"mobile-home\",\"pavement\",\"sand\", \"sea\",\"ship\",\n",
    "               \"tanks\", \"trees\", \"water\"]\n",
    "\n",
    "#Classifcation report\n",
    "#Check the following link to understand all the column: https://medium.com/synthesio-engineering/precision-accuracy-and-f1-score-for-multi-label-classification-34ac6bdfb404\n",
    "M = classification_report(y_true, y_pred_segmented,target_names=classLabels)\n",
    "print(M)"
   ]
  },
  {
   "cell_type": "code",
   "execution_count": 45,
   "id": "c4eb26fe-e226-4f2c-aa0f-09ad23352bfc",
   "metadata": {
    "execution": {
     "iopub.execute_input": "2022-07-15T18:08:57.249161Z",
     "iopub.status.busy": "2022-07-15T18:08:57.248725Z",
     "iopub.status.idle": "2022-07-15T18:08:57.337152Z",
     "shell.execute_reply": "2022-07-15T18:08:57.335049Z",
     "shell.execute_reply.started": "2022-07-15T18:08:57.249121Z"
    }
   },
   "outputs": [
    {
     "ename": "UFuncTypeError",
     "evalue": "ufunc 'maximum' did not contain a loop with signature matching types (dtype('<U21'), dtype('<U21')) -> None",
     "output_type": "error",
     "traceback": [
      "\u001b[0;31m---------------------------------------------------------------------------\u001b[0m",
      "\u001b[0;31mUFuncTypeError\u001b[0m                            Traceback (most recent call last)",
      "Input \u001b[0;32mIn [45]\u001b[0m, in \u001b[0;36m<cell line: 3>\u001b[0;34m()\u001b[0m\n\u001b[1;32m      1\u001b[0m \u001b[38;5;66;03m#f1-score micro\u001b[39;00m\n\u001b[0;32m----> 3\u001b[0m \u001b[43mf1_score\u001b[49m\u001b[43m(\u001b[49m\u001b[43my_true\u001b[49m\u001b[43m,\u001b[49m\u001b[43m \u001b[49m\u001b[43my_pred_segmented\u001b[49m\u001b[43m,\u001b[49m\u001b[43m \u001b[49m\u001b[43mlabels\u001b[49m\u001b[38;5;241;43m=\u001b[39;49m\u001b[43mclassLabels\u001b[49m\u001b[43m,\u001b[49m\u001b[43m \u001b[49m\u001b[43maverage\u001b[49m\u001b[38;5;241;43m=\u001b[39;49m\u001b[38;5;124;43m'\u001b[39;49m\u001b[38;5;124;43mmicro\u001b[39;49m\u001b[38;5;124;43m'\u001b[39;49m\u001b[43m)\u001b[49m\n",
      "File \u001b[0;32m/opt/conda/envs/ip4rs/lib/python3.8/site-packages/sklearn/metrics/_classification.py:1132\u001b[0m, in \u001b[0;36mf1_score\u001b[0;34m(y_true, y_pred, labels, pos_label, average, sample_weight, zero_division)\u001b[0m\n\u001b[1;32m    997\u001b[0m \u001b[38;5;28;01mdef\u001b[39;00m \u001b[38;5;21mf1_score\u001b[39m(\n\u001b[1;32m    998\u001b[0m     y_true,\n\u001b[1;32m    999\u001b[0m     y_pred,\n\u001b[0;32m   (...)\u001b[0m\n\u001b[1;32m   1005\u001b[0m     zero_division\u001b[38;5;241m=\u001b[39m\u001b[38;5;124m\"\u001b[39m\u001b[38;5;124mwarn\u001b[39m\u001b[38;5;124m\"\u001b[39m,\n\u001b[1;32m   1006\u001b[0m ):\n\u001b[1;32m   1007\u001b[0m     \u001b[38;5;124;03m\"\"\"Compute the F1 score, also known as balanced F-score or F-measure.\u001b[39;00m\n\u001b[1;32m   1008\u001b[0m \n\u001b[1;32m   1009\u001b[0m \u001b[38;5;124;03m    The F1 score can be interpreted as a harmonic mean of the precision and\u001b[39;00m\n\u001b[0;32m   (...)\u001b[0m\n\u001b[1;32m   1130\u001b[0m \u001b[38;5;124;03m    array([0.66666667, 1.        , 0.66666667])\u001b[39;00m\n\u001b[1;32m   1131\u001b[0m \u001b[38;5;124;03m    \"\"\"\u001b[39;00m\n\u001b[0;32m-> 1132\u001b[0m     \u001b[38;5;28;01mreturn\u001b[39;00m \u001b[43mfbeta_score\u001b[49m\u001b[43m(\u001b[49m\n\u001b[1;32m   1133\u001b[0m \u001b[43m        \u001b[49m\u001b[43my_true\u001b[49m\u001b[43m,\u001b[49m\n\u001b[1;32m   1134\u001b[0m \u001b[43m        \u001b[49m\u001b[43my_pred\u001b[49m\u001b[43m,\u001b[49m\n\u001b[1;32m   1135\u001b[0m \u001b[43m        \u001b[49m\u001b[43mbeta\u001b[49m\u001b[38;5;241;43m=\u001b[39;49m\u001b[38;5;241;43m1\u001b[39;49m\u001b[43m,\u001b[49m\n\u001b[1;32m   1136\u001b[0m \u001b[43m        \u001b[49m\u001b[43mlabels\u001b[49m\u001b[38;5;241;43m=\u001b[39;49m\u001b[43mlabels\u001b[49m\u001b[43m,\u001b[49m\n\u001b[1;32m   1137\u001b[0m \u001b[43m        \u001b[49m\u001b[43mpos_label\u001b[49m\u001b[38;5;241;43m=\u001b[39;49m\u001b[43mpos_label\u001b[49m\u001b[43m,\u001b[49m\n\u001b[1;32m   1138\u001b[0m \u001b[43m        \u001b[49m\u001b[43maverage\u001b[49m\u001b[38;5;241;43m=\u001b[39;49m\u001b[43maverage\u001b[49m\u001b[43m,\u001b[49m\n\u001b[1;32m   1139\u001b[0m \u001b[43m        \u001b[49m\u001b[43msample_weight\u001b[49m\u001b[38;5;241;43m=\u001b[39;49m\u001b[43msample_weight\u001b[49m\u001b[43m,\u001b[49m\n\u001b[1;32m   1140\u001b[0m \u001b[43m        \u001b[49m\u001b[43mzero_division\u001b[49m\u001b[38;5;241;43m=\u001b[39;49m\u001b[43mzero_division\u001b[49m\u001b[43m,\u001b[49m\n\u001b[1;32m   1141\u001b[0m \u001b[43m    \u001b[49m\u001b[43m)\u001b[49m\n",
      "File \u001b[0;32m/opt/conda/envs/ip4rs/lib/python3.8/site-packages/sklearn/metrics/_classification.py:1270\u001b[0m, in \u001b[0;36mfbeta_score\u001b[0;34m(y_true, y_pred, beta, labels, pos_label, average, sample_weight, zero_division)\u001b[0m\n\u001b[1;32m   1144\u001b[0m \u001b[38;5;28;01mdef\u001b[39;00m \u001b[38;5;21mfbeta_score\u001b[39m(\n\u001b[1;32m   1145\u001b[0m     y_true,\n\u001b[1;32m   1146\u001b[0m     y_pred,\n\u001b[0;32m   (...)\u001b[0m\n\u001b[1;32m   1153\u001b[0m     zero_division\u001b[38;5;241m=\u001b[39m\u001b[38;5;124m\"\u001b[39m\u001b[38;5;124mwarn\u001b[39m\u001b[38;5;124m\"\u001b[39m,\n\u001b[1;32m   1154\u001b[0m ):\n\u001b[1;32m   1155\u001b[0m     \u001b[38;5;124;03m\"\"\"Compute the F-beta score.\u001b[39;00m\n\u001b[1;32m   1156\u001b[0m \n\u001b[1;32m   1157\u001b[0m \u001b[38;5;124;03m    The F-beta score is the weighted harmonic mean of precision and recall,\u001b[39;00m\n\u001b[0;32m   (...)\u001b[0m\n\u001b[1;32m   1267\u001b[0m \u001b[38;5;124;03m    array([0.71..., 0.        , 0.        ])\u001b[39;00m\n\u001b[1;32m   1268\u001b[0m \u001b[38;5;124;03m    \"\"\"\u001b[39;00m\n\u001b[0;32m-> 1270\u001b[0m     _, _, f, _ \u001b[38;5;241m=\u001b[39m \u001b[43mprecision_recall_fscore_support\u001b[49m\u001b[43m(\u001b[49m\n\u001b[1;32m   1271\u001b[0m \u001b[43m        \u001b[49m\u001b[43my_true\u001b[49m\u001b[43m,\u001b[49m\n\u001b[1;32m   1272\u001b[0m \u001b[43m        \u001b[49m\u001b[43my_pred\u001b[49m\u001b[43m,\u001b[49m\n\u001b[1;32m   1273\u001b[0m \u001b[43m        \u001b[49m\u001b[43mbeta\u001b[49m\u001b[38;5;241;43m=\u001b[39;49m\u001b[43mbeta\u001b[49m\u001b[43m,\u001b[49m\n\u001b[1;32m   1274\u001b[0m \u001b[43m        \u001b[49m\u001b[43mlabels\u001b[49m\u001b[38;5;241;43m=\u001b[39;49m\u001b[43mlabels\u001b[49m\u001b[43m,\u001b[49m\n\u001b[1;32m   1275\u001b[0m \u001b[43m        \u001b[49m\u001b[43mpos_label\u001b[49m\u001b[38;5;241;43m=\u001b[39;49m\u001b[43mpos_label\u001b[49m\u001b[43m,\u001b[49m\n\u001b[1;32m   1276\u001b[0m \u001b[43m        \u001b[49m\u001b[43maverage\u001b[49m\u001b[38;5;241;43m=\u001b[39;49m\u001b[43maverage\u001b[49m\u001b[43m,\u001b[49m\n\u001b[1;32m   1277\u001b[0m \u001b[43m        \u001b[49m\u001b[43mwarn_for\u001b[49m\u001b[38;5;241;43m=\u001b[39;49m\u001b[43m(\u001b[49m\u001b[38;5;124;43m\"\u001b[39;49m\u001b[38;5;124;43mf-score\u001b[39;49m\u001b[38;5;124;43m\"\u001b[39;49m\u001b[43m,\u001b[49m\u001b[43m)\u001b[49m\u001b[43m,\u001b[49m\n\u001b[1;32m   1278\u001b[0m \u001b[43m        \u001b[49m\u001b[43msample_weight\u001b[49m\u001b[38;5;241;43m=\u001b[39;49m\u001b[43msample_weight\u001b[49m\u001b[43m,\u001b[49m\n\u001b[1;32m   1279\u001b[0m \u001b[43m        \u001b[49m\u001b[43mzero_division\u001b[49m\u001b[38;5;241;43m=\u001b[39;49m\u001b[43mzero_division\u001b[49m\u001b[43m,\u001b[49m\n\u001b[1;32m   1280\u001b[0m \u001b[43m    \u001b[49m\u001b[43m)\u001b[49m\n\u001b[1;32m   1281\u001b[0m     \u001b[38;5;28;01mreturn\u001b[39;00m f\n",
      "File \u001b[0;32m/opt/conda/envs/ip4rs/lib/python3.8/site-packages/sklearn/metrics/_classification.py:1560\u001b[0m, in \u001b[0;36mprecision_recall_fscore_support\u001b[0;34m(y_true, y_pred, beta, labels, pos_label, average, warn_for, sample_weight, zero_division)\u001b[0m\n\u001b[1;32m   1558\u001b[0m \u001b[38;5;66;03m# Calculate tp_sum, pred_sum, true_sum ###\u001b[39;00m\n\u001b[1;32m   1559\u001b[0m samplewise \u001b[38;5;241m=\u001b[39m average \u001b[38;5;241m==\u001b[39m \u001b[38;5;124m\"\u001b[39m\u001b[38;5;124msamples\u001b[39m\u001b[38;5;124m\"\u001b[39m\n\u001b[0;32m-> 1560\u001b[0m MCM \u001b[38;5;241m=\u001b[39m \u001b[43mmultilabel_confusion_matrix\u001b[49m\u001b[43m(\u001b[49m\n\u001b[1;32m   1561\u001b[0m \u001b[43m    \u001b[49m\u001b[43my_true\u001b[49m\u001b[43m,\u001b[49m\n\u001b[1;32m   1562\u001b[0m \u001b[43m    \u001b[49m\u001b[43my_pred\u001b[49m\u001b[43m,\u001b[49m\n\u001b[1;32m   1563\u001b[0m \u001b[43m    \u001b[49m\u001b[43msample_weight\u001b[49m\u001b[38;5;241;43m=\u001b[39;49m\u001b[43msample_weight\u001b[49m\u001b[43m,\u001b[49m\n\u001b[1;32m   1564\u001b[0m \u001b[43m    \u001b[49m\u001b[43mlabels\u001b[49m\u001b[38;5;241;43m=\u001b[39;49m\u001b[43mlabels\u001b[49m\u001b[43m,\u001b[49m\n\u001b[1;32m   1565\u001b[0m \u001b[43m    \u001b[49m\u001b[43msamplewise\u001b[49m\u001b[38;5;241;43m=\u001b[39;49m\u001b[43msamplewise\u001b[49m\u001b[43m,\u001b[49m\n\u001b[1;32m   1566\u001b[0m \u001b[43m\u001b[49m\u001b[43m)\u001b[49m\n\u001b[1;32m   1567\u001b[0m tp_sum \u001b[38;5;241m=\u001b[39m MCM[:, \u001b[38;5;241m1\u001b[39m, \u001b[38;5;241m1\u001b[39m]\n\u001b[1;32m   1568\u001b[0m pred_sum \u001b[38;5;241m=\u001b[39m tp_sum \u001b[38;5;241m+\u001b[39m MCM[:, \u001b[38;5;241m0\u001b[39m, \u001b[38;5;241m1\u001b[39m]\n",
      "File \u001b[0;32m/opt/conda/envs/ip4rs/lib/python3.8/site-packages/sklearn/metrics/_classification.py:542\u001b[0m, in \u001b[0;36mmultilabel_confusion_matrix\u001b[0;34m(y_true, y_pred, sample_weight, labels, samplewise)\u001b[0m\n\u001b[1;32m    539\u001b[0m \u001b[38;5;66;03m# All labels are index integers for multilabel.\u001b[39;00m\n\u001b[1;32m    540\u001b[0m \u001b[38;5;66;03m# Select labels:\u001b[39;00m\n\u001b[1;32m    541\u001b[0m \u001b[38;5;28;01mif\u001b[39;00m \u001b[38;5;129;01mnot\u001b[39;00m np\u001b[38;5;241m.\u001b[39marray_equal(labels, present_labels):\n\u001b[0;32m--> 542\u001b[0m     \u001b[38;5;28;01mif\u001b[39;00m \u001b[43mnp\u001b[49m\u001b[38;5;241;43m.\u001b[39;49m\u001b[43mmax\u001b[49m\u001b[43m(\u001b[49m\u001b[43mlabels\u001b[49m\u001b[43m)\u001b[49m \u001b[38;5;241m>\u001b[39m np\u001b[38;5;241m.\u001b[39mmax(present_labels):\n\u001b[1;32m    543\u001b[0m         \u001b[38;5;28;01mraise\u001b[39;00m \u001b[38;5;167;01mValueError\u001b[39;00m(\n\u001b[1;32m    544\u001b[0m             \u001b[38;5;124m\"\u001b[39m\u001b[38;5;124mAll labels must be in [0, n labels) for \u001b[39m\u001b[38;5;124m\"\u001b[39m\n\u001b[1;32m    545\u001b[0m             \u001b[38;5;124m\"\u001b[39m\u001b[38;5;124mmultilabel targets. \u001b[39m\u001b[38;5;124m\"\u001b[39m\n\u001b[1;32m    546\u001b[0m             \u001b[38;5;124m\"\u001b[39m\u001b[38;5;124mGot \u001b[39m\u001b[38;5;132;01m%d\u001b[39;00m\u001b[38;5;124m > \u001b[39m\u001b[38;5;132;01m%d\u001b[39;00m\u001b[38;5;124m\"\u001b[39m \u001b[38;5;241m%\u001b[39m (np\u001b[38;5;241m.\u001b[39mmax(labels), np\u001b[38;5;241m.\u001b[39mmax(present_labels))\n\u001b[1;32m    547\u001b[0m         )\n\u001b[1;32m    548\u001b[0m     \u001b[38;5;28;01mif\u001b[39;00m np\u001b[38;5;241m.\u001b[39mmin(labels) \u001b[38;5;241m<\u001b[39m \u001b[38;5;241m0\u001b[39m:\n",
      "File \u001b[0;32m<__array_function__ internals>:180\u001b[0m, in \u001b[0;36mamax\u001b[0;34m(*args, **kwargs)\u001b[0m\n",
      "File \u001b[0;32m/opt/conda/envs/ip4rs/lib/python3.8/site-packages/numpy/core/fromnumeric.py:2793\u001b[0m, in \u001b[0;36mamax\u001b[0;34m(a, axis, out, keepdims, initial, where)\u001b[0m\n\u001b[1;32m   2677\u001b[0m \u001b[38;5;129m@array_function_dispatch\u001b[39m(_amax_dispatcher)\n\u001b[1;32m   2678\u001b[0m \u001b[38;5;28;01mdef\u001b[39;00m \u001b[38;5;21mamax\u001b[39m(a, axis\u001b[38;5;241m=\u001b[39m\u001b[38;5;28;01mNone\u001b[39;00m, out\u001b[38;5;241m=\u001b[39m\u001b[38;5;28;01mNone\u001b[39;00m, keepdims\u001b[38;5;241m=\u001b[39mnp\u001b[38;5;241m.\u001b[39m_NoValue, initial\u001b[38;5;241m=\u001b[39mnp\u001b[38;5;241m.\u001b[39m_NoValue,\n\u001b[1;32m   2679\u001b[0m          where\u001b[38;5;241m=\u001b[39mnp\u001b[38;5;241m.\u001b[39m_NoValue):\n\u001b[1;32m   2680\u001b[0m     \u001b[38;5;124;03m\"\"\"\u001b[39;00m\n\u001b[1;32m   2681\u001b[0m \u001b[38;5;124;03m    Return the maximum of an array or maximum along an axis.\u001b[39;00m\n\u001b[1;32m   2682\u001b[0m \n\u001b[0;32m   (...)\u001b[0m\n\u001b[1;32m   2791\u001b[0m \u001b[38;5;124;03m    5\u001b[39;00m\n\u001b[1;32m   2792\u001b[0m \u001b[38;5;124;03m    \"\"\"\u001b[39;00m\n\u001b[0;32m-> 2793\u001b[0m     \u001b[38;5;28;01mreturn\u001b[39;00m \u001b[43m_wrapreduction\u001b[49m\u001b[43m(\u001b[49m\u001b[43ma\u001b[49m\u001b[43m,\u001b[49m\u001b[43m \u001b[49m\u001b[43mnp\u001b[49m\u001b[38;5;241;43m.\u001b[39;49m\u001b[43mmaximum\u001b[49m\u001b[43m,\u001b[49m\u001b[43m \u001b[49m\u001b[38;5;124;43m'\u001b[39;49m\u001b[38;5;124;43mmax\u001b[39;49m\u001b[38;5;124;43m'\u001b[39;49m\u001b[43m,\u001b[49m\u001b[43m \u001b[49m\u001b[43maxis\u001b[49m\u001b[43m,\u001b[49m\u001b[43m \u001b[49m\u001b[38;5;28;43;01mNone\u001b[39;49;00m\u001b[43m,\u001b[49m\u001b[43m \u001b[49m\u001b[43mout\u001b[49m\u001b[43m,\u001b[49m\n\u001b[1;32m   2794\u001b[0m \u001b[43m                          \u001b[49m\u001b[43mkeepdims\u001b[49m\u001b[38;5;241;43m=\u001b[39;49m\u001b[43mkeepdims\u001b[49m\u001b[43m,\u001b[49m\u001b[43m \u001b[49m\u001b[43minitial\u001b[49m\u001b[38;5;241;43m=\u001b[39;49m\u001b[43minitial\u001b[49m\u001b[43m,\u001b[49m\u001b[43m \u001b[49m\u001b[43mwhere\u001b[49m\u001b[38;5;241;43m=\u001b[39;49m\u001b[43mwhere\u001b[49m\u001b[43m)\u001b[49m\n",
      "File \u001b[0;32m/opt/conda/envs/ip4rs/lib/python3.8/site-packages/numpy/core/fromnumeric.py:86\u001b[0m, in \u001b[0;36m_wrapreduction\u001b[0;34m(obj, ufunc, method, axis, dtype, out, **kwargs)\u001b[0m\n\u001b[1;32m     83\u001b[0m         \u001b[38;5;28;01melse\u001b[39;00m:\n\u001b[1;32m     84\u001b[0m             \u001b[38;5;28;01mreturn\u001b[39;00m reduction(axis\u001b[38;5;241m=\u001b[39maxis, out\u001b[38;5;241m=\u001b[39mout, \u001b[38;5;241m*\u001b[39m\u001b[38;5;241m*\u001b[39mpasskwargs)\n\u001b[0;32m---> 86\u001b[0m \u001b[38;5;28;01mreturn\u001b[39;00m \u001b[43mufunc\u001b[49m\u001b[38;5;241;43m.\u001b[39;49m\u001b[43mreduce\u001b[49m\u001b[43m(\u001b[49m\u001b[43mobj\u001b[49m\u001b[43m,\u001b[49m\u001b[43m \u001b[49m\u001b[43maxis\u001b[49m\u001b[43m,\u001b[49m\u001b[43m \u001b[49m\u001b[43mdtype\u001b[49m\u001b[43m,\u001b[49m\u001b[43m \u001b[49m\u001b[43mout\u001b[49m\u001b[43m,\u001b[49m\u001b[43m \u001b[49m\u001b[38;5;241;43m*\u001b[39;49m\u001b[38;5;241;43m*\u001b[39;49m\u001b[43mpasskwargs\u001b[49m\u001b[43m)\u001b[49m\n",
      "\u001b[0;31mUFuncTypeError\u001b[0m: ufunc 'maximum' did not contain a loop with signature matching types (dtype('<U21'), dtype('<U21')) -> None"
     ]
    }
   ],
   "source": [
    "#f1-score micro\n",
    "\n",
    "f1_score(y_true, y_pred_segmented, labels=classLabels, average='micro')\n"
   ]
  },
  {
   "cell_type": "code",
   "execution_count": 39,
   "id": "e409d3ba-14b5-424b-9635-ef1231e8ab80",
   "metadata": {
    "execution": {
     "iopub.execute_input": "2022-07-15T17:13:30.070873Z",
     "iopub.status.busy": "2022-07-15T17:13:30.070521Z",
     "iopub.status.idle": "2022-07-15T17:13:31.744479Z",
     "shell.execute_reply": "2022-07-15T17:13:31.742830Z",
     "shell.execute_reply.started": "2022-07-15T17:13:30.070845Z"
    }
   },
   "outputs": [
    {
     "ename": "ValueError",
     "evalue": "Must pass 2-d input. shape=(17, 2, 2)",
     "output_type": "error",
     "traceback": [
      "\u001b[0;31m---------------------------------------------------------------------------\u001b[0m",
      "\u001b[0;31mValueError\u001b[0m                                Traceback (most recent call last)",
      "Input \u001b[0;32mIn [39]\u001b[0m, in \u001b[0;36m<cell line: 1>\u001b[0;34m()\u001b[0m\n\u001b[0;32m----> 1\u001b[0m \u001b[43mprettify_confusion_matrix\u001b[49m\u001b[43m(\u001b[49m\u001b[43mst\u001b[49m\u001b[43m,\u001b[49m\u001b[43m \u001b[49m\u001b[43mclass_names\u001b[49m\u001b[43m \u001b[49m\u001b[38;5;241;43m=\u001b[39;49m\u001b[43m \u001b[49m\u001b[43mclassLabels\u001b[49m\u001b[43m)\u001b[49m\n",
      "Input \u001b[0;32mIn [38]\u001b[0m, in \u001b[0;36mprettify_confusion_matrix\u001b[0;34m(conf_mat, class_names)\u001b[0m\n\u001b[1;32m      6\u001b[0m \u001b[38;5;28;01mdef\u001b[39;00m \u001b[38;5;21mprettify_confusion_matrix\u001b[39m(conf_mat, class_names):\n\u001b[1;32m      7\u001b[0m     plt\u001b[38;5;241m.\u001b[39msubplots(\u001b[38;5;241m1\u001b[39m, \u001b[38;5;241m1\u001b[39m, figsize\u001b[38;5;241m=\u001b[39m(\u001b[38;5;241m11\u001b[39m, \u001b[38;5;241m7\u001b[39m))\n\u001b[0;32m----> 8\u001b[0m     \u001b[43msns\u001b[49m\u001b[38;5;241;43m.\u001b[39;49m\u001b[43mheatmap\u001b[49m\u001b[43m(\u001b[49m\n\u001b[1;32m      9\u001b[0m \u001b[43m        \u001b[49m\u001b[43mconf_mat\u001b[49m\u001b[43m,\u001b[49m\n\u001b[1;32m     10\u001b[0m \u001b[43m        \u001b[49m\u001b[43mcmap\u001b[49m\u001b[38;5;241;43m=\u001b[39;49m\u001b[38;5;124;43m\"\u001b[39;49m\u001b[38;5;124;43mviridis\u001b[39;49m\u001b[38;5;124;43m\"\u001b[39;49m\u001b[43m,\u001b[49m\n\u001b[1;32m     11\u001b[0m \u001b[43m        \u001b[49m\u001b[43mfmt\u001b[49m\u001b[38;5;241;43m=\u001b[39;49m\u001b[38;5;124;43m\"\u001b[39;49m\u001b[38;5;124;43mg\u001b[39;49m\u001b[38;5;124;43m\"\u001b[39;49m\u001b[43m,\u001b[49m\n\u001b[1;32m     12\u001b[0m \u001b[43m        \u001b[49m\u001b[43mxticklabels\u001b[49m\u001b[38;5;241;43m=\u001b[39;49m\u001b[43mclass_names\u001b[49m\u001b[43m,\u001b[49m\n\u001b[1;32m     13\u001b[0m \u001b[43m        \u001b[49m\u001b[43myticklabels\u001b[49m\u001b[38;5;241;43m=\u001b[39;49m\u001b[43mclass_names\u001b[49m\u001b[43m,\u001b[49m\n\u001b[1;32m     14\u001b[0m \u001b[43m        \u001b[49m\u001b[43mannot\u001b[49m\u001b[38;5;241;43m=\u001b[39;49m\u001b[38;5;28;43;01mTrue\u001b[39;49;00m\u001b[43m,\u001b[49m\n\u001b[1;32m     15\u001b[0m \u001b[43m    \u001b[49m\u001b[43m)\u001b[49m\n",
      "File \u001b[0;32m/opt/conda/envs/ip4rs/lib/python3.8/site-packages/seaborn/_decorators.py:46\u001b[0m, in \u001b[0;36m_deprecate_positional_args.<locals>.inner_f\u001b[0;34m(*args, **kwargs)\u001b[0m\n\u001b[1;32m     36\u001b[0m     warnings\u001b[38;5;241m.\u001b[39mwarn(\n\u001b[1;32m     37\u001b[0m         \u001b[38;5;124m\"\u001b[39m\u001b[38;5;124mPass the following variable\u001b[39m\u001b[38;5;132;01m{}\u001b[39;00m\u001b[38;5;124m as \u001b[39m\u001b[38;5;132;01m{}\u001b[39;00m\u001b[38;5;124mkeyword arg\u001b[39m\u001b[38;5;132;01m{}\u001b[39;00m\u001b[38;5;124m: \u001b[39m\u001b[38;5;132;01m{}\u001b[39;00m\u001b[38;5;124m. \u001b[39m\u001b[38;5;124m\"\u001b[39m\n\u001b[1;32m     38\u001b[0m         \u001b[38;5;124m\"\u001b[39m\u001b[38;5;124mFrom version 0.12, the only valid positional argument \u001b[39m\u001b[38;5;124m\"\u001b[39m\n\u001b[0;32m   (...)\u001b[0m\n\u001b[1;32m     43\u001b[0m         \u001b[38;5;167;01mFutureWarning\u001b[39;00m\n\u001b[1;32m     44\u001b[0m     )\n\u001b[1;32m     45\u001b[0m kwargs\u001b[38;5;241m.\u001b[39mupdate({k: arg \u001b[38;5;28;01mfor\u001b[39;00m k, arg \u001b[38;5;129;01min\u001b[39;00m \u001b[38;5;28mzip\u001b[39m(sig\u001b[38;5;241m.\u001b[39mparameters, args)})\n\u001b[0;32m---> 46\u001b[0m \u001b[38;5;28;01mreturn\u001b[39;00m \u001b[43mf\u001b[49m\u001b[43m(\u001b[49m\u001b[38;5;241;43m*\u001b[39;49m\u001b[38;5;241;43m*\u001b[39;49m\u001b[43mkwargs\u001b[49m\u001b[43m)\u001b[49m\n",
      "File \u001b[0;32m/opt/conda/envs/ip4rs/lib/python3.8/site-packages/seaborn/matrix.py:540\u001b[0m, in \u001b[0;36mheatmap\u001b[0;34m(data, vmin, vmax, cmap, center, robust, annot, fmt, annot_kws, linewidths, linecolor, cbar, cbar_kws, cbar_ax, square, xticklabels, yticklabels, mask, ax, **kwargs)\u001b[0m\n\u001b[1;32m    362\u001b[0m \u001b[38;5;124;03m\"\"\"Plot rectangular data as a color-encoded matrix.\u001b[39;00m\n\u001b[1;32m    363\u001b[0m \n\u001b[1;32m    364\u001b[0m \u001b[38;5;124;03mThis is an Axes-level function and will draw the heatmap into the\u001b[39;00m\n\u001b[0;32m   (...)\u001b[0m\n\u001b[1;32m    537\u001b[0m \u001b[38;5;124;03m    ...     ax = sns.heatmap(corr, mask=mask, vmax=.3, square=True)\u001b[39;00m\n\u001b[1;32m    538\u001b[0m \u001b[38;5;124;03m\"\"\"\u001b[39;00m\n\u001b[1;32m    539\u001b[0m \u001b[38;5;66;03m# Initialize the plotter object\u001b[39;00m\n\u001b[0;32m--> 540\u001b[0m plotter \u001b[38;5;241m=\u001b[39m \u001b[43m_HeatMapper\u001b[49m\u001b[43m(\u001b[49m\u001b[43mdata\u001b[49m\u001b[43m,\u001b[49m\u001b[43m \u001b[49m\u001b[43mvmin\u001b[49m\u001b[43m,\u001b[49m\u001b[43m \u001b[49m\u001b[43mvmax\u001b[49m\u001b[43m,\u001b[49m\u001b[43m \u001b[49m\u001b[43mcmap\u001b[49m\u001b[43m,\u001b[49m\u001b[43m \u001b[49m\u001b[43mcenter\u001b[49m\u001b[43m,\u001b[49m\u001b[43m \u001b[49m\u001b[43mrobust\u001b[49m\u001b[43m,\u001b[49m\u001b[43m \u001b[49m\u001b[43mannot\u001b[49m\u001b[43m,\u001b[49m\u001b[43m \u001b[49m\u001b[43mfmt\u001b[49m\u001b[43m,\u001b[49m\n\u001b[1;32m    541\u001b[0m \u001b[43m                      \u001b[49m\u001b[43mannot_kws\u001b[49m\u001b[43m,\u001b[49m\u001b[43m \u001b[49m\u001b[43mcbar\u001b[49m\u001b[43m,\u001b[49m\u001b[43m \u001b[49m\u001b[43mcbar_kws\u001b[49m\u001b[43m,\u001b[49m\u001b[43m \u001b[49m\u001b[43mxticklabels\u001b[49m\u001b[43m,\u001b[49m\n\u001b[1;32m    542\u001b[0m \u001b[43m                      \u001b[49m\u001b[43myticklabels\u001b[49m\u001b[43m,\u001b[49m\u001b[43m \u001b[49m\u001b[43mmask\u001b[49m\u001b[43m)\u001b[49m\n\u001b[1;32m    544\u001b[0m \u001b[38;5;66;03m# Add the pcolormesh kwargs here\u001b[39;00m\n\u001b[1;32m    545\u001b[0m kwargs[\u001b[38;5;124m\"\u001b[39m\u001b[38;5;124mlinewidths\u001b[39m\u001b[38;5;124m\"\u001b[39m] \u001b[38;5;241m=\u001b[39m linewidths\n",
      "File \u001b[0;32m/opt/conda/envs/ip4rs/lib/python3.8/site-packages/seaborn/matrix.py:106\u001b[0m, in \u001b[0;36m_HeatMapper.__init__\u001b[0;34m(self, data, vmin, vmax, cmap, center, robust, annot, fmt, annot_kws, cbar, cbar_kws, xticklabels, yticklabels, mask)\u001b[0m\n\u001b[1;32m    104\u001b[0m \u001b[38;5;28;01melse\u001b[39;00m:\n\u001b[1;32m    105\u001b[0m     plot_data \u001b[38;5;241m=\u001b[39m np\u001b[38;5;241m.\u001b[39masarray(data)\n\u001b[0;32m--> 106\u001b[0m     data \u001b[38;5;241m=\u001b[39m \u001b[43mpd\u001b[49m\u001b[38;5;241;43m.\u001b[39;49m\u001b[43mDataFrame\u001b[49m\u001b[43m(\u001b[49m\u001b[43mplot_data\u001b[49m\u001b[43m)\u001b[49m\n\u001b[1;32m    108\u001b[0m \u001b[38;5;66;03m# Validate the mask and convet to DataFrame\u001b[39;00m\n\u001b[1;32m    109\u001b[0m mask \u001b[38;5;241m=\u001b[39m _matrix_mask(data, mask)\n",
      "File \u001b[0;32m/opt/conda/envs/ip4rs/lib/python3.8/site-packages/pandas/core/frame.py:694\u001b[0m, in \u001b[0;36mDataFrame.__init__\u001b[0;34m(self, data, index, columns, dtype, copy)\u001b[0m\n\u001b[1;32m    684\u001b[0m         mgr \u001b[38;5;241m=\u001b[39m dict_to_mgr(\n\u001b[1;32m    685\u001b[0m             \u001b[38;5;66;03m# error: Item \"ndarray\" of \"Union[ndarray, Series, Index]\" has no\u001b[39;00m\n\u001b[1;32m    686\u001b[0m             \u001b[38;5;66;03m# attribute \"name\"\u001b[39;00m\n\u001b[0;32m   (...)\u001b[0m\n\u001b[1;32m    691\u001b[0m             typ\u001b[38;5;241m=\u001b[39mmanager,\n\u001b[1;32m    692\u001b[0m         )\n\u001b[1;32m    693\u001b[0m     \u001b[38;5;28;01melse\u001b[39;00m:\n\u001b[0;32m--> 694\u001b[0m         mgr \u001b[38;5;241m=\u001b[39m \u001b[43mndarray_to_mgr\u001b[49m\u001b[43m(\u001b[49m\n\u001b[1;32m    695\u001b[0m \u001b[43m            \u001b[49m\u001b[43mdata\u001b[49m\u001b[43m,\u001b[49m\n\u001b[1;32m    696\u001b[0m \u001b[43m            \u001b[49m\u001b[43mindex\u001b[49m\u001b[43m,\u001b[49m\n\u001b[1;32m    697\u001b[0m \u001b[43m            \u001b[49m\u001b[43mcolumns\u001b[49m\u001b[43m,\u001b[49m\n\u001b[1;32m    698\u001b[0m \u001b[43m            \u001b[49m\u001b[43mdtype\u001b[49m\u001b[38;5;241;43m=\u001b[39;49m\u001b[43mdtype\u001b[49m\u001b[43m,\u001b[49m\n\u001b[1;32m    699\u001b[0m \u001b[43m            \u001b[49m\u001b[43mcopy\u001b[49m\u001b[38;5;241;43m=\u001b[39;49m\u001b[43mcopy\u001b[49m\u001b[43m,\u001b[49m\n\u001b[1;32m    700\u001b[0m \u001b[43m            \u001b[49m\u001b[43mtyp\u001b[49m\u001b[38;5;241;43m=\u001b[39;49m\u001b[43mmanager\u001b[49m\u001b[43m,\u001b[49m\n\u001b[1;32m    701\u001b[0m \u001b[43m        \u001b[49m\u001b[43m)\u001b[49m\n\u001b[1;32m    703\u001b[0m \u001b[38;5;66;03m# For data is list-like, or Iterable (will consume into list)\u001b[39;00m\n\u001b[1;32m    704\u001b[0m \u001b[38;5;28;01melif\u001b[39;00m is_list_like(data):\n",
      "File \u001b[0;32m/opt/conda/envs/ip4rs/lib/python3.8/site-packages/pandas/core/internals/construction.py:331\u001b[0m, in \u001b[0;36mndarray_to_mgr\u001b[0;34m(values, index, columns, dtype, copy, typ)\u001b[0m\n\u001b[1;32m    326\u001b[0m         values \u001b[38;5;241m=\u001b[39m values\u001b[38;5;241m.\u001b[39mreshape(\u001b[38;5;241m-\u001b[39m\u001b[38;5;241m1\u001b[39m, \u001b[38;5;241m1\u001b[39m)\n\u001b[1;32m    328\u001b[0m \u001b[38;5;28;01melse\u001b[39;00m:\n\u001b[1;32m    329\u001b[0m     \u001b[38;5;66;03m# by definition an array here\u001b[39;00m\n\u001b[1;32m    330\u001b[0m     \u001b[38;5;66;03m# the dtypes will be coerced to a single dtype\u001b[39;00m\n\u001b[0;32m--> 331\u001b[0m     values \u001b[38;5;241m=\u001b[39m \u001b[43m_prep_ndarray\u001b[49m\u001b[43m(\u001b[49m\u001b[43mvalues\u001b[49m\u001b[43m,\u001b[49m\u001b[43m \u001b[49m\u001b[43mcopy\u001b[49m\u001b[38;5;241;43m=\u001b[39;49m\u001b[43mcopy_on_sanitize\u001b[49m\u001b[43m)\u001b[49m\n\u001b[1;32m    333\u001b[0m \u001b[38;5;28;01mif\u001b[39;00m dtype \u001b[38;5;129;01mis\u001b[39;00m \u001b[38;5;129;01mnot\u001b[39;00m \u001b[38;5;28;01mNone\u001b[39;00m \u001b[38;5;129;01mand\u001b[39;00m \u001b[38;5;129;01mnot\u001b[39;00m is_dtype_equal(values\u001b[38;5;241m.\u001b[39mdtype, dtype):\n\u001b[1;32m    334\u001b[0m     shape \u001b[38;5;241m=\u001b[39m values\u001b[38;5;241m.\u001b[39mshape\n",
      "File \u001b[0;32m/opt/conda/envs/ip4rs/lib/python3.8/site-packages/pandas/core/internals/construction.py:591\u001b[0m, in \u001b[0;36m_prep_ndarray\u001b[0;34m(values, copy)\u001b[0m\n\u001b[1;32m    589\u001b[0m     values \u001b[38;5;241m=\u001b[39m values\u001b[38;5;241m.\u001b[39mreshape((values\u001b[38;5;241m.\u001b[39mshape[\u001b[38;5;241m0\u001b[39m], \u001b[38;5;241m1\u001b[39m))\n\u001b[1;32m    590\u001b[0m \u001b[38;5;28;01melif\u001b[39;00m values\u001b[38;5;241m.\u001b[39mndim \u001b[38;5;241m!=\u001b[39m \u001b[38;5;241m2\u001b[39m:\n\u001b[0;32m--> 591\u001b[0m     \u001b[38;5;28;01mraise\u001b[39;00m \u001b[38;5;167;01mValueError\u001b[39;00m(\u001b[38;5;124mf\u001b[39m\u001b[38;5;124m\"\u001b[39m\u001b[38;5;124mMust pass 2-d input. shape=\u001b[39m\u001b[38;5;132;01m{\u001b[39;00mvalues\u001b[38;5;241m.\u001b[39mshape\u001b[38;5;132;01m}\u001b[39;00m\u001b[38;5;124m\"\u001b[39m)\n\u001b[1;32m    593\u001b[0m \u001b[38;5;28;01mreturn\u001b[39;00m values\n",
      "\u001b[0;31mValueError\u001b[0m: Must pass 2-d input. shape=(17, 2, 2)"
     ]
    },
    {
     "data": {
      "image/png": "[encoded data removed]",
      "text/plain": [
       "<Figure size 792x504 with 1 Axes>"
      ]
     },
     "metadata": {
      "needs_background": "light"
     },
     "output_type": "display_data"
    }
   ],
   "source": []
  },
  {
   "cell_type": "code",
   "execution_count": null,
   "id": "1acdb3c2-acc9-47ac-a295-e590848da635",
   "metadata": {},
   "outputs": [],
   "source": []
  },
  {
   "cell_type": "code",
   "execution_count": null,
   "id": "729a2b36-f078-46b7-8ed5-246f3a8677cd",
   "metadata": {},
   "outputs": [],
   "source": []
  },
  {
   "cell_type": "code",
   "execution_count": null,
   "id": "334e5b30-a747-4599-97f2-0a18cc13be33",
   "metadata": {},
   "outputs": [],
   "source": []
  },
  {
   "cell_type": "code",
   "execution_count": null,
   "id": "634b4ebd-8f48-4d3d-a193-4e4c4f296663",
   "metadata": {},
   "outputs": [],
   "source": []
  },
  {
   "cell_type": "code",
   "execution_count": null,
   "id": "851df786-d2c2-4756-a1f5-c7bf830d089f",
   "metadata": {},
   "outputs": [],
   "source": []
  },
  {
   "cell_type": "code",
   "execution_count": null,
   "id": "7d242938-fd6b-470a-a271-b4d631c42a4f",
   "metadata": {},
   "outputs": [],
   "source": []
  },
  {
   "cell_type": "code",
   "execution_count": null,
   "id": "4b2f4cfb-03c9-4420-ba69-4da9ea643312",
   "metadata": {},
   "outputs": [],
   "source": []
  },
  {
   "cell_type": "code",
   "execution_count": null,
   "id": "929061bd-9125-4bf0-91df-1c096a333e8c",
   "metadata": {},
   "outputs": [],
   "source": []
  },
  {
   "cell_type": "code",
   "execution_count": null,
   "id": "28fa0d4d-fc41-45f1-a3cc-ea835fd2f282",
   "metadata": {},
   "outputs": [],
   "source": []
  },
  {
   "cell_type": "code",
   "execution_count": null,
   "id": "87b05ad8-a6b8-4f3e-a553-bc850daf5156",
   "metadata": {},
   "outputs": [],
   "source": []
  },
  {
   "cell_type": "code",
   "execution_count": null,
   "id": "f171a4ef-ade1-4c2b-b9af-708655bde7d0",
   "metadata": {},
   "outputs": [],
   "source": []
  },
  {
   "cell_type": "code",
   "execution_count": null,
   "id": "7eb60e36-f55b-4645-82c4-bd77bdbb95e6",
   "metadata": {},
   "outputs": [],
   "source": []
  },
  {
   "cell_type": "code",
   "execution_count": null,
   "id": "739bf598-3d58-4ec9-9779-be34b2804d75",
   "metadata": {},
   "outputs": [],
   "source": []
  },
  {
   "cell_type": "code",
   "execution_count": null,
   "id": "73f775b0-5f6d-4442-9d27-b77c8ab89d10",
   "metadata": {},
   "outputs": [],
   "source": []
  },
  {
   "cell_type": "code",
   "execution_count": null,
   "id": "0a0489f1-9fe1-481b-a517-7f4fce4e7b9e",
   "metadata": {},
   "outputs": [],
   "source": []
  },
  {
   "cell_type": "code",
   "execution_count": null,
   "id": "ccac7fb6-a7ac-4863-ad8d-fff6c9febca8",
   "metadata": {},
   "outputs": [],
   "source": []
  },
  {
   "cell_type": "code",
   "execution_count": null,
   "id": "5eb0773d-1d0d-4127-bc79-526dbbb87b1a",
   "metadata": {},
   "outputs": [],
   "source": []
  },
  {
   "cell_type": "code",
   "execution_count": null,
   "id": "1ff31dda-829d-46a4-afd7-dd66d353ab41",
   "metadata": {},
   "outputs": [],
   "source": []
  }
 ],
 "metadata": {
  "kernelspec": {
   "display_name": "ip4rs",
   "language": "python",
   "name": "ip4rs"
  },
  "language_info": {
   "codemirror_mode": {
    "name": "ipython",
    "version": 3
   },
   "file_extension": ".py",
   "mimetype": "text/x-python",
   "name": "python",
   "nbconvert_exporter": "python",
   "pygments_lexer": "ipython3",
   "version": "3.8.13"
  }
 },
 "nbformat": 4,
 "nbformat_minor": 5
}
