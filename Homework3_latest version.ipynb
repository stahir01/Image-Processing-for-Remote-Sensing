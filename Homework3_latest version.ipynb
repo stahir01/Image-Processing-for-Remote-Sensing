{
 "cells": [
  {
   "cell_type": "markdown",
   "id": "81ae23b4-73ff-42fa-b9c7-0ac69b71e02d",
   "metadata": {},
   "source": [
    "# Homework 3 - CNN on Multilabel remote sensing images\n",
    "## By: Syed Ali Murad Tahir\n",
    "\n",
    "In this homework we will be performing CNN on UCMerced dataset. This dataset contains Multispectral images. \n",
    "\n",
    "\n",
    "The task is divided into following step\n",
    "\n",
    "1)  Prepairing data\n",
    "2) The data we get, we divide that data, into training, test and validation. We divide training data into training and test\n",
    "3) To pretrain the model in order to avoid overfitting, we can use pretrained data already provided to us. Or, we can perform data augmentation\n",
    "to pre train the data so we have more samples of data\n",
    "4) Now we perform Convolution. So we choose the number of layers, neuron in that layer and the activation function of that layer (Check if need to perform padding before,). For padding check the following link: https://www.youtube.com/watch?v=mTVf7BN7S8w&list=PLeo1K3hjS3uu7CxAacxVndI4bE_o3BDtO&index=27\n",
    "5) Then we add Max pooling to take out dominant features\n",
    "6) We can add dropout\n",
    "7) Then we have to perform flatten the data\n",
    "8) We can add a desne layer (Check if we need it or not) -> These are actually the hidden layers we specify when performing forward propgation\n",
    "9) Then we train or data\n",
    "10) After that we check our results on test data to check for overfitting\n",
    "11) At the end we check validation\n",
    "\n",
    "\n"
   ]
  },
  {
   "cell_type": "markdown",
   "id": "849277b8-81c2-4a68-8b4d-f8be2b5b5e12",
   "metadata": {},
   "source": [
    "## Understanding the dataset\n",
    "\n",
    "This is a 21 class land use image dataset meant for research purposes. However, for multilabel, we only have 17 labels\n",
    "\n",
    "There are 100 images for each of the following classes:\n",
    "    \n",
    "    \n",
    " 1) airplane\t\n",
    " 2) bare-soil\t\n",
    " 3) buildings\t\n",
    " 4) cars\t\n",
    " 5) chaparral\t\n",
    " 6) court\t\n",
    " 7) dock\t\n",
    " 8) field\t\n",
    " 9) grass\t\n",
    " 10) mobile-home\t\n",
    " 11) pavement\t\n",
    " 12) sand\t\n",
    " 13) sea\t\n",
    " 14) ship\t\n",
    " 15) tanks\t\n",
    " 16) trees\t\n",
    " 17) water\n",
    "\n",
    "Each image measures 256x256 pixels.\n",
    "\n"
   ]
  },
  {
   "cell_type": "markdown",
   "id": "3bc67344-a238-412f-8080-3c4d35354b82",
   "metadata": {},
   "source": [
    "## Imporint Libraries"
   ]
  },
  {
   "cell_type": "code",
   "execution_count": 79,
   "id": "4e94269a-5bca-4a57-8c42-5f7439f4773a",
   "metadata": {
    "execution": {
     "iopub.execute_input": "2022-07-17T12:50:23.597340Z",
     "iopub.status.busy": "2022-07-17T12:50:23.595999Z",
     "iopub.status.idle": "2022-07-17T12:50:23.605789Z",
     "shell.execute_reply": "2022-07-17T12:50:23.603943Z",
     "shell.execute_reply.started": "2022-07-17T12:50:23.597295Z"
    }
   },
   "outputs": [],
   "source": [
    "import copy\n",
    "import os\n",
    "import numpy as np\n",
    "import pandas as pd\n",
    "import zipfile\n",
    "from simple_downloader import download\n",
    "import matplotlib.pyplot as plt\n",
    "from tqdm.notebook import tqdm\n",
    "from pathlib import Path\n",
    "from PIL import Image\n",
    "from sklearn.metrics import classification_report, multilabel_confusion_matrix, f1_score, average_precision_score, accuracy_score\n",
    "\n",
    "import torch\n",
    "import torch.nn as nn\n",
    "import torch.nn.functional as F\n",
    "import torch.optim as optim\n",
    "from torchvision import transforms\n",
    "from torch.utils.data import Dataset, Subset, DataLoader"
   ]
  },
  {
   "cell_type": "markdown",
   "id": "2d177c7b-b47a-40b1-9be2-4ba6c56240fe",
   "metadata": {},
   "source": [
    "## Importing Dataset"
   ]
  },
  {
   "cell_type": "code",
   "execution_count": null,
   "id": "67e8c1fb-493d-4f50-982e-7fa7bcdf621d",
   "metadata": {},
   "outputs": [],
   "source": [
    "download_dir = Path(\"./Hw3_data\")\n",
    "download_dir.mkdir(exist_ok=True)"
   ]
  },
  {
   "cell_type": "code",
   "execution_count": null,
   "id": "44799501-6f9f-48f3-972f-e06da44261b6",
   "metadata": {},
   "outputs": [],
   "source": [
    "TUB_URL = \"https://tubcloud.tu-berlin.de/s/H4QHX5GPDY6wDog/download/UCMerced_LandUse.zip\"\n",
    "output_file = download(TUB_URL, \"./Hw3_data/\")"
   ]
  },
  {
   "cell_type": "code",
   "execution_count": null,
   "id": "8ae871bb-0c4f-4ccb-9e22-7081116dd301",
   "metadata": {},
   "outputs": [],
   "source": [
    "zipf = zipfile.ZipFile(output_file)\n",
    "zipf.extractall(path=\"Hw3_data\")"
   ]
  },
  {
   "cell_type": "markdown",
   "id": "b51bc050-301b-4730-9dff-b0a59de81aa9",
   "metadata": {},
   "source": [
    "## Visualizing our Dataset"
   ]
  },
  {
   "cell_type": "code",
   "execution_count": 81,
   "id": "b93d92a8-6d59-46b2-b706-c12aa21c341d",
   "metadata": {
    "execution": {
     "iopub.execute_input": "2022-07-17T12:50:28.620118Z",
     "iopub.status.busy": "2022-07-17T12:50:28.619624Z",
     "iopub.status.idle": "2022-07-17T12:50:29.231916Z",
     "shell.execute_reply": "2022-07-17T12:50:29.230320Z",
     "shell.execute_reply.started": "2022-07-17T12:50:28.620088Z"
    }
   },
   "outputs": [
    {
     "name": "stdout",
     "output_type": "stream",
     "text": [
      "Current working directory: /notebooks/Hw3_data/UCMerced_LandUse/multilabels\n"
     ]
    },
    {
     "data": {
      "text/html": [
       "<div>\n",
       "<style scoped>\n",
       "    .dataframe tbody tr th:only-of-type {\n",
       "        vertical-align: middle;\n",
       "    }\n",
       "\n",
       "    .dataframe tbody tr th {\n",
       "        vertical-align: top;\n",
       "    }\n",
       "\n",
       "    .dataframe thead th {\n",
       "        text-align: right;\n",
       "    }\n",
       "</style>\n",
       "<table border=\"1\" class=\"dataframe\">\n",
       "  <thead>\n",
       "    <tr style=\"text-align: right;\">\n",
       "      <th></th>\n",
       "      <th>IMAGE\\LABEL</th>\n",
       "      <th>airplane</th>\n",
       "      <th>bare-soil</th>\n",
       "      <th>buildings</th>\n",
       "      <th>cars</th>\n",
       "      <th>chaparral</th>\n",
       "      <th>court</th>\n",
       "      <th>dock</th>\n",
       "      <th>field</th>\n",
       "      <th>grass</th>\n",
       "      <th>mobile-home</th>\n",
       "      <th>pavement</th>\n",
       "      <th>sand</th>\n",
       "      <th>sea</th>\n",
       "      <th>ship</th>\n",
       "      <th>tanks</th>\n",
       "      <th>trees</th>\n",
       "      <th>water</th>\n",
       "    </tr>\n",
       "  </thead>\n",
       "  <tbody>\n",
       "    <tr>\n",
       "      <th>0</th>\n",
       "      <td>agricultural00</td>\n",
       "      <td>0</td>\n",
       "      <td>0</td>\n",
       "      <td>0</td>\n",
       "      <td>0</td>\n",
       "      <td>0</td>\n",
       "      <td>0</td>\n",
       "      <td>0</td>\n",
       "      <td>1</td>\n",
       "      <td>0</td>\n",
       "      <td>0</td>\n",
       "      <td>0</td>\n",
       "      <td>0</td>\n",
       "      <td>0</td>\n",
       "      <td>0</td>\n",
       "      <td>0</td>\n",
       "      <td>1</td>\n",
       "      <td>0</td>\n",
       "    </tr>\n",
       "    <tr>\n",
       "      <th>1</th>\n",
       "      <td>agricultural01</td>\n",
       "      <td>0</td>\n",
       "      <td>0</td>\n",
       "      <td>0</td>\n",
       "      <td>0</td>\n",
       "      <td>0</td>\n",
       "      <td>0</td>\n",
       "      <td>0</td>\n",
       "      <td>1</td>\n",
       "      <td>0</td>\n",
       "      <td>0</td>\n",
       "      <td>0</td>\n",
       "      <td>0</td>\n",
       "      <td>0</td>\n",
       "      <td>0</td>\n",
       "      <td>0</td>\n",
       "      <td>0</td>\n",
       "      <td>0</td>\n",
       "    </tr>\n",
       "    <tr>\n",
       "      <th>2</th>\n",
       "      <td>agricultural02</td>\n",
       "      <td>0</td>\n",
       "      <td>0</td>\n",
       "      <td>0</td>\n",
       "      <td>0</td>\n",
       "      <td>0</td>\n",
       "      <td>0</td>\n",
       "      <td>0</td>\n",
       "      <td>1</td>\n",
       "      <td>0</td>\n",
       "      <td>0</td>\n",
       "      <td>0</td>\n",
       "      <td>0</td>\n",
       "      <td>0</td>\n",
       "      <td>0</td>\n",
       "      <td>0</td>\n",
       "      <td>0</td>\n",
       "      <td>0</td>\n",
       "    </tr>\n",
       "    <tr>\n",
       "      <th>3</th>\n",
       "      <td>agricultural03</td>\n",
       "      <td>0</td>\n",
       "      <td>0</td>\n",
       "      <td>0</td>\n",
       "      <td>0</td>\n",
       "      <td>0</td>\n",
       "      <td>0</td>\n",
       "      <td>0</td>\n",
       "      <td>1</td>\n",
       "      <td>0</td>\n",
       "      <td>0</td>\n",
       "      <td>0</td>\n",
       "      <td>0</td>\n",
       "      <td>0</td>\n",
       "      <td>0</td>\n",
       "      <td>0</td>\n",
       "      <td>0</td>\n",
       "      <td>0</td>\n",
       "    </tr>\n",
       "    <tr>\n",
       "      <th>4</th>\n",
       "      <td>agricultural04</td>\n",
       "      <td>0</td>\n",
       "      <td>0</td>\n",
       "      <td>0</td>\n",
       "      <td>0</td>\n",
       "      <td>0</td>\n",
       "      <td>0</td>\n",
       "      <td>0</td>\n",
       "      <td>0</td>\n",
       "      <td>0</td>\n",
       "      <td>0</td>\n",
       "      <td>0</td>\n",
       "      <td>0</td>\n",
       "      <td>0</td>\n",
       "      <td>0</td>\n",
       "      <td>0</td>\n",
       "      <td>1</td>\n",
       "      <td>0</td>\n",
       "    </tr>\n",
       "    <tr>\n",
       "      <th>...</th>\n",
       "      <td>...</td>\n",
       "      <td>...</td>\n",
       "      <td>...</td>\n",
       "      <td>...</td>\n",
       "      <td>...</td>\n",
       "      <td>...</td>\n",
       "      <td>...</td>\n",
       "      <td>...</td>\n",
       "      <td>...</td>\n",
       "      <td>...</td>\n",
       "      <td>...</td>\n",
       "      <td>...</td>\n",
       "      <td>...</td>\n",
       "      <td>...</td>\n",
       "      <td>...</td>\n",
       "      <td>...</td>\n",
       "      <td>...</td>\n",
       "      <td>...</td>\n",
       "    </tr>\n",
       "    <tr>\n",
       "      <th>2095</th>\n",
       "      <td>tenniscourt95</td>\n",
       "      <td>0</td>\n",
       "      <td>1</td>\n",
       "      <td>0</td>\n",
       "      <td>0</td>\n",
       "      <td>0</td>\n",
       "      <td>1</td>\n",
       "      <td>0</td>\n",
       "      <td>0</td>\n",
       "      <td>1</td>\n",
       "      <td>0</td>\n",
       "      <td>1</td>\n",
       "      <td>0</td>\n",
       "      <td>0</td>\n",
       "      <td>0</td>\n",
       "      <td>0</td>\n",
       "      <td>0</td>\n",
       "      <td>0</td>\n",
       "    </tr>\n",
       "    <tr>\n",
       "      <th>2096</th>\n",
       "      <td>tenniscourt96</td>\n",
       "      <td>0</td>\n",
       "      <td>1</td>\n",
       "      <td>1</td>\n",
       "      <td>1</td>\n",
       "      <td>0</td>\n",
       "      <td>1</td>\n",
       "      <td>0</td>\n",
       "      <td>0</td>\n",
       "      <td>1</td>\n",
       "      <td>0</td>\n",
       "      <td>1</td>\n",
       "      <td>0</td>\n",
       "      <td>0</td>\n",
       "      <td>0</td>\n",
       "      <td>0</td>\n",
       "      <td>1</td>\n",
       "      <td>0</td>\n",
       "    </tr>\n",
       "    <tr>\n",
       "      <th>2097</th>\n",
       "      <td>tenniscourt97</td>\n",
       "      <td>0</td>\n",
       "      <td>1</td>\n",
       "      <td>1</td>\n",
       "      <td>1</td>\n",
       "      <td>0</td>\n",
       "      <td>1</td>\n",
       "      <td>0</td>\n",
       "      <td>0</td>\n",
       "      <td>1</td>\n",
       "      <td>0</td>\n",
       "      <td>1</td>\n",
       "      <td>0</td>\n",
       "      <td>0</td>\n",
       "      <td>0</td>\n",
       "      <td>0</td>\n",
       "      <td>1</td>\n",
       "      <td>0</td>\n",
       "    </tr>\n",
       "    <tr>\n",
       "      <th>2098</th>\n",
       "      <td>tenniscourt98</td>\n",
       "      <td>0</td>\n",
       "      <td>1</td>\n",
       "      <td>1</td>\n",
       "      <td>1</td>\n",
       "      <td>0</td>\n",
       "      <td>1</td>\n",
       "      <td>0</td>\n",
       "      <td>0</td>\n",
       "      <td>1</td>\n",
       "      <td>0</td>\n",
       "      <td>1</td>\n",
       "      <td>0</td>\n",
       "      <td>0</td>\n",
       "      <td>0</td>\n",
       "      <td>0</td>\n",
       "      <td>1</td>\n",
       "      <td>0</td>\n",
       "    </tr>\n",
       "    <tr>\n",
       "      <th>2099</th>\n",
       "      <td>tenniscourt99</td>\n",
       "      <td>0</td>\n",
       "      <td>1</td>\n",
       "      <td>0</td>\n",
       "      <td>1</td>\n",
       "      <td>0</td>\n",
       "      <td>1</td>\n",
       "      <td>0</td>\n",
       "      <td>0</td>\n",
       "      <td>1</td>\n",
       "      <td>0</td>\n",
       "      <td>1</td>\n",
       "      <td>0</td>\n",
       "      <td>0</td>\n",
       "      <td>0</td>\n",
       "      <td>0</td>\n",
       "      <td>1</td>\n",
       "      <td>0</td>\n",
       "    </tr>\n",
       "  </tbody>\n",
       "</table>\n",
       "<p>2100 rows × 18 columns</p>\n",
       "</div>"
      ],
      "text/plain": [
       "         IMAGE\\LABEL  airplane  bare-soil  buildings  cars  chaparral  court  \\\n",
       "0     agricultural00         0          0          0     0          0      0   \n",
       "1     agricultural01         0          0          0     0          0      0   \n",
       "2     agricultural02         0          0          0     0          0      0   \n",
       "3     agricultural03         0          0          0     0          0      0   \n",
       "4     agricultural04         0          0          0     0          0      0   \n",
       "...              ...       ...        ...        ...   ...        ...    ...   \n",
       "2095   tenniscourt95         0          1          0     0          0      1   \n",
       "2096   tenniscourt96         0          1          1     1          0      1   \n",
       "2097   tenniscourt97         0          1          1     1          0      1   \n",
       "2098   tenniscourt98         0          1          1     1          0      1   \n",
       "2099   tenniscourt99         0          1          0     1          0      1   \n",
       "\n",
       "      dock  field  grass  mobile-home  pavement  sand  sea  ship  tanks  \\\n",
       "0        0      1      0            0         0     0    0     0      0   \n",
       "1        0      1      0            0         0     0    0     0      0   \n",
       "2        0      1      0            0         0     0    0     0      0   \n",
       "3        0      1      0            0         0     0    0     0      0   \n",
       "4        0      0      0            0         0     0    0     0      0   \n",
       "...    ...    ...    ...          ...       ...   ...  ...   ...    ...   \n",
       "2095     0      0      1            0         1     0    0     0      0   \n",
       "2096     0      0      1            0         1     0    0     0      0   \n",
       "2097     0      0      1            0         1     0    0     0      0   \n",
       "2098     0      0      1            0         1     0    0     0      0   \n",
       "2099     0      0      1            0         1     0    0     0      0   \n",
       "\n",
       "      trees  water  \n",
       "0         1      0  \n",
       "1         0      0  \n",
       "2         0      0  \n",
       "3         0      0  \n",
       "4         1      0  \n",
       "...     ...    ...  \n",
       "2095      0      0  \n",
       "2096      1      0  \n",
       "2097      1      0  \n",
       "2098      1      0  \n",
       "2099      1      0  \n",
       "\n",
       "[2100 rows x 18 columns]"
      ]
     },
     "execution_count": 81,
     "metadata": {},
     "output_type": "execute_result"
    }
   ],
   "source": [
    "#Go to different file directory\n",
    "path = os.path.join(\"/notebooks\", \"Hw3_data\", \"UCMerced_LandUse\", \"multilabels\", \"\")\n",
    "os.chdir(path)\n",
    "\n",
    "\n",
    "\n",
    "\n",
    "# Print the current working directory\n",
    "print(\"Current working directory: {0}\".format(os.getcwd()))\n",
    "\n",
    "\n",
    "data = pd.DataFrame(pd.read_excel(\"LandUse_Multilabeled.xlsx\"))\n",
    "data"
   ]
  },
  {
   "cell_type": "code",
   "execution_count": 82,
   "id": "8a7b62f0-ffc1-49e6-a73c-2f9d269bd06e",
   "metadata": {
    "execution": {
     "iopub.execute_input": "2022-07-17T12:50:29.234495Z",
     "iopub.status.busy": "2022-07-17T12:50:29.234030Z",
     "iopub.status.idle": "2022-07-17T12:50:29.541239Z",
     "shell.execute_reply": "2022-07-17T12:50:29.540013Z",
     "shell.execute_reply.started": "2022-07-17T12:50:29.234495Z"
    }
   },
   "outputs": [
    {
     "name": "stdout",
     "output_type": "stream",
     "text": [
      "            Number of labels\n",
      "airplane                 100\n",
      "bare-soil                718\n",
      "buildings                691\n",
      "cars                     886\n",
      "chaparral                115\n",
      "court                    105\n",
      "dock                     100\n",
      "field                    103\n",
      "grass                    975\n",
      "mobile-home              102\n",
      "pavement                1300\n",
      "sand                     294\n",
      "sea                      100\n",
      "ship                     102\n",
      "tanks                    100\n",
      "trees                   1009\n",
      "water                    203\n"
     ]
    },
    {
     "data": {
      "text/plain": [
       "Text(0.5, 1.0, 'Total no. of labels that belong to each class')"
      ]
     },
     "execution_count": 82,
     "metadata": {},
     "output_type": "execute_result"
    },
    {
     "data": {
      "image/png": "[encoded data removed]",
      "text/plain": [
       "<Figure size 720x720 with 1 Axes>"
      ]
     },
     "metadata": {
      "needs_background": "light"
     },
     "output_type": "display_data"
    }
   ],
   "source": [
    "result = data.sum(axis=\"rows\")\n",
    "df = pd.DataFrame(result,columns=['Number of labels'])   #Convert into Data Frame\n",
    "#Drop the first row\n",
    "df.drop(index=df.index[0], \n",
    "        axis=0, \n",
    "        inplace=True)\n",
    "print(df)\n",
    "\n",
    "\n",
    "df.plot.bar(figsize=(10,10))\n",
    "plt.xlabel(\"Total Classes\")\n",
    "plt.ylabel(\"No. of Labels\")\n",
    "plt.title(\"Total no. of labels that belong to each class\")"
   ]
  },
  {
   "cell_type": "markdown",
   "id": "069b3e66-0f3f-4d5c-a749-3eaee0efec8f",
   "metadata": {},
   "source": [
    "## Designing Data Pipeline\n"
   ]
  },
  {
   "cell_type": "code",
   "execution_count": 83,
   "id": "0b4a6bed-5835-4132-b310-a77f67f2793c",
   "metadata": {
    "execution": {
     "iopub.execute_input": "2022-07-17T12:50:31.163641Z",
     "iopub.status.busy": "2022-07-17T12:50:31.163232Z",
     "iopub.status.idle": "2022-07-17T12:50:31.175781Z",
     "shell.execute_reply": "2022-07-17T12:50:31.174899Z",
     "shell.execute_reply.started": "2022-07-17T12:50:31.163611Z"
    }
   },
   "outputs": [],
   "source": [
    "class UCMerced(Dataset):\n",
    "    def __init__(self, root_dir, img_transform=None, multilabel=True):\n",
    "\n",
    "        self.root_dir = root_dir\n",
    "        self.images_path = os.path.join(root_dir, \"Images\")\n",
    "        self.class_names = sorted(\n",
    "            [cl for cl in os.listdir(self.images_path) if not cl.startswith(\".\")]\n",
    "        )\n",
    "        self.img_paths, self.img_labels = self.init_dataset()\n",
    "        self.img_transform = img_transform\n",
    "\n",
    "        if multilabel:\n",
    "            self.img_labels = self.read_multilabels()  # important for loss calculation\n",
    "            self.img_labels = self.img_labels.astype(float)\n",
    "\n",
    "    def init_dataset(self):\n",
    "        img_paths, img_labels = [], []\n",
    "        for cl_id, cl_name in enumerate(self.class_names):\n",
    "            cl_path = os.path.join(self.images_path, cl_name)\n",
    "\n",
    "            for img in sorted(os.listdir(cl_path)):\n",
    "                img_path = os.path.join(cl_path, img)\n",
    "                img_paths.append(img_path)\n",
    "                img_labels.append(cl_id)\n",
    "\n",
    "        return img_paths, img_labels\n",
    "\n",
    "    def read_multilabels(self):\n",
    "        label = pd.read_excel(\"./Hw3_data/UCMerced_LandUse/multilabels/LandUse_Multilabeled.xlsx\")\n",
    "        label = label.set_index(\"IMAGE\\LABEL\")\n",
    "        label = np.array(label)\n",
    "        return label\n",
    "\n",
    "    def __getitem__(self, idx):\n",
    "        img_path = self.img_paths[idx]\n",
    "        label = self.img_labels[idx]\n",
    "\n",
    "        img = Image.open(img_path).convert(\"RGB\")\n",
    "        if self.img_transform is not None:\n",
    "            img = self.img_transform(img)\n",
    "\n",
    "        return dict(img=img, label=label)\n",
    "\n",
    "    def __len__(self):\n",
    "        return len(self.img_paths)"
   ]
  },
  {
   "cell_type": "code",
   "execution_count": 84,
   "id": "eeff5703-931e-45ca-b2a0-7e36913630dd",
   "metadata": {
    "execution": {
     "iopub.execute_input": "2022-07-17T12:50:31.840949Z",
     "iopub.status.busy": "2022-07-17T12:50:31.840540Z",
     "iopub.status.idle": "2022-07-17T12:50:31.848505Z",
     "shell.execute_reply": "2022-07-17T12:50:31.846675Z",
     "shell.execute_reply.started": "2022-07-17T12:50:31.840918Z"
    }
   },
   "outputs": [],
   "source": [
    "class MetricTracker(object):\n",
    "    \"\"\"Computes and stores the average and current value.\"\"\"\n",
    "\n",
    "    def __init__(self):\n",
    "        self.reset()\n",
    "\n",
    "    def reset(self):\n",
    "        self.val = 0\n",
    "        self.avg = 0\n",
    "        self.sum = 0\n",
    "        self.count = 0\n",
    "\n",
    "    def update(self, val, n=1):\n",
    "        self.val = val\n",
    "        self.sum += val * n\n",
    "        self.count += n\n",
    "        self.avg = self.sum / self.count"
   ]
  },
  {
   "cell_type": "code",
   "execution_count": 85,
   "id": "af72c425-858b-4ac9-a29b-b134e9c8c97b",
   "metadata": {
    "execution": {
     "iopub.execute_input": "2022-07-17T12:50:32.507002Z",
     "iopub.status.busy": "2022-07-17T12:50:32.506481Z",
     "iopub.status.idle": "2022-07-17T12:50:32.513151Z",
     "shell.execute_reply": "2022-07-17T12:50:32.511976Z",
     "shell.execute_reply.started": "2022-07-17T12:50:32.506957Z"
    }
   },
   "outputs": [],
   "source": [
    "def get_device(cuda_int):\n",
    "    \"\"\"Get Cuda-Device. If cuda_int < 0 compute on CPU.\"\"\"\n",
    "    if cuda_int < 0:\n",
    "        print(\"Computation on CPU\")\n",
    "        device = torch.device(\"cpu\")\n",
    "    elif torch.cuda.is_available():\n",
    "        print(\"Computation on CUDA GPU device {}\".format(cuda_int))\n",
    "        device = torch.device(\"cuda:{}\".format(cuda_int))\n",
    "    return device"
   ]
  },
  {
   "cell_type": "markdown",
   "id": "a625c35c-4cff-429b-a3f4-db90a828456e",
   "metadata": {},
   "source": [
    "When obtaining our dataset, we divide our data randomly into training, testing and validation. We use random_split to perform this task"
   ]
  },
  {
   "cell_type": "code",
   "execution_count": 86,
   "id": "cba7d50f-1d3e-4f4e-9a27-7adda55aa865",
   "metadata": {
    "execution": {
     "iopub.execute_input": "2022-07-17T12:50:34.263993Z",
     "iopub.status.busy": "2022-07-17T12:50:34.263607Z",
     "iopub.status.idle": "2022-07-17T12:50:34.271354Z",
     "shell.execute_reply": "2022-07-17T12:50:34.270083Z",
     "shell.execute_reply.started": "2022-07-17T12:50:34.263964Z"
    }
   },
   "outputs": [],
   "source": [
    "from torchvision import datasets ,models , transforms\n",
    "import json\n",
    "from torch.utils.data import Dataset, DataLoader ,random_split\n",
    "from PIL import Image\n",
    "from pathlib import Path\n",
    "from torchvision.models import ResNet18_Weights\n",
    "from torch.optim import Adam\n",
    "\n",
    "def get_dataset(root_dir, tr_transform,seed=1, multilabel=True):\n",
    "    valid_no = int(2100*0.1)\n",
    "    train_no = int(2100*0.7) \n",
    "    test_no = int(2100*0.2)\n",
    "    \n",
    "    \"\"\"\n",
    "    Parameter\n",
    "    ---------\n",
    "    root_dir     : path to UCMerced Dataset\n",
    "    tr_transform : transformation for training data\n",
    "    te_transform : transformation for training data\n",
    "    set_sizes    : list of percentage of either train-test or train-val-test (sum to 100)\n",
    "\n",
    "    Output\n",
    "    ------\n",
    "    sets for train and test, optionally also val if len(set_sizes)==3\n",
    "    \"\"\"\n",
    "    ucm_dataset_tr = UCMerced(root_dir, img_transform=tr_transform, multilabel=multilabel)\n",
    "    #ucm_dataset_te = UCMerced(root_dir, img_transform=te_transform, multilabel=multilabel)\n",
    "    \n",
    "    trainset ,validset, testset  = random_split(ucm_dataset_tr, [train_no, valid_no, test_no])\n",
    "    \n",
    "    return trainset ,validset, testset\n",
    "    \n",
    "    \n",
    "    #idx_list = split_ucm_indices(set_sizes, seed=seed)\n",
    "\n",
    "   # train_set = Subset(ucm_dataset_tr, idx_list[0])\n",
    "    #test_set = Subset(ucm_dataset_te, idx_list[-1])\n",
    "\n",
    "    #if len(idx_list) > 2:\n",
    "     #   val_set = Subset(ucm_dataset_te, idx_list[1])\n",
    "      #  return train_set, val_set, test_set\n",
    "    #else:\n",
    "     #   return train_set, test_set"
   ]
  },
  {
   "cell_type": "code",
   "execution_count": 87,
   "id": "fa9e27cd-697e-494a-b93f-0f3ec05aaec3",
   "metadata": {
    "execution": {
     "iopub.execute_input": "2022-07-17T12:50:35.123486Z",
     "iopub.status.busy": "2022-07-17T12:50:35.123111Z",
     "iopub.status.idle": "2022-07-17T12:50:35.131768Z",
     "shell.execute_reply": "2022-07-17T12:50:35.130432Z",
     "shell.execute_reply.started": "2022-07-17T12:50:35.123457Z"
    }
   },
   "outputs": [
    {
     "data": {
      "text/plain": [
       "'/notebooks'"
      ]
     },
     "execution_count": 87,
     "metadata": {},
     "output_type": "execute_result"
    }
   ],
   "source": [
    "#Create class labels\n",
    "classLabels = [\"airplane\", \"bare-soil\", \"buildings\", \"cars\",\"chaparral\", \"court\", \"dock\", \"field\", \"grass\", \"mobile-home\",\"pavement\",\"sand\", \"sea\",\"ship\",\n",
    "               \"tanks\", \"trees\", \"water\"]\n",
    "\n",
    "import os\n",
    "os.chdir(\"/notebooks\")\n",
    "os.getcwd()"
   ]
  },
  {
   "cell_type": "markdown",
   "id": "7dfe22e1-0d8c-415d-a0f4-c84b1c8ff3e0",
   "metadata": {},
   "source": [
    "# Training Design\n",
    "\n",
    "In this part, we will be creating a CNN. In order to perform CNN, we had to perform the following tasks: \n",
    "1) Divide our data into training, test and validation. We use 70% data for training, 20% for testing and 10% for validation. \n",
    "2) We create the Convolution layer. In this case we use the pytorch pretrained resnet 18 model \n",
    "3) For criterion, we use a BCEWithLogitsLoss function. This is due to the fact that we want to perform multilabel classification \n",
    "4) For optimizer, we use Adam optimizer. It is the same as stochastic gradient descent \n",
    "5) We create a dense layer that used for training the model \n",
    "6) We evaluate the model in order to check whether the model is overfitting or underfitting \n",
    "7) Test the model for unseen data"
   ]
  },
  {
   "cell_type": "markdown",
   "id": "dbb00ebf-e8d4-40b4-8a64-f9747e191565",
   "metadata": {},
   "source": [
    "\n",
    "In the first part, we divide our dataset into training test and validation. We provide 70% data to training, 10% to validation and 20% to testing. We already splitted the data randomly in the function get_dataset"
   ]
  },
  {
   "cell_type": "code",
   "execution_count": 88,
   "id": "06bcca3a-c413-46fc-ba33-bd03930c0e02",
   "metadata": {
    "execution": {
     "iopub.execute_input": "2022-07-17T12:50:39.596279Z",
     "iopub.status.busy": "2022-07-17T12:50:39.595775Z",
     "iopub.status.idle": "2022-07-17T12:50:39.602819Z",
     "shell.execute_reply": "2022-07-17T12:50:39.601365Z",
     "shell.execute_reply.started": "2022-07-17T12:50:39.596242Z"
    }
   },
   "outputs": [
    {
     "name": "stdout",
     "output_type": "stream",
     "text": [
      "Computation on CUDA GPU device 0\n"
     ]
    }
   ],
   "source": [
    "#Choose our device\n",
    "cuda_device = get_device(0)"
   ]
  },
  {
   "cell_type": "markdown",
   "id": "1b19551f-f162-4566-964c-49ab5627e29a",
   "metadata": {},
   "source": [
    "Now we need to choose our parameter. Since we only have 2100 images, it is recommended to use a smaller batch size so the gradient descent makes a small change after each iteration.\n",
    "We keep the learning rate small so we can see how our gradient descent reaches the global optima. We don't want want our gradient descent to get stuck at local optima\n",
    "Epoch is once all images are processed one time individually of forward and backward to the network. We try to keep Epoch between 20 - 25"
   ]
  },
  {
   "cell_type": "code",
   "execution_count": 89,
   "id": "53f2f9ad-276e-4d8c-a4a3-8f9a2d0809cd",
   "metadata": {
    "execution": {
     "iopub.execute_input": "2022-07-17T12:50:42.065084Z",
     "iopub.status.busy": "2022-07-17T12:50:42.064556Z",
     "iopub.status.idle": "2022-07-17T12:50:42.071092Z",
     "shell.execute_reply": "2022-07-17T12:50:42.069781Z",
     "shell.execute_reply.started": "2022-07-17T12:50:42.065040Z"
    }
   },
   "outputs": [],
   "source": [
    "#Choose our parameter\n",
    "batch_size = 64\n",
    "learning_rate = 0.001\n",
    "epochs = 20"
   ]
  },
  {
   "cell_type": "markdown",
   "id": "95fb0869-9a23-40da-b947-22d1eb5345a9",
   "metadata": {},
   "source": [
    "#Now we resize the images so all image have same size. his is how we transform all images. We do it for both training and testing data\n",
    "#For further understanding, pls refer to the following webste: https://www.programcreek.com/python/example/104832/torchvision.transforms.Compose"
   ]
  },
  {
   "cell_type": "code",
   "execution_count": 12,
   "id": "4b104c9d-3e74-474d-ac16-f74251462c9b",
   "metadata": {
    "execution": {
     "iopub.execute_input": "2022-07-17T11:37:08.823185Z",
     "iopub.status.busy": "2022-07-17T11:37:08.822790Z",
     "iopub.status.idle": "2022-07-17T11:37:08.830079Z",
     "shell.execute_reply": "2022-07-17T11:37:08.828782Z",
     "shell.execute_reply.started": "2022-07-17T11:37:08.823155Z"
    }
   },
   "outputs": [],
   "source": [
    "ucm_mean = [0.595425, 0.3518577, 0.3225522]\n",
    "ucm_std = [0.19303136, 0.12492529, 0.10577361]\n",
    "\n",
    "\n",
    "tr_transform = transforms.Compose(\n",
    "    [\n",
    "        transforms.Resize((64, 64)),\n",
    "        transforms.ToTensor(),\n",
    "        transforms.Normalize(mean=ucm_mean, std=ucm_std),\n",
    "    ]\n",
    ")\n",
    "\n",
    "te_transform = transforms.Compose(\n",
    "    [\n",
    "        transforms.Resize((64, 64)),\n",
    "        transforms.ToTensor(),\n",
    "        transforms.Normalize(mean=ucm_mean, std=ucm_std),\n",
    "    ]\n",
    ")"
   ]
  },
  {
   "cell_type": "markdown",
   "id": "68f715ba-d293-46a8-a470-2954b3cbcac3",
   "metadata": {},
   "source": [
    "Divide our data into training, testing and validation and upload them into the data loader"
   ]
  },
  {
   "cell_type": "code",
   "execution_count": 102,
   "id": "7d0bb8c9-dee6-4579-9459-023ac17f47e5",
   "metadata": {
    "execution": {
     "iopub.execute_input": "2022-07-17T10:56:15.335360Z",
     "iopub.status.busy": "2022-07-17T10:56:15.334712Z",
     "iopub.status.idle": "2022-07-17T10:56:15.825646Z",
     "shell.execute_reply": "2022-07-17T10:56:15.824494Z",
     "shell.execute_reply.started": "2022-07-17T10:56:15.335332Z"
    }
   },
   "outputs": [],
   "source": [
    "\n",
    "trainset, valset, testset = get_dataset(\n",
    "    \"./Hw3_data/UCMerced_LandUse\",\n",
    "    tr_transform=tr_transform,\n",
    "    multilabel=True\n",
    ")"
   ]
  },
  {
   "cell_type": "code",
   "execution_count": 14,
   "id": "5b6638c1-aa85-4824-b54e-8ce639983b55",
   "metadata": {
    "execution": {
     "iopub.execute_input": "2022-07-17T01:00:15.061216Z",
     "iopub.status.busy": "2022-07-17T01:00:15.060635Z",
     "iopub.status.idle": "2022-07-17T01:00:15.068815Z",
     "shell.execute_reply": "2022-07-17T01:00:15.067440Z",
     "shell.execute_reply.started": "2022-07-17T01:00:15.061175Z"
    }
   },
   "outputs": [],
   "source": [
    "\n",
    "train_loader = DataLoader(trainset, batch_size=batch_size, shuffle=True, pin_memory=True)\n",
    "val_loader = DataLoader(valset, batch_size=batch_size, shuffle=False, pin_memory=True)\n",
    "test_loader = DataLoader(testset, batch_size=batch_size, shuffle=False, pin_memory=True)"
   ]
  },
  {
   "cell_type": "markdown",
   "id": "26768bb9-53c5-4c31-9c5a-b3708a76ecb5",
   "metadata": {},
   "source": [
    "## Define our Model"
   ]
  },
  {
   "cell_type": "code",
   "execution_count": 15,
   "id": "7ea52a99-0770-43f6-b608-906da0b58ac8",
   "metadata": {
    "execution": {
     "iopub.execute_input": "2022-07-17T01:00:16.781208Z",
     "iopub.status.busy": "2022-07-17T01:00:16.780794Z",
     "iopub.status.idle": "2022-07-17T01:00:19.238061Z",
     "shell.execute_reply": "2022-07-17T01:00:19.236566Z",
     "shell.execute_reply.started": "2022-07-17T01:00:16.781179Z"
    }
   },
   "outputs": [
    {
     "name": "stderr",
     "output_type": "stream",
     "text": [
      "Downloading: \"https://download.pytorch.org/models/resnet18-f37072fd.pth\" to /home/jovyan/.cache/torch/hub/checkpoints/resnet18-f37072fd.pth\n"
     ]
    },
    {
     "data": {
      "application/vnd.jupyter.widget-view+json": {
       "model_id": "f7ea61f5937243ac8a84909e44558e32",
       "version_major": 2,
       "version_minor": 0
      },
      "text/plain": [
       "  0%|          | 0.00/44.7M [00:00<?, ?B/s]"
      ]
     },
     "metadata": {},
     "output_type": "display_data"
    },
    {
     "data": {
      "text/plain": [
       "ResNet(\n",
       "  (conv1): Conv2d(3, 64, kernel_size=(7, 7), stride=(2, 2), padding=(3, 3), bias=False)\n",
       "  (bn1): BatchNorm2d(64, eps=1e-05, momentum=0.1, affine=True, track_running_stats=True)\n",
       "  (relu): ReLU(inplace=True)\n",
       "  (maxpool): MaxPool2d(kernel_size=3, stride=2, padding=1, dilation=1, ceil_mode=False)\n",
       "  (layer1): Sequential(\n",
       "    (0): BasicBlock(\n",
       "      (conv1): Conv2d(64, 64, kernel_size=(3, 3), stride=(1, 1), padding=(1, 1), bias=False)\n",
       "      (bn1): BatchNorm2d(64, eps=1e-05, momentum=0.1, affine=True, track_running_stats=True)\n",
       "      (relu): ReLU(inplace=True)\n",
       "      (conv2): Conv2d(64, 64, kernel_size=(3, 3), stride=(1, 1), padding=(1, 1), bias=False)\n",
       "      (bn2): BatchNorm2d(64, eps=1e-05, momentum=0.1, affine=True, track_running_stats=True)\n",
       "    )\n",
       "    (1): BasicBlock(\n",
       "      (conv1): Conv2d(64, 64, kernel_size=(3, 3), stride=(1, 1), padding=(1, 1), bias=False)\n",
       "      (bn1): BatchNorm2d(64, eps=1e-05, momentum=0.1, affine=True, track_running_stats=True)\n",
       "      (relu): ReLU(inplace=True)\n",
       "      (conv2): Conv2d(64, 64, kernel_size=(3, 3), stride=(1, 1), padding=(1, 1), bias=False)\n",
       "      (bn2): BatchNorm2d(64, eps=1e-05, momentum=0.1, affine=True, track_running_stats=True)\n",
       "    )\n",
       "  )\n",
       "  (layer2): Sequential(\n",
       "    (0): BasicBlock(\n",
       "      (conv1): Conv2d(64, 128, kernel_size=(3, 3), stride=(2, 2), padding=(1, 1), bias=False)\n",
       "      (bn1): BatchNorm2d(128, eps=1e-05, momentum=0.1, affine=True, track_running_stats=True)\n",
       "      (relu): ReLU(inplace=True)\n",
       "      (conv2): Conv2d(128, 128, kernel_size=(3, 3), stride=(1, 1), padding=(1, 1), bias=False)\n",
       "      (bn2): BatchNorm2d(128, eps=1e-05, momentum=0.1, affine=True, track_running_stats=True)\n",
       "      (downsample): Sequential(\n",
       "        (0): Conv2d(64, 128, kernel_size=(1, 1), stride=(2, 2), bias=False)\n",
       "        (1): BatchNorm2d(128, eps=1e-05, momentum=0.1, affine=True, track_running_stats=True)\n",
       "      )\n",
       "    )\n",
       "    (1): BasicBlock(\n",
       "      (conv1): Conv2d(128, 128, kernel_size=(3, 3), stride=(1, 1), padding=(1, 1), bias=False)\n",
       "      (bn1): BatchNorm2d(128, eps=1e-05, momentum=0.1, affine=True, track_running_stats=True)\n",
       "      (relu): ReLU(inplace=True)\n",
       "      (conv2): Conv2d(128, 128, kernel_size=(3, 3), stride=(1, 1), padding=(1, 1), bias=False)\n",
       "      (bn2): BatchNorm2d(128, eps=1e-05, momentum=0.1, affine=True, track_running_stats=True)\n",
       "    )\n",
       "  )\n",
       "  (layer3): Sequential(\n",
       "    (0): BasicBlock(\n",
       "      (conv1): Conv2d(128, 256, kernel_size=(3, 3), stride=(2, 2), padding=(1, 1), bias=False)\n",
       "      (bn1): BatchNorm2d(256, eps=1e-05, momentum=0.1, affine=True, track_running_stats=True)\n",
       "      (relu): ReLU(inplace=True)\n",
       "      (conv2): Conv2d(256, 256, kernel_size=(3, 3), stride=(1, 1), padding=(1, 1), bias=False)\n",
       "      (bn2): BatchNorm2d(256, eps=1e-05, momentum=0.1, affine=True, track_running_stats=True)\n",
       "      (downsample): Sequential(\n",
       "        (0): Conv2d(128, 256, kernel_size=(1, 1), stride=(2, 2), bias=False)\n",
       "        (1): BatchNorm2d(256, eps=1e-05, momentum=0.1, affine=True, track_running_stats=True)\n",
       "      )\n",
       "    )\n",
       "    (1): BasicBlock(\n",
       "      (conv1): Conv2d(256, 256, kernel_size=(3, 3), stride=(1, 1), padding=(1, 1), bias=False)\n",
       "      (bn1): BatchNorm2d(256, eps=1e-05, momentum=0.1, affine=True, track_running_stats=True)\n",
       "      (relu): ReLU(inplace=True)\n",
       "      (conv2): Conv2d(256, 256, kernel_size=(3, 3), stride=(1, 1), padding=(1, 1), bias=False)\n",
       "      (bn2): BatchNorm2d(256, eps=1e-05, momentum=0.1, affine=True, track_running_stats=True)\n",
       "    )\n",
       "  )\n",
       "  (layer4): Sequential(\n",
       "    (0): BasicBlock(\n",
       "      (conv1): Conv2d(256, 512, kernel_size=(3, 3), stride=(2, 2), padding=(1, 1), bias=False)\n",
       "      (bn1): BatchNorm2d(512, eps=1e-05, momentum=0.1, affine=True, track_running_stats=True)\n",
       "      (relu): ReLU(inplace=True)\n",
       "      (conv2): Conv2d(512, 512, kernel_size=(3, 3), stride=(1, 1), padding=(1, 1), bias=False)\n",
       "      (bn2): BatchNorm2d(512, eps=1e-05, momentum=0.1, affine=True, track_running_stats=True)\n",
       "      (downsample): Sequential(\n",
       "        (0): Conv2d(256, 512, kernel_size=(1, 1), stride=(2, 2), bias=False)\n",
       "        (1): BatchNorm2d(512, eps=1e-05, momentum=0.1, affine=True, track_running_stats=True)\n",
       "      )\n",
       "    )\n",
       "    (1): BasicBlock(\n",
       "      (conv1): Conv2d(512, 512, kernel_size=(3, 3), stride=(1, 1), padding=(1, 1), bias=False)\n",
       "      (bn1): BatchNorm2d(512, eps=1e-05, momentum=0.1, affine=True, track_running_stats=True)\n",
       "      (relu): ReLU(inplace=True)\n",
       "      (conv2): Conv2d(512, 512, kernel_size=(3, 3), stride=(1, 1), padding=(1, 1), bias=False)\n",
       "      (bn2): BatchNorm2d(512, eps=1e-05, momentum=0.1, affine=True, track_running_stats=True)\n",
       "    )\n",
       "  )\n",
       "  (avgpool): AdaptiveAvgPool2d(output_size=(1, 1))\n",
       "  (fc): Linear(in_features=512, out_features=17, bias=True)\n",
       ")"
      ]
     },
     "execution_count": 15,
     "metadata": {},
     "output_type": "execute_result"
    }
   ],
   "source": [
    "model = models.resnet18(weights=ResNet18_Weights.DEFAULT)\n",
    "model.fc = nn.Linear(512, 17) #21 - number of classes\n",
    "model.to(cuda_device)\n"
   ]
  },
  {
   "cell_type": "markdown",
   "id": "77159ed1-9352-4ab3-b567-957f802b93a2",
   "metadata": {},
   "source": [
    "## Define our criterion and gradient descent as stochastic gradient \n",
    "\n",
    " "
   ]
  },
  {
   "cell_type": "code",
   "execution_count": 16,
   "id": "54eb38b1-ee40-40b2-afc7-2aeaf4e8be0b",
   "metadata": {
    "execution": {
     "iopub.execute_input": "2022-07-17T01:00:19.244399Z",
     "iopub.status.busy": "2022-07-17T01:00:19.243979Z",
     "iopub.status.idle": "2022-07-17T01:00:19.253824Z",
     "shell.execute_reply": "2022-07-17T01:00:19.252299Z",
     "shell.execute_reply.started": "2022-07-17T01:00:19.244358Z"
    }
   },
   "outputs": [],
   "source": [
    "import torch.optim as optim\n",
    "from torch.optim import lr_scheduler\n",
    "\n",
    "\n",
    "#Criterion\n",
    "criterion = nn.BCEWithLogitsLoss().to(cuda_device)\n",
    "#criterion = nn.CrossEntropyLoss()\n",
    "\n",
    "\n",
    "\n",
    "\n",
    "# specify optimizer\n",
    "optimizer = optim.Adam(model.parameters(), lr=0.001, weight_decay=0.0001)"
   ]
  },
  {
   "cell_type": "markdown",
   "id": "80fd695f-a16d-4ef1-a1c9-11f11ed56960",
   "metadata": {},
   "source": [
    "## Define functions for training and validation\n",
    "\n",
    "In this section, we have to perform training and validation. During validation, we extract the probabilities for each class. Since we obtain integer values so we normalize these values between 0 & 1. Then we threshold the values hence values > 0.5 -> 1 && values < 0.5 -> 0.\n",
    "For detail understanding, please refer to the following link: https://discuss.pytorch.org/t/how-to-extract-probabilities/2720/9"
   ]
  },
  {
   "cell_type": "code",
   "execution_count": 91,
   "id": "c87e91bb-b4d5-40a2-934e-ed33fee12c46",
   "metadata": {
    "execution": {
     "iopub.execute_input": "2022-07-17T12:51:02.568241Z",
     "iopub.status.busy": "2022-07-17T12:51:02.567808Z",
     "iopub.status.idle": "2022-07-17T12:51:02.575379Z",
     "shell.execute_reply": "2022-07-17T12:51:02.573610Z",
     "shell.execute_reply.started": "2022-07-17T12:51:02.568212Z"
    }
   },
   "outputs": [],
   "source": [
    "#Normalization of array between 0 & 1\n",
    "\n",
    "def normalization(arr: np.array) -> np.array:\n",
    "    norm = []\n",
    "    min_val = np.amin(arr)\n",
    "    max_val = np.amax(arr)\n",
    "    \n",
    "    for i in arr:\n",
    "        for j in i:\n",
    "            z = ((arr[j] - min_val)/ (max_val -min_val))\n",
    "        norm.append(z)\n",
    "\n",
    "    norm = np.array(norm)\n",
    "    \n",
    "    return norm"
   ]
  },
  {
   "cell_type": "code",
   "execution_count": 92,
   "id": "ee94cf8a-ef89-47e2-a13e-fee0a4810b1c",
   "metadata": {
    "execution": {
     "iopub.execute_input": "2022-07-17T12:51:04.150447Z",
     "iopub.status.busy": "2022-07-17T12:51:04.150012Z",
     "iopub.status.idle": "2022-07-17T12:51:04.157553Z",
     "shell.execute_reply": "2022-07-17T12:51:04.156073Z",
     "shell.execute_reply.started": "2022-07-17T12:51:04.150447Z"
    }
   },
   "outputs": [],
   "source": [
    "def pretty_classification_report_print(report, class_names):\n",
    "    N = len(class_names)\n",
    "    df = pd.DataFrame(report).round(decimals=2)\n",
    "    df = df.rename(columns=dict(zip(list(map(str, range(N))), testset.dataset.class_names))).T\n",
    "    df[[\"support\"]] = df[[\"support\"]].astype(int)\n",
    "    return df"
   ]
  },
  {
   "cell_type": "markdown",
   "id": "6c0ffbff-4326-405f-9a7e-cbae54856808",
   "metadata": {},
   "source": [
    "In this section, we try to train our model:\n",
    "Since we want true probabilities to be equal to predicted probabilities, so we try to find probabilities for each class for all images. So we try to find the\n",
    "probability individually and thresholded by 0.5. This make sure that the values are divided into postive and negatives before calcualting the confusion matrix. \n",
    "\n",
    "For further understanding, the following website is extremely helpful: https://colab.research.google.com/github/kmkarakaya/ML_tutorials/blob/master/Multi_Label_Model_Evaulation.ipynb#scrollTo=u4iBlAQIQven\n",
    "\n"
   ]
  },
  {
   "cell_type": "markdown",
   "id": "81b50b26-a3a0-4389-889f-c8c4f69d4c80",
   "metadata": {},
   "source": [
    "In our case, our microavg precision is acutally the accuracy of the model: \n",
    "\n",
    "To see, check the following websites: https://tomaxent.com/2018/04/27/Micro-and-Macro-average-of-Precision-Recall-and-F-Score/\n",
    "\n",
    "https://www.google.com/search?q=micro-average+of+precision+same+as+accuracy&sxsrf=ALiCzsZhA96dQoJ1g6cTEPqHavdM-U5XFQ%3A1657990742492&source=hp&ei=Vu7SYq3pGvaBxc8Pz_mLcA&iflsig=AJiK0e8AAAAAYtL8ZuAEt4IJKKTDrrOGNIPNmvfPvvGR&oq=Micro-average+of+precision+same+as+accuray&gs_lcp=Cgdnd3Mtd2l6EAMYADIHCCEQChCgATIHCCEQChCgATIHCCEQChCgATIHCCEQChCgAToGCAAQHhAWOgUIABCGAzoFCCEQoAE6CAghEB4QFhAdOgQIIRAVUABY1Rpg1CNoAHAAeACAAYMBiAGMDZIBBDEwLjeYAQCgAQKgAQE&sclient=gws-wiz"
   ]
  },
  {
   "cell_type": "code",
   "execution_count": 90,
   "id": "a8d3a7b2-bf97-4df9-ac84-be19841ff20d",
   "metadata": {
    "execution": {
     "iopub.execute_input": "2022-07-17T12:50:57.924720Z",
     "iopub.status.busy": "2022-07-17T12:50:57.924194Z",
     "iopub.status.idle": "2022-07-17T12:50:57.937291Z",
     "shell.execute_reply": "2022-07-17T12:50:57.935513Z",
     "shell.execute_reply.started": "2022-07-17T12:50:57.924677Z"
    }
   },
   "outputs": [],
   "source": [
    "def train(model, train_loader, val_loader, optimizer, criterion, epochs, device, early_stop=False):\n",
    "    train_losses, val_losses = [], []\n",
    "    accuracy_scores = []\n",
    "    average_precision_score = []\n",
    "    best_model = copy.deepcopy(model)\n",
    "    best_acc = 0\n",
    "    best_epoch = 1\n",
    "\n",
    "    for epoch in range(1, epochs + 1):\n",
    "\n",
    "        print(\"Epoch {}/{}\".format(epoch, epochs))\n",
    "        print(\"-\" * 10)\n",
    "\n",
    "        train_loss = train_epoch(model, train_loader, optimizer, criterion, device)\n",
    "        \n",
    "        #val_loss = loss_tracker.avg, report = classification report, conf_mat = confusion matrix, overall_acc = micro avg \n",
    "        val_loss, report, conf_mat, avg_prec = val_epoch(model, val_loader, criterion, device) \n",
    "        overall_acc = report[\"micro avg\"][\"precision\"]\n",
    "        average_precision = avg_prec\n",
    "        \n",
    "\n",
    "        train_losses.append(train_loss)\n",
    "        val_losses.append(val_loss)\n",
    "        accuracy_scores.append(overall_acc)\n",
    "        average_precision_score.append(average_precision)\n",
    "\n",
    "        \n",
    "        if best_acc < overall_acc:\n",
    "            best_acc = overall_acc\n",
    "            best_epoch = epoch\n",
    "            best_model = copy.deepcopy(model)\n",
    "\n",
    "        if epoch - best_epoch > 10 and early_stop:\n",
    "            break\n",
    "\n",
    "    return best_model, train_losses, val_losses, accuracy_scores, average_precision_score"
   ]
  },
  {
   "cell_type": "code",
   "execution_count": 94,
   "id": "472ff0aa-cc35-41f4-8584-a94042d12026",
   "metadata": {
    "execution": {
     "iopub.execute_input": "2022-07-17T12:51:07.669726Z",
     "iopub.status.busy": "2022-07-17T12:51:07.669367Z",
     "iopub.status.idle": "2022-07-17T12:51:07.679491Z",
     "shell.execute_reply": "2022-07-17T12:51:07.678168Z",
     "shell.execute_reply.started": "2022-07-17T12:51:07.669697Z"
    }
   },
   "outputs": [],
   "source": [
    "def train_epoch(model, train_loader, optimizer, criterion, device):\n",
    "    loss_tracker = MetricTracker()\n",
    "    acc_tracker = MetricTracker()\n",
    "    model.train()\n",
    "\n",
    "    tqdm_bar = tqdm(train_loader, desc=\"Training: \")\n",
    "    for batch in tqdm_bar:\n",
    "\n",
    "        images = batch[\"img\"].to(device)\n",
    "        labels = batch[\"label\"].to(device)\n",
    "        batch_size = images.size(0)\n",
    "        optimizer.zero_grad()\n",
    "\n",
    "        logits = model(images)\n",
    "        loss = criterion(logits, labels)\n",
    "        #loss = criterion(logits, labels.float())\n",
    "        loss.backward()\n",
    "        optimizer.step()\n",
    "\n",
    "        probs = F.softmax(logits, dim=1)\n",
    "        loss_tracker.update(loss.item(), batch_size)\n",
    "\n",
    "        _, predicted = torch.max(probs.data, 1)\n",
    "        #batch_acc = (predicted == labels).sum().item() / batch_size\n",
    "        #acc_tracker.update(batch_acc, batch_size)\n",
    "        tqdm_bar.set_postfix(loss=loss_tracker.avg, accuracy=acc_tracker.avg)\n",
    "        tqdm_bar.set_postfix(loss=loss_tracker.avg)\n",
    "\n",
    "    return loss_tracker.avg"
   ]
  },
  {
   "cell_type": "markdown",
   "id": "8744453f-d94f-487e-83a9-ce06e18ba86b",
   "metadata": {},
   "source": [
    "1) Predict the probability of each class for a specfic image.\n",
    "2) Since all values are real number so we normalize all the values between 0 & 1\n",
    "3) Threshold values hence values > 0.5 -> 1 while values < 0.5 -> 0\n",
    "4) Implement the multilabel confusion matrix\n",
    "5) Design the classifcation report\n",
    "6) In order to obtain accuracy, we find the micro avg precision score"
   ]
  },
  {
   "cell_type": "code",
   "execution_count": 95,
   "id": "9f3903f7-15aa-4e4a-9d2d-f8a9477debdb",
   "metadata": {
    "execution": {
     "iopub.execute_input": "2022-07-17T12:51:09.332408Z",
     "iopub.status.busy": "2022-07-17T12:51:09.331955Z",
     "iopub.status.idle": "2022-07-17T12:51:09.346624Z",
     "shell.execute_reply": "2022-07-17T12:51:09.344778Z",
     "shell.execute_reply.started": "2022-07-17T12:51:09.332377Z"
    }
   },
   "outputs": [],
   "source": [
    "def val_epoch(model, val_loader, criterion, device):\n",
    "    loss_tracker = MetricTracker()\n",
    "    acc_tracker = MetricTracker()\n",
    "    model.eval()\n",
    "\n",
    "    y_pred = []\n",
    "    y_true = []\n",
    "    y_prediction_normalize = []\n",
    "    y_pred_segmented = []\n",
    "    classLabels = [\"airplane\", \"bare-soil\", \"buildings\", \"cars\",\"chaparral\", \"court\", \"dock\", \"field\", \"grass\", \"mobile-home\",\"pavement\",\"sand\", \"sea\",\"ship\",\n",
    "               \"tanks\", \"trees\", \"water\"]\n",
    "    \n",
    "    \n",
    "\n",
    "    with torch.no_grad():\n",
    "        tqdm_bar = tqdm(val_loader, desc=\"Validation: \")\n",
    "        for batch in tqdm_bar:\n",
    "\n",
    "            images = batch[\"img\"].to(device)\n",
    "            labels = batch[\"label\"].to(device)\n",
    "            batch_size = images.size(0)\n",
    "\n",
    "            logits = model(images)\n",
    "            probs = F.softmax(logits, dim=1)\n",
    "            loss = criterion(logits, labels)\n",
    "            loss_tracker.update(loss.item(), batch_size)\n",
    "\n",
    "            predicted_prob, predicted_labels = torch.topk(probs.data, 17) #Find values fo all classes\n",
    "           # batch_acc = (predicted == labels).sum().item() / batch_size\n",
    "            #acc_tracker.update(batch_acc, batch_size)\n",
    "            acc_tracker.update(batch_size)\n",
    "\n",
    "            y_pred += predicted_labels.tolist()\n",
    "            y_true += labels.tolist()\n",
    "            tqdm_bar.set_postfix(loss=loss_tracker.avg, accuracy=acc_tracker.avg)\n",
    "            \n",
    "            y_pred_arr = np.array(y_pred)\n",
    "            y_true_arr = np.array(y_true)\n",
    "            \n",
    "            #Normalize the y_prediction values between 0 & 1\n",
    "            y_prediction_normalize  = normalization(y_pred_arr)\n",
    "           \n",
    "            \n",
    "            \n",
    "            # Segmentation: Values > 0.5 -> 1 while other -> 0\n",
    "            \n",
    "            y_pred_segmented = np.where(y_prediction_normalize > 0.5, 1, 0) \n",
    "            y_pred_segmented = np.array(y_pred_segmented)\n",
    "            \n",
    "    #print(y_pred_segmented)\n",
    "    #print(y_pred_segmented.shape)\n",
    "      \n",
    "     \n",
    "    #Classfication_report, Multilabel confusion matrix, average precision score\n",
    "    \n",
    "    report = classification_report(y_true, y_pred_segmented,target_names=classLabels, zero_division=0, output_dict=True)\n",
    "    conf_mat = multilabel_confusion_matrix(y_true, y_pred_segmented)\n",
    "    avg_prec = average_precision_score(y_true, y_pred_segmented, average='macro', pos_label=1)\n",
    "    \n",
    "    #Visualize our classifcation report\n",
    "    print(pretty_classification_report_print(report, class_names=classLabels))\n",
    "\n",
    "\n",
    "        \n",
    "    return loss_tracker.avg, report, conf_mat, avg_prec"
   ]
  },
  {
   "cell_type": "code",
   "execution_count": 96,
   "id": "4e9570c1-5452-4638-bead-b77061f6d648",
   "metadata": {
    "execution": {
     "iopub.execute_input": "2022-07-17T12:51:10.538895Z",
     "iopub.status.busy": "2022-07-17T12:51:10.538522Z",
     "iopub.status.idle": "2022-07-17T12:51:10.544332Z",
     "shell.execute_reply": "2022-07-17T12:51:10.542796Z",
     "shell.execute_reply.started": "2022-07-17T12:51:10.538859Z"
    }
   },
   "outputs": [],
   "source": [
    "eval_accuracies = []"
   ]
  },
  {
   "cell_type": "markdown",
   "id": "c3d945ec-48dd-452a-b9c1-a3b89dfa27e4",
   "metadata": {},
   "source": [
    "\n",
    "In order to understand results below, certain parameter need to be understood. Our main goal is to keep our training error and validation error to be low in order to obtain and perfect model. \n",
    "We want to make sure that our model avoids overfitting (so our model doesn't memorize the results). In order to avoid that, autoencoder and dropout methods are also added to model.\n",
    "In order to avoid overfitting, we also added the early stop method.\n",
    "\n",
    "#### Training error and Validation error \n",
    " We want our training loss and validation loss to be as low as possible in order to obtain a perfect model. \n",
    " 1) training loss = low  && validation loss = increases -> overfitting.\n",
    " 2) training loss = high && validation loss = high -> underfitting\n",
    " 3) training loss = low && validation loss = low -> Best model\n",
    " 4) training loss = high && validation loss = low -> data is leaking from training to validation set\n",
    "To further understand, pls look into the following website: https://www.youtube.com/watch?v=pVnbkJ9TMyE\n",
    "\n",
    "\n",
    "#### Training accuracy and Validation accuracy\n",
    "We want our validation accuracy to be as high as possible in order to avoid overfitting.\n",
    "Metrics on the training set let you see how your model is progressing in terms of its training, but it's metrics on the validation set that let you get a measure of the quality of your model - how well it's able to make new predictions based on data it hasn't seen before.\n",
    "For further understanding, please refer to the following link: https://stackoverflow.com/questions/51344839/what-is-the-difference-between-the-terms-accuracy-and-validation-accuracy\n",
    "\n",
    "\n",
    "#### Confusion matrix:\n",
    "A confusion matrix is a matrix that breaks down correctly and incorrectly classified into:<br>\n",
    "\n",
    "True positive (TP): Correctly predicting the positive class<br>\n",
    "True Negative (TN): Correctly predicting the negative class<br>\n",
    "False Positive (FP): Incorrectly predicting the positive class<br>\n",
    "False Negative (FN): Incorrectly predicting the negative class<br><br>\n",
    "\n",
    "\n",
    "\n",
    "\n",
    "#### Precision, recall, f1-score, support\n",
    "\n",
    "1) Accuracy: How often a model correctly classifies data.<br>\n",
    "It is calculated by: number of correct predictions / total predictions. We generally don't rely on accuracy because it doesn't provide us the complete picture of the model\n",
    "2) Precision: Precision is the ability of a classifier not to label an instance positive that is actually negative. \n",
    "<br> It is calculated: TP / (TP + FP)\n",
    "3) Recall: Recall is the ability of a classifier to find all positive instances. <br>\n",
    "Calculation: TP/(TP+FN)\n",
    "4) F1 score: What percent of positive predictions were correct? The F1 score is a weighted harmonic mean of precision and recall such that the best score is 1.0 and the worst is 0.0. \n",
    "5) Support: It is the number of actual occurrences of the class in the specified dataset.<br><br>\n",
    "Higher precision means that an algorithm returns more relevant results than irrelevant ones, and high recall means that an algorithm returns most of the relevant results<br>\n",
    "A system with high precision but low recall is just the opposite, returning very few results, but most of its predicted labels are correct when compared to the training labels. An ideal system with high precision and high recall will return many results, with all results labeled correctly.<br>\n",
    "A system with high recall but low precision returns many results, but most of its predicted labels are incorrect when compared to the training labels.\n",
    "\n",
    "High Precision - Low Recall: This is the ideal scenario, where both precision and recall are high. Intuitively, this means that when our model predicts a particular label, that’s most often an expected label, and when a particular label is expected, our model generally gets it right.<br>\n",
    "High Precision - Low Recall: This means that when our model predicts a particular label, it is more often than not correct (high precision), but the same isn’t true the other way around (low recall).<br>\n",
    "Low Precision — High Recall: In this case, our model is pretty lenient in its predictions. It is more likely to assign a label to a data point even if it’s not completely sure. And because of this, our model is likely to assign incorrect labels to certain data points, leading to a drop in precision.\n",
    "\n",
    "#### Micro avg, macro avg, weighted avg, avg precision score\n",
    "\n",
    "1) Macro average:<br> \n",
    "    1) This is simply the average of a metric — precision, recall or f1-score — over all classes. \n",
    "    2) Another way of obtaining a single performance indicator is by averaging the precision and recall scores of individual classes.<br>\n",
    "    3) Only calculated for multilabel classfication because it find average precision and recall for individual classes\n",
    "    4) Calculation: (Precision of A + Precision of B + Precision of C) / 3\n",
    "    5) Micro average precision is the same as accuracy for multilabel classifcation\n",
    "2) Micro Average: \n",
    "    1) sum(Tp) / (sum(TP) + sum(FP))<br>\n",
    "    2) Similarly to what we did for global accuracy, we can compute global precision and recall scores from the sum of FP, FN, TP, and TN counts across classes.\n",
    "    3) Used to calculate all classes\n",
    "    4) \n",
    "    5) For further understadning, check: https://www.youtube.com/watch?v=DF-rJA-eOUQ\n",
    "\n",
    "\n",
    "A macro-average will compute the metric independently for each class and then take the average (hence treating all classes equally), whereas a micro-average will aggregate the contributions of all classes to compute the average metric. In a multi-class classification setup, micro-average is preferable if you suspect there might be class imbalance (i.e you may have many more examples of one class than of other classes).<br>\n",
    "\n",
    "\n",
    "\n",
    "\n",
    "\n"
   ]
  },
  {
   "cell_type": "code",
   "execution_count": 23,
   "id": "e17a9ee0-48c6-43df-9f7c-391be9c4325c",
   "metadata": {
    "execution": {
     "iopub.execute_input": "2022-07-17T01:00:34.422329Z",
     "iopub.status.busy": "2022-07-17T01:00:34.421872Z",
     "iopub.status.idle": "2022-07-17T01:13:18.750775Z",
     "shell.execute_reply": "2022-07-17T01:13:18.746923Z",
     "shell.execute_reply.started": "2022-07-17T01:00:34.422299Z"
    }
   },
   "outputs": [
    {
     "name": "stdout",
     "output_type": "stream",
     "text": [
      "Epoch 1/25\n",
      "----------\n"
     ]
    },
    {
     "data": {
      "application/vnd.jupyter.widget-view+json": {
       "model_id": "55b79c778c86448d9b3e4d003b412b86",
       "version_major": 2,
       "version_minor": 0
      },
      "text/plain": [
       "Training:   0%|          | 0/23 [00:00<?, ?it/s]"
      ]
     },
     "metadata": {},
     "output_type": "display_data"
    },
    {
     "data": {
      "application/vnd.jupyter.widget-view+json": {
       "model_id": "dc91feca4a2b44fdab8b63abf021529b",
       "version_major": 2,
       "version_minor": 0
      },
      "text/plain": [
       "Validation:   0%|          | 0/4 [00:00<?, ?it/s]"
      ]
     },
     "metadata": {},
     "output_type": "display_data"
    },
    {
     "name": "stdout",
     "output_type": "stream",
     "text": [
      "              precision  recall  f1-score  support\n",
      "airplane           0.07    1.00      0.14        7\n",
      "bare-soil          0.27    0.67      0.39       66\n",
      "buildings          0.23    0.19      0.21       79\n",
      "cars               0.41    0.76      0.53       86\n",
      "chaparral          0.04    0.31      0.07       13\n",
      "court              0.14    0.79      0.24       19\n",
      "dock               0.00    0.00      0.00       10\n",
      "field              0.04    0.67      0.08        6\n",
      "grass              0.48    0.31      0.37      101\n",
      "mobile-home        0.08    0.25      0.12        8\n",
      "pavement           0.84    0.60      0.70      136\n",
      "sand               0.14    0.75      0.24       32\n",
      "sea                0.01    0.08      0.02       12\n",
      "ship               0.00    0.00      0.00       11\n",
      "tanks              0.04    0.42      0.07       12\n",
      "trees              0.49    0.39      0.43      105\n",
      "water              0.00    0.00      0.00       18\n",
      "micro avg          0.20    0.47      0.28      721\n",
      "macro avg          0.19    0.42      0.21      721\n",
      "weighted avg       0.41    0.47      0.39      721\n",
      "samples avg        0.20    0.45      0.27      721\n",
      "Epoch 2/25\n",
      "----------\n"
     ]
    },
    {
     "data": {
      "application/vnd.jupyter.widget-view+json": {
       "model_id": "bbea6066378d4d828c6d91f1fdd68b96",
       "version_major": 2,
       "version_minor": 0
      },
      "text/plain": [
       "Training:   0%|          | 0/23 [00:00<?, ?it/s]"
      ]
     },
     "metadata": {},
     "output_type": "display_data"
    },
    {
     "data": {
      "application/vnd.jupyter.widget-view+json": {
       "model_id": "4d52dcc7bda348ff9cf05b2438600774",
       "version_major": 2,
       "version_minor": 0
      },
      "text/plain": [
       "Validation:   0%|          | 0/4 [00:00<?, ?it/s]"
      ]
     },
     "metadata": {},
     "output_type": "display_data"
    },
    {
     "name": "stdout",
     "output_type": "stream",
     "text": [
      "              precision  recall  f1-score  support\n",
      "airplane           0.02    0.43      0.04        7\n",
      "bare-soil          0.21    0.32      0.25       66\n",
      "buildings          0.32    0.48      0.38       79\n",
      "cars               0.40    0.51      0.45       86\n",
      "chaparral          0.00    0.00      0.00       13\n",
      "court              0.05    0.05      0.05       19\n",
      "dock               0.00    0.00      0.00       10\n",
      "field              0.00    0.00      0.00        6\n",
      "grass              0.47    0.70      0.56      101\n",
      "mobile-home        0.01    0.12      0.02        8\n",
      "pavement           0.79    0.43      0.56      136\n",
      "sand               0.12    0.44      0.19       32\n",
      "sea                0.00    0.00      0.00       12\n",
      "ship               0.06    1.00      0.11       11\n",
      "tanks              0.02    0.25      0.04       12\n",
      "trees              0.52    0.90      0.66      105\n",
      "water              0.00    0.00      0.00       18\n",
      "micro avg          0.21    0.50      0.30      721\n",
      "macro avg          0.18    0.33      0.19      721\n",
      "weighted avg       0.40    0.50      0.41      721\n",
      "samples avg        0.21    0.49      0.29      721\n",
      "Epoch 3/25\n",
      "----------\n"
     ]
    },
    {
     "data": {
      "application/vnd.jupyter.widget-view+json": {
       "model_id": "431a9b86ddf545a19231115035e61485",
       "version_major": 2,
       "version_minor": 0
      },
      "text/plain": [
       "Training:   0%|          | 0/23 [00:00<?, ?it/s]"
      ]
     },
     "metadata": {},
     "output_type": "display_data"
    },
    {
     "data": {
      "application/vnd.jupyter.widget-view+json": {
       "model_id": "3bd0278b113149c39f37a9fcb247bf6a",
       "version_major": 2,
       "version_minor": 0
      },
      "text/plain": [
       "Validation:   0%|          | 0/4 [00:00<?, ?it/s]"
      ]
     },
     "metadata": {},
     "output_type": "display_data"
    },
    {
     "name": "stdout",
     "output_type": "stream",
     "text": [
      "              precision  recall  f1-score  support\n",
      "airplane           0.04    0.86      0.07        7\n",
      "bare-soil          0.28    0.74      0.41       66\n",
      "buildings          0.59    0.59      0.59       79\n",
      "cars               0.14    0.06      0.08       86\n",
      "chaparral          0.11    0.46      0.18       13\n",
      "court              0.04    0.16      0.06       19\n",
      "dock               0.08    0.90      0.16       10\n",
      "field              0.00    0.00      0.00        6\n",
      "grass              0.46    0.38      0.42      101\n",
      "mobile-home        0.11    0.88      0.20        8\n",
      "pavement           0.73    0.51      0.60      136\n",
      "sand               0.18    0.69      0.28       32\n",
      "sea                0.07    0.75      0.13       12\n",
      "ship               0.10    1.00      0.18       11\n",
      "tanks              0.07    0.58      0.12       12\n",
      "trees              0.44    0.24      0.31      105\n",
      "water              0.10    0.83      0.18       18\n",
      "micro avg          0.20    0.45      0.27      721\n",
      "macro avg          0.21    0.57      0.23      721\n",
      "weighted avg       0.39    0.45      0.36      721\n",
      "samples avg        0.20    0.45      0.26      721\n",
      "Epoch 4/25\n",
      "----------\n"
     ]
    },
    {
     "data": {
      "application/vnd.jupyter.widget-view+json": {
       "model_id": "1c8bec21dac54b909a1871e318bbe976",
       "version_major": 2,
       "version_minor": 0
      },
      "text/plain": [
       "Training:   0%|          | 0/23 [00:00<?, ?it/s]"
      ]
     },
     "metadata": {},
     "output_type": "display_data"
    },
    {
     "data": {
      "application/vnd.jupyter.widget-view+json": {
       "model_id": "60a091dc615c4138884ddc38efa09c6f",
       "version_major": 2,
       "version_minor": 0
      },
      "text/plain": [
       "Validation:   0%|          | 0/4 [00:00<?, ?it/s]"
      ]
     },
     "metadata": {},
     "output_type": "display_data"
    },
    {
     "name": "stdout",
     "output_type": "stream",
     "text": [
      "              precision  recall  f1-score  support\n",
      "airplane           0.02    0.57      0.04        7\n",
      "bare-soil          0.26    0.65      0.38       66\n",
      "buildings          0.39    0.54      0.45       79\n",
      "cars               0.28    0.19      0.22       86\n",
      "chaparral          0.00    0.00      0.00       13\n",
      "court              0.05    0.26      0.09       19\n",
      "dock               0.00    0.00      0.00       10\n",
      "field              0.03    1.00      0.06        6\n",
      "grass              0.47    0.42      0.44      101\n",
      "mobile-home        0.05    0.25      0.08        8\n",
      "pavement           0.46    0.38      0.41      136\n",
      "sand               0.16    0.44      0.24       32\n",
      "sea                0.07    0.50      0.13       12\n",
      "ship               0.13    0.91      0.22       11\n",
      "tanks              0.14    0.67      0.23       12\n",
      "trees              0.53    0.89      0.66      105\n",
      "water              0.15    0.94      0.26       18\n",
      "micro avg          0.21    0.50      0.30      721\n",
      "macro avg          0.19    0.51      0.23      721\n",
      "weighted avg       0.35    0.50      0.38      721\n",
      "samples avg        0.21    0.51      0.29      721\n",
      "Epoch 5/25\n",
      "----------\n"
     ]
    },
    {
     "data": {
      "application/vnd.jupyter.widget-view+json": {
       "model_id": "7d805e7a446c474995cd7610d0d4ae6f",
       "version_major": 2,
       "version_minor": 0
      },
      "text/plain": [
       "Training:   0%|          | 0/23 [00:00<?, ?it/s]"
      ]
     },
     "metadata": {},
     "output_type": "display_data"
    },
    {
     "data": {
      "application/vnd.jupyter.widget-view+json": {
       "model_id": "7c43193ec1124c529797232e00781b49",
       "version_major": 2,
       "version_minor": 0
      },
      "text/plain": [
       "Validation:   0%|          | 0/4 [00:00<?, ?it/s]"
      ]
     },
     "metadata": {},
     "output_type": "display_data"
    },
    {
     "name": "stdout",
     "output_type": "stream",
     "text": [
      "              precision  recall  f1-score  support\n",
      "airplane           0.03    0.57      0.05        7\n",
      "bare-soil          0.33    0.68      0.44       66\n",
      "buildings          0.32    0.56      0.40       79\n",
      "cars               0.41    0.31      0.36       86\n",
      "chaparral          0.00    0.00      0.00       13\n",
      "court              0.20    0.16      0.18       19\n",
      "dock               0.14    0.90      0.25       10\n",
      "field              0.01    0.17      0.02        6\n",
      "grass              0.46    0.61      0.53      101\n",
      "mobile-home        0.02    0.50      0.05        8\n",
      "pavement           0.94    0.22      0.36      136\n",
      "sand               0.12    0.25      0.16       32\n",
      "sea                0.03    0.17      0.05       12\n",
      "ship               0.02    0.09      0.03       11\n",
      "tanks              0.07    0.92      0.13       12\n",
      "trees              0.48    0.61      0.54      105\n",
      "water              0.11    0.94      0.20       18\n",
      "micro avg          0.20    0.46      0.28      721\n",
      "macro avg          0.22    0.45      0.22      721\n",
      "weighted avg       0.44    0.46      0.37      721\n",
      "samples avg        0.20    0.45      0.27      721\n",
      "Epoch 6/25\n",
      "----------\n"
     ]
    },
    {
     "data": {
      "application/vnd.jupyter.widget-view+json": {
       "model_id": "0b9142b9a4d941ab979a40c35e7514ee",
       "version_major": 2,
       "version_minor": 0
      },
      "text/plain": [
       "Training:   0%|          | 0/23 [00:00<?, ?it/s]"
      ]
     },
     "metadata": {},
     "output_type": "display_data"
    },
    {
     "data": {
      "application/vnd.jupyter.widget-view+json": {
       "model_id": "108c64cb75454abf8071e84f4e07166f",
       "version_major": 2,
       "version_minor": 0
      },
      "text/plain": [
       "Validation:   0%|          | 0/4 [00:00<?, ?it/s]"
      ]
     },
     "metadata": {},
     "output_type": "display_data"
    },
    {
     "name": "stdout",
     "output_type": "stream",
     "text": [
      "              precision  recall  f1-score  support\n",
      "airplane           0.02    0.57      0.04        7\n",
      "bare-soil          0.31    0.59      0.40       66\n",
      "buildings          0.36    0.47      0.41       79\n",
      "cars               0.40    0.38      0.39       86\n",
      "chaparral          0.12    0.69      0.21       13\n",
      "court              0.00    0.00      0.00       19\n",
      "dock               0.00    0.00      0.00       10\n",
      "field              0.00    0.00      0.00        6\n",
      "grass              0.44    0.81      0.57      101\n",
      "mobile-home        0.02    0.12      0.03        8\n",
      "pavement           0.56    0.29      0.39      136\n",
      "sand               0.20    0.47      0.28       32\n",
      "sea                0.06    0.17      0.09       12\n",
      "ship               0.00    0.00      0.00       11\n",
      "tanks              0.05    0.58      0.09       12\n",
      "trees              0.52    0.50      0.51      105\n",
      "water              0.17    1.00      0.28       18\n",
      "micro avg          0.20    0.47      0.28      721\n",
      "macro avg          0.19    0.39      0.22      721\n",
      "weighted avg       0.38    0.47      0.38      721\n",
      "samples avg        0.20    0.46      0.27      721\n",
      "Epoch 7/25\n",
      "----------\n"
     ]
    },
    {
     "data": {
      "application/vnd.jupyter.widget-view+json": {
       "model_id": "66ff4d5652ea4264b125d55ffdddf240",
       "version_major": 2,
       "version_minor": 0
      },
      "text/plain": [
       "Training:   0%|          | 0/23 [00:00<?, ?it/s]"
      ]
     },
     "metadata": {},
     "output_type": "display_data"
    },
    {
     "data": {
      "application/vnd.jupyter.widget-view+json": {
       "model_id": "ae385f08aa4e4f87b0bd80f78e1f3c97",
       "version_major": 2,
       "version_minor": 0
      },
      "text/plain": [
       "Validation:   0%|          | 0/4 [00:00<?, ?it/s]"
      ]
     },
     "metadata": {},
     "output_type": "display_data"
    },
    {
     "name": "stdout",
     "output_type": "stream",
     "text": [
      "              precision  recall  f1-score  support\n",
      "airplane           0.05    1.00      0.09        7\n",
      "bare-soil          0.33    0.82      0.47       66\n",
      "buildings          0.37    0.42      0.39       79\n",
      "cars               0.46    0.20      0.28       86\n",
      "chaparral          0.00    0.00      0.00       13\n",
      "court              0.00    0.00      0.00       19\n",
      "dock               0.11    1.00      0.19       10\n",
      "field              0.05    1.00      0.10        6\n",
      "grass              0.45    0.37      0.40      101\n",
      "mobile-home        0.03    0.25      0.05        8\n",
      "pavement           0.64    0.67      0.65      136\n",
      "sand               0.15    0.47      0.22       32\n",
      "sea                0.01    0.08      0.02       12\n",
      "ship               0.01    0.09      0.01       11\n",
      "tanks              0.10    0.83      0.18       12\n",
      "trees              0.51    0.50      0.50      105\n",
      "water              0.09    0.61      0.16       18\n",
      "micro avg          0.21    0.48      0.29      721\n",
      "macro avg          0.20    0.49      0.22      721\n",
      "weighted avg       0.40    0.48      0.39      721\n",
      "samples avg        0.21    0.49      0.28      721\n",
      "Epoch 8/25\n",
      "----------\n"
     ]
    },
    {
     "data": {
      "application/vnd.jupyter.widget-view+json": {
       "model_id": "faccd060778a4fa384966af4dd8feb77",
       "version_major": 2,
       "version_minor": 0
      },
      "text/plain": [
       "Training:   0%|          | 0/23 [00:00<?, ?it/s]"
      ]
     },
     "metadata": {},
     "output_type": "display_data"
    },
    {
     "data": {
      "application/vnd.jupyter.widget-view+json": {
       "model_id": "e2c249862a664a1da02c93722dd68c40",
       "version_major": 2,
       "version_minor": 0
      },
      "text/plain": [
       "Validation:   0%|          | 0/4 [00:00<?, ?it/s]"
      ]
     },
     "metadata": {},
     "output_type": "display_data"
    },
    {
     "name": "stdout",
     "output_type": "stream",
     "text": [
      "              precision  recall  f1-score  support\n",
      "airplane           0.04    0.71      0.07        7\n",
      "bare-soil          0.28    0.76      0.41       66\n",
      "buildings          0.38    0.73      0.50       79\n",
      "cars               0.40    0.42      0.41       86\n",
      "chaparral          0.13    1.00      0.23       13\n",
      "court              0.17    0.32      0.22       19\n",
      "dock               0.07    0.40      0.11       10\n",
      "field              0.00    0.00      0.00        6\n",
      "grass              0.47    0.60      0.53      101\n",
      "mobile-home        0.00    0.00      0.00        8\n",
      "pavement           0.48    0.20      0.28      136\n",
      "sand               0.06    0.06      0.06       32\n",
      "sea                0.00    0.00      0.00       12\n",
      "ship               0.04    0.64      0.08       11\n",
      "tanks              0.09    0.83      0.16       12\n",
      "trees              0.50    0.34      0.41      105\n",
      "water              0.10    1.00      0.18       18\n",
      "micro avg          0.20    0.46      0.28      721\n",
      "macro avg          0.19    0.47      0.21      721\n",
      "weighted avg       0.36    0.46      0.35      721\n",
      "samples avg        0.20    0.44      0.27      721\n",
      "Epoch 9/25\n",
      "----------\n"
     ]
    },
    {
     "data": {
      "application/vnd.jupyter.widget-view+json": {
       "model_id": "8c28ebb224d84c0ca98ac13a21bd8516",
       "version_major": 2,
       "version_minor": 0
      },
      "text/plain": [
       "Training:   0%|          | 0/23 [00:00<?, ?it/s]"
      ]
     },
     "metadata": {},
     "output_type": "display_data"
    },
    {
     "data": {
      "application/vnd.jupyter.widget-view+json": {
       "model_id": "fa8a25cd9fb3456b8c19776c1fd1de1c",
       "version_major": 2,
       "version_minor": 0
      },
      "text/plain": [
       "Validation:   0%|          | 0/4 [00:00<?, ?it/s]"
      ]
     },
     "metadata": {},
     "output_type": "display_data"
    },
    {
     "name": "stdout",
     "output_type": "stream",
     "text": [
      "              precision  recall  f1-score  support\n",
      "airplane           0.02    0.57      0.04        7\n",
      "bare-soil          0.20    0.27      0.23       66\n",
      "buildings          0.36    0.44      0.40       79\n",
      "cars               0.38    0.40      0.39       86\n",
      "chaparral          0.00    0.00      0.00       13\n",
      "court              0.04    0.05      0.04       19\n",
      "dock               0.00    0.00      0.00       10\n",
      "field              0.05    0.67      0.09        6\n",
      "grass              0.44    0.43      0.43      101\n",
      "mobile-home        0.03    0.50      0.05        8\n",
      "pavement           0.74    0.47      0.57      136\n",
      "sand               0.18    0.69      0.29       32\n",
      "sea                0.06    0.33      0.10       12\n",
      "ship               0.10    0.91      0.18       11\n",
      "tanks              0.08    0.92      0.15       12\n",
      "trees              0.46    0.48      0.47      105\n",
      "water              0.15    0.89      0.25       18\n",
      "micro avg          0.19    0.44      0.27      721\n",
      "macro avg          0.19    0.47      0.22      721\n",
      "weighted avg       0.39    0.44      0.38      721\n",
      "samples avg        0.19    0.46      0.26      721\n",
      "Epoch 10/25\n",
      "----------\n"
     ]
    },
    {
     "data": {
      "application/vnd.jupyter.widget-view+json": {
       "model_id": "c9abb0bc3a6f4a27b99c8593283dfdf8",
       "version_major": 2,
       "version_minor": 0
      },
      "text/plain": [
       "Training:   0%|          | 0/23 [00:00<?, ?it/s]"
      ]
     },
     "metadata": {},
     "output_type": "display_data"
    },
    {
     "data": {
      "application/vnd.jupyter.widget-view+json": {
       "model_id": "05454fdf6acc4ce7a3c91cc93a0c86b9",
       "version_major": 2,
       "version_minor": 0
      },
      "text/plain": [
       "Validation:   0%|          | 0/4 [00:00<?, ?it/s]"
      ]
     },
     "metadata": {},
     "output_type": "display_data"
    },
    {
     "name": "stdout",
     "output_type": "stream",
     "text": [
      "              precision  recall  f1-score  support\n",
      "airplane           0.05    1.00      0.09        7\n",
      "bare-soil          0.28    0.73      0.41       66\n",
      "buildings          0.26    0.20      0.23       79\n",
      "cars               0.35    0.52      0.42       86\n",
      "chaparral          0.00    0.00      0.00       13\n",
      "court              0.08    0.16      0.10       19\n",
      "dock               0.08    1.00      0.15       10\n",
      "field              0.00    0.00      0.00        6\n",
      "grass              0.56    0.31      0.40      101\n",
      "mobile-home        0.03    0.50      0.06        8\n",
      "pavement           0.79    0.42      0.55      136\n",
      "sand               0.09    0.38      0.15       32\n",
      "sea                0.06    0.42      0.11       12\n",
      "ship               0.00    0.00      0.00       11\n",
      "tanks              0.04    0.58      0.07       12\n",
      "trees              0.52    0.32      0.40      105\n",
      "water              0.10    0.56      0.16       18\n",
      "micro avg          0.17    0.40      0.24      721\n",
      "macro avg          0.19    0.42      0.19      721\n",
      "weighted avg       0.41    0.40      0.35      721\n",
      "samples avg        0.17    0.37      0.23      721\n",
      "Epoch 11/25\n",
      "----------\n"
     ]
    },
    {
     "data": {
      "application/vnd.jupyter.widget-view+json": {
       "model_id": "e37643b7f6474556bb95ab27287ee194",
       "version_major": 2,
       "version_minor": 0
      },
      "text/plain": [
       "Training:   0%|          | 0/23 [00:00<?, ?it/s]"
      ]
     },
     "metadata": {},
     "output_type": "display_data"
    },
    {
     "data": {
      "application/vnd.jupyter.widget-view+json": {
       "model_id": "03255ad99fd44a0ca55a96fa0e1838bd",
       "version_major": 2,
       "version_minor": 0
      },
      "text/plain": [
       "Validation:   0%|          | 0/4 [00:00<?, ?it/s]"
      ]
     },
     "metadata": {},
     "output_type": "display_data"
    },
    {
     "name": "stdout",
     "output_type": "stream",
     "text": [
      "              precision  recall  f1-score  support\n",
      "airplane           0.04    1.00      0.08        7\n",
      "bare-soil          0.30    0.53      0.38       66\n",
      "buildings          0.36    0.35      0.36       79\n",
      "cars               0.40    0.31      0.35       86\n",
      "chaparral          0.08    0.54      0.13       13\n",
      "court              0.10    0.37      0.16       19\n",
      "dock               0.00    0.00      0.00       10\n",
      "field              0.00    0.00      0.00        6\n",
      "grass              0.46    0.47      0.46      101\n",
      "mobile-home        0.05    0.75      0.09        8\n",
      "pavement           0.63    0.60      0.61      136\n",
      "sand               0.19    0.84      0.31       32\n",
      "sea                0.10    0.83      0.18       12\n",
      "ship               0.02    0.09      0.04       11\n",
      "tanks              0.02    0.08      0.03       12\n",
      "trees              0.49    0.51      0.50      105\n",
      "water              0.14    0.56      0.22       18\n",
      "micro avg          0.21    0.48      0.29      721\n",
      "macro avg          0.20    0.46      0.23      721\n",
      "weighted avg       0.39    0.48      0.40      721\n",
      "samples avg        0.21    0.47      0.28      721\n",
      "Epoch 12/25\n",
      "----------\n"
     ]
    },
    {
     "data": {
      "application/vnd.jupyter.widget-view+json": {
       "model_id": "d03b59a10df54ded87380945eaf5b9f5",
       "version_major": 2,
       "version_minor": 0
      },
      "text/plain": [
       "Training:   0%|          | 0/23 [00:00<?, ?it/s]"
      ]
     },
     "metadata": {},
     "output_type": "display_data"
    },
    {
     "data": {
      "application/vnd.jupyter.widget-view+json": {
       "model_id": "4fd5d2edf8b14736af17187876b6da2f",
       "version_major": 2,
       "version_minor": 0
      },
      "text/plain": [
       "Validation:   0%|          | 0/4 [00:00<?, ?it/s]"
      ]
     },
     "metadata": {},
     "output_type": "display_data"
    },
    {
     "name": "stdout",
     "output_type": "stream",
     "text": [
      "              precision  recall  f1-score  support\n",
      "airplane           0.03    0.71      0.06        7\n",
      "bare-soil          0.28    0.74      0.40       66\n",
      "buildings          0.44    0.53      0.48       79\n",
      "cars               0.49    0.38      0.43       86\n",
      "chaparral          0.07    0.46      0.12       13\n",
      "court              0.10    0.53      0.16       19\n",
      "dock               0.08    0.90      0.15       10\n",
      "field              0.00    0.00      0.00        6\n",
      "grass              0.53    0.28      0.36      101\n",
      "mobile-home        0.03    0.38      0.05        8\n",
      "pavement           0.73    0.50      0.59      136\n",
      "sand               0.00    0.00      0.00       32\n",
      "sea                0.05    0.58      0.09       12\n",
      "ship               0.02    0.09      0.03       11\n",
      "tanks              0.00    0.00      0.00       12\n",
      "trees              0.56    0.61      0.58      105\n",
      "water              0.19    0.78      0.30       18\n",
      "micro avg          0.20    0.47      0.28      721\n",
      "macro avg          0.21    0.44      0.22      721\n",
      "weighted avg       0.44    0.47      0.41      721\n",
      "samples avg        0.20    0.46      0.27      721\n",
      "Epoch 13/25\n",
      "----------\n"
     ]
    },
    {
     "data": {
      "application/vnd.jupyter.widget-view+json": {
       "model_id": "3ecb54a180994c398321556fab50afb3",
       "version_major": 2,
       "version_minor": 0
      },
      "text/plain": [
       "Training:   0%|          | 0/23 [00:00<?, ?it/s]"
      ]
     },
     "metadata": {},
     "output_type": "display_data"
    },
    {
     "data": {
      "application/vnd.jupyter.widget-view+json": {
       "model_id": "dfb86a94239a4b989a30a9425d01f15d",
       "version_major": 2,
       "version_minor": 0
      },
      "text/plain": [
       "Validation:   0%|          | 0/4 [00:00<?, ?it/s]"
      ]
     },
     "metadata": {},
     "output_type": "display_data"
    },
    {
     "name": "stdout",
     "output_type": "stream",
     "text": [
      "              precision  recall  f1-score  support\n",
      "airplane           0.04    1.00      0.09        7\n",
      "bare-soil          0.30    0.82      0.44       66\n",
      "buildings          0.64    0.27      0.38       79\n",
      "cars               0.44    0.67      0.53       86\n",
      "chaparral          0.02    0.15      0.03       13\n",
      "court              0.12    0.84      0.21       19\n",
      "dock               0.08    0.90      0.15       10\n",
      "field              0.04    1.00      0.08        6\n",
      "grass              0.44    0.55      0.49      101\n",
      "mobile-home        0.12    0.88      0.21        8\n",
      "pavement           0.68    0.40      0.50      136\n",
      "sand               0.11    0.22      0.14       32\n",
      "sea                0.11    0.92      0.20       12\n",
      "ship               0.04    0.09      0.05       11\n",
      "tanks              0.07    0.08      0.08       12\n",
      "trees              0.56    0.71      0.63      105\n",
      "water              0.16    0.67      0.26       18\n",
      "micro avg          0.24    0.55      0.33      721\n",
      "macro avg          0.23    0.60      0.26      721\n",
      "weighted avg       0.44    0.55      0.43      721\n",
      "samples avg        0.24    0.57      0.32      721\n",
      "Epoch 14/25\n",
      "----------\n"
     ]
    },
    {
     "data": {
      "application/vnd.jupyter.widget-view+json": {
       "model_id": "2026519b1b3d435d90872d6c0dbc12a1",
       "version_major": 2,
       "version_minor": 0
      },
      "text/plain": [
       "Training:   0%|          | 0/23 [00:00<?, ?it/s]"
      ]
     },
     "metadata": {},
     "output_type": "display_data"
    },
    {
     "data": {
      "application/vnd.jupyter.widget-view+json": {
       "model_id": "043fb679cfea439282bc9c7e5a2be7c2",
       "version_major": 2,
       "version_minor": 0
      },
      "text/plain": [
       "Validation:   0%|          | 0/4 [00:00<?, ?it/s]"
      ]
     },
     "metadata": {},
     "output_type": "display_data"
    },
    {
     "name": "stdout",
     "output_type": "stream",
     "text": [
      "              precision  recall  f1-score  support\n",
      "airplane           0.02    0.57      0.04        7\n",
      "bare-soil          0.30    0.79      0.44       66\n",
      "buildings          0.41    0.33      0.37       79\n",
      "cars               0.48    0.49      0.49       86\n",
      "chaparral          0.00    0.00      0.00       13\n",
      "court              0.09    0.47      0.15       19\n",
      "dock               0.08    0.50      0.14       10\n",
      "field              0.00    0.00      0.00        6\n",
      "grass              0.25    0.15      0.19      101\n",
      "mobile-home        0.02    0.12      0.03        8\n",
      "pavement           0.65    0.47      0.54      136\n",
      "sand               0.20    0.56      0.30       32\n",
      "sea                0.06    0.75      0.10       12\n",
      "ship               0.07    1.00      0.12       11\n",
      "tanks              0.07    0.33      0.12       12\n",
      "trees              0.53    0.46      0.49      105\n",
      "water              0.21    0.89      0.34       18\n",
      "micro avg          0.19    0.45      0.27      721\n",
      "macro avg          0.20    0.46      0.23      721\n",
      "weighted avg       0.39    0.45      0.37      721\n",
      "samples avg        0.19    0.48      0.27      721\n",
      "Epoch 15/25\n",
      "----------\n"
     ]
    },
    {
     "data": {
      "application/vnd.jupyter.widget-view+json": {
       "model_id": "fbb9ed1b50494bcb9603336b2c9ed8ea",
       "version_major": 2,
       "version_minor": 0
      },
      "text/plain": [
       "Training:   0%|          | 0/23 [00:00<?, ?it/s]"
      ]
     },
     "metadata": {},
     "output_type": "display_data"
    },
    {
     "data": {
      "application/vnd.jupyter.widget-view+json": {
       "model_id": "053983ee16ce4af996d052355d71b2ae",
       "version_major": 2,
       "version_minor": 0
      },
      "text/plain": [
       "Validation:   0%|          | 0/4 [00:00<?, ?it/s]"
      ]
     },
     "metadata": {},
     "output_type": "display_data"
    },
    {
     "name": "stdout",
     "output_type": "stream",
     "text": [
      "              precision  recall  f1-score  support\n",
      "airplane           0.04    1.00      0.07        7\n",
      "bare-soil          0.26    0.62      0.37       66\n",
      "buildings          0.44    0.39      0.42       79\n",
      "cars               0.38    0.45      0.41       86\n",
      "chaparral          0.01    0.08      0.02       13\n",
      "court              0.08    0.37      0.13       19\n",
      "dock               0.01    0.10      0.03       10\n",
      "field              0.00    0.00      0.00        6\n",
      "grass              0.36    0.33      0.34      101\n",
      "mobile-home        0.03    0.38      0.06        8\n",
      "pavement           0.81    0.57      0.67      136\n",
      "sand               0.09    0.34      0.14       32\n",
      "sea                0.00    0.00      0.00       12\n",
      "ship               0.05    0.82      0.10       11\n",
      "tanks              0.07    0.50      0.12       12\n",
      "trees              0.52    0.29      0.37      105\n",
      "water              0.14    0.56      0.22       18\n",
      "micro avg          0.18    0.42      0.25      721\n",
      "macro avg          0.19    0.40      0.20      721\n",
      "weighted avg       0.41    0.42      0.38      721\n",
      "samples avg        0.18    0.39      0.24      721\n",
      "Epoch 16/25\n",
      "----------\n"
     ]
    },
    {
     "data": {
      "application/vnd.jupyter.widget-view+json": {
       "model_id": "3156d46c8f314147ac7dcca255bdab65",
       "version_major": 2,
       "version_minor": 0
      },
      "text/plain": [
       "Training:   0%|          | 0/23 [00:00<?, ?it/s]"
      ]
     },
     "metadata": {},
     "output_type": "display_data"
    },
    {
     "data": {
      "application/vnd.jupyter.widget-view+json": {
       "model_id": "c33c140c3c0d489b9d6947256522252c",
       "version_major": 2,
       "version_minor": 0
      },
      "text/plain": [
       "Validation:   0%|          | 0/4 [00:00<?, ?it/s]"
      ]
     },
     "metadata": {},
     "output_type": "display_data"
    },
    {
     "name": "stdout",
     "output_type": "stream",
     "text": [
      "              precision  recall  f1-score  support\n",
      "airplane           0.04    1.00      0.07        7\n",
      "bare-soil          0.29    0.76      0.42       66\n",
      "buildings          0.54    0.16      0.25       79\n",
      "cars               0.43    0.84      0.57       86\n",
      "chaparral          0.01    0.08      0.02       13\n",
      "court              0.07    0.37      0.11       19\n",
      "dock               0.08    0.50      0.14       10\n",
      "field              0.00    0.00      0.00        6\n",
      "grass              0.60    0.24      0.34      101\n",
      "mobile-home        0.04    0.12      0.06        8\n",
      "pavement           0.60    0.68      0.64      136\n",
      "sand               0.09    0.12      0.10       32\n",
      "sea                0.02    0.25      0.04       12\n",
      "ship               0.04    0.55      0.08       11\n",
      "tanks              0.06    0.42      0.11       12\n",
      "trees              0.50    0.49      0.50      105\n",
      "water              0.12    0.22      0.15       18\n",
      "micro avg          0.21    0.48      0.29      721\n",
      "macro avg          0.21    0.40      0.21      721\n",
      "weighted avg       0.42    0.48      0.39      721\n",
      "samples avg        0.21    0.46      0.28      721\n",
      "Epoch 17/25\n",
      "----------\n"
     ]
    },
    {
     "data": {
      "application/vnd.jupyter.widget-view+json": {
       "model_id": "690336abe765481a8ac9d14f2cc32b68",
       "version_major": 2,
       "version_minor": 0
      },
      "text/plain": [
       "Training:   0%|          | 0/23 [00:00<?, ?it/s]"
      ]
     },
     "metadata": {},
     "output_type": "display_data"
    },
    {
     "data": {
      "application/vnd.jupyter.widget-view+json": {
       "model_id": "3def51a708ea4e0f814c62a4c0cf7be2",
       "version_major": 2,
       "version_minor": 0
      },
      "text/plain": [
       "Validation:   0%|          | 0/4 [00:00<?, ?it/s]"
      ]
     },
     "metadata": {},
     "output_type": "display_data"
    },
    {
     "name": "stdout",
     "output_type": "stream",
     "text": [
      "              precision  recall  f1-score  support\n",
      "airplane           0.04    1.00      0.07        7\n",
      "bare-soil          0.32    0.62      0.42       66\n",
      "buildings          0.61    0.59      0.60       79\n",
      "cars               0.32    0.24      0.28       86\n",
      "chaparral          0.04    0.31      0.07       13\n",
      "court              0.11    0.58      0.18       19\n",
      "dock               0.01    0.10      0.02       10\n",
      "field              0.00    0.00      0.00        6\n",
      "grass              0.43    0.41      0.42      101\n",
      "mobile-home        0.02    0.12      0.03        8\n",
      "pavement           0.67    0.33      0.44      136\n",
      "sand               0.12    0.31      0.17       32\n",
      "sea                0.00    0.00      0.00       12\n",
      "ship               0.09    0.91      0.16       11\n",
      "tanks              0.02    0.17      0.04       12\n",
      "trees              0.41    0.56      0.48      105\n",
      "water              0.14    0.61      0.23       18\n",
      "micro avg          0.19    0.43      0.26      721\n",
      "macro avg          0.20    0.40      0.21      721\n",
      "weighted avg       0.40    0.43      0.37      721\n",
      "samples avg        0.19    0.42      0.25      721\n",
      "Epoch 18/25\n",
      "----------\n"
     ]
    },
    {
     "data": {
      "application/vnd.jupyter.widget-view+json": {
       "model_id": "582e9e8a2875461ea378c7e0d178b876",
       "version_major": 2,
       "version_minor": 0
      },
      "text/plain": [
       "Training:   0%|          | 0/23 [00:00<?, ?it/s]"
      ]
     },
     "metadata": {},
     "output_type": "display_data"
    },
    {
     "data": {
      "application/vnd.jupyter.widget-view+json": {
       "model_id": "d56a30019e544407be1bc9ef32bc4994",
       "version_major": 2,
       "version_minor": 0
      },
      "text/plain": [
       "Validation:   0%|          | 0/4 [00:00<?, ?it/s]"
      ]
     },
     "metadata": {},
     "output_type": "display_data"
    },
    {
     "name": "stdout",
     "output_type": "stream",
     "text": [
      "              precision  recall  f1-score  support\n",
      "airplane           0.05    1.00      0.09        7\n",
      "bare-soil          0.26    0.59      0.36       66\n",
      "buildings          0.35    0.22      0.27       79\n",
      "cars               0.37    0.36      0.37       86\n",
      "chaparral          0.05    0.38      0.09       13\n",
      "court              0.09    0.58      0.15       19\n",
      "dock               0.00    0.00      0.00       10\n",
      "field              0.00    0.00      0.00        6\n",
      "grass              0.56    0.34      0.42      101\n",
      "mobile-home        0.04    0.75      0.08        8\n",
      "pavement           0.77    0.56      0.65      136\n",
      "sand               0.06    0.09      0.07       32\n",
      "sea                0.05    0.33      0.08       12\n",
      "ship               0.08    0.91      0.16       11\n",
      "tanks              0.06    0.42      0.10       12\n",
      "trees              0.48    0.76      0.59      105\n",
      "water              0.15    0.94      0.26       18\n",
      "micro avg          0.21    0.48      0.29      721\n",
      "macro avg          0.20    0.48      0.22      721\n",
      "weighted avg       0.41    0.48      0.40      721\n",
      "samples avg        0.21    0.45      0.28      721\n",
      "Epoch 19/25\n",
      "----------\n"
     ]
    },
    {
     "data": {
      "application/vnd.jupyter.widget-view+json": {
       "model_id": "8bada8a705404d00a3619990a61421bf",
       "version_major": 2,
       "version_minor": 0
      },
      "text/plain": [
       "Training:   0%|          | 0/23 [00:00<?, ?it/s]"
      ]
     },
     "metadata": {},
     "output_type": "display_data"
    },
    {
     "data": {
      "application/vnd.jupyter.widget-view+json": {
       "model_id": "46c03f85959e471ca4404d8aa154c7fb",
       "version_major": 2,
       "version_minor": 0
      },
      "text/plain": [
       "Validation:   0%|          | 0/4 [00:00<?, ?it/s]"
      ]
     },
     "metadata": {},
     "output_type": "display_data"
    },
    {
     "name": "stdout",
     "output_type": "stream",
     "text": [
      "              precision  recall  f1-score  support\n",
      "airplane           0.02    0.57      0.04        7\n",
      "bare-soil          0.32    0.76      0.45       66\n",
      "buildings          0.42    0.61      0.50       79\n",
      "cars               0.30    0.31      0.31       86\n",
      "chaparral          0.05    0.08      0.06       13\n",
      "court              0.14    0.74      0.24       19\n",
      "dock               0.11    1.00      0.21       10\n",
      "field              0.03    1.00      0.06        6\n",
      "grass              0.46    0.76      0.57      101\n",
      "mobile-home        0.00    0.00      0.00        8\n",
      "pavement           0.79    0.56      0.66      136\n",
      "sand               0.17    0.62      0.26       32\n",
      "sea                0.04    0.17      0.06       12\n",
      "ship               0.14    1.00      0.25       11\n",
      "tanks              0.09    0.75      0.17       12\n",
      "trees              0.48    0.30      0.36      105\n",
      "water              0.00    0.00      0.00       18\n",
      "micro avg          0.23    0.54      0.32      721\n",
      "macro avg          0.21    0.54      0.25      721\n",
      "weighted avg       0.41    0.54      0.42      721\n",
      "samples avg        0.23    0.53      0.31      721\n",
      "Epoch 20/25\n",
      "----------\n"
     ]
    },
    {
     "data": {
      "application/vnd.jupyter.widget-view+json": {
       "model_id": "517865c1d669419eacfa68148d899793",
       "version_major": 2,
       "version_minor": 0
      },
      "text/plain": [
       "Training:   0%|          | 0/23 [00:00<?, ?it/s]"
      ]
     },
     "metadata": {},
     "output_type": "display_data"
    },
    {
     "data": {
      "application/vnd.jupyter.widget-view+json": {
       "model_id": "55499b310b6949368f374739b1ba4673",
       "version_major": 2,
       "version_minor": 0
      },
      "text/plain": [
       "Validation:   0%|          | 0/4 [00:00<?, ?it/s]"
      ]
     },
     "metadata": {},
     "output_type": "display_data"
    },
    {
     "name": "stdout",
     "output_type": "stream",
     "text": [
      "              precision  recall  f1-score  support\n",
      "airplane           0.03    0.71      0.05        7\n",
      "bare-soil          0.28    0.52      0.36       66\n",
      "buildings          0.37    0.48      0.42       79\n",
      "cars               0.34    0.43      0.38       86\n",
      "chaparral          0.06    0.46      0.11       13\n",
      "court              0.10    0.53      0.17       19\n",
      "dock               0.08    0.70      0.14       10\n",
      "field              0.00    0.00      0.00        6\n",
      "grass              0.41    0.40      0.40      101\n",
      "mobile-home        0.09    0.50      0.15        8\n",
      "pavement           0.68    0.49      0.57      136\n",
      "sand               0.07    0.16      0.10       32\n",
      "sea                0.08    0.67      0.15       12\n",
      "ship               0.04    0.36      0.07       11\n",
      "tanks              0.06    0.33      0.11       12\n",
      "trees              0.53    0.74      0.62      105\n",
      "water              0.04    0.11      0.06       18\n",
      "micro avg          0.21    0.48      0.29      721\n",
      "macro avg          0.19    0.45      0.23      721\n",
      "weighted avg       0.38    0.48      0.40      721\n",
      "samples avg        0.21    0.46      0.28      721\n",
      "Epoch 21/25\n",
      "----------\n"
     ]
    },
    {
     "data": {
      "application/vnd.jupyter.widget-view+json": {
       "model_id": "077bc49464a742bd81ecf5aea6da91f2",
       "version_major": 2,
       "version_minor": 0
      },
      "text/plain": [
       "Training:   0%|          | 0/23 [00:00<?, ?it/s]"
      ]
     },
     "metadata": {},
     "output_type": "display_data"
    },
    {
     "data": {
      "application/vnd.jupyter.widget-view+json": {
       "model_id": "4b591c827f1d41408d93f937a7db0c29",
       "version_major": 2,
       "version_minor": 0
      },
      "text/plain": [
       "Validation:   0%|          | 0/4 [00:00<?, ?it/s]"
      ]
     },
     "metadata": {},
     "output_type": "display_data"
    },
    {
     "name": "stdout",
     "output_type": "stream",
     "text": [
      "              precision  recall  f1-score  support\n",
      "airplane           0.04    1.00      0.08        7\n",
      "bare-soil          0.29    0.59      0.39       66\n",
      "buildings          0.51    0.67      0.58       79\n",
      "cars               0.53    0.70      0.60       86\n",
      "chaparral          0.08    0.69      0.14       13\n",
      "court              0.04    0.16      0.07       19\n",
      "dock               0.07    0.40      0.12       10\n",
      "field              0.04    1.00      0.07        6\n",
      "grass              0.67    0.45      0.54      101\n",
      "mobile-home        0.03    0.50      0.06        8\n",
      "pavement           0.36    0.24      0.28      136\n",
      "sand               0.12    0.38      0.18       32\n",
      "sea                0.04    0.25      0.07       12\n",
      "ship               0.08    0.64      0.14       11\n",
      "tanks              0.14    0.58      0.22       12\n",
      "trees              0.37    0.31      0.34      105\n",
      "water              0.11    0.39      0.17       18\n",
      "micro avg          0.20    0.46      0.28      721\n",
      "macro avg          0.21    0.53      0.24      721\n",
      "weighted avg       0.38    0.46      0.38      721\n",
      "samples avg        0.20    0.49      0.27      721\n",
      "Epoch 22/25\n",
      "----------\n"
     ]
    },
    {
     "data": {
      "application/vnd.jupyter.widget-view+json": {
       "model_id": "0907b36d026d46e3b4632c0defe77904",
       "version_major": 2,
       "version_minor": 0
      },
      "text/plain": [
       "Training:   0%|          | 0/23 [00:00<?, ?it/s]"
      ]
     },
     "metadata": {},
     "output_type": "display_data"
    },
    {
     "data": {
      "application/vnd.jupyter.widget-view+json": {
       "model_id": "ea422bd82f384ca083e45a28dcb62598",
       "version_major": 2,
       "version_minor": 0
      },
      "text/plain": [
       "Validation:   0%|          | 0/4 [00:00<?, ?it/s]"
      ]
     },
     "metadata": {},
     "output_type": "display_data"
    },
    {
     "name": "stdout",
     "output_type": "stream",
     "text": [
      "              precision  recall  f1-score  support\n",
      "airplane           0.03    0.57      0.06        7\n",
      "bare-soil          0.35    0.61      0.44       66\n",
      "buildings          0.35    0.68      0.46       79\n",
      "cars               0.41    0.65      0.50       86\n",
      "chaparral          0.00    0.00      0.00       13\n",
      "court              0.07    0.21      0.10       19\n",
      "dock               0.08    0.50      0.14       10\n",
      "field              0.01    0.17      0.02        6\n",
      "grass              0.45    0.59      0.51      101\n",
      "mobile-home        0.02    0.12      0.03        8\n",
      "pavement           0.53    0.26      0.35      136\n",
      "sand               0.07    0.19      0.10       32\n",
      "sea                0.11    1.00      0.20       12\n",
      "ship               0.06    0.36      0.10       11\n",
      "tanks              0.06    0.83      0.11       12\n",
      "trees              0.41    0.47      0.44      105\n",
      "water              0.13    0.61      0.21       18\n",
      "micro avg          0.21    0.49      0.29      721\n",
      "macro avg          0.18    0.46      0.22      721\n",
      "weighted avg       0.35    0.49      0.37      721\n",
      "samples avg        0.21    0.46      0.28      721\n",
      "Epoch 23/25\n",
      "----------\n"
     ]
    },
    {
     "data": {
      "application/vnd.jupyter.widget-view+json": {
       "model_id": "5a59a09298e94eb28e8f5f7a8554cb98",
       "version_major": 2,
       "version_minor": 0
      },
      "text/plain": [
       "Training:   0%|          | 0/23 [00:00<?, ?it/s]"
      ]
     },
     "metadata": {},
     "output_type": "display_data"
    },
    {
     "data": {
      "application/vnd.jupyter.widget-view+json": {
       "model_id": "d95b698e05bb482ab264dbc3d1edad41",
       "version_major": 2,
       "version_minor": 0
      },
      "text/plain": [
       "Validation:   0%|          | 0/4 [00:00<?, ?it/s]"
      ]
     },
     "metadata": {},
     "output_type": "display_data"
    },
    {
     "name": "stdout",
     "output_type": "stream",
     "text": [
      "              precision  recall  f1-score  support\n",
      "airplane           0.03    0.29      0.05        7\n",
      "bare-soil          0.30    0.73      0.43       66\n",
      "buildings          0.40    0.82      0.53       79\n",
      "cars               0.64    0.73      0.68       86\n",
      "chaparral          0.07    0.23      0.11       13\n",
      "court              0.00    0.00      0.00       19\n",
      "dock               0.00    0.00      0.00       10\n",
      "field              0.13    1.00      0.23        6\n",
      "grass              0.55    0.60      0.58      101\n",
      "mobile-home        0.04    0.88      0.08        8\n",
      "pavement           0.70    0.28      0.40      136\n",
      "sand               0.22    0.59      0.32       32\n",
      "sea                0.00    0.00      0.00       12\n",
      "ship               0.06    1.00      0.11       11\n",
      "tanks              0.02    0.25      0.04       12\n",
      "trees              0.49    0.77      0.60      105\n",
      "water              0.12    0.78      0.22       18\n",
      "micro avg          0.25    0.58      0.35      721\n",
      "macro avg          0.22    0.53      0.26      721\n",
      "weighted avg       0.45    0.58      0.45      721\n",
      "samples avg        0.25    0.55      0.33      721\n",
      "Epoch 24/25\n",
      "----------\n"
     ]
    },
    {
     "data": {
      "application/vnd.jupyter.widget-view+json": {
       "model_id": "206c06f683f748f0824bc77a8203199e",
       "version_major": 2,
       "version_minor": 0
      },
      "text/plain": [
       "Training:   0%|          | 0/23 [00:00<?, ?it/s]"
      ]
     },
     "metadata": {},
     "output_type": "display_data"
    },
    {
     "data": {
      "application/vnd.jupyter.widget-view+json": {
       "model_id": "618d172657af47ae81859f5d27ad39f8",
       "version_major": 2,
       "version_minor": 0
      },
      "text/plain": [
       "Validation:   0%|          | 0/4 [00:00<?, ?it/s]"
      ]
     },
     "metadata": {},
     "output_type": "display_data"
    },
    {
     "name": "stdout",
     "output_type": "stream",
     "text": [
      "              precision  recall  f1-score  support\n",
      "airplane           0.06    1.00      0.11        7\n",
      "bare-soil          0.29    0.77      0.42       66\n",
      "buildings          0.52    0.22      0.30       79\n",
      "cars               0.43    0.41      0.42       86\n",
      "chaparral          0.13    0.85      0.23       13\n",
      "court              0.13    0.68      0.21       19\n",
      "dock               0.00    0.00      0.00       10\n",
      "field              0.00    0.00      0.00        6\n",
      "grass              0.50    0.56      0.53      101\n",
      "mobile-home        0.07    1.00      0.13        8\n",
      "pavement           0.50    0.23      0.31      136\n",
      "sand               0.31    0.84      0.45       32\n",
      "sea                0.18    0.75      0.30       12\n",
      "ship               0.03    0.18      0.05       11\n",
      "tanks              0.03    0.42      0.06       12\n",
      "trees              0.46    0.59      0.52      105\n",
      "water              0.12    1.00      0.21       18\n",
      "micro avg          0.21    0.49      0.29      721\n",
      "macro avg          0.22    0.56      0.25      721\n",
      "weighted avg       0.39    0.49      0.37      721\n",
      "samples avg        0.21    0.48      0.28      721\n",
      "Epoch 25/25\n",
      "----------\n"
     ]
    },
    {
     "data": {
      "application/vnd.jupyter.widget-view+json": {
       "model_id": "81e36026f27b49b287bd60cd3c794861",
       "version_major": 2,
       "version_minor": 0
      },
      "text/plain": [
       "Training:   0%|          | 0/23 [00:00<?, ?it/s]"
      ]
     },
     "metadata": {},
     "output_type": "display_data"
    },
    {
     "data": {
      "application/vnd.jupyter.widget-view+json": {
       "model_id": "c9880ae4312048678b875fcb667d001e",
       "version_major": 2,
       "version_minor": 0
      },
      "text/plain": [
       "Validation:   0%|          | 0/4 [00:00<?, ?it/s]"
      ]
     },
     "metadata": {},
     "output_type": "display_data"
    },
    {
     "name": "stdout",
     "output_type": "stream",
     "text": [
      "              precision  recall  f1-score  support\n",
      "airplane           0.03    0.57      0.05        7\n",
      "bare-soil          0.33    0.92      0.48       66\n",
      "buildings          0.37    0.63      0.47       79\n",
      "cars               0.47    0.76      0.58       86\n",
      "chaparral          0.03    0.31      0.06       13\n",
      "court              0.11    0.79      0.19       19\n",
      "dock               0.00    0.00      0.00       10\n",
      "field              0.12    1.00      0.21        6\n",
      "grass              0.38    0.15      0.21      101\n",
      "mobile-home        0.02    0.38      0.04        8\n",
      "pavement           0.47    0.30      0.37      136\n",
      "sand               0.10    0.28      0.15       32\n",
      "sea                0.10    0.58      0.17       12\n",
      "ship               0.00    0.00      0.00       11\n",
      "tanks              0.07    0.25      0.11       12\n",
      "trees              0.29    0.08      0.12      105\n",
      "water              0.09    1.00      0.17       18\n",
      "micro avg          0.18    0.43      0.26      721\n",
      "macro avg          0.17    0.47      0.20      721\n",
      "weighted avg       0.32    0.43      0.31      721\n",
      "samples avg        0.18    0.44      0.25      721\n"
     ]
    }
   ],
   "source": [
    "avg_precision, train_loss, val_loss = [], [], []\n",
    "\n",
    "best_model, train_losses, val_losses, accuracy_scores, avg_precision_score = train(\n",
    "    model,\n",
    "    train_loader,\n",
    "    val_loader,\n",
    "    optimizer,\n",
    "    criterion,\n",
    "    epochs=25,\n",
    "    device=cuda_device,\n",
    ")\n",
    "eval_accuracies.append(accuracy_scores)\n"
   ]
  },
  {
   "cell_type": "code",
   "execution_count": 30,
   "id": "b9756b4c-fbc6-4b07-9935-7a524730ea9c",
   "metadata": {
    "execution": {
     "iopub.execute_input": "2022-07-17T01:26:25.774253Z",
     "iopub.status.busy": "2022-07-17T01:26:25.773245Z",
     "iopub.status.idle": "2022-07-17T01:26:25.987452Z",
     "shell.execute_reply": "2022-07-17T01:26:25.986137Z",
     "shell.execute_reply.started": "2022-07-17T01:26:25.774221Z"
    }
   },
   "outputs": [
    {
     "data": {
      "text/plain": [
       "<matplotlib.legend.Legend at 0x7f27ece1aca0>"
      ]
     },
     "execution_count": 30,
     "metadata": {},
     "output_type": "execute_result"
    },
    {
     "data": {
      "image/png": "[encoded data removed]",
      "text/plain": [
       "<Figure size 432x288 with 1 Axes>"
      ]
     },
     "metadata": {
      "needs_background": "light"
     },
     "output_type": "display_data"
    }
   ],
   "source": [
    "import pandas as pd\n",
    "import seaborn as sns\n",
    "import matplotlib.pyplot as plt\n",
    "from matplotlib.ticker import MaxNLocator\n",
    "\n",
    "\n",
    "# Training loss and validation loss plot\n",
    "avg_prec, train_loss, val_loss, epoch = [], [], [], []\n",
    "train_loss.append(train_losses)\n",
    "val_loss.append(val_losses)\n",
    "avg_prec.append(avg_precision_score)\n",
    "\n",
    "\n",
    "    \n",
    "fig, ax = plt.subplots(1, 1)\n",
    "ax.xaxis.set_major_locator(MaxNLocator(integer=True))\n",
    "ax.plot(np.arange(1, len(train_loss[0]) + 1), train_loss[0], color = 'red', label= \"Training Loss\")\n",
    "ax.plot(np.arange(1, len(val_loss[0]) + 1), val_loss[0], color = 'blue', label=\"Validation Loss\")\n",
    "ax.plot(np.arange(1, len(avg_prec[0]) + 1), avg_prec[0], color = 'Green', label=\"Average Precision Score\")\n",
    "ax.set_xlabel(\"epochs\")\n",
    "ax.set_ylabel(\"accuracy\")\n",
    "ax.legend()\n",
    "\n",
    "\n",
    "  \n"
   ]
  },
  {
   "cell_type": "markdown",
   "id": "673025f8-275c-4119-96c6-68e374898677",
   "metadata": {},
   "source": [
    " Explain training loss and validation loss, accuracy, all these parameter and how they effect your result\n",
    " \n",
    "We get the following results, when we don't apply any Data Augmentation techniques. We can see that our model doesn't really do well. Every though the training error is decreasing, and validation error fluctuates and keep on changing. There is a high chance that our model might overfit.\n",
    "This can be due to the fact that we only provide 10% data to validation which is 210 images. These are not enough for the model to do well in validation. Moreover, since we randomly distributed images, there is a chance that images from some classes weren't providedto valdiation data.\n",
    "Our average precision score hence model isn't doing well. Hence, in order to reduce validation error and make sure we don't overfit, we will introduce various Data Augmentation techniques. We will see how our model does when these Data Augmentation techniques are applied\n",
    "\n",
    "<font color='red'>Check why you accuracy remains the same</font> <br>\n",
    "<font color='red'>Also explain how these f1 score and other thing explain your model</font> <br>\n",
    "<font color='red'>Support the presentation of your results by plotting meaningful\n",
    "graphs, confusions matrix as well as sample images for the augmented data</font> "
   ]
  },
  {
   "cell_type": "markdown",
   "id": "4883fb85-6472-4fec-8780-14490c49ab5f",
   "metadata": {},
   "source": [
    "## Data Augmentation\n",
    "Here we will apply three different data augmentation techniques:\n",
    "1) A method that includes random affine transformation (e.g. degrees=10) and random auto-contrast\n",
    "2) A method that consists of two or three augmentation methods that you select on your own\n",
    "3) A method that includes the composed data augmentation technique RandAugment"
   ]
  },
  {
   "cell_type": "markdown",
   "id": "16e1b41c-c52d-4e99-9676-34ab1b2fa09b",
   "metadata": {},
   "source": [
    "### Data Augmentation with random affine transformation (e.g. degrees=10) and random auto-contrast\n",
    "Image rotation helps our model to become more robust to the changes in the orientation of objects. \n",
    "For various Data Augmentation techniques, please refer to the following link: http://www.neurotec.uni-bremen.de/drupal/node/30#torchvision.transforms.CenterCrop(size) && https://pytorch.org/vision/stable/transforms.html"
   ]
  },
  {
   "cell_type": "code",
   "execution_count": 107,
   "id": "86299dab-5444-4ce1-a06b-1a93a2d0bdf9",
   "metadata": {
    "execution": {
     "iopub.execute_input": "2022-07-17T10:56:57.546048Z",
     "iopub.status.busy": "2022-07-17T10:56:57.544949Z",
     "iopub.status.idle": "2022-07-17T10:56:57.555739Z",
     "shell.execute_reply": "2022-07-17T10:56:57.554493Z",
     "shell.execute_reply.started": "2022-07-17T10:56:57.546001Z"
    }
   },
   "outputs": [],
   "source": [
    "ucm_mean = [0.595425, 0.3518577, 0.3225522]\n",
    "ucm_std = [0.19303136, 0.12492529, 0.10577361]\n",
    "\n",
    "\n",
    "tr_transform = transforms.Compose(\n",
    "    [\n",
    "        transforms.Resize((64, 64)),\n",
    "        transforms.RandomRotation(10),\n",
    "        transforms.RandomAutocontrast(p=1.0),\n",
    "        transforms.ToTensor(),\n",
    "        transforms.Normalize(mean=ucm_mean, std=ucm_std),\n",
    "    ]\n",
    ")\n",
    "\n",
    "te_transform = transforms.Compose(\n",
    "    [\n",
    "        transforms.Resize((64, 64)),\n",
    "        transforms.RandomRotation(10),\n",
    "        transforms.RandomAutocontrast(p=1.0),\n",
    "        transforms.ToTensor(),\n",
    "        transforms.Normalize(mean=ucm_mean, std=ucm_std),\n",
    "    ]\n",
    ")"
   ]
  },
  {
   "cell_type": "code",
   "execution_count": 108,
   "id": "1e9db692-e9d0-4d9a-8973-e3c23cf67b7d",
   "metadata": {
    "execution": {
     "iopub.execute_input": "2022-07-17T10:56:58.242143Z",
     "iopub.status.busy": "2022-07-17T10:56:58.240978Z",
     "iopub.status.idle": "2022-07-17T10:56:58.584339Z",
     "shell.execute_reply": "2022-07-17T10:56:58.583324Z",
     "shell.execute_reply.started": "2022-07-17T10:56:58.242091Z"
    }
   },
   "outputs": [
    {
     "data": {
      "text/plain": [
       "Text(0.5, 1.0, 'Transformed Image')"
      ]
     },
     "execution_count": 108,
     "metadata": {},
     "output_type": "execute_result"
    },
    {
     "data": {
      "image/png": "[encoded data removed]",
      "text/plain": [
       "<Figure size 720x504 with 2 Axes>"
      ]
     },
     "metadata": {
      "needs_background": "light"
     },
     "output_type": "display_data"
    }
   ],
   "source": [
    "#We  wanna see how this transform affect our image\n",
    "\n",
    "#Path declaration\n",
    "path = os.path.join(\"/notebooks\", \"Hw3_data\", \"UCMerced_LandUse\", \"Images\", \"airplane\", \"\")\n",
    "\n",
    "\n",
    "#Import all images\n",
    "from PIL import Image\n",
    "import os, os.path\n",
    "\n",
    "imgs = []\n",
    "path = path\n",
    "valid_images = [\".tif\"]\n",
    "for f in os.listdir(path):\n",
    "    ext = os.path.splitext(f)[1]\n",
    "    if ext.lower() not in valid_images:\n",
    "        continue\n",
    "    imgs.append(Image.open(os.path.join(path,f)))\n",
    "\n",
    "    \n",
    "#Display original image\n",
    "plane_image = imgs[0]\n",
    "\n",
    "\n",
    "\n",
    "#Display transformed Image\n",
    "rotate_img = transforms.Compose(\n",
    "    [\n",
    "        transforms.Resize((64, 64)),\n",
    "        transforms.RandomRotation(10),\n",
    "        transforms.RandomAutocontrast(p=1.0),\n",
    "        \n",
    "    ]\n",
    ")\n",
    "transformed_image = rotate_img(plane_image)\n",
    "\n",
    "\n",
    "#Display Images\n",
    "fig = plt.figure(figsize=(10, 7))\n",
    "fig.add_subplot(1, 2, 1)\n",
    "plt.imshow(plane_image)\n",
    "plt.title(\"Original Image\")\n",
    "\n",
    "          \n",
    "fig.add_subplot(1,2,2)\n",
    "plt.imshow(transformed_image)\n",
    "plt.title(\"Transformed Image\")\n",
    "\n",
    "\n"
   ]
  },
  {
   "cell_type": "code",
   "execution_count": 109,
   "id": "331fd5c6-4b1e-4f99-8995-80789011ee71",
   "metadata": {
    "execution": {
     "iopub.execute_input": "2022-07-17T10:57:02.019937Z",
     "iopub.status.busy": "2022-07-17T10:57:02.019502Z",
     "iopub.status.idle": "2022-07-17T10:57:02.024374Z",
     "shell.execute_reply": "2022-07-17T10:57:02.023496Z",
     "shell.execute_reply.started": "2022-07-17T10:57:02.019909Z"
    }
   },
   "outputs": [],
   "source": [
    "#Choose our parameter\n",
    "batch_size = 64\n",
    "learning_rate = 0.001\n"
   ]
  },
  {
   "cell_type": "code",
   "execution_count": 110,
   "id": "afab2e69-e98a-4b24-b72a-a9d970d9fd30",
   "metadata": {
    "execution": {
     "iopub.execute_input": "2022-07-17T10:57:02.875059Z",
     "iopub.status.busy": "2022-07-17T10:57:02.874723Z",
     "iopub.status.idle": "2022-07-17T10:57:03.323964Z",
     "shell.execute_reply": "2022-07-17T10:57:03.322950Z",
     "shell.execute_reply.started": "2022-07-17T10:57:02.875032Z"
    }
   },
   "outputs": [],
   "source": [
    "trainset, valset, testset = get_dataset(\n",
    "    \"./Hw3_data/UCMerced_LandUse\",\n",
    "    tr_transform=tr_transform,\n",
    "    multilabel=True\n",
    ")"
   ]
  },
  {
   "cell_type": "code",
   "execution_count": 111,
   "id": "8214ec11-4142-41ca-a6c9-b37a0441f27b",
   "metadata": {
    "execution": {
     "iopub.execute_input": "2022-07-17T10:57:10.754443Z",
     "iopub.status.busy": "2022-07-17T10:57:10.754065Z",
     "iopub.status.idle": "2022-07-17T10:57:10.760943Z",
     "shell.execute_reply": "2022-07-17T10:57:10.759058Z",
     "shell.execute_reply.started": "2022-07-17T10:57:10.754416Z"
    }
   },
   "outputs": [],
   "source": [
    "train_loader = DataLoader(trainset, batch_size=batch_size, shuffle=True, pin_memory=True)\n",
    "val_loader = DataLoader(valset, batch_size=batch_size, shuffle=False, pin_memory=True)\n",
    "test_loader = DataLoader(testset, batch_size=batch_size, shuffle=False, pin_memory=True)"
   ]
  },
  {
   "cell_type": "code",
   "execution_count": 112,
   "id": "f35b4704-1aea-4284-8b61-feb012d501a1",
   "metadata": {
    "execution": {
     "iopub.execute_input": "2022-07-17T10:57:13.078415Z",
     "iopub.status.busy": "2022-07-17T10:57:13.078077Z",
     "iopub.status.idle": "2022-07-17T10:57:13.366299Z",
     "shell.execute_reply": "2022-07-17T10:57:13.365303Z",
     "shell.execute_reply.started": "2022-07-17T10:57:13.078390Z"
    }
   },
   "outputs": [
    {
     "data": {
      "text/plain": [
       "ResNet(\n",
       "  (conv1): Conv2d(3, 64, kernel_size=(7, 7), stride=(2, 2), padding=(3, 3), bias=False)\n",
       "  (bn1): BatchNorm2d(64, eps=1e-05, momentum=0.1, affine=True, track_running_stats=True)\n",
       "  (relu): ReLU(inplace=True)\n",
       "  (maxpool): MaxPool2d(kernel_size=3, stride=2, padding=1, dilation=1, ceil_mode=False)\n",
       "  (layer1): Sequential(\n",
       "    (0): BasicBlock(\n",
       "      (conv1): Conv2d(64, 64, kernel_size=(3, 3), stride=(1, 1), padding=(1, 1), bias=False)\n",
       "      (bn1): BatchNorm2d(64, eps=1e-05, momentum=0.1, affine=True, track_running_stats=True)\n",
       "      (relu): ReLU(inplace=True)\n",
       "      (conv2): Conv2d(64, 64, kernel_size=(3, 3), stride=(1, 1), padding=(1, 1), bias=False)\n",
       "      (bn2): BatchNorm2d(64, eps=1e-05, momentum=0.1, affine=True, track_running_stats=True)\n",
       "    )\n",
       "    (1): BasicBlock(\n",
       "      (conv1): Conv2d(64, 64, kernel_size=(3, 3), stride=(1, 1), padding=(1, 1), bias=False)\n",
       "      (bn1): BatchNorm2d(64, eps=1e-05, momentum=0.1, affine=True, track_running_stats=True)\n",
       "      (relu): ReLU(inplace=True)\n",
       "      (conv2): Conv2d(64, 64, kernel_size=(3, 3), stride=(1, 1), padding=(1, 1), bias=False)\n",
       "      (bn2): BatchNorm2d(64, eps=1e-05, momentum=0.1, affine=True, track_running_stats=True)\n",
       "    )\n",
       "  )\n",
       "  (layer2): Sequential(\n",
       "    (0): BasicBlock(\n",
       "      (conv1): Conv2d(64, 128, kernel_size=(3, 3), stride=(2, 2), padding=(1, 1), bias=False)\n",
       "      (bn1): BatchNorm2d(128, eps=1e-05, momentum=0.1, affine=True, track_running_stats=True)\n",
       "      (relu): ReLU(inplace=True)\n",
       "      (conv2): Conv2d(128, 128, kernel_size=(3, 3), stride=(1, 1), padding=(1, 1), bias=False)\n",
       "      (bn2): BatchNorm2d(128, eps=1e-05, momentum=0.1, affine=True, track_running_stats=True)\n",
       "      (downsample): Sequential(\n",
       "        (0): Conv2d(64, 128, kernel_size=(1, 1), stride=(2, 2), bias=False)\n",
       "        (1): BatchNorm2d(128, eps=1e-05, momentum=0.1, affine=True, track_running_stats=True)\n",
       "      )\n",
       "    )\n",
       "    (1): BasicBlock(\n",
       "      (conv1): Conv2d(128, 128, kernel_size=(3, 3), stride=(1, 1), padding=(1, 1), bias=False)\n",
       "      (bn1): BatchNorm2d(128, eps=1e-05, momentum=0.1, affine=True, track_running_stats=True)\n",
       "      (relu): ReLU(inplace=True)\n",
       "      (conv2): Conv2d(128, 128, kernel_size=(3, 3), stride=(1, 1), padding=(1, 1), bias=False)\n",
       "      (bn2): BatchNorm2d(128, eps=1e-05, momentum=0.1, affine=True, track_running_stats=True)\n",
       "    )\n",
       "  )\n",
       "  (layer3): Sequential(\n",
       "    (0): BasicBlock(\n",
       "      (conv1): Conv2d(128, 256, kernel_size=(3, 3), stride=(2, 2), padding=(1, 1), bias=False)\n",
       "      (bn1): BatchNorm2d(256, eps=1e-05, momentum=0.1, affine=True, track_running_stats=True)\n",
       "      (relu): ReLU(inplace=True)\n",
       "      (conv2): Conv2d(256, 256, kernel_size=(3, 3), stride=(1, 1), padding=(1, 1), bias=False)\n",
       "      (bn2): BatchNorm2d(256, eps=1e-05, momentum=0.1, affine=True, track_running_stats=True)\n",
       "      (downsample): Sequential(\n",
       "        (0): Conv2d(128, 256, kernel_size=(1, 1), stride=(2, 2), bias=False)\n",
       "        (1): BatchNorm2d(256, eps=1e-05, momentum=0.1, affine=True, track_running_stats=True)\n",
       "      )\n",
       "    )\n",
       "    (1): BasicBlock(\n",
       "      (conv1): Conv2d(256, 256, kernel_size=(3, 3), stride=(1, 1), padding=(1, 1), bias=False)\n",
       "      (bn1): BatchNorm2d(256, eps=1e-05, momentum=0.1, affine=True, track_running_stats=True)\n",
       "      (relu): ReLU(inplace=True)\n",
       "      (conv2): Conv2d(256, 256, kernel_size=(3, 3), stride=(1, 1), padding=(1, 1), bias=False)\n",
       "      (bn2): BatchNorm2d(256, eps=1e-05, momentum=0.1, affine=True, track_running_stats=True)\n",
       "    )\n",
       "  )\n",
       "  (layer4): Sequential(\n",
       "    (0): BasicBlock(\n",
       "      (conv1): Conv2d(256, 512, kernel_size=(3, 3), stride=(2, 2), padding=(1, 1), bias=False)\n",
       "      (bn1): BatchNorm2d(512, eps=1e-05, momentum=0.1, affine=True, track_running_stats=True)\n",
       "      (relu): ReLU(inplace=True)\n",
       "      (conv2): Conv2d(512, 512, kernel_size=(3, 3), stride=(1, 1), padding=(1, 1), bias=False)\n",
       "      (bn2): BatchNorm2d(512, eps=1e-05, momentum=0.1, affine=True, track_running_stats=True)\n",
       "      (downsample): Sequential(\n",
       "        (0): Conv2d(256, 512, kernel_size=(1, 1), stride=(2, 2), bias=False)\n",
       "        (1): BatchNorm2d(512, eps=1e-05, momentum=0.1, affine=True, track_running_stats=True)\n",
       "      )\n",
       "    )\n",
       "    (1): BasicBlock(\n",
       "      (conv1): Conv2d(512, 512, kernel_size=(3, 3), stride=(1, 1), padding=(1, 1), bias=False)\n",
       "      (bn1): BatchNorm2d(512, eps=1e-05, momentum=0.1, affine=True, track_running_stats=True)\n",
       "      (relu): ReLU(inplace=True)\n",
       "      (conv2): Conv2d(512, 512, kernel_size=(3, 3), stride=(1, 1), padding=(1, 1), bias=False)\n",
       "      (bn2): BatchNorm2d(512, eps=1e-05, momentum=0.1, affine=True, track_running_stats=True)\n",
       "    )\n",
       "  )\n",
       "  (avgpool): AdaptiveAvgPool2d(output_size=(1, 1))\n",
       "  (fc): Linear(in_features=512, out_features=17, bias=True)\n",
       ")"
      ]
     },
     "execution_count": 112,
     "metadata": {},
     "output_type": "execute_result"
    }
   ],
   "source": [
    "model = models.resnet18(weights=ResNet18_Weights.DEFAULT)\n",
    "model.fc = nn.Linear(512, 17) #21 - number of classes\n",
    "model.to(cuda_device)"
   ]
  },
  {
   "cell_type": "code",
   "execution_count": 113,
   "id": "12b3c41f-eb7b-49fb-8f0b-8d7bf96bbeee",
   "metadata": {
    "execution": {
     "iopub.execute_input": "2022-07-17T10:57:19.491506Z",
     "iopub.status.busy": "2022-07-17T10:57:19.490422Z",
     "iopub.status.idle": "2022-07-17T10:57:19.498553Z",
     "shell.execute_reply": "2022-07-17T10:57:19.497267Z",
     "shell.execute_reply.started": "2022-07-17T10:57:19.491464Z"
    }
   },
   "outputs": [],
   "source": [
    "import torch.optim as optim\n",
    "from torch.optim import lr_scheduler\n",
    "\n",
    "\n",
    "#Criterion\n",
    "criterion = nn.BCEWithLogitsLoss().to(cuda_device)\n",
    "#criterion = nn.CrossEntropyLoss()\n",
    "\n",
    "\n",
    "\n",
    "\n",
    "# specify optimizer\n",
    "optimizer = optim.Adam(model.parameters(), lr=0.001, weight_decay=0.0001)"
   ]
  },
  {
   "cell_type": "code",
   "execution_count": 114,
   "id": "f3c88923-b274-444a-9997-e47e58988bf1",
   "metadata": {
    "execution": {
     "iopub.execute_input": "2022-07-17T10:57:22.595850Z",
     "iopub.status.busy": "2022-07-17T10:57:22.594865Z",
     "iopub.status.idle": "2022-07-17T10:57:22.601341Z",
     "shell.execute_reply": "2022-07-17T10:57:22.599705Z",
     "shell.execute_reply.started": "2022-07-17T10:57:22.595809Z"
    }
   },
   "outputs": [],
   "source": [
    "eval_accuracies = []"
   ]
  },
  {
   "cell_type": "code",
   "execution_count": 115,
   "id": "2607a8db-730b-438e-8ed2-38c5fc5fbc41",
   "metadata": {
    "execution": {
     "iopub.execute_input": "2022-07-17T10:57:26.668498Z",
     "iopub.status.busy": "2022-07-17T10:57:26.668131Z",
     "iopub.status.idle": "2022-07-17T11:00:33.939863Z",
     "shell.execute_reply": "2022-07-17T11:00:33.938561Z",
     "shell.execute_reply.started": "2022-07-17T10:57:26.668471Z"
    }
   },
   "outputs": [
    {
     "name": "stdout",
     "output_type": "stream",
     "text": [
      "Epoch 1/25\n",
      "----------\n"
     ]
    },
    {
     "data": {
      "application/vnd.jupyter.widget-view+json": {
       "model_id": "193643bab53646c8a9656da4a20cb0b4",
       "version_major": 2,
       "version_minor": 0
      },
      "text/plain": [
       "Training:   0%|          | 0/23 [00:00<?, ?it/s]"
      ]
     },
     "metadata": {},
     "output_type": "display_data"
    },
    {
     "data": {
      "application/vnd.jupyter.widget-view+json": {
       "model_id": "1d4300092dc149c1b0e77c4fb0be0757",
       "version_major": 2,
       "version_minor": 0
      },
      "text/plain": [
       "Validation:   0%|          | 0/4 [00:00<?, ?it/s]"
      ]
     },
     "metadata": {},
     "output_type": "display_data"
    },
    {
     "name": "stdout",
     "output_type": "stream",
     "text": [
      "              precision  recall  f1-score  support\n",
      "airplane           0.13    1.00      0.23       14\n",
      "bare-soil          0.45    0.32      0.38       77\n",
      "buildings          0.39    0.43      0.41       76\n",
      "cars               0.11    0.05      0.07       96\n",
      "chaparral          0.00    0.00      0.00        9\n",
      "court              0.04    0.75      0.07        8\n",
      "dock               0.01    0.07      0.01       15\n",
      "field              0.02    0.25      0.04        8\n",
      "grass              0.73    0.43      0.54      109\n",
      "mobile-home        0.00    0.00      0.00        7\n",
      "pavement           0.62    0.52      0.57      142\n",
      "sand               0.04    0.03      0.04       29\n",
      "sea                0.05    1.00      0.09        6\n",
      "ship               0.01    0.07      0.01       15\n",
      "tanks              0.01    0.17      0.01        6\n",
      "trees              0.65    0.72      0.68      111\n",
      "water              0.16    0.81      0.27       27\n",
      "micro avg          0.19    0.42      0.26      755\n",
      "macro avg          0.20    0.39      0.20      755\n",
      "weighted avg       0.43    0.42      0.39      755\n",
      "samples avg        0.19    0.41      0.25      755\n",
      "Epoch 2/25\n",
      "----------\n"
     ]
    },
    {
     "data": {
      "application/vnd.jupyter.widget-view+json": {
       "model_id": "711aa8819a444c1abd609a2c85a58c56",
       "version_major": 2,
       "version_minor": 0
      },
      "text/plain": [
       "Training:   0%|          | 0/23 [00:00<?, ?it/s]"
      ]
     },
     "metadata": {},
     "output_type": "display_data"
    },
    {
     "data": {
      "application/vnd.jupyter.widget-view+json": {
       "model_id": "8a2334c7a3e24c3d98f38deb78c94054",
       "version_major": 2,
       "version_minor": 0
      },
      "text/plain": [
       "Validation:   0%|          | 0/4 [00:00<?, ?it/s]"
      ]
     },
     "metadata": {},
     "output_type": "display_data"
    },
    {
     "name": "stdout",
     "output_type": "stream",
     "text": [
      "              precision  recall  f1-score  support\n",
      "airplane           0.08    0.93      0.15       14\n",
      "bare-soil          0.35    0.22      0.27       77\n",
      "buildings          0.07    0.03      0.04       76\n",
      "cars               0.51    0.62      0.56       96\n",
      "chaparral          0.11    0.89      0.20        9\n",
      "court              0.06    0.75      0.11        8\n",
      "dock               0.00    0.00      0.00       15\n",
      "field              0.00    0.00      0.00        8\n",
      "grass              0.31    0.09      0.14      109\n",
      "mobile-home        0.03    0.57      0.06        7\n",
      "pavement           0.60    0.53      0.56      142\n",
      "sand               0.15    0.62      0.24       29\n",
      "sea                0.03    0.67      0.06        6\n",
      "ship               0.00    0.00      0.00       15\n",
      "tanks              0.02    0.50      0.04        6\n",
      "trees              0.48    0.31      0.37      111\n",
      "water              0.00    0.00      0.00       27\n",
      "micro avg          0.15    0.34      0.21      755\n",
      "macro avg          0.17    0.40      0.17      755\n",
      "weighted avg       0.35    0.34      0.30      755\n",
      "samples avg        0.15    0.33      0.20      755\n",
      "Epoch 3/25\n",
      "----------\n"
     ]
    },
    {
     "data": {
      "application/vnd.jupyter.widget-view+json": {
       "model_id": "c06dffde295242339532df422f81e2b1",
       "version_major": 2,
       "version_minor": 0
      },
      "text/plain": [
       "Training:   0%|          | 0/23 [00:00<?, ?it/s]"
      ]
     },
     "metadata": {},
     "output_type": "display_data"
    },
    {
     "data": {
      "application/vnd.jupyter.widget-view+json": {
       "model_id": "ef0098669e3445ad986bbcf3c66f8763",
       "version_major": 2,
       "version_minor": 0
      },
      "text/plain": [
       "Validation:   0%|          | 0/4 [00:00<?, ?it/s]"
      ]
     },
     "metadata": {},
     "output_type": "display_data"
    },
    {
     "name": "stdout",
     "output_type": "stream",
     "text": [
      "              precision  recall  f1-score  support\n",
      "airplane           0.07    1.00      0.13       14\n",
      "bare-soil          0.34    0.44      0.39       77\n",
      "buildings          0.36    0.05      0.09       76\n",
      "cars               0.45    0.20      0.28       96\n",
      "chaparral          0.07    0.89      0.12        9\n",
      "court              0.02    0.12      0.03        8\n",
      "dock               0.00    0.00      0.00       15\n",
      "field              0.00    0.00      0.00        8\n",
      "grass              0.63    0.90      0.74      109\n",
      "mobile-home        0.03    1.00      0.06        7\n",
      "pavement           0.86    0.43      0.57      142\n",
      "sand               0.11    0.62      0.19       29\n",
      "sea                0.07    0.67      0.12        6\n",
      "ship               0.08    1.00      0.14       15\n",
      "tanks              0.02    0.17      0.03        6\n",
      "trees              0.52    0.31      0.39      111\n",
      "water              0.27    0.81      0.40       27\n",
      "micro avg          0.20    0.45      0.28      755\n",
      "macro avg          0.23    0.51      0.22      755\n",
      "weighted avg       0.48    0.45      0.39      755\n",
      "samples avg        0.20    0.44      0.27      755\n",
      "Epoch 4/25\n",
      "----------\n"
     ]
    },
    {
     "data": {
      "application/vnd.jupyter.widget-view+json": {
       "model_id": "395acd353dd84999b6fa98bf28fdc482",
       "version_major": 2,
       "version_minor": 0
      },
      "text/plain": [
       "Training:   0%|          | 0/23 [00:00<?, ?it/s]"
      ]
     },
     "metadata": {},
     "output_type": "display_data"
    },
    {
     "data": {
      "application/vnd.jupyter.widget-view+json": {
       "model_id": "778c463db07b46558c7774bb55b70eef",
       "version_major": 2,
       "version_minor": 0
      },
      "text/plain": [
       "Validation:   0%|          | 0/4 [00:00<?, ?it/s]"
      ]
     },
     "metadata": {},
     "output_type": "display_data"
    },
    {
     "name": "stdout",
     "output_type": "stream",
     "text": [
      "              precision  recall  f1-score  support\n",
      "airplane           0.02    0.14      0.04       14\n",
      "bare-soil          0.44    0.69      0.54       77\n",
      "buildings          0.50    0.64      0.56       76\n",
      "cars               0.54    0.38      0.44       96\n",
      "chaparral          0.09    0.89      0.16        9\n",
      "court              0.02    0.12      0.03        8\n",
      "dock               0.25    0.53      0.34       15\n",
      "field              0.05    0.75      0.10        8\n",
      "grass              0.36    0.24      0.29      109\n",
      "mobile-home        0.02    0.43      0.04        7\n",
      "pavement           0.66    0.35      0.46      142\n",
      "sand               0.14    0.79      0.24       29\n",
      "sea                0.05    0.83      0.09        6\n",
      "ship               0.03    0.40      0.06       15\n",
      "tanks              0.04    1.00      0.08        6\n",
      "trees              0.56    0.52      0.54      111\n",
      "water              0.35    0.44      0.39       27\n",
      "micro avg          0.21    0.47      0.29      755\n",
      "macro avg          0.24    0.54      0.26      755\n",
      "weighted avg       0.45    0.47      0.41      755\n",
      "samples avg        0.21    0.48      0.28      755\n",
      "Epoch 5/25\n",
      "----------\n"
     ]
    },
    {
     "data": {
      "application/vnd.jupyter.widget-view+json": {
       "model_id": "f945016a82fb4e8d964307a8f48479d7",
       "version_major": 2,
       "version_minor": 0
      },
      "text/plain": [
       "Training:   0%|          | 0/23 [00:00<?, ?it/s]"
      ]
     },
     "metadata": {},
     "output_type": "display_data"
    },
    {
     "data": {
      "application/vnd.jupyter.widget-view+json": {
       "model_id": "6131f57febc14bcaba51938d8e81e162",
       "version_major": 2,
       "version_minor": 0
      },
      "text/plain": [
       "Validation:   0%|          | 0/4 [00:00<?, ?it/s]"
      ]
     },
     "metadata": {},
     "output_type": "display_data"
    },
    {
     "name": "stdout",
     "output_type": "stream",
     "text": [
      "              precision  recall  f1-score  support\n",
      "airplane           0.06    0.93      0.12       14\n",
      "bare-soil          0.29    0.32      0.31       77\n",
      "buildings          0.44    0.14      0.22       76\n",
      "cars               0.53    0.50      0.52       96\n",
      "chaparral          0.05    0.78      0.10        9\n",
      "court              0.04    0.50      0.07        8\n",
      "dock               0.16    0.93      0.27       15\n",
      "field              0.05    0.88      0.09        8\n",
      "grass              0.52    0.52      0.52      109\n",
      "mobile-home        0.00    0.00      0.00        7\n",
      "pavement           0.66    0.54      0.59      142\n",
      "sand               0.18    0.38      0.24       29\n",
      "sea                0.03    0.83      0.06        6\n",
      "ship               0.19    0.93      0.31       15\n",
      "tanks              0.07    0.50      0.12        6\n",
      "trees              0.73    0.79      0.76      111\n",
      "water              0.40    0.67      0.50       27\n",
      "micro avg          0.24    0.53      0.33      755\n",
      "macro avg          0.26    0.60      0.28      755\n",
      "weighted avg       0.48    0.53      0.46      755\n",
      "samples avg        0.24    0.54      0.32      755\n",
      "Epoch 6/25\n",
      "----------\n"
     ]
    },
    {
     "data": {
      "application/vnd.jupyter.widget-view+json": {
       "model_id": "505cc3c97b0643789ccfe00f1106af36",
       "version_major": 2,
       "version_minor": 0
      },
      "text/plain": [
       "Training:   0%|          | 0/23 [00:00<?, ?it/s]"
      ]
     },
     "metadata": {},
     "output_type": "display_data"
    },
    {
     "data": {
      "application/vnd.jupyter.widget-view+json": {
       "model_id": "acba44a847f8470094615418d93050eb",
       "version_major": 2,
       "version_minor": 0
      },
      "text/plain": [
       "Validation:   0%|          | 0/4 [00:00<?, ?it/s]"
      ]
     },
     "metadata": {},
     "output_type": "display_data"
    },
    {
     "name": "stdout",
     "output_type": "stream",
     "text": [
      "              precision  recall  f1-score  support\n",
      "airplane           0.09    0.86      0.17       14\n",
      "bare-soil          0.34    0.40      0.37       77\n",
      "buildings          0.64    0.46      0.53       76\n",
      "cars               0.51    0.45      0.48       96\n",
      "chaparral          0.04    0.44      0.08        9\n",
      "court              0.06    0.62      0.12        8\n",
      "dock               0.00    0.00      0.00       15\n",
      "field              0.03    0.62      0.06        8\n",
      "grass              0.39    0.17      0.23      109\n",
      "mobile-home        0.05    1.00      0.09        7\n",
      "pavement           0.72    0.68      0.70      142\n",
      "sand               0.24    0.28      0.26       29\n",
      "sea                0.05    1.00      0.09        6\n",
      "ship               0.00    0.00      0.00       15\n",
      "tanks              0.03    0.83      0.06        6\n",
      "trees              0.62    0.60      0.61      111\n",
      "water              0.49    0.63      0.55       27\n",
      "micro avg          0.21    0.48      0.30      755\n",
      "macro avg          0.25    0.53      0.26      755\n",
      "weighted avg       0.48    0.48      0.45      755\n",
      "samples avg        0.21    0.47      0.28      755\n",
      "Epoch 7/25\n",
      "----------\n"
     ]
    },
    {
     "data": {
      "application/vnd.jupyter.widget-view+json": {
       "model_id": "2a441eb7289a408da06ca21435d46a82",
       "version_major": 2,
       "version_minor": 0
      },
      "text/plain": [
       "Training:   0%|          | 0/23 [00:00<?, ?it/s]"
      ]
     },
     "metadata": {},
     "output_type": "display_data"
    },
    {
     "data": {
      "application/vnd.jupyter.widget-view+json": {
       "model_id": "a991a7a8da7247ddb904fbb550860b28",
       "version_major": 2,
       "version_minor": 0
      },
      "text/plain": [
       "Validation:   0%|          | 0/4 [00:00<?, ?it/s]"
      ]
     },
     "metadata": {},
     "output_type": "display_data"
    },
    {
     "name": "stdout",
     "output_type": "stream",
     "text": [
      "              precision  recall  f1-score  support\n",
      "airplane           0.04    0.29      0.07       14\n",
      "bare-soil          0.29    0.39      0.33       77\n",
      "buildings          0.23    0.11      0.14       76\n",
      "cars               0.45    0.52      0.48       96\n",
      "chaparral          0.03    0.33      0.05        9\n",
      "court              0.07    0.38      0.11        8\n",
      "dock               0.11    0.93      0.19       15\n",
      "field              0.04    0.12      0.06        8\n",
      "grass              0.48    0.56      0.51      109\n",
      "mobile-home        0.03    0.57      0.05        7\n",
      "pavement           0.64    0.20      0.31      142\n",
      "sand               0.19    0.66      0.30       29\n",
      "sea                0.04    1.00      0.08        6\n",
      "ship               0.14    0.93      0.24       15\n",
      "tanks              0.03    0.67      0.06        6\n",
      "trees              0.63    0.83      0.72      111\n",
      "water              0.08    0.15      0.10       27\n",
      "micro avg          0.21    0.46      0.28      755\n",
      "macro avg          0.21    0.51      0.22      755\n",
      "weighted avg       0.41    0.46      0.38      755\n",
      "samples avg        0.21    0.47      0.28      755\n",
      "Epoch 8/25\n",
      "----------\n"
     ]
    },
    {
     "data": {
      "application/vnd.jupyter.widget-view+json": {
       "model_id": "49a0813377f34a8099c040645c06085a",
       "version_major": 2,
       "version_minor": 0
      },
      "text/plain": [
       "Training:   0%|          | 0/23 [00:00<?, ?it/s]"
      ]
     },
     "metadata": {},
     "output_type": "display_data"
    },
    {
     "data": {
      "application/vnd.jupyter.widget-view+json": {
       "model_id": "a686ac99aa2844d6ab4bceec752421d3",
       "version_major": 2,
       "version_minor": 0
      },
      "text/plain": [
       "Validation:   0%|          | 0/4 [00:00<?, ?it/s]"
      ]
     },
     "metadata": {},
     "output_type": "display_data"
    },
    {
     "name": "stdout",
     "output_type": "stream",
     "text": [
      "              precision  recall  f1-score  support\n",
      "airplane           0.07    0.57      0.12       14\n",
      "bare-soil          0.22    0.17      0.19       77\n",
      "buildings          0.20    0.26      0.23       76\n",
      "cars               0.51    0.30      0.38       96\n",
      "chaparral          0.02    0.11      0.03        9\n",
      "court              0.07    0.75      0.12        8\n",
      "dock               0.00    0.00      0.00       15\n",
      "field              0.03    0.38      0.06        8\n",
      "grass              0.53    0.88      0.66      109\n",
      "mobile-home        0.01    0.14      0.02        7\n",
      "pavement           0.64    0.76      0.69      142\n",
      "sand               0.13    0.21      0.16       29\n",
      "sea                0.02    0.50      0.05        6\n",
      "ship               0.00    0.00      0.00       15\n",
      "tanks              0.01    0.33      0.03        6\n",
      "trees              0.48    0.39      0.43      111\n",
      "water              0.14    0.81      0.24       27\n",
      "micro avg          0.21    0.48      0.30      755\n",
      "macro avg          0.18    0.39      0.20      755\n",
      "weighted avg       0.39    0.48      0.40      755\n",
      "samples avg        0.21    0.46      0.29      755\n",
      "Epoch 9/25\n",
      "----------\n"
     ]
    },
    {
     "data": {
      "application/vnd.jupyter.widget-view+json": {
       "model_id": "f03e5a596afa40f3a42be783e420a2aa",
       "version_major": 2,
       "version_minor": 0
      },
      "text/plain": [
       "Training:   0%|          | 0/23 [00:00<?, ?it/s]"
      ]
     },
     "metadata": {},
     "output_type": "display_data"
    },
    {
     "data": {
      "application/vnd.jupyter.widget-view+json": {
       "model_id": "3950b8828ba64446988e0ab85a01b4d8",
       "version_major": 2,
       "version_minor": 0
      },
      "text/plain": [
       "Validation:   0%|          | 0/4 [00:00<?, ?it/s]"
      ]
     },
     "metadata": {},
     "output_type": "display_data"
    },
    {
     "name": "stdout",
     "output_type": "stream",
     "text": [
      "              precision  recall  f1-score  support\n",
      "airplane           0.04    0.43      0.08       14\n",
      "bare-soil          0.32    0.14      0.20       77\n",
      "buildings          0.29    0.45      0.35       76\n",
      "cars               0.33    0.17      0.22       96\n",
      "chaparral          0.12    0.56      0.20        9\n",
      "court              0.01    0.12      0.03        8\n",
      "dock               0.00    0.00      0.00       15\n",
      "field              0.01    0.12      0.01        8\n",
      "grass              0.54    0.87      0.67      109\n",
      "mobile-home        0.04    1.00      0.08        7\n",
      "pavement           0.68    0.29      0.41      142\n",
      "sand               0.21    0.59      0.31       29\n",
      "sea                0.03    0.67      0.05        6\n",
      "ship               0.00    0.00      0.00       15\n",
      "tanks              0.02    0.50      0.04        6\n",
      "trees              0.46    0.21      0.29      111\n",
      "water              0.25    0.59      0.35       27\n",
      "micro avg          0.17    0.37      0.23      755\n",
      "macro avg          0.20    0.39      0.19      755\n",
      "weighted avg       0.40    0.37      0.33      755\n",
      "samples avg        0.17    0.38      0.22      755\n",
      "Epoch 10/25\n",
      "----------\n"
     ]
    },
    {
     "data": {
      "application/vnd.jupyter.widget-view+json": {
       "model_id": "fbdbf33bbc174cec90e67b3e36cc1e24",
       "version_major": 2,
       "version_minor": 0
      },
      "text/plain": [
       "Training:   0%|          | 0/23 [00:00<?, ?it/s]"
      ]
     },
     "metadata": {},
     "output_type": "display_data"
    },
    {
     "data": {
      "application/vnd.jupyter.widget-view+json": {
       "model_id": "182bd51867aa4827bfc95dce9aaaed1a",
       "version_major": 2,
       "version_minor": 0
      },
      "text/plain": [
       "Validation:   0%|          | 0/4 [00:00<?, ?it/s]"
      ]
     },
     "metadata": {},
     "output_type": "display_data"
    },
    {
     "name": "stdout",
     "output_type": "stream",
     "text": [
      "              precision  recall  f1-score  support\n",
      "airplane           0.04    0.50      0.08       14\n",
      "bare-soil          0.22    0.10      0.14       77\n",
      "buildings          0.25    0.21      0.23       76\n",
      "cars               0.45    0.69      0.54       96\n",
      "chaparral          0.03    0.11      0.05        9\n",
      "court              0.09    1.00      0.16        8\n",
      "dock               0.00    0.00      0.00       15\n",
      "field              0.08    1.00      0.15        8\n",
      "grass              0.58    0.71      0.64      109\n",
      "mobile-home        0.04    1.00      0.08        7\n",
      "pavement           0.66    0.73      0.69      142\n",
      "sand               0.10    0.41      0.17       29\n",
      "sea                0.08    1.00      0.14        6\n",
      "ship               0.04    0.13      0.06       15\n",
      "tanks              0.03    0.83      0.06        6\n",
      "trees              0.43    0.37      0.40      111\n",
      "water              0.02    0.04      0.03       27\n",
      "micro avg          0.22    0.49      0.30      755\n",
      "macro avg          0.19    0.52      0.21      755\n",
      "weighted avg       0.39    0.49      0.40      755\n",
      "samples avg        0.22    0.48      0.29      755\n",
      "Epoch 11/25\n",
      "----------\n"
     ]
    },
    {
     "data": {
      "application/vnd.jupyter.widget-view+json": {
       "model_id": "048edb1797194beba599123771e46b3d",
       "version_major": 2,
       "version_minor": 0
      },
      "text/plain": [
       "Training:   0%|          | 0/23 [00:00<?, ?it/s]"
      ]
     },
     "metadata": {},
     "output_type": "display_data"
    },
    {
     "data": {
      "application/vnd.jupyter.widget-view+json": {
       "model_id": "2cbb83d4c1af494eb78d9d98c892eb74",
       "version_major": 2,
       "version_minor": 0
      },
      "text/plain": [
       "Validation:   0%|          | 0/4 [00:00<?, ?it/s]"
      ]
     },
     "metadata": {},
     "output_type": "display_data"
    },
    {
     "name": "stdout",
     "output_type": "stream",
     "text": [
      "              precision  recall  f1-score  support\n",
      "airplane           0.06    0.71      0.11       14\n",
      "bare-soil          0.31    0.43      0.36       77\n",
      "buildings          0.40    0.55      0.46       76\n",
      "cars               0.73    0.31      0.44       96\n",
      "chaparral          0.16    0.78      0.27        9\n",
      "court              0.02    0.12      0.03        8\n",
      "dock               0.31    0.73      0.43       15\n",
      "field              0.02    0.38      0.04        8\n",
      "grass              0.56    0.69      0.62      109\n",
      "mobile-home        0.04    0.57      0.08        7\n",
      "pavement           0.88    0.46      0.60      142\n",
      "sand               0.17    0.79      0.27       29\n",
      "sea                0.00    0.00      0.00        6\n",
      "ship               0.03    0.20      0.05       15\n",
      "tanks              0.02    0.67      0.04        6\n",
      "trees              0.54    0.54      0.54      111\n",
      "water              0.18    0.52      0.27       27\n",
      "micro avg          0.23    0.51      0.32      755\n",
      "macro avg          0.26    0.50      0.27      755\n",
      "weighted avg       0.51    0.51      0.46      755\n",
      "samples avg        0.23    0.53      0.31      755\n",
      "Epoch 12/25\n",
      "----------\n"
     ]
    },
    {
     "data": {
      "application/vnd.jupyter.widget-view+json": {
       "model_id": "bb0ebcaacde84dc0b8126130c651b96a",
       "version_major": 2,
       "version_minor": 0
      },
      "text/plain": [
       "Training:   0%|          | 0/23 [00:00<?, ?it/s]"
      ]
     },
     "metadata": {},
     "output_type": "display_data"
    },
    {
     "data": {
      "application/vnd.jupyter.widget-view+json": {
       "model_id": "6058c280e3b54c46b3b630b55f9dc053",
       "version_major": 2,
       "version_minor": 0
      },
      "text/plain": [
       "Validation:   0%|          | 0/4 [00:00<?, ?it/s]"
      ]
     },
     "metadata": {},
     "output_type": "display_data"
    },
    {
     "name": "stdout",
     "output_type": "stream",
     "text": [
      "              precision  recall  f1-score  support\n",
      "airplane           0.02    0.21      0.04       14\n",
      "bare-soil          0.48    0.81      0.60       77\n",
      "buildings          0.47    0.57      0.51       76\n",
      "cars               0.40    0.50      0.44       96\n",
      "chaparral          0.05    0.22      0.08        9\n",
      "court              0.02    0.12      0.03        8\n",
      "dock               0.00    0.00      0.00       15\n",
      "field              0.00    0.00      0.00        8\n",
      "grass              0.50    0.57      0.53      109\n",
      "mobile-home        0.02    0.43      0.04        7\n",
      "pavement           0.77    0.77      0.77      142\n",
      "sand               0.13    0.62      0.21       29\n",
      "sea                0.04    0.33      0.07        6\n",
      "ship               0.00    0.00      0.00       15\n",
      "tanks              0.04    0.67      0.07        6\n",
      "trees              0.47    0.36      0.41      111\n",
      "water              0.05    0.11      0.07       27\n",
      "micro avg          0.24    0.53      0.33      755\n",
      "macro avg          0.20    0.37      0.23      755\n",
      "weighted avg       0.44    0.53      0.47      755\n",
      "samples avg        0.24    0.52      0.32      755\n",
      "Epoch 13/25\n",
      "----------\n"
     ]
    },
    {
     "data": {
      "application/vnd.jupyter.widget-view+json": {
       "model_id": "f5f5475d3e004225a45eb0f5412502f5",
       "version_major": 2,
       "version_minor": 0
      },
      "text/plain": [
       "Training:   0%|          | 0/23 [00:00<?, ?it/s]"
      ]
     },
     "metadata": {},
     "output_type": "display_data"
    },
    {
     "data": {
      "application/vnd.jupyter.widget-view+json": {
       "model_id": "56bf45591c28483086cbf46515891777",
       "version_major": 2,
       "version_minor": 0
      },
      "text/plain": [
       "Validation:   0%|          | 0/4 [00:00<?, ?it/s]"
      ]
     },
     "metadata": {},
     "output_type": "display_data"
    },
    {
     "name": "stdout",
     "output_type": "stream",
     "text": [
      "              precision  recall  f1-score  support\n",
      "airplane           0.04    0.29      0.07       14\n",
      "bare-soil          0.23    0.30      0.26       77\n",
      "buildings          0.32    0.50      0.39       76\n",
      "cars               0.42    0.44      0.43       96\n",
      "chaparral          0.00    0.00      0.00        9\n",
      "court              0.00    0.00      0.00        8\n",
      "dock               0.00    0.00      0.00       15\n",
      "field              0.06    0.75      0.11        8\n",
      "grass              0.49    0.54      0.51      109\n",
      "mobile-home        0.05    0.43      0.09        7\n",
      "pavement           0.71    0.31      0.43      142\n",
      "sand               0.10    0.55      0.17       29\n",
      "sea                0.03    0.67      0.05        6\n",
      "ship               0.12    1.00      0.22       15\n",
      "tanks              0.02    0.33      0.03        6\n",
      "trees              0.39    0.10      0.16      111\n",
      "water              0.16    0.85      0.27       27\n",
      "micro avg          0.17    0.38      0.24      755\n",
      "macro avg          0.18    0.41      0.19      755\n",
      "weighted avg       0.38    0.38      0.32      755\n",
      "samples avg        0.17    0.39      0.23      755\n",
      "Epoch 14/25\n",
      "----------\n"
     ]
    },
    {
     "data": {
      "application/vnd.jupyter.widget-view+json": {
       "model_id": "11e6b13c13df46dea2c76c313d8394d8",
       "version_major": 2,
       "version_minor": 0
      },
      "text/plain": [
       "Training:   0%|          | 0/23 [00:00<?, ?it/s]"
      ]
     },
     "metadata": {},
     "output_type": "display_data"
    },
    {
     "data": {
      "application/vnd.jupyter.widget-view+json": {
       "model_id": "f94926200b3c47bcb2544d39358d5b9a",
       "version_major": 2,
       "version_minor": 0
      },
      "text/plain": [
       "Validation:   0%|          | 0/4 [00:00<?, ?it/s]"
      ]
     },
     "metadata": {},
     "output_type": "display_data"
    },
    {
     "name": "stdout",
     "output_type": "stream",
     "text": [
      "              precision  recall  f1-score  support\n",
      "airplane           0.04    0.50      0.08       14\n",
      "bare-soil          0.11    0.06      0.08       77\n",
      "buildings          0.37    0.36      0.36       76\n",
      "cars               0.52    0.49      0.50       96\n",
      "chaparral          0.01    0.11      0.02        9\n",
      "court              0.00    0.00      0.00        8\n",
      "dock               0.01    0.07      0.02       15\n",
      "field              0.01    0.25      0.02        8\n",
      "grass              0.61    0.39      0.48      109\n",
      "mobile-home        0.04    0.86      0.08        7\n",
      "pavement           0.70    0.75      0.73      142\n",
      "sand               0.14    0.59      0.23       29\n",
      "sea                0.01    0.17      0.03        6\n",
      "ship               0.09    1.00      0.17       15\n",
      "tanks              0.10    0.50      0.17        6\n",
      "trees              0.77    0.24      0.37      111\n",
      "water              0.07    0.41      0.13       27\n",
      "micro avg          0.19    0.42      0.26      755\n",
      "macro avg          0.21    0.40      0.20      755\n",
      "weighted avg       0.46    0.42      0.39      755\n",
      "samples avg        0.19    0.41      0.25      755\n",
      "Epoch 15/25\n",
      "----------\n"
     ]
    },
    {
     "data": {
      "application/vnd.jupyter.widget-view+json": {
       "model_id": "102190e482a2468d9c7aa7716113605f",
       "version_major": 2,
       "version_minor": 0
      },
      "text/plain": [
       "Training:   0%|          | 0/23 [00:00<?, ?it/s]"
      ]
     },
     "metadata": {},
     "output_type": "display_data"
    },
    {
     "data": {
      "application/vnd.jupyter.widget-view+json": {
       "model_id": "56af1bb3081c4d86ab7b46a11e77ebe9",
       "version_major": 2,
       "version_minor": 0
      },
      "text/plain": [
       "Validation:   0%|          | 0/4 [00:00<?, ?it/s]"
      ]
     },
     "metadata": {},
     "output_type": "display_data"
    },
    {
     "name": "stdout",
     "output_type": "stream",
     "text": [
      "              precision  recall  f1-score  support\n",
      "airplane           0.08    0.93      0.14       14\n",
      "bare-soil          0.31    0.47      0.38       77\n",
      "buildings          0.32    0.36      0.34       76\n",
      "cars               0.00    0.00      0.00       96\n",
      "chaparral          0.04    0.44      0.08        9\n",
      "court              0.06    0.38      0.10        8\n",
      "dock               0.00    0.00      0.00       15\n",
      "field              0.08    1.00      0.15        8\n",
      "grass              0.57    0.47      0.51      109\n",
      "mobile-home        0.03    0.29      0.06        7\n",
      "pavement           0.58    0.44      0.50      142\n",
      "sand               0.13    0.62      0.21       29\n",
      "sea                0.01    0.17      0.01        6\n",
      "ship               0.09    1.00      0.16       15\n",
      "tanks              0.04    0.33      0.07        6\n",
      "trees              0.55    0.32      0.41      111\n",
      "water              0.05    0.22      0.08       27\n",
      "micro avg          0.17    0.38      0.23      755\n",
      "macro avg          0.17    0.44      0.19      755\n",
      "weighted avg       0.35    0.38      0.32      755\n",
      "samples avg        0.17    0.40      0.23      755\n",
      "Epoch 16/25\n",
      "----------\n"
     ]
    },
    {
     "data": {
      "application/vnd.jupyter.widget-view+json": {
       "model_id": "87a821e8d1ba47d9b734e3912372970e",
       "version_major": 2,
       "version_minor": 0
      },
      "text/plain": [
       "Training:   0%|          | 0/23 [00:00<?, ?it/s]"
      ]
     },
     "metadata": {},
     "output_type": "display_data"
    },
    {
     "data": {
      "application/vnd.jupyter.widget-view+json": {
       "model_id": "16656d6bfc4945ccb59d755e53e742cd",
       "version_major": 2,
       "version_minor": 0
      },
      "text/plain": [
       "Validation:   0%|          | 0/4 [00:00<?, ?it/s]"
      ]
     },
     "metadata": {},
     "output_type": "display_data"
    },
    {
     "name": "stdout",
     "output_type": "stream",
     "text": [
      "              precision  recall  f1-score  support\n",
      "airplane           0.03    0.29      0.05       14\n",
      "bare-soil          0.34    0.74      0.46       77\n",
      "buildings          0.33    0.07      0.11       76\n",
      "cars               0.41    0.41      0.41       96\n",
      "chaparral          0.01    0.11      0.02        9\n",
      "court              0.05    0.38      0.09        8\n",
      "dock               0.00    0.00      0.00       15\n",
      "field              0.05    0.88      0.09        8\n",
      "grass              0.62    0.68      0.65      109\n",
      "mobile-home        0.05    0.86      0.09        7\n",
      "pavement           0.65    0.57      0.61      142\n",
      "sand               0.10    0.34      0.16       29\n",
      "sea                0.00    0.00      0.00        6\n",
      "ship               0.00    0.00      0.00       15\n",
      "tanks              0.01    0.17      0.02        6\n",
      "trees              0.43    0.36      0.39      111\n",
      "water              0.03    0.11      0.05       27\n",
      "micro avg          0.20    0.44      0.27      755\n",
      "macro avg          0.18    0.35      0.19      755\n",
      "weighted avg       0.40    0.44      0.39      755\n",
      "samples avg        0.20    0.43      0.26      755\n",
      "Epoch 17/25\n",
      "----------\n"
     ]
    },
    {
     "data": {
      "application/vnd.jupyter.widget-view+json": {
       "model_id": "3c0acdea41df4f3b8ed4a7f020ad2235",
       "version_major": 2,
       "version_minor": 0
      },
      "text/plain": [
       "Training:   0%|          | 0/23 [00:00<?, ?it/s]"
      ]
     },
     "metadata": {},
     "output_type": "display_data"
    },
    {
     "data": {
      "application/vnd.jupyter.widget-view+json": {
       "model_id": "622915b94819466f8e9ac269946eae2e",
       "version_major": 2,
       "version_minor": 0
      },
      "text/plain": [
       "Validation:   0%|          | 0/4 [00:00<?, ?it/s]"
      ]
     },
     "metadata": {},
     "output_type": "display_data"
    },
    {
     "name": "stdout",
     "output_type": "stream",
     "text": [
      "              precision  recall  f1-score  support\n",
      "airplane           0.07    0.71      0.13       14\n",
      "bare-soil          0.44    0.35      0.39       77\n",
      "buildings          0.17    0.11      0.13       76\n",
      "cars               0.33    0.16      0.21       96\n",
      "chaparral          0.05    0.89      0.09        9\n",
      "court              0.05    0.62      0.09        8\n",
      "dock               0.12    1.00      0.21       15\n",
      "field              0.03    0.38      0.05        8\n",
      "grass              0.40    0.45      0.43      109\n",
      "mobile-home        0.02    0.29      0.04        7\n",
      "pavement           0.77    0.37      0.50      142\n",
      "sand               0.18    0.52      0.27       29\n",
      "sea                0.04    1.00      0.07        6\n",
      "ship               0.03    0.20      0.05       15\n",
      "tanks              0.03    0.50      0.06        6\n",
      "trees              0.62    0.47      0.53      111\n",
      "water              0.00    0.00      0.00       27\n",
      "micro avg          0.16    0.36      0.23      755\n",
      "macro avg          0.20    0.47      0.19      755\n",
      "weighted avg       0.41    0.36      0.34      755\n",
      "samples avg        0.16    0.38      0.22      755\n",
      "Epoch 18/25\n",
      "----------\n"
     ]
    },
    {
     "data": {
      "application/vnd.jupyter.widget-view+json": {
       "model_id": "e90f6680c58f4fad989c069c168e697b",
       "version_major": 2,
       "version_minor": 0
      },
      "text/plain": [
       "Training:   0%|          | 0/23 [00:00<?, ?it/s]"
      ]
     },
     "metadata": {},
     "output_type": "display_data"
    },
    {
     "data": {
      "application/vnd.jupyter.widget-view+json": {
       "model_id": "ea355521412b4d96a99a6f156deb51ea",
       "version_major": 2,
       "version_minor": 0
      },
      "text/plain": [
       "Validation:   0%|          | 0/4 [00:00<?, ?it/s]"
      ]
     },
     "metadata": {},
     "output_type": "display_data"
    },
    {
     "name": "stdout",
     "output_type": "stream",
     "text": [
      "              precision  recall  f1-score  support\n",
      "airplane           0.07    0.71      0.12       14\n",
      "bare-soil          0.44    0.40      0.42       77\n",
      "buildings          0.30    0.37      0.33       76\n",
      "cars               0.40    0.24      0.30       96\n",
      "chaparral          0.07    0.89      0.13        9\n",
      "court              0.03    0.25      0.05        8\n",
      "dock               0.00    0.00      0.00       15\n",
      "field              0.05    0.88      0.09        8\n",
      "grass              0.58    0.67      0.62      109\n",
      "mobile-home        0.02    0.29      0.05        7\n",
      "pavement           0.67    0.76      0.71      142\n",
      "sand               0.10    0.34      0.16       29\n",
      "sea                0.00    0.00      0.00        6\n",
      "ship               0.00    0.00      0.00       15\n",
      "tanks              0.03    0.67      0.06        6\n",
      "trees              0.54    0.52      0.53      111\n",
      "water              0.18    0.74      0.29       27\n",
      "micro avg          0.23    0.51      0.32      755\n",
      "macro avg          0.21    0.45      0.23      755\n",
      "weighted avg       0.43    0.51      0.44      755\n",
      "samples avg        0.23    0.53      0.31      755\n",
      "Epoch 19/25\n",
      "----------\n"
     ]
    },
    {
     "data": {
      "application/vnd.jupyter.widget-view+json": {
       "model_id": "6f9867e7e35f4fc4b6f68aba362fae21",
       "version_major": 2,
       "version_minor": 0
      },
      "text/plain": [
       "Training:   0%|          | 0/23 [00:00<?, ?it/s]"
      ]
     },
     "metadata": {},
     "output_type": "display_data"
    },
    {
     "data": {
      "application/vnd.jupyter.widget-view+json": {
       "model_id": "882cb97f9c444b3c8294351ca5676555",
       "version_major": 2,
       "version_minor": 0
      },
      "text/plain": [
       "Validation:   0%|          | 0/4 [00:00<?, ?it/s]"
      ]
     },
     "metadata": {},
     "output_type": "display_data"
    },
    {
     "name": "stdout",
     "output_type": "stream",
     "text": [
      "              precision  recall  f1-score  support\n",
      "airplane           0.06    0.71      0.11       14\n",
      "bare-soil          0.43    0.48      0.45       77\n",
      "buildings          0.41    0.14      0.21       76\n",
      "cars               0.45    0.61      0.52       96\n",
      "chaparral          0.00    0.00      0.00        9\n",
      "court              0.06    0.62      0.11        8\n",
      "dock               0.00    0.00      0.00       15\n",
      "field              0.07    0.88      0.13        8\n",
      "grass              0.49    0.57      0.53      109\n",
      "mobile-home        0.03    0.43      0.05        7\n",
      "pavement           0.67    0.52      0.58      142\n",
      "sand               0.09    0.31      0.13       29\n",
      "sea                0.00    0.00      0.00        6\n",
      "ship               0.00    0.00      0.00       15\n",
      "tanks              0.00    0.00      0.00        6\n",
      "trees              0.48    0.55      0.51      111\n",
      "water              0.17    0.85      0.28       27\n",
      "micro avg          0.21    0.48      0.30      755\n",
      "macro avg          0.20    0.39      0.21      755\n",
      "weighted avg       0.42    0.48      0.42      755\n",
      "samples avg        0.21    0.50      0.29      755\n",
      "Epoch 20/25\n",
      "----------\n"
     ]
    },
    {
     "data": {
      "application/vnd.jupyter.widget-view+json": {
       "model_id": "cb9a29ef02394e208f364b603643c3f3",
       "version_major": 2,
       "version_minor": 0
      },
      "text/plain": [
       "Training:   0%|          | 0/23 [00:00<?, ?it/s]"
      ]
     },
     "metadata": {},
     "output_type": "display_data"
    },
    {
     "data": {
      "application/vnd.jupyter.widget-view+json": {
       "model_id": "3dbdcf7e35d94ff0aa46b9915aedc2a4",
       "version_major": 2,
       "version_minor": 0
      },
      "text/plain": [
       "Validation:   0%|          | 0/4 [00:00<?, ?it/s]"
      ]
     },
     "metadata": {},
     "output_type": "display_data"
    },
    {
     "name": "stdout",
     "output_type": "stream",
     "text": [
      "              precision  recall  f1-score  support\n",
      "airplane           0.07    0.86      0.12       14\n",
      "bare-soil          0.36    0.32      0.34       77\n",
      "buildings          0.30    0.28      0.29       76\n",
      "cars               0.56    0.45      0.50       96\n",
      "chaparral          0.04    0.44      0.07        9\n",
      "court              0.06    0.62      0.10        8\n",
      "dock               0.04    0.27      0.08       15\n",
      "field              0.07    0.88      0.13        8\n",
      "grass              0.55    0.84      0.67      109\n",
      "mobile-home        0.05    0.71      0.09        7\n",
      "pavement           0.70    0.23      0.35      142\n",
      "sand               0.15    0.55      0.23       29\n",
      "sea                0.03    0.50      0.06        6\n",
      "ship               0.05    0.27      0.09       15\n",
      "tanks              0.02    0.17      0.03        6\n",
      "trees              0.53    0.57      0.55      111\n",
      "water              0.16    0.74      0.27       27\n",
      "micro avg          0.21    0.47      0.29      755\n",
      "macro avg          0.22    0.51      0.23      755\n",
      "weighted avg       0.44    0.47      0.40      755\n",
      "samples avg        0.21    0.49      0.29      755\n",
      "Epoch 21/25\n",
      "----------\n"
     ]
    },
    {
     "data": {
      "application/vnd.jupyter.widget-view+json": {
       "model_id": "337b7473c18f478faffcee6e295f3611",
       "version_major": 2,
       "version_minor": 0
      },
      "text/plain": [
       "Training:   0%|          | 0/23 [00:00<?, ?it/s]"
      ]
     },
     "metadata": {},
     "output_type": "display_data"
    },
    {
     "data": {
      "application/vnd.jupyter.widget-view+json": {
       "model_id": "c59bce92d74a434da6bbe5e8951a9919",
       "version_major": 2,
       "version_minor": 0
      },
      "text/plain": [
       "Validation:   0%|          | 0/4 [00:00<?, ?it/s]"
      ]
     },
     "metadata": {},
     "output_type": "display_data"
    },
    {
     "name": "stdout",
     "output_type": "stream",
     "text": [
      "              precision  recall  f1-score  support\n",
      "airplane           0.07    0.79      0.13       14\n",
      "bare-soil          0.32    0.60      0.42       77\n",
      "buildings          0.11    0.04      0.06       76\n",
      "cars               0.22    0.14      0.17       96\n",
      "chaparral          0.06    0.89      0.12        9\n",
      "court              0.04    0.50      0.08        8\n",
      "dock               0.05    0.20      0.09       15\n",
      "field              0.07    1.00      0.13        8\n",
      "grass              0.47    0.20      0.28      109\n",
      "mobile-home        0.03    0.57      0.06        7\n",
      "pavement           0.68    0.97      0.80      142\n",
      "sand               0.11    0.24      0.15       29\n",
      "sea                0.03    0.50      0.06        6\n",
      "ship               0.16    0.80      0.27       15\n",
      "tanks              0.02    0.17      0.04        6\n",
      "trees              0.49    0.73      0.58      111\n",
      "water              0.19    0.52      0.28       27\n",
      "micro avg          0.22    0.50      0.31      755\n",
      "macro avg          0.18    0.52      0.22      755\n",
      "weighted avg       0.36    0.50      0.38      755\n",
      "samples avg        0.22    0.52      0.30      755\n",
      "Epoch 22/25\n",
      "----------\n"
     ]
    },
    {
     "data": {
      "application/vnd.jupyter.widget-view+json": {
       "model_id": "dbc19305b5dc42b1aebeea632d37ac65",
       "version_major": 2,
       "version_minor": 0
      },
      "text/plain": [
       "Training:   0%|          | 0/23 [00:00<?, ?it/s]"
      ]
     },
     "metadata": {},
     "output_type": "display_data"
    },
    {
     "data": {
      "application/vnd.jupyter.widget-view+json": {
       "model_id": "42dd95cba7c64ab8ad6fc742102fd452",
       "version_major": 2,
       "version_minor": 0
      },
      "text/plain": [
       "Validation:   0%|          | 0/4 [00:00<?, ?it/s]"
      ]
     },
     "metadata": {},
     "output_type": "display_data"
    },
    {
     "name": "stdout",
     "output_type": "stream",
     "text": [
      "              precision  recall  f1-score  support\n",
      "airplane           0.08    0.93      0.15       14\n",
      "bare-soil          0.47    0.12      0.19       77\n",
      "buildings          0.26    0.37      0.31       76\n",
      "cars               0.59    0.50      0.54       96\n",
      "chaparral          0.06    0.22      0.10        9\n",
      "court              0.05    0.75      0.09        8\n",
      "dock               0.06    0.20      0.09       15\n",
      "field              0.04    0.75      0.08        8\n",
      "grass              0.50    0.29      0.37      109\n",
      "mobile-home        0.02    0.29      0.03        7\n",
      "pavement           0.72    0.86      0.78      142\n",
      "sand               0.16    0.31      0.21       29\n",
      "sea                0.04    1.00      0.08        6\n",
      "ship               0.10    0.80      0.18       15\n",
      "tanks              0.05    0.50      0.08        6\n",
      "trees              0.48    0.34      0.40      111\n",
      "water              0.15    0.78      0.25       27\n",
      "micro avg          0.21    0.48      0.30      755\n",
      "macro avg          0.22    0.53      0.23      755\n",
      "weighted avg       0.45    0.48      0.41      755\n",
      "samples avg        0.21    0.48      0.29      755\n",
      "Epoch 23/25\n",
      "----------\n"
     ]
    },
    {
     "data": {
      "application/vnd.jupyter.widget-view+json": {
       "model_id": "e748f5927cfd4d08b835c78cb5d1bc8d",
       "version_major": 2,
       "version_minor": 0
      },
      "text/plain": [
       "Training:   0%|          | 0/23 [00:00<?, ?it/s]"
      ]
     },
     "metadata": {},
     "output_type": "display_data"
    },
    {
     "data": {
      "application/vnd.jupyter.widget-view+json": {
       "model_id": "aed83bf976ef450ba61ccf9b2f26a3d6",
       "version_major": 2,
       "version_minor": 0
      },
      "text/plain": [
       "Validation:   0%|          | 0/4 [00:00<?, ?it/s]"
      ]
     },
     "metadata": {},
     "output_type": "display_data"
    },
    {
     "name": "stdout",
     "output_type": "stream",
     "text": [
      "              precision  recall  f1-score  support\n",
      "airplane           0.05    0.43      0.09       14\n",
      "bare-soil          0.30    0.13      0.18       77\n",
      "buildings          0.26    0.41      0.32       76\n",
      "cars               0.46    0.75      0.57       96\n",
      "chaparral          0.06    0.56      0.10        9\n",
      "court              0.03    0.25      0.05        8\n",
      "dock               0.11    0.60      0.19       15\n",
      "field              0.03    0.50      0.05        8\n",
      "grass              0.43    0.45      0.44      109\n",
      "mobile-home        0.03    0.43      0.06        7\n",
      "pavement           0.64    0.34      0.44      142\n",
      "sand               0.07    0.14      0.10       29\n",
      "sea                0.01    0.17      0.02        6\n",
      "ship               0.06    0.47      0.10       15\n",
      "tanks              0.00    0.00      0.00        6\n",
      "trees              0.53    0.59      0.56      111\n",
      "water              0.12    0.44      0.18       27\n",
      "micro avg          0.20    0.44      0.27      755\n",
      "macro avg          0.19    0.39      0.20      755\n",
      "weighted avg       0.39    0.44      0.37      755\n",
      "samples avg        0.20    0.44      0.26      755\n",
      "Epoch 24/25\n",
      "----------\n"
     ]
    },
    {
     "data": {
      "application/vnd.jupyter.widget-view+json": {
       "model_id": "2f64757c32774310a9dbc1ee26a30e55",
       "version_major": 2,
       "version_minor": 0
      },
      "text/plain": [
       "Training:   0%|          | 0/23 [00:00<?, ?it/s]"
      ]
     },
     "metadata": {},
     "output_type": "display_data"
    },
    {
     "data": {
      "application/vnd.jupyter.widget-view+json": {
       "model_id": "8a11b383c35b4a0e89117bde9a45a25a",
       "version_major": 2,
       "version_minor": 0
      },
      "text/plain": [
       "Validation:   0%|          | 0/4 [00:00<?, ?it/s]"
      ]
     },
     "metadata": {},
     "output_type": "display_data"
    },
    {
     "name": "stdout",
     "output_type": "stream",
     "text": [
      "              precision  recall  f1-score  support\n",
      "airplane           0.09    0.71      0.17       14\n",
      "bare-soil          0.38    0.64      0.48       77\n",
      "buildings          0.42    0.58      0.49       76\n",
      "cars               0.47    0.49      0.48       96\n",
      "chaparral          0.00    0.00      0.00        9\n",
      "court              0.04    0.75      0.07        8\n",
      "dock               0.03    0.13      0.04       15\n",
      "field              0.04    0.38      0.07        8\n",
      "grass              0.48    0.46      0.47      109\n",
      "mobile-home        0.03    0.29      0.06        7\n",
      "pavement           0.64    0.57      0.60      142\n",
      "sand               0.18    0.55      0.27       29\n",
      "sea                0.03    0.83      0.07        6\n",
      "ship               0.09    0.67      0.15       15\n",
      "tanks              0.03    0.50      0.06        6\n",
      "trees              0.44    0.38      0.41      111\n",
      "water              0.07    0.15      0.09       27\n",
      "micro avg          0.22    0.50      0.31      755\n",
      "macro avg          0.20    0.47      0.23      755\n",
      "weighted avg       0.41    0.50      0.42      755\n",
      "samples avg        0.22    0.48      0.30      755\n",
      "Epoch 25/25\n",
      "----------\n"
     ]
    },
    {
     "data": {
      "application/vnd.jupyter.widget-view+json": {
       "model_id": "7e5b775f2311487dbd50355b17abbbe0",
       "version_major": 2,
       "version_minor": 0
      },
      "text/plain": [
       "Training:   0%|          | 0/23 [00:00<?, ?it/s]"
      ]
     },
     "metadata": {},
     "output_type": "display_data"
    },
    {
     "data": {
      "application/vnd.jupyter.widget-view+json": {
       "model_id": "7d4b506d9bfc486ca619114a181a1f9c",
       "version_major": 2,
       "version_minor": 0
      },
      "text/plain": [
       "Validation:   0%|          | 0/4 [00:00<?, ?it/s]"
      ]
     },
     "metadata": {},
     "output_type": "display_data"
    },
    {
     "name": "stdout",
     "output_type": "stream",
     "text": [
      "              precision  recall  f1-score  support\n",
      "airplane           0.06    0.57      0.11       14\n",
      "bare-soil          0.39    0.42      0.40       77\n",
      "buildings          0.51    0.49      0.50       76\n",
      "cars               0.37    0.36      0.37       96\n",
      "chaparral          0.01    0.11      0.02        9\n",
      "court              0.00    0.00      0.00        8\n",
      "dock               0.09    0.53      0.15       15\n",
      "field              0.06    0.38      0.10        8\n",
      "grass              0.56    0.76      0.64      109\n",
      "mobile-home        0.03    0.43      0.05        7\n",
      "pavement           0.66    0.53      0.59      142\n",
      "sand               0.18    0.55      0.27       29\n",
      "sea                0.00    0.00      0.00        6\n",
      "ship               0.11    0.80      0.20       15\n",
      "tanks              0.00    0.00      0.00        6\n",
      "trees              0.57    0.57      0.57      111\n",
      "water              0.18    0.59      0.28       27\n",
      "micro avg          0.23    0.52      0.32      755\n",
      "macro avg          0.22    0.42      0.25      755\n",
      "weighted avg       0.45    0.52      0.46      755\n",
      "samples avg        0.23    0.53      0.31      755\n"
     ]
    }
   ],
   "source": [
    "avg_precision, train_loss, val_loss = [], [], []\n",
    "#We keep epoch = 18 because after valdiation increases so overshoot\n",
    "best_model, train_losses, val_losses, accuracy_scores, avg_precision_score = train(\n",
    "    model,\n",
    "    train_loader,\n",
    "    val_loader,\n",
    "    optimizer,\n",
    "    criterion,\n",
    "    epochs=18,\n",
    "    device=cuda_device,\n",
    ")\n",
    "eval_accuracies.append(accuracy_scores)"
   ]
  },
  {
   "cell_type": "code",
   "execution_count": 117,
   "id": "1ff1539d-164b-446d-8f73-05dfe3ce4cde",
   "metadata": {
    "execution": {
     "iopub.execute_input": "2022-07-17T11:07:00.588510Z",
     "iopub.status.busy": "2022-07-17T11:07:00.587448Z",
     "iopub.status.idle": "2022-07-17T11:07:00.778140Z",
     "shell.execute_reply": "2022-07-17T11:07:00.777119Z",
     "shell.execute_reply.started": "2022-07-17T11:07:00.588480Z"
    }
   },
   "outputs": [
    {
     "data": {
      "text/plain": [
       "<matplotlib.legend.Legend at 0x7f5b2e7f6400>"
      ]
     },
     "execution_count": 117,
     "metadata": {},
     "output_type": "execute_result"
    },
    {
     "data": {
      "image/png": "[encoded data removed]",
      "text/plain": [
       "<Figure size 432x288 with 1 Axes>"
      ]
     },
     "metadata": {
      "needs_background": "light"
     },
     "output_type": "display_data"
    }
   ],
   "source": [
    "from matplotlib.ticker import MaxNLocator\n",
    "# Training loss and validation loss plot\n",
    "avg_prec, train_loss, val_loss, epoch = [], [], [], []\n",
    "train_loss.append(train_losses)\n",
    "val_loss.append(val_losses)\n",
    "avg_prec.append(avg_precision_score)\n",
    "\n",
    "\n",
    "    \n",
    "fig, ax = plt.subplots(1, 1)\n",
    "ax.xaxis.set_major_locator(MaxNLocator(integer=True))\n",
    "ax.plot(np.arange(1, len(train_loss[0]) + 1), train_loss[0], color = 'red', label= \"Training Loss\")\n",
    "ax.plot(np.arange(1, len(val_loss[0]) + 1), val_loss[0], color = 'blue', label=\"Validation Loss\")\n",
    "ax.plot(np.arange(1, len(avg_prec[0]) + 1), avg_prec[0], color = 'Green', label=\"Average Precision Score\")\n",
    "ax.set_xlabel(\"epochs\")\n",
    "ax.set_ylabel(\"accuracy\")\n",
    "ax.legend()"
   ]
  },
  {
   "cell_type": "code",
   "execution_count": null,
   "id": "c8c05c21-baf6-46af-8161-4c56f00557d9",
   "metadata": {},
   "outputs": [],
   "source": [
    "# Add some explanation here"
   ]
  },
  {
   "cell_type": "code",
   "execution_count": null,
   "id": "4ed13c15-5675-468d-9870-830c840b5b61",
   "metadata": {},
   "outputs": [],
   "source": [
    "# Also check testing the model"
   ]
  },
  {
   "cell_type": "markdown",
   "id": "08233481-9997-46a0-8adc-93d0fe110af1",
   "metadata": {},
   "source": [
    "### Data Augmentation of our choice\n",
    "The Data Augmentation methods we will use are:\n",
    "1) Random Cropping\n",
    "2) Random Vertical Flip\n",
    "3) Color Jitter\n"
   ]
  },
  {
   "cell_type": "code",
   "execution_count": 98,
   "id": "c6d4d224-2f16-4e46-903b-ee551b88fb52",
   "metadata": {
    "execution": {
     "iopub.execute_input": "2022-07-17T12:51:18.951177Z",
     "iopub.status.busy": "2022-07-17T12:51:18.950722Z",
     "iopub.status.idle": "2022-07-17T12:51:18.960542Z",
     "shell.execute_reply": "2022-07-17T12:51:18.959285Z",
     "shell.execute_reply.started": "2022-07-17T12:51:18.951177Z"
    }
   },
   "outputs": [],
   "source": [
    "ucm_mean = [0.595425, 0.3518577, 0.3225522]\n",
    "ucm_std = [0.19303136, 0.12492529, 0.10577361]\n",
    "\n",
    "\n",
    "tr_transform = transforms.Compose(\n",
    "    [\n",
    "        transforms.Resize((256, 256)),\n",
    "        transforms.RandomCrop((224,224)),\n",
    "        transforms.RandomVerticalFlip(p=0.5),\n",
    "        transforms.ColorJitter(brightness=0.5, contrast=0.3), \n",
    "        transforms.ToTensor(),\n",
    "        transforms.Normalize(mean=ucm_mean, std=ucm_std),\n",
    "    ]\n",
    ")\n",
    "\n",
    "te_transform = transforms.Compose(\n",
    "    [\n",
    "        transforms.Resize((256, 256)),\n",
    "        transforms.RandomCrop((224,224)),\n",
    "        transforms.RandomVerticalFlip(p=0.5),\n",
    "        transforms.ColorJitter(brightness=0.5, contrast=0.3), \n",
    "        transforms.ToTensor(),\n",
    "        transforms.Normalize(mean=ucm_mean, std=ucm_std),\n",
    "    ]\n",
    ")"
   ]
  },
  {
   "cell_type": "code",
   "execution_count": 99,
   "id": "68b3f2cb-9765-4ecb-85db-07d284229d0e",
   "metadata": {
    "execution": {
     "iopub.execute_input": "2022-07-17T12:51:19.540012Z",
     "iopub.status.busy": "2022-07-17T12:51:19.539554Z",
     "iopub.status.idle": "2022-07-17T12:51:20.485273Z",
     "shell.execute_reply": "2022-07-17T12:51:20.484408Z",
     "shell.execute_reply.started": "2022-07-17T12:51:19.539969Z"
    }
   },
   "outputs": [
    {
     "data": {
      "text/plain": [
       "Text(0.5, 1.0, 'Transformed Image 4')"
      ]
     },
     "execution_count": 99,
     "metadata": {},
     "output_type": "execute_result"
    },
    {
     "data": {
      "image/png": "[encoded data removed]",
      "text/plain": [
       "<Figure size 720x504 with 4 Axes>"
      ]
     },
     "metadata": {
      "needs_background": "light"
     },
     "output_type": "display_data"
    }
   ],
   "source": [
    "#We  wanna see how this transform affect our image\n",
    "\n",
    "#Path declaration\n",
    "path = os.path.join(\"/notebooks\", \"Hw3_data\", \"UCMerced_LandUse\", \"Images\", \"airplane\", \"\")\n",
    "\n",
    "\n",
    "#Import all images\n",
    "from PIL import Image\n",
    "import os, os.path\n",
    "\n",
    "imgs = []\n",
    "path = path\n",
    "valid_images = [\".tif\"]\n",
    "for f in os.listdir(path):\n",
    "    ext = os.path.splitext(f)[1]\n",
    "    if ext.lower() not in valid_images:\n",
    "        continue\n",
    "    imgs.append(Image.open(os.path.join(path,f)))\n",
    "\n",
    "    \n",
    "\n",
    "\n",
    "#Display transformed Image\n",
    "rotate_img = transforms.Compose(\n",
    "    [\n",
    "        transforms.Resize((256, 256)),\n",
    "        transforms.RandomCrop((224,224)),\n",
    "        transforms.RandomVerticalFlip(p=0.5),\n",
    "        transforms.ColorJitter(brightness=0.5, contrast=0.3),\n",
    "        \n",
    "    ]\n",
    ")\n",
    "\n",
    "\n",
    "#Transform Images\n",
    "transformed_image1 = rotate_img(imgs[1])\n",
    "transformed_image2 = rotate_img(imgs[2])\n",
    "transformed_image3 = rotate_img(imgs[3])\n",
    "transformed_image4 = rotate_img(imgs[4])\n",
    "\n",
    "#Display Images\n",
    "fig = plt.figure(figsize=(10, 7))\n",
    "fig.add_subplot(2, 2, 1)\n",
    "plt.imshow(transformed_image1)\n",
    "plt.title(\"Transformed Image 1\")\n",
    "\n",
    "          \n",
    "fig.add_subplot(2,2,2)\n",
    "plt.imshow(transformed_image2)\n",
    "plt.title(\"Transformed Image 2\")\n",
    "\n",
    "fig.add_subplot(2,2,3)\n",
    "plt.imshow(transformed_image3)\n",
    "plt.title(\"Transformed Image 3\")\n",
    "\n",
    "fig.add_subplot(2,2,4)\n",
    "plt.imshow(transformed_image4)\n",
    "plt.title(\"Transformed Image 4\")\n",
    "\n",
    "\n",
    "\n",
    "\n",
    "    \n",
    "    \n",
    "\n"
   ]
  },
  {
   "cell_type": "code",
   "execution_count": 100,
   "id": "35738670-4f45-4e89-a37d-83153f5ae669",
   "metadata": {
    "execution": {
     "iopub.execute_input": "2022-07-17T12:51:20.487372Z",
     "iopub.status.busy": "2022-07-17T12:51:20.487064Z",
     "iopub.status.idle": "2022-07-17T12:51:20.493228Z",
     "shell.execute_reply": "2022-07-17T12:51:20.491489Z",
     "shell.execute_reply.started": "2022-07-17T12:51:20.487344Z"
    }
   },
   "outputs": [],
   "source": [
    "#Choose our parameter\n",
    "batch_size = 64\n",
    "learning_rate = 0.001\n",
    "epochs = 20"
   ]
  },
  {
   "cell_type": "code",
   "execution_count": 101,
   "id": "f76088a7-53de-4b27-b02f-8590cf7da820",
   "metadata": {
    "execution": {
     "iopub.execute_input": "2022-07-17T12:51:22.648178Z",
     "iopub.status.busy": "2022-07-17T12:51:22.647904Z",
     "iopub.status.idle": "2022-07-17T12:51:23.271246Z",
     "shell.execute_reply": "2022-07-17T12:51:23.270263Z",
     "shell.execute_reply.started": "2022-07-17T12:51:22.648145Z"
    }
   },
   "outputs": [],
   "source": [
    "trainset, valset, testset = get_dataset(\n",
    "    \"./Hw3_data/UCMerced_LandUse\",\n",
    "    tr_transform=tr_transform,\n",
    "    multilabel=True\n",
    ")"
   ]
  },
  {
   "cell_type": "code",
   "execution_count": 102,
   "id": "d99fc39b-15a1-4656-8289-24f725e41e58",
   "metadata": {
    "execution": {
     "iopub.execute_input": "2022-07-17T12:51:23.284017Z",
     "iopub.status.busy": "2022-07-17T12:51:23.283585Z",
     "iopub.status.idle": "2022-07-17T12:51:23.291828Z",
     "shell.execute_reply": "2022-07-17T12:51:23.290172Z",
     "shell.execute_reply.started": "2022-07-17T12:51:23.283975Z"
    }
   },
   "outputs": [],
   "source": [
    "train_loader = DataLoader(trainset, batch_size=batch_size, shuffle=True, pin_memory=True)\n",
    "val_loader = DataLoader(valset, batch_size=batch_size, shuffle=False, pin_memory=True)\n",
    "test_loader = DataLoader(testset, batch_size=batch_size, shuffle=False, pin_memory=True)"
   ]
  },
  {
   "cell_type": "code",
   "execution_count": 103,
   "id": "02b99f20-45ce-4f61-8ecd-f9d457707b83",
   "metadata": {
    "execution": {
     "iopub.execute_input": "2022-07-17T12:51:24.820621Z",
     "iopub.status.busy": "2022-07-17T12:51:24.820262Z",
     "iopub.status.idle": "2022-07-17T12:51:25.171978Z",
     "shell.execute_reply": "2022-07-17T12:51:25.169987Z",
     "shell.execute_reply.started": "2022-07-17T12:51:24.820593Z"
    }
   },
   "outputs": [
    {
     "data": {
      "text/plain": [
       "ResNet(\n",
       "  (conv1): Conv2d(3, 64, kernel_size=(7, 7), stride=(2, 2), padding=(3, 3), bias=False)\n",
       "  (bn1): BatchNorm2d(64, eps=1e-05, momentum=0.1, affine=True, track_running_stats=True)\n",
       "  (relu): ReLU(inplace=True)\n",
       "  (maxpool): MaxPool2d(kernel_size=3, stride=2, padding=1, dilation=1, ceil_mode=False)\n",
       "  (layer1): Sequential(\n",
       "    (0): BasicBlock(\n",
       "      (conv1): Conv2d(64, 64, kernel_size=(3, 3), stride=(1, 1), padding=(1, 1), bias=False)\n",
       "      (bn1): BatchNorm2d(64, eps=1e-05, momentum=0.1, affine=True, track_running_stats=True)\n",
       "      (relu): ReLU(inplace=True)\n",
       "      (conv2): Conv2d(64, 64, kernel_size=(3, 3), stride=(1, 1), padding=(1, 1), bias=False)\n",
       "      (bn2): BatchNorm2d(64, eps=1e-05, momentum=0.1, affine=True, track_running_stats=True)\n",
       "    )\n",
       "    (1): BasicBlock(\n",
       "      (conv1): Conv2d(64, 64, kernel_size=(3, 3), stride=(1, 1), padding=(1, 1), bias=False)\n",
       "      (bn1): BatchNorm2d(64, eps=1e-05, momentum=0.1, affine=True, track_running_stats=True)\n",
       "      (relu): ReLU(inplace=True)\n",
       "      (conv2): Conv2d(64, 64, kernel_size=(3, 3), stride=(1, 1), padding=(1, 1), bias=False)\n",
       "      (bn2): BatchNorm2d(64, eps=1e-05, momentum=0.1, affine=True, track_running_stats=True)\n",
       "    )\n",
       "  )\n",
       "  (layer2): Sequential(\n",
       "    (0): BasicBlock(\n",
       "      (conv1): Conv2d(64, 128, kernel_size=(3, 3), stride=(2, 2), padding=(1, 1), bias=False)\n",
       "      (bn1): BatchNorm2d(128, eps=1e-05, momentum=0.1, affine=True, track_running_stats=True)\n",
       "      (relu): ReLU(inplace=True)\n",
       "      (conv2): Conv2d(128, 128, kernel_size=(3, 3), stride=(1, 1), padding=(1, 1), bias=False)\n",
       "      (bn2): BatchNorm2d(128, eps=1e-05, momentum=0.1, affine=True, track_running_stats=True)\n",
       "      (downsample): Sequential(\n",
       "        (0): Conv2d(64, 128, kernel_size=(1, 1), stride=(2, 2), bias=False)\n",
       "        (1): BatchNorm2d(128, eps=1e-05, momentum=0.1, affine=True, track_running_stats=True)\n",
       "      )\n",
       "    )\n",
       "    (1): BasicBlock(\n",
       "      (conv1): Conv2d(128, 128, kernel_size=(3, 3), stride=(1, 1), padding=(1, 1), bias=False)\n",
       "      (bn1): BatchNorm2d(128, eps=1e-05, momentum=0.1, affine=True, track_running_stats=True)\n",
       "      (relu): ReLU(inplace=True)\n",
       "      (conv2): Conv2d(128, 128, kernel_size=(3, 3), stride=(1, 1), padding=(1, 1), bias=False)\n",
       "      (bn2): BatchNorm2d(128, eps=1e-05, momentum=0.1, affine=True, track_running_stats=True)\n",
       "    )\n",
       "  )\n",
       "  (layer3): Sequential(\n",
       "    (0): BasicBlock(\n",
       "      (conv1): Conv2d(128, 256, kernel_size=(3, 3), stride=(2, 2), padding=(1, 1), bias=False)\n",
       "      (bn1): BatchNorm2d(256, eps=1e-05, momentum=0.1, affine=True, track_running_stats=True)\n",
       "      (relu): ReLU(inplace=True)\n",
       "      (conv2): Conv2d(256, 256, kernel_size=(3, 3), stride=(1, 1), padding=(1, 1), bias=False)\n",
       "      (bn2): BatchNorm2d(256, eps=1e-05, momentum=0.1, affine=True, track_running_stats=True)\n",
       "      (downsample): Sequential(\n",
       "        (0): Conv2d(128, 256, kernel_size=(1, 1), stride=(2, 2), bias=False)\n",
       "        (1): BatchNorm2d(256, eps=1e-05, momentum=0.1, affine=True, track_running_stats=True)\n",
       "      )\n",
       "    )\n",
       "    (1): BasicBlock(\n",
       "      (conv1): Conv2d(256, 256, kernel_size=(3, 3), stride=(1, 1), padding=(1, 1), bias=False)\n",
       "      (bn1): BatchNorm2d(256, eps=1e-05, momentum=0.1, affine=True, track_running_stats=True)\n",
       "      (relu): ReLU(inplace=True)\n",
       "      (conv2): Conv2d(256, 256, kernel_size=(3, 3), stride=(1, 1), padding=(1, 1), bias=False)\n",
       "      (bn2): BatchNorm2d(256, eps=1e-05, momentum=0.1, affine=True, track_running_stats=True)\n",
       "    )\n",
       "  )\n",
       "  (layer4): Sequential(\n",
       "    (0): BasicBlock(\n",
       "      (conv1): Conv2d(256, 512, kernel_size=(3, 3), stride=(2, 2), padding=(1, 1), bias=False)\n",
       "      (bn1): BatchNorm2d(512, eps=1e-05, momentum=0.1, affine=True, track_running_stats=True)\n",
       "      (relu): ReLU(inplace=True)\n",
       "      (conv2): Conv2d(512, 512, kernel_size=(3, 3), stride=(1, 1), padding=(1, 1), bias=False)\n",
       "      (bn2): BatchNorm2d(512, eps=1e-05, momentum=0.1, affine=True, track_running_stats=True)\n",
       "      (downsample): Sequential(\n",
       "        (0): Conv2d(256, 512, kernel_size=(1, 1), stride=(2, 2), bias=False)\n",
       "        (1): BatchNorm2d(512, eps=1e-05, momentum=0.1, affine=True, track_running_stats=True)\n",
       "      )\n",
       "    )\n",
       "    (1): BasicBlock(\n",
       "      (conv1): Conv2d(512, 512, kernel_size=(3, 3), stride=(1, 1), padding=(1, 1), bias=False)\n",
       "      (bn1): BatchNorm2d(512, eps=1e-05, momentum=0.1, affine=True, track_running_stats=True)\n",
       "      (relu): ReLU(inplace=True)\n",
       "      (conv2): Conv2d(512, 512, kernel_size=(3, 3), stride=(1, 1), padding=(1, 1), bias=False)\n",
       "      (bn2): BatchNorm2d(512, eps=1e-05, momentum=0.1, affine=True, track_running_stats=True)\n",
       "    )\n",
       "  )\n",
       "  (avgpool): AdaptiveAvgPool2d(output_size=(1, 1))\n",
       "  (fc): Linear(in_features=512, out_features=17, bias=True)\n",
       ")"
      ]
     },
     "execution_count": 103,
     "metadata": {},
     "output_type": "execute_result"
    }
   ],
   "source": [
    "model = models.resnet18(weights=ResNet18_Weights.DEFAULT)\n",
    "model.fc = nn.Linear(512, 17) #21 - number of classes\n",
    "model.to(cuda_device)"
   ]
  },
  {
   "cell_type": "code",
   "execution_count": 104,
   "id": "ce546c8e-8d9b-46b3-85b7-56eb74c98fad",
   "metadata": {
    "execution": {
     "iopub.execute_input": "2022-07-17T12:51:26.001179Z",
     "iopub.status.busy": "2022-07-17T12:51:26.000797Z",
     "iopub.status.idle": "2022-07-17T12:51:26.008133Z",
     "shell.execute_reply": "2022-07-17T12:51:26.006631Z",
     "shell.execute_reply.started": "2022-07-17T12:51:26.001150Z"
    }
   },
   "outputs": [],
   "source": [
    "import torch.optim as optim\n",
    "from torch.optim import lr_scheduler\n",
    "\n",
    "\n",
    "#Criterion\n",
    "criterion = nn.BCEWithLogitsLoss().to(cuda_device)\n",
    "#criterion = nn.CrossEntropyLoss()\n",
    "\n",
    "\n",
    "\n",
    "\n",
    "# specify optimizer\n",
    "optimizer = optim.Adam(model.parameters(), lr=0.001, weight_decay=0.0001)"
   ]
  },
  {
   "cell_type": "code",
   "execution_count": 105,
   "id": "6c5b720c-2c4f-49ec-adec-2a092f41532a",
   "metadata": {
    "execution": {
     "iopub.execute_input": "2022-07-17T12:51:27.395699Z",
     "iopub.status.busy": "2022-07-17T12:51:27.395175Z",
     "iopub.status.idle": "2022-07-17T13:02:39.406952Z",
     "shell.execute_reply": "2022-07-17T13:02:39.405010Z",
     "shell.execute_reply.started": "2022-07-17T12:51:27.395660Z"
    }
   },
   "outputs": [
    {
     "name": "stdout",
     "output_type": "stream",
     "text": [
      "Epoch 1/25\n",
      "----------\n"
     ]
    },
    {
     "data": {
      "application/vnd.jupyter.widget-view+json": {
       "model_id": "a7613419836c4d8bb8dea70e2f6f4c50",
       "version_major": 2,
       "version_minor": 0
      },
      "text/plain": [
       "Training:   0%|          | 0/23 [00:00<?, ?it/s]"
      ]
     },
     "metadata": {},
     "output_type": "display_data"
    },
    {
     "data": {
      "application/vnd.jupyter.widget-view+json": {
       "model_id": "d85eb3c2de6b4b4f9acdbaf4476d6e57",
       "version_major": 2,
       "version_minor": 0
      },
      "text/plain": [
       "Validation:   0%|          | 0/4 [00:00<?, ?it/s]"
      ]
     },
     "metadata": {},
     "output_type": "display_data"
    },
    {
     "name": "stdout",
     "output_type": "stream",
     "text": [
      "              precision  recall  f1-score  support\n",
      "airplane           0.00    0.00      0.00       16\n",
      "bare-soil          0.30    0.75      0.43       55\n",
      "buildings          0.41    0.70      0.52       73\n",
      "cars               0.42    0.70      0.52       81\n",
      "chaparral          0.01    0.10      0.01       10\n",
      "court              0.03    0.23      0.06       13\n",
      "dock               0.07    0.31      0.11       13\n",
      "field              0.01    0.12      0.02        8\n",
      "grass              0.42    0.44      0.43       90\n",
      "mobile-home        0.06    0.46      0.10       13\n",
      "pavement           1.00    0.01      0.02      127\n",
      "sand               0.17    0.86      0.28       35\n",
      "sea                0.09    0.62      0.16       16\n",
      "ship               0.05    0.46      0.09       13\n",
      "tanks              0.01    0.07      0.02       15\n",
      "trees              0.42    0.36      0.39       91\n",
      "water              0.04    0.17      0.07       23\n",
      "micro avg          0.17    0.42      0.24      692\n",
      "macro avg          0.21    0.37      0.19      692\n",
      "weighted avg       0.43    0.42      0.29      692\n",
      "samples avg        0.17    0.41      0.23      692\n",
      "Epoch 2/25\n",
      "----------\n"
     ]
    },
    {
     "data": {
      "application/vnd.jupyter.widget-view+json": {
       "model_id": "57c7f934c22c486cb9f9839512f5f200",
       "version_major": 2,
       "version_minor": 0
      },
      "text/plain": [
       "Training:   0%|          | 0/23 [00:00<?, ?it/s]"
      ]
     },
     "metadata": {},
     "output_type": "display_data"
    },
    {
     "data": {
      "application/vnd.jupyter.widget-view+json": {
       "model_id": "fa6f878dcb204facb91f2bdef6ebc7bd",
       "version_major": 2,
       "version_minor": 0
      },
      "text/plain": [
       "Validation:   0%|          | 0/4 [00:00<?, ?it/s]"
      ]
     },
     "metadata": {},
     "output_type": "display_data"
    },
    {
     "name": "stdout",
     "output_type": "stream",
     "text": [
      "              precision  recall  f1-score  support\n",
      "airplane           0.07    0.44      0.12       16\n",
      "bare-soil          0.28    0.75      0.41       55\n",
      "buildings          0.03    0.03      0.03       73\n",
      "cars               0.21    0.10      0.13       81\n",
      "chaparral          0.06    1.00      0.10       10\n",
      "court              0.07    0.92      0.14       13\n",
      "dock               0.16    1.00      0.27       13\n",
      "field              0.00    0.00      0.00        8\n",
      "grass              0.50    0.29      0.37       90\n",
      "mobile-home        0.08    0.38      0.13       13\n",
      "pavement           0.70    0.60      0.64      127\n",
      "sand               0.18    0.97      0.30       35\n",
      "sea                0.04    0.31      0.08       16\n",
      "ship               0.00    0.00      0.00       13\n",
      "tanks              0.05    0.20      0.08       15\n",
      "trees              0.42    0.21      0.28       91\n",
      "water              0.15    0.74      0.25       23\n",
      "micro avg          0.17    0.40      0.23      692\n",
      "macro avg          0.18    0.47      0.20      692\n",
      "weighted avg       0.32    0.40      0.30      692\n",
      "samples avg        0.17    0.41      0.23      692\n",
      "Epoch 3/25\n",
      "----------\n"
     ]
    },
    {
     "data": {
      "application/vnd.jupyter.widget-view+json": {
       "model_id": "068edc16a55e4c06bfa9571081f5b65f",
       "version_major": 2,
       "version_minor": 0
      },
      "text/plain": [
       "Training:   0%|          | 0/23 [00:00<?, ?it/s]"
      ]
     },
     "metadata": {},
     "output_type": "display_data"
    },
    {
     "data": {
      "application/vnd.jupyter.widget-view+json": {
       "model_id": "e748395bc9dc44bfa43c710af42f8d8f",
       "version_major": 2,
       "version_minor": 0
      },
      "text/plain": [
       "Validation:   0%|          | 0/4 [00:00<?, ?it/s]"
      ]
     },
     "metadata": {},
     "output_type": "display_data"
    },
    {
     "name": "stdout",
     "output_type": "stream",
     "text": [
      "              precision  recall  f1-score  support\n",
      "airplane           0.04    0.19      0.07       16\n",
      "bare-soil          0.26    0.55      0.36       55\n",
      "buildings          0.41    0.82      0.55       73\n",
      "cars               0.27    0.36      0.31       81\n",
      "chaparral          0.09    0.70      0.15       10\n",
      "court              0.16    0.23      0.19       13\n",
      "dock               0.08    1.00      0.14       13\n",
      "field              0.00    0.00      0.00        8\n",
      "grass              0.38    0.17      0.23       90\n",
      "mobile-home        0.08    0.92      0.15       13\n",
      "pavement           0.54    0.43      0.48      127\n",
      "sand               0.09    0.40      0.15       35\n",
      "sea                0.09    0.75      0.16       16\n",
      "ship               0.00    0.00      0.00       13\n",
      "tanks              0.03    0.13      0.04       15\n",
      "trees              0.28    0.21      0.24       91\n",
      "water              0.12    0.43      0.19       23\n",
      "micro avg          0.17    0.41      0.24      692\n",
      "macro avg          0.17    0.43      0.20      692\n",
      "weighted avg       0.30    0.41      0.30      692\n",
      "samples avg        0.17    0.40      0.23      692\n",
      "Epoch 4/25\n",
      "----------\n"
     ]
    },
    {
     "data": {
      "application/vnd.jupyter.widget-view+json": {
       "model_id": "2ebbfea281474d81846cbae129245efa",
       "version_major": 2,
       "version_minor": 0
      },
      "text/plain": [
       "Training:   0%|          | 0/23 [00:00<?, ?it/s]"
      ]
     },
     "metadata": {},
     "output_type": "display_data"
    },
    {
     "data": {
      "application/vnd.jupyter.widget-view+json": {
       "model_id": "67179c26e3dd43dcaa1305b719077dde",
       "version_major": 2,
       "version_minor": 0
      },
      "text/plain": [
       "Validation:   0%|          | 0/4 [00:00<?, ?it/s]"
      ]
     },
     "metadata": {},
     "output_type": "display_data"
    },
    {
     "name": "stdout",
     "output_type": "stream",
     "text": [
      "              precision  recall  f1-score  support\n",
      "airplane           0.05    0.12      0.08       16\n",
      "bare-soil          0.17    0.22      0.19       55\n",
      "buildings          0.49    0.60      0.54       73\n",
      "cars               0.32    0.64      0.43       81\n",
      "chaparral          0.07    1.00      0.13       10\n",
      "court              0.36    0.62      0.46       13\n",
      "dock               0.00    0.00      0.00       13\n",
      "field              0.07    1.00      0.14        8\n",
      "grass              0.54    0.23      0.33       90\n",
      "mobile-home        0.02    0.31      0.04       13\n",
      "pavement           0.46    0.39      0.42      127\n",
      "sand               0.19    0.86      0.31       35\n",
      "sea                0.02    0.19      0.04       16\n",
      "ship               0.07    0.92      0.13       13\n",
      "tanks              0.00    0.00      0.00       15\n",
      "trees              0.36    0.27      0.31       91\n",
      "water              0.14    0.70      0.24       23\n",
      "micro avg          0.18    0.43      0.25      692\n",
      "macro avg          0.20    0.47      0.22      692\n",
      "weighted avg       0.33    0.43      0.32      692\n",
      "samples avg        0.18    0.45      0.24      692\n",
      "Epoch 5/25\n",
      "----------\n"
     ]
    },
    {
     "data": {
      "application/vnd.jupyter.widget-view+json": {
       "model_id": "27a08b18aa20461797ea7e5563ff67f2",
       "version_major": 2,
       "version_minor": 0
      },
      "text/plain": [
       "Training:   0%|          | 0/23 [00:00<?, ?it/s]"
      ]
     },
     "metadata": {},
     "output_type": "display_data"
    },
    {
     "data": {
      "application/vnd.jupyter.widget-view+json": {
       "model_id": "a06dbaf115fc4bc1a20b5c201758d99a",
       "version_major": 2,
       "version_minor": 0
      },
      "text/plain": [
       "Validation:   0%|          | 0/4 [00:00<?, ?it/s]"
      ]
     },
     "metadata": {},
     "output_type": "display_data"
    },
    {
     "name": "stdout",
     "output_type": "stream",
     "text": [
      "              precision  recall  f1-score  support\n",
      "airplane           0.24    0.56      0.33       16\n",
      "bare-soil          0.25    0.20      0.22       55\n",
      "buildings          0.19    0.29      0.23       73\n",
      "cars               0.40    0.83      0.54       81\n",
      "chaparral          0.08    1.00      0.14       10\n",
      "court              0.16    0.54      0.25       13\n",
      "dock               0.10    1.00      0.18       13\n",
      "field              0.06    1.00      0.11        8\n",
      "grass              0.65    0.76      0.70       90\n",
      "mobile-home        0.04    0.15      0.07       13\n",
      "pavement           0.54    0.59      0.57      127\n",
      "sand               0.19    0.54      0.28       35\n",
      "sea                0.08    0.94      0.14       16\n",
      "ship               0.00    0.00      0.00       13\n",
      "tanks              0.05    0.20      0.08       15\n",
      "trees              0.33    0.18      0.23       91\n",
      "water              0.16    0.65      0.26       23\n",
      "micro avg          0.21    0.52      0.30      692\n",
      "macro avg          0.21    0.55      0.25      692\n",
      "weighted avg       0.35    0.52      0.38      692\n",
      "samples avg        0.21    0.52      0.29      692\n",
      "Epoch 6/25\n",
      "----------\n"
     ]
    },
    {
     "data": {
      "application/vnd.jupyter.widget-view+json": {
       "model_id": "f1f030d3582e44bcb21f9c2e7fcfbbe9",
       "version_major": 2,
       "version_minor": 0
      },
      "text/plain": [
       "Training:   0%|          | 0/23 [00:00<?, ?it/s]"
      ]
     },
     "metadata": {},
     "output_type": "display_data"
    },
    {
     "data": {
      "application/vnd.jupyter.widget-view+json": {
       "model_id": "913978e2ca89449e99bc1b2f293407e9",
       "version_major": 2,
       "version_minor": 0
      },
      "text/plain": [
       "Validation:   0%|          | 0/4 [00:00<?, ?it/s]"
      ]
     },
     "metadata": {},
     "output_type": "display_data"
    },
    {
     "name": "stdout",
     "output_type": "stream",
     "text": [
      "              precision  recall  f1-score  support\n",
      "airplane           0.20    0.81      0.32       16\n",
      "bare-soil          0.39    0.33      0.36       55\n",
      "buildings          0.28    0.55      0.37       73\n",
      "cars               0.20    0.28      0.23       81\n",
      "chaparral          0.01    0.10      0.02       10\n",
      "court              0.09    0.15      0.11       13\n",
      "dock               0.11    1.00      0.20       13\n",
      "field              0.06    1.00      0.11        8\n",
      "grass              0.65    0.48      0.55       90\n",
      "mobile-home        0.09    1.00      0.16       13\n",
      "pavement           0.45    0.49      0.47      127\n",
      "sand               0.20    0.86      0.33       35\n",
      "sea                0.00    0.00      0.00       16\n",
      "ship               0.00    0.00      0.00       13\n",
      "tanks              0.04    0.33      0.07       15\n",
      "trees              0.55    0.80      0.65       91\n",
      "water              0.06    0.04      0.05       23\n",
      "micro avg          0.21    0.50      0.29      692\n",
      "macro avg          0.20    0.48      0.24      692\n",
      "weighted avg       0.35    0.50      0.38      692\n",
      "samples avg        0.21    0.48      0.28      692\n",
      "Epoch 7/25\n",
      "----------\n"
     ]
    },
    {
     "data": {
      "application/vnd.jupyter.widget-view+json": {
       "model_id": "7203d82eb8fe46a18b91ed2add56eab8",
       "version_major": 2,
       "version_minor": 0
      },
      "text/plain": [
       "Training:   0%|          | 0/23 [00:00<?, ?it/s]"
      ]
     },
     "metadata": {},
     "output_type": "display_data"
    },
    {
     "data": {
      "application/vnd.jupyter.widget-view+json": {
       "model_id": "9f6a2685a4724ac4beed842dabbf23e4",
       "version_major": 2,
       "version_minor": 0
      },
      "text/plain": [
       "Validation:   0%|          | 0/4 [00:00<?, ?it/s]"
      ]
     },
     "metadata": {},
     "output_type": "display_data"
    },
    {
     "name": "stdout",
     "output_type": "stream",
     "text": [
      "              precision  recall  f1-score  support\n",
      "airplane           0.11    0.56      0.18       16\n",
      "bare-soil          0.15    0.07      0.10       55\n",
      "buildings          0.33    0.41      0.37       73\n",
      "cars               0.28    0.35      0.31       81\n",
      "chaparral          0.00    0.00      0.00       10\n",
      "court              0.02    0.15      0.03       13\n",
      "dock               0.03    0.08      0.05       13\n",
      "field              0.00    0.00      0.00        8\n",
      "grass              0.30    0.46      0.36       90\n",
      "mobile-home        0.12    0.85      0.22       13\n",
      "pavement           0.62    0.37      0.46      127\n",
      "sand               0.20    1.00      0.33       35\n",
      "sea                0.05    0.44      0.08       16\n",
      "ship               0.01    0.08      0.01       13\n",
      "tanks              0.05    0.47      0.09       15\n",
      "trees              0.42    0.27      0.33       91\n",
      "water              0.09    0.65      0.16       23\n",
      "micro avg          0.16    0.38      0.22      692\n",
      "macro avg          0.16    0.36      0.18      692\n",
      "weighted avg       0.31    0.38      0.29      692\n",
      "samples avg        0.16    0.38      0.21      692\n",
      "Epoch 8/25\n",
      "----------\n"
     ]
    },
    {
     "data": {
      "application/vnd.jupyter.widget-view+json": {
       "model_id": "0bb92e9ea84845a6bda91138e6fbe6de",
       "version_major": 2,
       "version_minor": 0
      },
      "text/plain": [
       "Training:   0%|          | 0/23 [00:00<?, ?it/s]"
      ]
     },
     "metadata": {},
     "output_type": "display_data"
    },
    {
     "data": {
      "application/vnd.jupyter.widget-view+json": {
       "model_id": "f425b6787e7a44188c775ffcb878d18a",
       "version_major": 2,
       "version_minor": 0
      },
      "text/plain": [
       "Validation:   0%|          | 0/4 [00:00<?, ?it/s]"
      ]
     },
     "metadata": {},
     "output_type": "display_data"
    },
    {
     "name": "stdout",
     "output_type": "stream",
     "text": [
      "              precision  recall  f1-score  support\n",
      "airplane           0.23    0.44      0.30       16\n",
      "bare-soil          0.31    0.44      0.36       55\n",
      "buildings          0.44    0.40      0.42       73\n",
      "cars               0.40    0.64      0.49       81\n",
      "chaparral          0.06    0.80      0.11       10\n",
      "court              0.02    0.15      0.04       13\n",
      "dock               0.16    0.92      0.27       13\n",
      "field              0.00    0.00      0.00        8\n",
      "grass              0.62    0.74      0.68       90\n",
      "mobile-home        0.07    0.54      0.12       13\n",
      "pavement           0.58    0.90      0.71      127\n",
      "sand               0.19    0.83      0.31       35\n",
      "sea                0.09    0.81      0.16       16\n",
      "ship               0.13    0.92      0.23       13\n",
      "tanks              0.10    1.00      0.18       15\n",
      "trees              0.43    0.49      0.46       91\n",
      "water              0.00    0.00      0.00       23\n",
      "micro avg          0.26    0.63      0.37      692\n",
      "macro avg          0.22    0.59      0.28      692\n",
      "weighted avg       0.39    0.63      0.45      692\n",
      "samples avg        0.26    0.62      0.35      692\n",
      "Epoch 9/25\n",
      "----------\n"
     ]
    },
    {
     "data": {
      "application/vnd.jupyter.widget-view+json": {
       "model_id": "f5ff724c26d14f5b8e33b73d3d9c89cb",
       "version_major": 2,
       "version_minor": 0
      },
      "text/plain": [
       "Training:   0%|          | 0/23 [00:00<?, ?it/s]"
      ]
     },
     "metadata": {},
     "output_type": "display_data"
    },
    {
     "data": {
      "application/vnd.jupyter.widget-view+json": {
       "model_id": "db0656c7b8bc4041a32c9d944bccab5d",
       "version_major": 2,
       "version_minor": 0
      },
      "text/plain": [
       "Validation:   0%|          | 0/4 [00:00<?, ?it/s]"
      ]
     },
     "metadata": {},
     "output_type": "display_data"
    },
    {
     "name": "stdout",
     "output_type": "stream",
     "text": [
      "              precision  recall  f1-score  support\n",
      "airplane           0.22    0.88      0.35       16\n",
      "bare-soil          0.32    0.40      0.36       55\n",
      "buildings          0.29    0.53      0.37       73\n",
      "cars               0.43    0.43      0.43       81\n",
      "chaparral          0.08    1.00      0.15       10\n",
      "court              0.00    0.00      0.00       13\n",
      "dock               0.00    0.00      0.00       13\n",
      "field              0.05    1.00      0.10        8\n",
      "grass              0.51    0.63      0.56       90\n",
      "mobile-home        0.10    0.54      0.17       13\n",
      "pavement           0.56    0.79      0.66      127\n",
      "sand               0.17    0.57      0.26       35\n",
      "sea                0.00    0.00      0.00       16\n",
      "ship               0.08    1.00      0.15       13\n",
      "tanks              0.10    0.67      0.17       15\n",
      "trees              0.44    0.53      0.48       91\n",
      "water              0.16    0.52      0.24       23\n",
      "micro avg          0.24    0.57      0.33      692\n",
      "macro avg          0.21    0.56      0.26      692\n",
      "weighted avg       0.36    0.57      0.42      692\n",
      "samples avg        0.24    0.58      0.32      692\n",
      "Epoch 10/25\n",
      "----------\n"
     ]
    },
    {
     "data": {
      "application/vnd.jupyter.widget-view+json": {
       "model_id": "c738fb86a4c34a7c9d2e2aea250ad8d2",
       "version_major": 2,
       "version_minor": 0
      },
      "text/plain": [
       "Training:   0%|          | 0/23 [00:00<?, ?it/s]"
      ]
     },
     "metadata": {},
     "output_type": "display_data"
    },
    {
     "data": {
      "application/vnd.jupyter.widget-view+json": {
       "model_id": "c36f6b91c1814e46ac99f4339d0b7f37",
       "version_major": 2,
       "version_minor": 0
      },
      "text/plain": [
       "Validation:   0%|          | 0/4 [00:00<?, ?it/s]"
      ]
     },
     "metadata": {},
     "output_type": "display_data"
    },
    {
     "name": "stdout",
     "output_type": "stream",
     "text": [
      "              precision  recall  f1-score  support\n",
      "airplane           0.04    0.06      0.05       16\n",
      "bare-soil          0.28    0.44      0.34       55\n",
      "buildings          0.50    0.79      0.61       73\n",
      "cars               0.18    0.26      0.21       81\n",
      "chaparral          0.10    1.00      0.18       10\n",
      "court              0.00    0.00      0.00       13\n",
      "dock               0.00    0.00      0.00       13\n",
      "field              0.05    1.00      0.09        8\n",
      "grass              0.39    0.71      0.50       90\n",
      "mobile-home        0.00    0.00      0.00       13\n",
      "pavement           0.60    0.90      0.72      127\n",
      "sand               0.16    0.66      0.26       35\n",
      "sea                0.00    0.00      0.00       16\n",
      "ship               0.00    0.00      0.00       13\n",
      "tanks              0.10    0.20      0.14       15\n",
      "trees              0.44    0.90      0.59       91\n",
      "water              0.00    0.00      0.00       23\n",
      "micro avg          0.24    0.59      0.34      692\n",
      "macro avg          0.17    0.41      0.22      692\n",
      "weighted avg       0.33    0.59      0.41      692\n",
      "samples avg        0.24    0.60      0.33      692\n",
      "Epoch 11/25\n",
      "----------\n"
     ]
    },
    {
     "data": {
      "application/vnd.jupyter.widget-view+json": {
       "model_id": "0b7abd4e5f1047b2815e636e38ec392d",
       "version_major": 2,
       "version_minor": 0
      },
      "text/plain": [
       "Training:   0%|          | 0/23 [00:00<?, ?it/s]"
      ]
     },
     "metadata": {},
     "output_type": "display_data"
    },
    {
     "data": {
      "application/vnd.jupyter.widget-view+json": {
       "model_id": "3193a92a3ce8489fb60260f5abd0e35e",
       "version_major": 2,
       "version_minor": 0
      },
      "text/plain": [
       "Validation:   0%|          | 0/4 [00:00<?, ?it/s]"
      ]
     },
     "metadata": {},
     "output_type": "display_data"
    },
    {
     "name": "stdout",
     "output_type": "stream",
     "text": [
      "              precision  recall  f1-score  support\n",
      "airplane           0.00    0.00      0.00       16\n",
      "bare-soil          0.25    0.56      0.34       55\n",
      "buildings          0.27    0.52      0.36       73\n",
      "cars               0.37    0.85      0.51       81\n",
      "chaparral          0.00    0.00      0.00       10\n",
      "court              0.04    0.15      0.07       13\n",
      "dock               0.09    0.23      0.13       13\n",
      "field              0.07    1.00      0.14        8\n",
      "grass              0.60    0.76      0.67       90\n",
      "mobile-home        0.17    0.92      0.29       13\n",
      "pavement           0.53    0.56      0.54      127\n",
      "sand               0.16    0.63      0.25       35\n",
      "sea                0.01    0.06      0.02       16\n",
      "ship               0.06    0.69      0.10       13\n",
      "tanks              0.07    0.87      0.13       15\n",
      "trees              0.37    0.18      0.24       91\n",
      "water              0.04    0.13      0.06       23\n",
      "micro avg          0.22    0.53      0.31      692\n",
      "macro avg          0.18    0.48      0.23      692\n",
      "weighted avg       0.33    0.53      0.37      692\n",
      "samples avg        0.22    0.53      0.30      692\n",
      "Epoch 12/25\n",
      "----------\n"
     ]
    },
    {
     "data": {
      "application/vnd.jupyter.widget-view+json": {
       "model_id": "2f378010a64d44e6a34c9516bd755ec2",
       "version_major": 2,
       "version_minor": 0
      },
      "text/plain": [
       "Training:   0%|          | 0/23 [00:00<?, ?it/s]"
      ]
     },
     "metadata": {},
     "output_type": "display_data"
    },
    {
     "data": {
      "application/vnd.jupyter.widget-view+json": {
       "model_id": "ebe205fb76254d41abeb74482ad6c798",
       "version_major": 2,
       "version_minor": 0
      },
      "text/plain": [
       "Validation:   0%|          | 0/4 [00:00<?, ?it/s]"
      ]
     },
     "metadata": {},
     "output_type": "display_data"
    },
    {
     "name": "stdout",
     "output_type": "stream",
     "text": [
      "              precision  recall  f1-score  support\n",
      "airplane           0.29    0.94      0.44       16\n",
      "bare-soil          0.39    0.56      0.46       55\n",
      "buildings          0.19    0.33      0.24       73\n",
      "cars               0.29    0.32      0.31       81\n",
      "chaparral          0.02    0.20      0.03       10\n",
      "court              0.00    0.00      0.00       13\n",
      "dock               0.11    1.00      0.20       13\n",
      "field              0.06    1.00      0.11        8\n",
      "grass              0.44    0.79      0.57       90\n",
      "mobile-home        0.00    0.00      0.00       13\n",
      "pavement           0.79    0.33      0.47      127\n",
      "sand               0.03    0.06      0.04       35\n",
      "sea                0.08    1.00      0.15       16\n",
      "ship               0.09    1.00      0.16       13\n",
      "tanks              0.07    0.73      0.12       15\n",
      "trees              0.64    0.59      0.61       91\n",
      "water              0.00    0.00      0.00       23\n",
      "micro avg          0.20    0.47      0.28      692\n",
      "macro avg          0.20    0.52      0.23      692\n",
      "weighted avg       0.39    0.47      0.36      692\n",
      "samples avg        0.20    0.45      0.26      692\n",
      "Epoch 13/25\n",
      "----------\n"
     ]
    },
    {
     "data": {
      "application/vnd.jupyter.widget-view+json": {
       "model_id": "a883286605bd499fa33d378b220e1d6e",
       "version_major": 2,
       "version_minor": 0
      },
      "text/plain": [
       "Training:   0%|          | 0/23 [00:00<?, ?it/s]"
      ]
     },
     "metadata": {},
     "output_type": "display_data"
    },
    {
     "data": {
      "application/vnd.jupyter.widget-view+json": {
       "model_id": "89dbe75b1bc541679eb9e7d3cf7af381",
       "version_major": 2,
       "version_minor": 0
      },
      "text/plain": [
       "Validation:   0%|          | 0/4 [00:00<?, ?it/s]"
      ]
     },
     "metadata": {},
     "output_type": "display_data"
    },
    {
     "name": "stdout",
     "output_type": "stream",
     "text": [
      "              precision  recall  f1-score  support\n",
      "airplane           0.29    0.25      0.27       16\n",
      "bare-soil          0.15    0.16      0.16       55\n",
      "buildings          0.58    0.44      0.50       73\n",
      "cars               0.37    0.91      0.52       81\n",
      "chaparral          0.10    1.00      0.18       10\n",
      "court              0.03    0.08      0.04       13\n",
      "dock               0.00    0.00      0.00       13\n",
      "field              0.11    1.00      0.21        8\n",
      "grass              0.43    0.76      0.55       90\n",
      "mobile-home        0.04    0.54      0.08       13\n",
      "pavement           0.80    0.61      0.70      127\n",
      "sand               0.19    0.69      0.30       35\n",
      "sea                0.00    0.00      0.00       16\n",
      "ship               0.13    1.00      0.23       13\n",
      "tanks              0.05    0.27      0.09       15\n",
      "trees              0.57    0.70      0.63       91\n",
      "water              0.13    0.65      0.21       23\n",
      "micro avg          0.24    0.59      0.35      692\n",
      "macro avg          0.23    0.53      0.27      692\n",
      "weighted avg       0.42    0.59      0.45      692\n",
      "samples avg        0.24    0.56      0.33      692\n",
      "Epoch 14/25\n",
      "----------\n"
     ]
    },
    {
     "data": {
      "application/vnd.jupyter.widget-view+json": {
       "model_id": "e28250a673eb48e0a2ba30bd8455f9d4",
       "version_major": 2,
       "version_minor": 0
      },
      "text/plain": [
       "Training:   0%|          | 0/23 [00:00<?, ?it/s]"
      ]
     },
     "metadata": {},
     "output_type": "display_data"
    },
    {
     "data": {
      "application/vnd.jupyter.widget-view+json": {
       "model_id": "d31e279a934c403d91003d25d3de36b0",
       "version_major": 2,
       "version_minor": 0
      },
      "text/plain": [
       "Validation:   0%|          | 0/4 [00:00<?, ?it/s]"
      ]
     },
     "metadata": {},
     "output_type": "display_data"
    },
    {
     "name": "stdout",
     "output_type": "stream",
     "text": [
      "              precision  recall  f1-score  support\n",
      "airplane           0.12    0.06      0.08       16\n",
      "bare-soil          0.23    0.24      0.23       55\n",
      "buildings          0.48    0.21      0.29       73\n",
      "cars               0.37    0.72      0.49       81\n",
      "chaparral          0.02    0.20      0.04       10\n",
      "court              0.00    0.00      0.00       13\n",
      "dock               0.08    1.00      0.15       13\n",
      "field              0.08    1.00      0.15        8\n",
      "grass              0.42    0.88      0.57       90\n",
      "mobile-home        0.05    0.77      0.10       13\n",
      "pavement           0.73    0.26      0.38      127\n",
      "sand               0.08    0.23      0.12       35\n",
      "sea                0.16    0.94      0.27       16\n",
      "ship               0.00    0.00      0.00       13\n",
      "tanks              0.06    0.80      0.12       15\n",
      "trees              0.49    0.29      0.36       91\n",
      "water              0.17    0.61      0.26       23\n",
      "micro avg          0.18    0.44      0.26      692\n",
      "macro avg          0.21    0.48      0.21      692\n",
      "weighted avg       0.39    0.44      0.33      692\n",
      "samples avg        0.18    0.44      0.25      692\n",
      "Epoch 15/25\n",
      "----------\n"
     ]
    },
    {
     "data": {
      "application/vnd.jupyter.widget-view+json": {
       "model_id": "fd7aec1cd2c648fab8c8a726efdb8534",
       "version_major": 2,
       "version_minor": 0
      },
      "text/plain": [
       "Training:   0%|          | 0/23 [00:00<?, ?it/s]"
      ]
     },
     "metadata": {},
     "output_type": "display_data"
    },
    {
     "data": {
      "application/vnd.jupyter.widget-view+json": {
       "model_id": "5b2d944f1a36441da7dd7124acbe6f09",
       "version_major": 2,
       "version_minor": 0
      },
      "text/plain": [
       "Validation:   0%|          | 0/4 [00:00<?, ?it/s]"
      ]
     },
     "metadata": {},
     "output_type": "display_data"
    },
    {
     "name": "stdout",
     "output_type": "stream",
     "text": [
      "              precision  recall  f1-score  support\n",
      "airplane           0.18    0.75      0.29       16\n",
      "bare-soil          0.25    0.25      0.25       55\n",
      "buildings          0.33    0.75      0.45       73\n",
      "cars               0.31    0.23      0.27       81\n",
      "chaparral          0.08    0.80      0.15       10\n",
      "court              0.06    0.38      0.10       13\n",
      "dock               0.02    0.15      0.03       13\n",
      "field              0.04    1.00      0.08        8\n",
      "grass              0.18    0.16      0.17       90\n",
      "mobile-home        0.10    0.46      0.16       13\n",
      "pavement           0.66    0.60      0.63      127\n",
      "sand               0.23    0.91      0.37       35\n",
      "sea                0.13    0.81      0.22       16\n",
      "ship               0.11    0.85      0.20       13\n",
      "tanks              0.07    0.60      0.12       15\n",
      "trees              0.54    0.67      0.60       91\n",
      "water              0.00    0.00      0.00       23\n",
      "micro avg          0.21    0.50      0.29      692\n",
      "macro avg          0.19    0.55      0.24      692\n",
      "weighted avg       0.34    0.50      0.36      692\n",
      "samples avg        0.21    0.53      0.28      692\n",
      "Epoch 16/25\n",
      "----------\n"
     ]
    },
    {
     "data": {
      "application/vnd.jupyter.widget-view+json": {
       "model_id": "8507ac2bd212417496e66831ee7e69ee",
       "version_major": 2,
       "version_minor": 0
      },
      "text/plain": [
       "Training:   0%|          | 0/23 [00:00<?, ?it/s]"
      ]
     },
     "metadata": {},
     "output_type": "display_data"
    },
    {
     "data": {
      "application/vnd.jupyter.widget-view+json": {
       "model_id": "15871cb06bf14915b759ba78b83b1333",
       "version_major": 2,
       "version_minor": 0
      },
      "text/plain": [
       "Validation:   0%|          | 0/4 [00:00<?, ?it/s]"
      ]
     },
     "metadata": {},
     "output_type": "display_data"
    },
    {
     "name": "stdout",
     "output_type": "stream",
     "text": [
      "              precision  recall  f1-score  support\n",
      "airplane           0.39    0.44      0.41       16\n",
      "bare-soil          0.24    0.15      0.18       55\n",
      "buildings          0.33    0.81      0.47       73\n",
      "cars               0.28    0.48      0.36       81\n",
      "chaparral          0.02    0.20      0.04       10\n",
      "court              0.01    0.08      0.01       13\n",
      "dock               0.00    0.00      0.00       13\n",
      "field              0.00    0.00      0.00        8\n",
      "grass              0.24    0.30      0.27       90\n",
      "mobile-home        0.04    0.54      0.08       13\n",
      "pavement           0.60    0.96      0.74      127\n",
      "sand               0.20    0.69      0.31       35\n",
      "sea                0.10    1.00      0.18       16\n",
      "ship               0.00    0.00      0.00       13\n",
      "tanks              0.03    0.13      0.05       15\n",
      "trees              0.50    0.22      0.31       91\n",
      "water              0.00    0.00      0.00       23\n",
      "micro avg          0.20    0.48      0.28      692\n",
      "macro avg          0.18    0.35      0.20      692\n",
      "weighted avg       0.32    0.48      0.35      692\n",
      "samples avg        0.20    0.48      0.27      692\n",
      "Epoch 17/25\n",
      "----------\n"
     ]
    },
    {
     "data": {
      "application/vnd.jupyter.widget-view+json": {
       "model_id": "10d8d3fd3baf49e19bd63b4da8700ae9",
       "version_major": 2,
       "version_minor": 0
      },
      "text/plain": [
       "Training:   0%|          | 0/23 [00:00<?, ?it/s]"
      ]
     },
     "metadata": {},
     "output_type": "display_data"
    },
    {
     "data": {
      "application/vnd.jupyter.widget-view+json": {
       "model_id": "57e73999031b40ddbfd29c2561206464",
       "version_major": 2,
       "version_minor": 0
      },
      "text/plain": [
       "Validation:   0%|          | 0/4 [00:00<?, ?it/s]"
      ]
     },
     "metadata": {},
     "output_type": "display_data"
    },
    {
     "name": "stdout",
     "output_type": "stream",
     "text": [
      "              precision  recall  f1-score  support\n",
      "airplane           0.06    0.12      0.08       16\n",
      "bare-soil          0.17    0.11      0.13       55\n",
      "buildings          0.60    0.33      0.42       73\n",
      "cars               0.45    0.37      0.41       81\n",
      "chaparral          0.10    0.80      0.17       10\n",
      "court              0.11    0.54      0.18       13\n",
      "dock               0.08    1.00      0.14       13\n",
      "field              0.04    1.00      0.08        8\n",
      "grass              0.27    0.42      0.33       90\n",
      "mobile-home        0.04    0.38      0.07       13\n",
      "pavement           0.60    0.98      0.74      127\n",
      "sand               0.06    0.14      0.09       35\n",
      "sea                0.00    0.00      0.00       16\n",
      "ship               0.08    1.00      0.14       13\n",
      "tanks              0.10    0.93      0.17       15\n",
      "trees              0.36    0.18      0.24       91\n",
      "water              0.00    0.00      0.00       23\n",
      "micro avg          0.19    0.45      0.26      692\n",
      "macro avg          0.18    0.49      0.20      692\n",
      "weighted avg       0.34    0.45      0.34      692\n",
      "samples avg        0.19    0.45      0.25      692\n",
      "Epoch 18/25\n",
      "----------\n"
     ]
    },
    {
     "data": {
      "application/vnd.jupyter.widget-view+json": {
       "model_id": "f52c33d4ea95460da07df80db4a34b50",
       "version_major": 2,
       "version_minor": 0
      },
      "text/plain": [
       "Training:   0%|          | 0/23 [00:00<?, ?it/s]"
      ]
     },
     "metadata": {},
     "output_type": "display_data"
    },
    {
     "data": {
      "application/vnd.jupyter.widget-view+json": {
       "model_id": "8b9ba48af8d94135b46cdd335e7c61f6",
       "version_major": 2,
       "version_minor": 0
      },
      "text/plain": [
       "Validation:   0%|          | 0/4 [00:00<?, ?it/s]"
      ]
     },
     "metadata": {},
     "output_type": "display_data"
    },
    {
     "name": "stdout",
     "output_type": "stream",
     "text": [
      "              precision  recall  f1-score  support\n",
      "airplane           0.00    0.00      0.00       16\n",
      "bare-soil          0.23    0.24      0.23       55\n",
      "buildings          0.52    0.86      0.65       73\n",
      "cars               0.23    0.40      0.29       81\n",
      "chaparral          0.07    1.00      0.13       10\n",
      "court              0.17    1.00      0.29       13\n",
      "dock               0.00    0.00      0.00       13\n",
      "field              0.00    0.00      0.00        8\n",
      "grass              0.43    0.97      0.59       90\n",
      "mobile-home        0.06    1.00      0.12       13\n",
      "pavement           0.67    0.05      0.09      127\n",
      "sand               0.12    0.26      0.17       35\n",
      "sea                0.11    0.94      0.19       16\n",
      "ship               0.08    0.92      0.15       13\n",
      "tanks              0.09    0.67      0.16       15\n",
      "trees              0.31    0.48      0.38       91\n",
      "water              0.14    0.48      0.22       23\n",
      "micro avg          0.20    0.49      0.28      692\n",
      "macro avg          0.19    0.54      0.21      692\n",
      "weighted avg       0.34    0.49      0.30      692\n",
      "samples avg        0.20    0.49      0.27      692\n",
      "Epoch 19/25\n",
      "----------\n"
     ]
    },
    {
     "data": {
      "application/vnd.jupyter.widget-view+json": {
       "model_id": "83a7e6caaea44a3b91a6250a7fbe4bb8",
       "version_major": 2,
       "version_minor": 0
      },
      "text/plain": [
       "Training:   0%|          | 0/23 [00:00<?, ?it/s]"
      ]
     },
     "metadata": {},
     "output_type": "display_data"
    },
    {
     "data": {
      "application/vnd.jupyter.widget-view+json": {
       "model_id": "7dd2ed279aaf4020bcb978682ad75073",
       "version_major": 2,
       "version_minor": 0
      },
      "text/plain": [
       "Validation:   0%|          | 0/4 [00:00<?, ?it/s]"
      ]
     },
     "metadata": {},
     "output_type": "display_data"
    },
    {
     "name": "stdout",
     "output_type": "stream",
     "text": [
      "              precision  recall  f1-score  support\n",
      "airplane           0.16    0.56      0.25       16\n",
      "bare-soil          0.40    0.11      0.17       55\n",
      "buildings          0.52    0.77      0.62       73\n",
      "cars               0.27    0.48      0.35       81\n",
      "chaparral          0.11    0.80      0.20       10\n",
      "court              0.27    0.46      0.34       13\n",
      "dock               0.00    0.00      0.00       13\n",
      "field              0.00    0.00      0.00        8\n",
      "grass              0.39    0.80      0.52       90\n",
      "mobile-home        0.08    1.00      0.16       13\n",
      "pavement           0.49    0.57      0.53      127\n",
      "sand               0.12    0.23      0.16       35\n",
      "sea                0.00    0.00      0.00       16\n",
      "ship               0.07    1.00      0.12       13\n",
      "tanks              0.05    0.53      0.09       15\n",
      "trees              0.42    0.63      0.50       91\n",
      "water              0.00    0.00      0.00       23\n",
      "micro avg          0.22    0.53      0.31      692\n",
      "macro avg          0.20    0.47      0.24      692\n",
      "weighted avg       0.33    0.53      0.38      692\n",
      "samples avg        0.22    0.51      0.30      692\n",
      "Epoch 20/25\n",
      "----------\n"
     ]
    },
    {
     "data": {
      "application/vnd.jupyter.widget-view+json": {
       "model_id": "4b781402e0ac4763bf54059c764c54a8",
       "version_major": 2,
       "version_minor": 0
      },
      "text/plain": [
       "Training:   0%|          | 0/23 [00:00<?, ?it/s]"
      ]
     },
     "metadata": {},
     "output_type": "display_data"
    },
    {
     "data": {
      "application/vnd.jupyter.widget-view+json": {
       "model_id": "42cdb1dbd028419f9bcf18af006c7a13",
       "version_major": 2,
       "version_minor": 0
      },
      "text/plain": [
       "Validation:   0%|          | 0/4 [00:00<?, ?it/s]"
      ]
     },
     "metadata": {},
     "output_type": "display_data"
    },
    {
     "name": "stdout",
     "output_type": "stream",
     "text": [
      "              precision  recall  f1-score  support\n",
      "airplane           0.04    0.06      0.05       16\n",
      "bare-soil          0.26    0.71      0.38       55\n",
      "buildings          0.15    0.15      0.15       73\n",
      "cars               0.45    0.56      0.50       81\n",
      "chaparral          0.10    1.00      0.18       10\n",
      "court              0.10    0.46      0.16       13\n",
      "dock               0.09    1.00      0.17       13\n",
      "field              0.00    0.00      0.00        8\n",
      "grass              0.05    0.03      0.04       90\n",
      "mobile-home        0.06    0.54      0.11       13\n",
      "pavement           0.71    0.72      0.71      127\n",
      "sand               0.16    0.94      0.28       35\n",
      "sea                0.14    0.88      0.24       16\n",
      "ship               0.00    0.00      0.00       13\n",
      "tanks              0.07    0.47      0.12       15\n",
      "trees              0.42    0.74      0.53       91\n",
      "water              0.00    0.00      0.00       23\n",
      "micro avg          0.21    0.50      0.29      692\n",
      "macro avg          0.16    0.49      0.21      692\n",
      "weighted avg       0.30    0.50      0.34      692\n",
      "samples avg        0.21    0.53      0.29      692\n",
      "Epoch 21/25\n",
      "----------\n"
     ]
    },
    {
     "data": {
      "application/vnd.jupyter.widget-view+json": {
       "model_id": "4861a11af63d439583b86c93c204fd46",
       "version_major": 2,
       "version_minor": 0
      },
      "text/plain": [
       "Training:   0%|          | 0/23 [00:00<?, ?it/s]"
      ]
     },
     "metadata": {},
     "output_type": "display_data"
    },
    {
     "data": {
      "application/vnd.jupyter.widget-view+json": {
       "model_id": "c2dabceda2d64b85aa5e8c1e8330aab5",
       "version_major": 2,
       "version_minor": 0
      },
      "text/plain": [
       "Validation:   0%|          | 0/4 [00:00<?, ?it/s]"
      ]
     },
     "metadata": {},
     "output_type": "display_data"
    },
    {
     "name": "stdout",
     "output_type": "stream",
     "text": [
      "              precision  recall  f1-score  support\n",
      "airplane           0.00    0.00      0.00       16\n",
      "bare-soil          0.15    0.16      0.15       55\n",
      "buildings          0.38    0.68      0.49       73\n",
      "cars               0.20    0.05      0.08       81\n",
      "chaparral          0.07    0.80      0.12       10\n",
      "court              0.12    0.46      0.20       13\n",
      "dock               0.02    0.15      0.04       13\n",
      "field              0.05    1.00      0.10        8\n",
      "grass              0.55    0.80      0.65       90\n",
      "mobile-home        0.10    0.54      0.16       13\n",
      "pavement           0.60    0.61      0.60      127\n",
      "sand               0.10    0.26      0.14       35\n",
      "sea                0.12    0.94      0.21       16\n",
      "ship               0.11    0.85      0.19       13\n",
      "tanks              0.06    0.67      0.11       15\n",
      "trees              0.36    0.45      0.40       91\n",
      "water              0.07    0.22      0.10       23\n",
      "micro avg          0.20    0.48      0.28      692\n",
      "macro avg          0.18    0.51      0.22      692\n",
      "weighted avg       0.32    0.48      0.35      692\n",
      "samples avg        0.20    0.50      0.27      692\n",
      "Epoch 22/25\n",
      "----------\n"
     ]
    },
    {
     "data": {
      "application/vnd.jupyter.widget-view+json": {
       "model_id": "9c836a1cfaee4b24bf7d37d6e0b8d0ed",
       "version_major": 2,
       "version_minor": 0
      },
      "text/plain": [
       "Training:   0%|          | 0/23 [00:00<?, ?it/s]"
      ]
     },
     "metadata": {},
     "output_type": "display_data"
    },
    {
     "data": {
      "application/vnd.jupyter.widget-view+json": {
       "model_id": "3e1baff2bff74120b625baee1487de44",
       "version_major": 2,
       "version_minor": 0
      },
      "text/plain": [
       "Validation:   0%|          | 0/4 [00:00<?, ?it/s]"
      ]
     },
     "metadata": {},
     "output_type": "display_data"
    },
    {
     "name": "stdout",
     "output_type": "stream",
     "text": [
      "              precision  recall  f1-score  support\n",
      "airplane           0.08    0.12      0.10       16\n",
      "bare-soil          0.27    0.64      0.38       55\n",
      "buildings          0.43    0.14      0.21       73\n",
      "cars               0.29    0.54      0.38       81\n",
      "chaparral          0.06    1.00      0.11       10\n",
      "court              0.12    0.38      0.18       13\n",
      "dock               0.00    0.00      0.00       13\n",
      "field              0.05    1.00      0.10        8\n",
      "grass              0.44    0.17      0.24       90\n",
      "mobile-home        0.03    0.31      0.06       13\n",
      "pavement           0.39    0.31      0.35      127\n",
      "sand               0.18    0.97      0.30       35\n",
      "sea                0.15    0.88      0.26       16\n",
      "ship               0.07    1.00      0.12       13\n",
      "tanks              0.06    0.27      0.09       15\n",
      "trees              0.39    0.56      0.46       91\n",
      "water              0.00    0.00      0.00       23\n",
      "micro avg          0.17    0.42      0.24      692\n",
      "macro avg          0.18    0.49      0.20      692\n",
      "weighted avg       0.30    0.42      0.29      692\n",
      "samples avg        0.17    0.46      0.24      692\n",
      "Epoch 23/25\n",
      "----------\n"
     ]
    },
    {
     "data": {
      "application/vnd.jupyter.widget-view+json": {
       "model_id": "502f6a08457c45e79ff53137a639a367",
       "version_major": 2,
       "version_minor": 0
      },
      "text/plain": [
       "Training:   0%|          | 0/23 [00:00<?, ?it/s]"
      ]
     },
     "metadata": {},
     "output_type": "display_data"
    },
    {
     "data": {
      "application/vnd.jupyter.widget-view+json": {
       "model_id": "77867da93c874b03b615d2695b7de4fc",
       "version_major": 2,
       "version_minor": 0
      },
      "text/plain": [
       "Validation:   0%|          | 0/4 [00:00<?, ?it/s]"
      ]
     },
     "metadata": {},
     "output_type": "display_data"
    },
    {
     "name": "stdout",
     "output_type": "stream",
     "text": [
      "              precision  recall  f1-score  support\n",
      "airplane           0.24    0.44      0.31       16\n",
      "bare-soil          0.19    0.31      0.24       55\n",
      "buildings          0.39    0.30      0.34       73\n",
      "cars               0.52    0.52      0.52       81\n",
      "chaparral          0.08    1.00      0.14       10\n",
      "court              0.00    0.00      0.00       13\n",
      "dock               0.06    0.77      0.12       13\n",
      "field              0.00    0.00      0.00        8\n",
      "grass              0.54    0.42      0.47       90\n",
      "mobile-home        0.07    0.85      0.13       13\n",
      "pavement           0.76    0.64      0.70      127\n",
      "sand               0.26    0.20      0.23       35\n",
      "sea                0.08    0.94      0.16       16\n",
      "ship               0.09    0.77      0.16       13\n",
      "tanks              0.09    1.00      0.17       15\n",
      "trees              0.39    0.68      0.50       91\n",
      "water              0.00    0.00      0.00       23\n",
      "micro avg          0.21    0.50      0.29      692\n",
      "macro avg          0.22    0.52      0.25      692\n",
      "weighted avg       0.41    0.50      0.41      692\n",
      "samples avg        0.21    0.50      0.28      692\n",
      "Epoch 24/25\n",
      "----------\n"
     ]
    },
    {
     "data": {
      "application/vnd.jupyter.widget-view+json": {
       "model_id": "75f5950fa0504055bfcc8d5a9ec82ad6",
       "version_major": 2,
       "version_minor": 0
      },
      "text/plain": [
       "Training:   0%|          | 0/23 [00:00<?, ?it/s]"
      ]
     },
     "metadata": {},
     "output_type": "display_data"
    },
    {
     "data": {
      "application/vnd.jupyter.widget-view+json": {
       "model_id": "f8ce072bcfc4427fa2e1f51c0e463f63",
       "version_major": 2,
       "version_minor": 0
      },
      "text/plain": [
       "Validation:   0%|          | 0/4 [00:00<?, ?it/s]"
      ]
     },
     "metadata": {},
     "output_type": "display_data"
    },
    {
     "name": "stdout",
     "output_type": "stream",
     "text": [
      "              precision  recall  f1-score  support\n",
      "airplane           0.21    0.69      0.32       16\n",
      "bare-soil          0.26    0.40      0.31       55\n",
      "buildings          0.41    0.52      0.46       73\n",
      "cars               0.35    0.56      0.43       81\n",
      "chaparral          0.00    0.00      0.00       10\n",
      "court              0.10    0.54      0.17       13\n",
      "dock               0.07    1.00      0.13       13\n",
      "field              0.05    1.00      0.10        8\n",
      "grass              0.41    0.27      0.32       90\n",
      "mobile-home        0.08    1.00      0.16       13\n",
      "pavement           0.44    0.34      0.38      127\n",
      "sand               0.22    0.80      0.34       35\n",
      "sea                0.00    0.00      0.00       16\n",
      "ship               0.05    0.38      0.09       13\n",
      "tanks              0.08    0.93      0.15       15\n",
      "trees              0.62    0.74      0.67       91\n",
      "water              0.00    0.00      0.00       23\n",
      "micro avg          0.20    0.49      0.28      692\n",
      "macro avg          0.20    0.54      0.24      692\n",
      "weighted avg       0.34    0.49      0.36      692\n",
      "samples avg        0.20    0.50      0.27      692\n",
      "Epoch 25/25\n",
      "----------\n"
     ]
    },
    {
     "data": {
      "application/vnd.jupyter.widget-view+json": {
       "model_id": "0706ee1793f74f3aa10e760258a6de71",
       "version_major": 2,
       "version_minor": 0
      },
      "text/plain": [
       "Training:   0%|          | 0/23 [00:00<?, ?it/s]"
      ]
     },
     "metadata": {},
     "output_type": "display_data"
    },
    {
     "data": {
      "application/vnd.jupyter.widget-view+json": {
       "model_id": "d2cb572f289649c28c1e49fbee390a46",
       "version_major": 2,
       "version_minor": 0
      },
      "text/plain": [
       "Validation:   0%|          | 0/4 [00:00<?, ?it/s]"
      ]
     },
     "metadata": {},
     "output_type": "display_data"
    },
    {
     "name": "stdout",
     "output_type": "stream",
     "text": [
      "              precision  recall  f1-score  support\n",
      "airplane           0.17    0.25      0.20       16\n",
      "bare-soil          0.32    0.82      0.46       55\n",
      "buildings          0.25    0.33      0.28       73\n",
      "cars               0.35    0.30      0.32       81\n",
      "chaparral          0.03    0.50      0.06       10\n",
      "court              0.02    0.08      0.04       13\n",
      "dock               0.15    0.54      0.23       13\n",
      "field              0.00    0.00      0.00        8\n",
      "grass              0.45    0.61      0.52       90\n",
      "mobile-home        0.07    1.00      0.13       13\n",
      "pavement           0.75    0.17      0.27      127\n",
      "sand               0.18    0.83      0.29       35\n",
      "sea                0.01    0.06      0.01       16\n",
      "ship               0.11    1.00      0.20       13\n",
      "tanks              0.08    1.00      0.16       15\n",
      "trees              0.41    0.70      0.51       91\n",
      "water              0.00    0.00      0.00       23\n",
      "micro avg          0.19    0.46      0.27      692\n",
      "macro avg          0.20    0.48      0.22      692\n",
      "weighted avg       0.36    0.46      0.32      692\n",
      "samples avg        0.19    0.47      0.26      692\n"
     ]
    }
   ],
   "source": [
    "eval_accuracies = []\n",
    "avg_precision, train_loss, val_loss = [], [], []\n",
    "\n",
    "best_model, train_losses, val_losses, accuracy_scores, avg_precision_score = train(\n",
    "    model,\n",
    "    train_loader,\n",
    "    val_loader,\n",
    "    optimizer,\n",
    "    criterion,\n",
    "    epochs=18,\n",
    "    device=cuda_device,\n",
    ")\n",
    "eval_accuracies.append(accuracy_scores)"
   ]
  },
  {
   "cell_type": "code",
   "execution_count": 106,
   "id": "57415413-e7cd-462f-84f0-da090517eaf5",
   "metadata": {
    "execution": {
     "iopub.execute_input": "2022-07-17T13:02:39.419166Z",
     "iopub.status.busy": "2022-07-17T13:02:39.418530Z",
     "iopub.status.idle": "2022-07-17T13:02:39.649610Z",
     "shell.execute_reply": "2022-07-17T13:02:39.648200Z",
     "shell.execute_reply.started": "2022-07-17T13:02:39.419103Z"
    }
   },
   "outputs": [
    {
     "data": {
      "text/plain": [
       "<matplotlib.legend.Legend at 0x7f81e8a516d0>"
      ]
     },
     "execution_count": 106,
     "metadata": {},
     "output_type": "execute_result"
    },
    {
     "data": {
      "image/png": "[encoded data removed]",
      "text/plain": [
       "<Figure size 432x288 with 1 Axes>"
      ]
     },
     "metadata": {
      "needs_background": "light"
     },
     "output_type": "display_data"
    }
   ],
   "source": [
    "from matplotlib.ticker import MaxNLocator\n",
    "# Training loss and validation loss plot\n",
    "avg_prec, train_loss, val_loss, epoch = [], [], [], []\n",
    "train_loss.append(train_losses)\n",
    "val_loss.append(val_losses)\n",
    "avg_prec.append(avg_precision_score)\n",
    "\n",
    "\n",
    "    \n",
    "fig, ax = plt.subplots(1, 1)\n",
    "ax.xaxis.set_major_locator(MaxNLocator(integer=True))\n",
    "ax.plot(np.arange(1, len(train_loss[0]) + 1), train_loss[0], color = 'red', label= \"Training Loss\")\n",
    "ax.plot(np.arange(1, len(val_loss[0]) + 1), val_loss[0], color = 'blue', label=\"Validation Loss\")\n",
    "ax.plot(np.arange(1, len(avg_prec[0]) + 1), avg_prec[0], color = 'Green', label=\"Average Precision Score\")\n",
    "ax.set_xlabel(\"epochs\")\n",
    "ax.set_ylabel(\"accuracy\")\n",
    "ax.legend()"
   ]
  },
  {
   "cell_type": "markdown",
   "id": "14f197e9-a0b3-479a-893d-93e372d72853",
   "metadata": {},
   "source": [
    " #Check Test results  and explain via how all matrix differ and how we can further improve our results. \n",
    " Also check how to change accuracy"
   ]
  },
  {
   "cell_type": "markdown",
   "id": "9e435d62-94b7-4eb0-b8fb-da9c32e2017f",
   "metadata": {},
   "source": [
    "### Data Augmentation: RandAugment\n"
   ]
  },
  {
   "cell_type": "code",
   "execution_count": 113,
   "id": "74ca2383-19e7-4304-8e2b-815764727a36",
   "metadata": {
    "execution": {
     "iopub.execute_input": "2022-07-17T14:56:04.918898Z",
     "iopub.status.busy": "2022-07-17T14:56:04.918453Z",
     "iopub.status.idle": "2022-07-17T14:56:04.929914Z",
     "shell.execute_reply": "2022-07-17T14:56:04.927513Z",
     "shell.execute_reply.started": "2022-07-17T14:56:04.918851Z"
    }
   },
   "outputs": [
    {
     "ename": "SyntaxError",
     "evalue": "invalid syntax (301453055.py, line 10)",
     "output_type": "error",
     "traceback": [
      "\u001b[0;36m  Input \u001b[0;32mIn [113]\u001b[0;36m\u001b[0m\n\u001b[0;31m    transforms.RandAugment(num_ops: int = 2, magnitude: int = 9)\u001b[0m\n\u001b[0m                                  ^\u001b[0m\n\u001b[0;31mSyntaxError\u001b[0m\u001b[0;31m:\u001b[0m invalid syntax\n"
     ]
    }
   ],
   "source": [
    "ucm_mean = [0.595425, 0.3518577, 0.3225522]\n",
    "ucm_std = [0.19303136, 0.12492529, 0.10577361]\n",
    "\n",
    "\n",
    "tr_transform = transforms.Compose(\n",
    "    [\n",
    "        transforms.Resize((256, 256)),\n",
    "        transforms.RandomVerticalFlip(p=0.5),\n",
    "        transforms.ColorJitter(brightness=0.5, contrast=0.3), \n",
    "        transforms.RandAugment(num_ops: int = 2, magnitude: int = 9)\n",
    "        transforms.ToTensor(),\n",
    "        transforms.Normalize(mean=ucm_mean, std=ucm_std),\n",
    "    ]\n",
    ")\n",
    "\n",
    "te_transform = transforms.Compose(\n",
    "    [\n",
    "        transforms.Resize((256, 256)),\n",
    "        transforms.RandomCrop((224,224)),\n",
    "        transforms.RandomVerticalFlip(p=0.5),\n",
    "        transforms.ColorJitter(brightness=0.5, contrast=0.3), \n",
    "        transforms.ToTensor(),\n",
    "        transforms.Normalize(mean=ucm_mean, std=ucm_std),\n",
    "    ]\n",
    ")"
   ]
  },
  {
   "cell_type": "code",
   "execution_count": 109,
   "id": "48816db5-0614-4139-838b-e72307ce17c8",
   "metadata": {
    "execution": {
     "iopub.execute_input": "2022-07-17T14:40:33.495460Z",
     "iopub.status.busy": "2022-07-17T14:40:33.495100Z",
     "iopub.status.idle": "2022-07-17T14:40:33.516549Z",
     "shell.execute_reply": "2022-07-17T14:40:33.514408Z",
     "shell.execute_reply.started": "2022-07-17T14:40:33.495433Z"
    }
   },
   "outputs": [
    {
     "ename": "ModuleNotFoundError",
     "evalue": "No module named 'timm'",
     "output_type": "error",
     "traceback": [
      "\u001b[0;31m---------------------------------------------------------------------------\u001b[0m",
      "\u001b[0;31mModuleNotFoundError\u001b[0m                       Traceback (most recent call last)",
      "Input \u001b[0;32mIn [109]\u001b[0m, in \u001b[0;36m<cell line: 1>\u001b[0;34m()\u001b[0m\n\u001b[0;32m----> 1\u001b[0m \u001b[38;5;28;01mfrom\u001b[39;00m \u001b[38;5;21;01mtimm\u001b[39;00m\u001b[38;5;21;01m.\u001b[39;00m\u001b[38;5;21;01mdata\u001b[39;00m\u001b[38;5;21;01m.\u001b[39;00m\u001b[38;5;21;01mauto_augment\u001b[39;00m \u001b[38;5;28;01mimport\u001b[39;00m rand_augment_transform\n\u001b[1;32m      2\u001b[0m \u001b[38;5;28;01mfrom\u001b[39;00m \u001b[38;5;21;01mPIL\u001b[39;00m \u001b[38;5;28;01mimport\u001b[39;00m Image\n",
      "\u001b[0;31mModuleNotFoundError\u001b[0m: No module named 'timm'"
     ]
    }
   ],
   "source": [
    "from timm.data.auto_augment import rand_augment_transform\n",
    "from PIL import Image"
   ]
  },
  {
   "cell_type": "code",
   "execution_count": null,
   "id": "0d653f3f-8dbb-40d2-a5fb-b384329277b3",
   "metadata": {},
   "outputs": [],
   "source": []
  },
  {
   "cell_type": "code",
   "execution_count": null,
   "id": "d7e2f312-16df-49a0-8117-419f16763cc5",
   "metadata": {},
   "outputs": [],
   "source": []
  },
  {
   "cell_type": "code",
   "execution_count": null,
   "id": "e68ce389-0d3b-4e7b-8ff1-876ddf20ab90",
   "metadata": {},
   "outputs": [],
   "source": []
  },
  {
   "cell_type": "code",
   "execution_count": null,
   "id": "4272bfd7-0a9b-4e30-b946-73cfdf9855dd",
   "metadata": {},
   "outputs": [],
   "source": []
  },
  {
   "cell_type": "code",
   "execution_count": null,
   "id": "6f764fc1-9b6e-4d3e-98a2-e7fedd42be4e",
   "metadata": {},
   "outputs": [],
   "source": []
  },
  {
   "cell_type": "markdown",
   "id": "d02e5a60-0c8c-496a-b99a-10d4532ec1f5",
   "metadata": {},
   "source": [
    "## Testing"
   ]
  },
  {
   "cell_type": "code",
   "execution_count": 114,
   "id": "6fae4c3b-fa64-4335-a8a6-ee99f5c688ff",
   "metadata": {
    "execution": {
     "iopub.execute_input": "2022-07-17T15:01:32.888906Z",
     "iopub.status.busy": "2022-07-17T15:01:32.888341Z",
     "iopub.status.idle": "2022-07-17T15:01:32.900292Z",
     "shell.execute_reply": "2022-07-17T15:01:32.898348Z",
     "shell.execute_reply.started": "2022-07-17T15:01:32.888906Z"
    }
   },
   "outputs": [],
   "source": [
    "#Testing val_epoch to test results\n",
    "#Check the following link: https://discuss.pytorch.org/t/how-to-extract-probabilities/2720/9\n",
    "\n",
    "def val_epoch(model, val_loader, criterion, device):\n",
    "    loss_tracker = MetricTracker()\n",
    "    acc_tracker = MetricTracker()\n",
    "    model.eval()\n",
    "    \n",
    "    \n",
    "    y_pred = []\n",
    "    y_true = []\n",
    "    y_prediction_normalize = []\n",
    "    y_pred_segmented=[]\n",
    "    classLabels = [\"airplane\", \"bare-soil\", \"buildings\", \"cars\",\"chaparral\", \"court\", \"dock\", \"field\", \"grass\", \"mobile-home\",\"pavement\",\"sand\", \"sea\",\"ship\",\n",
    "               \"tanks\", \"trees\", \"water\"]\n",
    "    \n",
    "\n",
    "    with torch.no_grad():\n",
    "        tqdm_bar = tqdm(val_loader, desc=\"Validation: \")\n",
    "        for batch in tqdm_bar:\n",
    "\n",
    "            images = batch[\"img\"].to(device) #Array of images\n",
    "            labels = batch[\"label\"].to(device) #Array of labels\n",
    "            batch_size = images.size(0)\n",
    "\n",
    "            logits = model(images)\n",
    "            probs = F.softmax(logits, dim=1)\n",
    "            loss = criterion(logits, labels)\n",
    "            \n",
    "            loss_tracker.update(loss.item(), batch_size)\n",
    "            predicted_prob, predicted_labels = torch.topk(probs.data, 17)\n",
    "            #predicted_prob, predicted_labels = torch.max(probs.data, 1)\n",
    "            \n",
    "            \n",
    "           # batch_acc = (predicted == labels).sum().item() / batch_size\n",
    "            #acc_tracker.update(batch_acc, batch_size)\n",
    "            acc_tracker.update(batch_size)\n",
    "\n",
    "            y_pred += predicted_labels.tolist()\n",
    "            y_true += labels.tolist()\n",
    "            \n",
    "            y_pred_arr = np.array(y_pred)\n",
    "            y_true_arr = np.array(y_true)\n",
    "           \n",
    "        \n",
    "        return y_pred_arr, y_true_arr\n",
    "          \n",
    "            "
   ]
  },
  {
   "cell_type": "code",
   "execution_count": null,
   "id": "60658d9b-5726-489a-ae80-d9beb439b73d",
   "metadata": {
    "execution": {
     "iopub.execute_input": "2022-07-17T15:02:25.459899Z",
     "iopub.status.busy": "2022-07-17T15:02:25.458917Z"
    }
   },
   "outputs": [
    {
     "data": {
      "application/vnd.jupyter.widget-view+json": {
       "model_id": "2c2b888ac68941d99015d3b6c1aa7fe8",
       "version_major": 2,
       "version_minor": 0
      },
      "text/plain": [
       "Validation:   0%|          | 0/4 [00:00<?, ?it/s]"
      ]
     },
     "metadata": {},
     "output_type": "display_data"
    }
   ],
   "source": [
    "#Idea taken from the following website: https://colab.research.google.com/github/kmkarakaya/ML_tutorials/blob/master/Multi_Label_Model_Evaulation.ipynb#scrollTo=H8WBPN1OxXmw\n",
    "# We have 210 values because our validation takes 10% of our data so we get 210 values out of 2100\n",
    "y_prediction, y_true = val_epoch(model, val_loader, criterion, cuda_device)\n",
    "print(\"Y true values are: \", y_true)\n",
    "print(y_true.shape)\n",
    "\n",
    "print(\"Y prediction values are: \", y_prediction)\n",
    "print(y_prediction.shape)\n",
    "\n",
    "print(\"Y prediction Probability values are: \", y_prediction)\n",
    "print(y_prediction.shape)\n",
    "\n",
    "\n",
    "\n",
    "\n",
    "\n"
   ]
  },
  {
   "cell_type": "code",
   "execution_count": 34,
   "id": "18ab0785-e808-41e3-b600-ac6994cb7bff",
   "metadata": {
    "execution": {
     "iopub.execute_input": "2022-07-16T20:38:22.721524Z",
     "iopub.status.busy": "2022-07-16T20:38:22.720991Z",
     "iopub.status.idle": "2022-07-16T20:38:22.743612Z",
     "shell.execute_reply": "2022-07-16T20:38:22.742491Z",
     "shell.execute_reply.started": "2022-07-16T20:38:22.721479Z"
    }
   },
   "outputs": [
    {
     "name": "stdout",
     "output_type": "stream",
     "text": [
      "[[0.75   0.5    0.25   ... 0.625  0.5625 0.9375]\n",
      " [0.125  0.75   0.5625 ... 0.4375 0.8125 0.625 ]\n",
      " [0.25   0.875  0.125  ... 0.0625 0.9375 0.4375]\n",
      " ...\n",
      " [0.125  0.25   0.375  ... 0.8125 0.3125 0.9375]\n",
      " [0.75   0.5    0.25   ... 0.625  0.5625 0.9375]\n",
      " [0.25   0.875  0.125  ... 0.0625 0.9375 0.4375]]\n",
      "(210, 17)\n"
     ]
    }
   ],
   "source": [
    "# We can normalize the y_prediction values between 0 & 1\n",
    "\n",
    "#Move normalization code above\n",
    "\n",
    "def normalization(arr: np.array) -> np.array:\n",
    "    norm = []\n",
    "    min_val = np.amin(arr)\n",
    "    max_val = np.amax(arr)\n",
    "    \n",
    "    for i in arr:\n",
    "        for j in i:\n",
    "            z = ((arr[j] - min_val)/ (max_val -min_val))\n",
    "        norm.append(z)\n",
    "\n",
    "    norm = np.array(norm)\n",
    "    \n",
    "    return norm\n",
    "\n",
    "\n",
    "y_prediction_normalize  = normalization(y_prediction)\n",
    "print(y_prediction_normalize)\n",
    "print(y_prediction_normalize.shape)\n"
   ]
  },
  {
   "cell_type": "code",
   "execution_count": 35,
   "id": "8b9a63bd-d47d-4518-919b-e86222335f1c",
   "metadata": {
    "execution": {
     "iopub.execute_input": "2022-07-16T20:38:24.203121Z",
     "iopub.status.busy": "2022-07-16T20:38:24.202759Z",
     "iopub.status.idle": "2022-07-16T20:38:24.210296Z",
     "shell.execute_reply": "2022-07-16T20:38:24.209249Z",
     "shell.execute_reply.started": "2022-07-16T20:38:24.203092Z"
    }
   },
   "outputs": [
    {
     "name": "stdout",
     "output_type": "stream",
     "text": [
      "[[1 0 0 ... 1 1 1]\n",
      " [0 1 1 ... 0 1 1]\n",
      " [0 1 0 ... 0 1 0]\n",
      " ...\n",
      " [0 0 0 ... 1 0 1]\n",
      " [1 0 0 ... 1 1 1]\n",
      " [0 1 0 ... 0 1 0]]\n",
      "(210, 17)\n"
     ]
    }
   ],
   "source": [
    "# Now we perform segmentation. Values > 0.5 -> 1 while other -> 0\n",
    "\n",
    "\n",
    "y_pred_segmented=[]\n",
    "\n",
    "y_pred_segmented = np.where(y_prediction_normalize > 0.5, 1, 0) \n",
    "\n",
    "y_pred_segmented = np.array(y_pred_segmented)\n",
    "print(y_pred_segmented)\n",
    "print(y_pred_segmented.shape)\n"
   ]
  },
  {
   "cell_type": "code",
   "execution_count": 26,
   "id": "c4c0846d-2012-4902-8da4-b6738bca4417",
   "metadata": {
    "execution": {
     "iopub.execute_input": "2022-07-16T20:32:24.751843Z",
     "iopub.status.busy": "2022-07-16T20:32:24.750809Z",
     "iopub.status.idle": "2022-07-16T20:32:24.771131Z",
     "shell.execute_reply": "2022-07-16T20:32:24.770297Z",
     "shell.execute_reply.started": "2022-07-16T20:32:24.751815Z"
    }
   },
   "outputs": [
    {
     "name": "stdout",
     "output_type": "stream",
     "text": [
      "              precision    recall  f1-score   support\n",
      "\n",
      "    airplane       0.11      0.64      0.18        14\n",
      "   bare-soil       0.43      0.32      0.37        68\n",
      "   buildings       0.31      0.22      0.25        69\n",
      "        cars       0.40      0.80      0.53        89\n",
      "   chaparral       0.15      0.81      0.25        16\n",
      "       court       0.08      0.70      0.14        10\n",
      "        dock       0.02      0.07      0.03        15\n",
      "       field       0.06      0.33      0.11        12\n",
      "       grass       0.45      0.66      0.53        88\n",
      " mobile-home       0.10      0.57      0.17        14\n",
      "    pavement       0.64      0.74      0.69       130\n",
      "        sand       0.15      0.59      0.24        27\n",
      "         sea       0.01      0.12      0.03         8\n",
      "        ship       0.04      0.20      0.07        15\n",
      "       tanks       0.06      0.73      0.12        11\n",
      "       trees       0.42      0.56      0.48        99\n",
      "       water       0.11      0.80      0.19        20\n",
      "\n",
      "   micro avg       0.24      0.57      0.34       705\n",
      "   macro avg       0.21      0.52      0.26       705\n",
      "weighted avg       0.37      0.57      0.42       705\n",
      " samples avg       0.24      0.58      0.33       705\n",
      "\n"
     ]
    }
   ],
   "source": [
    "# Create a confusion matrix:\n",
    "from sklearn.metrics import multilabel_confusion_matrix, f1_score, average_precision_score\n",
    "st = multilabel_confusion_matrix(y_true, y_pred_segmented)\n",
    "\n",
    "\n",
    "classLabels = [\"airplane\", \"bare-soil\", \"buildings\", \"cars\",\"chaparral\", \"court\", \"dock\", \"field\", \"grass\", \"mobile-home\",\"pavement\",\"sand\", \"sea\",\"ship\",\n",
    "               \"tanks\", \"trees\", \"water\"]\n",
    "\n",
    "#Classifcation report\n",
    "#Check the following link to understand all the column: https://medium.com/synthesio-engineering/precision-accuracy-and-f1-score-for-multi-label-classification-34ac6bdfb404\n",
    "M = classification_report(y_true, y_pred_segmented,target_names=classLabels)\n",
    "print(M)\n"
   ]
  },
  {
   "cell_type": "code",
   "execution_count": 49,
   "id": "1acdb3c2-acc9-47ac-a295-e590848da635",
   "metadata": {
    "execution": {
     "iopub.execute_input": "2022-07-16T21:00:22.124891Z",
     "iopub.status.busy": "2022-07-16T21:00:22.124058Z",
     "iopub.status.idle": "2022-07-16T21:00:22.134858Z",
     "shell.execute_reply": "2022-07-16T21:00:22.134103Z",
     "shell.execute_reply.started": "2022-07-16T21:00:22.124824Z"
    }
   },
   "outputs": [],
   "source": [
    "def val_epoch(model, val_loader, criterion, device):\n",
    "    loss_tracker = MetricTracker()\n",
    "    acc_tracker = MetricTracker()\n",
    "    model.eval()\n",
    "\n",
    "    y_pred = []\n",
    "    y_true = []\n",
    "    y_prediction_normalize = []\n",
    "    y_pred_segmented = []\n",
    "    classLabels = [\"airplane\", \"bare-soil\", \"buildings\", \"cars\",\"chaparral\", \"court\", \"dock\", \"field\", \"grass\", \"mobile-home\",\"pavement\",\"sand\", \"sea\",\"ship\",\n",
    "               \"tanks\", \"trees\", \"water\"]\n",
    "    \n",
    "    \n",
    "\n",
    "    with torch.no_grad():\n",
    "        tqdm_bar = tqdm(val_loader, desc=\"Validation: \")\n",
    "        for batch in tqdm_bar:\n",
    "\n",
    "            images = batch[\"img\"].to(device)\n",
    "            labels = batch[\"label\"].to(device)\n",
    "            batch_size = images.size(0)\n",
    "\n",
    "            logits = model(images)\n",
    "            probs = F.softmax(logits, dim=1)\n",
    "            loss = criterion(logits, labels)\n",
    "            loss_tracker.update(loss.item(), batch_size)\n",
    "\n",
    "            #_, predicted = torch.max(probs.data, 1)\n",
    "            predicted_prob, predicted_labels = torch.topk(probs.data, 17) #Find values fo all classes\n",
    "           # batch_acc = (predicted == labels).sum().item() / batch_size\n",
    "            #acc_tracker.update(batch_acc, batch_size)\n",
    "            acc_tracker.update(batch_size)\n",
    "\n",
    "            y_pred += predicted_labels.tolist()\n",
    "            y_true += labels.tolist()\n",
    "            tqdm_bar.set_postfix(loss=loss_tracker.avg, accuracy=acc_tracker.avg)\n",
    "            \n",
    "            y_pred_arr = np.array(y_pred)\n",
    "            y_true_arr = np.array(y_true)\n",
    "            \n",
    "            # We can normalize the y_prediction values between 0 & 1\n",
    "\n",
    "            \n",
    "            y_prediction_normalize  = normalization(y_pred_arr)\n",
    "            \n",
    "            \n",
    "            \"\"\"\n",
    "            min_val = np.amin(y_pred_arr)\n",
    "            max_val = np.amax(y_pred_arr)\n",
    "            for i in y_pred_arr:\n",
    "                for j in i:\n",
    "                    z = ((y_pred_arr[j] - min_val)/ (max_val -min_val))\n",
    "                y_prediction_normalize.append(z)\n",
    "\n",
    "            y_prediction_normalize = np.array(y_prediction_normalize)\n",
    "            print(y_prediction_normalize)\n",
    "            print(y_prediction_normalize.shape)\n",
    "            \n",
    "           \"\"\"         \n",
    "            \n",
    "            \n",
    "            # Now we perform segmentation. Values > 0.5 -> 1 while other -> 0\n",
    "            \n",
    "            y_pred_segmented = np.where(y_prediction_normalize > 0.5, 1, 0) \n",
    "            y_pred_segmented = np.array(y_pred_segmented)\n",
    "            \n",
    "    #print(y_pred_segmented)\n",
    "    #print(y_pred_segmented.shape)\n",
    "    \n",
    "      \n",
    "     \n",
    "    #Classfication_report and Multilabel confusion matrix\n",
    "    \n",
    "    #report = classification_report(y_true, y_pred_segmented,target_names=classLabels)\n",
    "    report = classification_report(y_true, y_pred_segmented, zero_division=0, output_dict=True)\n",
    "    conf_mat = multilabel_confusion_matrix(y_true, y_pred_segmented)\n",
    "        \n",
    "    return loss_tracker.avg, report, conf_mat, y_true, y_pred_segmented"
   ]
  },
  {
   "cell_type": "code",
   "execution_count": 50,
   "id": "729a2b36-f078-46b7-8ed5-246f3a8677cd",
   "metadata": {
    "execution": {
     "iopub.execute_input": "2022-07-16T21:00:23.818250Z",
     "iopub.status.busy": "2022-07-16T21:00:23.817746Z",
     "iopub.status.idle": "2022-07-16T21:00:24.978866Z",
     "shell.execute_reply": "2022-07-16T21:00:24.977439Z",
     "shell.execute_reply.started": "2022-07-16T21:00:23.818221Z"
    }
   },
   "outputs": [
    {
     "data": {
      "application/vnd.jupyter.widget-view+json": {
       "model_id": "d593cbd3520447f69fa3c7d626a9d818",
       "version_major": 2,
       "version_minor": 0
      },
      "text/plain": [
       "Validation:   0%|          | 0/4 [00:00<?, ?it/s]"
      ]
     },
     "metadata": {},
     "output_type": "display_data"
    },
    {
     "name": "stdout",
     "output_type": "stream",
     "text": [
      "{'0': {'precision': 0.0975609756097561, 'recall': 0.5714285714285714, 'f1-score': 0.16666666666666669, 'support': 14}, '1': {'precision': 0.09090909090909091, 'recall': 0.10294117647058823, 'f1-score': 0.09655172413793103, 'support': 68}, '2': {'precision': 0.4583333333333333, 'recall': 0.6376811594202898, 'f1-score': 0.5333333333333333, 'support': 69}, '3': {'precision': 0.4927536231884058, 'recall': 0.7640449438202247, 'f1-score': 0.5991189427312775, 'support': 89}, '4': {'precision': 0.22916666666666666, 'recall': 0.6875, 'f1-score': 0.34375, 'support': 16}, '5': {'precision': 0.013157894736842105, 'recall': 0.1, 'f1-score': 0.023255813953488372, 'support': 10}, '6': {'precision': 0.01, 'recall': 0.06666666666666667, 'f1-score': 0.017391304347826087, 'support': 15}, '7': {'precision': 0.01, 'recall': 0.08333333333333333, 'f1-score': 0.017857142857142856, 'support': 12}, '8': {'precision': 0.4523809523809524, 'recall': 0.4318181818181818, 'f1-score': 0.4418604651162791, 'support': 88}, '9': {'precision': 0.058823529411764705, 'recall': 0.35714285714285715, 'f1-score': 0.10101010101010101, 'support': 14}, '10': {'precision': 0.6171875, 'recall': 0.6076923076923076, 'f1-score': 0.6124031007751937, 'support': 130}, '11': {'precision': 0.1134020618556701, 'recall': 0.4074074074074074, 'f1-score': 0.1774193548387097, 'support': 27}, '12': {'precision': 0.022900763358778626, 'recall': 0.375, 'f1-score': 0.04316546762589928, 'support': 8}, '13': {'precision': 0.0, 'recall': 0.0, 'f1-score': 0.0, 'support': 15}, '14': {'precision': 0.060810810810810814, 'recall': 0.8181818181818182, 'f1-score': 0.11320754716981132, 'support': 11}, '15': {'precision': 0.37254901960784315, 'recall': 0.1919191919191919, 'f1-score': 0.2533333333333333, 'support': 99}, '16': {'precision': 0.2222222222222222, 'recall': 0.8, 'f1-score': 0.3478260869565218, 'support': 20}, 'micro avg': {'precision': 0.19107142857142856, 'recall': 0.4553191489361702, 'f1-score': 0.2691823899371069, 'support': 705}, 'macro avg': {'precision': 0.19542108494659627, 'recall': 0.4119269185471434, 'f1-score': 0.22871472852079502, 'support': 705}, 'weighted avg': {'precision': 0.35915488825668035, 'recall': 0.4553191489361702, 'f1-score': 0.3738381083994812, 'support': 705}, 'samples avg': {'precision': 0.19107142857142856, 'recall': 0.44532879818594107, 'f1-score': 0.25780642637785495, 'support': 705}}\n"
     ]
    }
   ],
   "source": [
    "val_loss, report, conf_matrix, y_true, y_pred_segmented = val_epoch(model, val_loader, criterion, cuda_device)\n",
    "print(report)\n",
    "#If we want overall accuracy score\n",
    "#accuracy = accuracy_score(y_true, y_pred_segmented)\n",
    "#print(accuracy)\n",
    "\n",
    "\n",
    "#If we want accuracy score for each class\n",
    "#Taken from the following website: https://stackoverflow.com/questions/39770376/scikit-learn-get-accuracy-scores-for-each-class\n",
    "\n",
    "\n"
   ]
  },
  {
   "cell_type": "code",
   "execution_count": 51,
   "id": "334e5b30-a747-4599-97f2-0a18cc13be33",
   "metadata": {
    "execution": {
     "iopub.execute_input": "2022-07-16T21:00:26.113568Z",
     "iopub.status.busy": "2022-07-16T21:00:26.113114Z",
     "iopub.status.idle": "2022-07-16T21:00:26.137023Z",
     "shell.execute_reply": "2022-07-16T21:00:26.135822Z",
     "shell.execute_reply.started": "2022-07-16T21:00:26.113512Z"
    }
   },
   "outputs": [
    {
     "data": {
      "text/html": [
       "<div>\n",
       "<style scoped>\n",
       "    .dataframe tbody tr th:only-of-type {\n",
       "        vertical-align: middle;\n",
       "    }\n",
       "\n",
       "    .dataframe tbody tr th {\n",
       "        vertical-align: top;\n",
       "    }\n",
       "\n",
       "    .dataframe thead th {\n",
       "        text-align: right;\n",
       "    }\n",
       "</style>\n",
       "<table border=\"1\" class=\"dataframe\">\n",
       "  <thead>\n",
       "    <tr style=\"text-align: right;\">\n",
       "      <th></th>\n",
       "      <th>precision</th>\n",
       "      <th>recall</th>\n",
       "      <th>f1-score</th>\n",
       "      <th>support</th>\n",
       "    </tr>\n",
       "  </thead>\n",
       "  <tbody>\n",
       "    <tr>\n",
       "      <th>agricultural</th>\n",
       "      <td>0.10</td>\n",
       "      <td>0.57</td>\n",
       "      <td>0.17</td>\n",
       "      <td>14</td>\n",
       "    </tr>\n",
       "    <tr>\n",
       "      <th>airplane</th>\n",
       "      <td>0.09</td>\n",
       "      <td>0.10</td>\n",
       "      <td>0.10</td>\n",
       "      <td>68</td>\n",
       "    </tr>\n",
       "    <tr>\n",
       "      <th>baseballdiamond</th>\n",
       "      <td>0.46</td>\n",
       "      <td>0.64</td>\n",
       "      <td>0.53</td>\n",
       "      <td>69</td>\n",
       "    </tr>\n",
       "    <tr>\n",
       "      <th>beach</th>\n",
       "      <td>0.49</td>\n",
       "      <td>0.76</td>\n",
       "      <td>0.60</td>\n",
       "      <td>89</td>\n",
       "    </tr>\n",
       "    <tr>\n",
       "      <th>buildings</th>\n",
       "      <td>0.23</td>\n",
       "      <td>0.69</td>\n",
       "      <td>0.34</td>\n",
       "      <td>16</td>\n",
       "    </tr>\n",
       "    <tr>\n",
       "      <th>chaparral</th>\n",
       "      <td>0.01</td>\n",
       "      <td>0.10</td>\n",
       "      <td>0.02</td>\n",
       "      <td>10</td>\n",
       "    </tr>\n",
       "    <tr>\n",
       "      <th>denseresidential</th>\n",
       "      <td>0.01</td>\n",
       "      <td>0.07</td>\n",
       "      <td>0.02</td>\n",
       "      <td>15</td>\n",
       "    </tr>\n",
       "    <tr>\n",
       "      <th>forest</th>\n",
       "      <td>0.01</td>\n",
       "      <td>0.08</td>\n",
       "      <td>0.02</td>\n",
       "      <td>12</td>\n",
       "    </tr>\n",
       "    <tr>\n",
       "      <th>freeway</th>\n",
       "      <td>0.45</td>\n",
       "      <td>0.43</td>\n",
       "      <td>0.44</td>\n",
       "      <td>88</td>\n",
       "    </tr>\n",
       "    <tr>\n",
       "      <th>golfcourse</th>\n",
       "      <td>0.06</td>\n",
       "      <td>0.36</td>\n",
       "      <td>0.10</td>\n",
       "      <td>14</td>\n",
       "    </tr>\n",
       "    <tr>\n",
       "      <th>harbor</th>\n",
       "      <td>0.62</td>\n",
       "      <td>0.61</td>\n",
       "      <td>0.61</td>\n",
       "      <td>130</td>\n",
       "    </tr>\n",
       "    <tr>\n",
       "      <th>intersection</th>\n",
       "      <td>0.11</td>\n",
       "      <td>0.41</td>\n",
       "      <td>0.18</td>\n",
       "      <td>27</td>\n",
       "    </tr>\n",
       "    <tr>\n",
       "      <th>mediumresidential</th>\n",
       "      <td>0.02</td>\n",
       "      <td>0.38</td>\n",
       "      <td>0.04</td>\n",
       "      <td>8</td>\n",
       "    </tr>\n",
       "    <tr>\n",
       "      <th>mobilehomepark</th>\n",
       "      <td>0.00</td>\n",
       "      <td>0.00</td>\n",
       "      <td>0.00</td>\n",
       "      <td>15</td>\n",
       "    </tr>\n",
       "    <tr>\n",
       "      <th>overpass</th>\n",
       "      <td>0.06</td>\n",
       "      <td>0.82</td>\n",
       "      <td>0.11</td>\n",
       "      <td>11</td>\n",
       "    </tr>\n",
       "    <tr>\n",
       "      <th>parkinglot</th>\n",
       "      <td>0.37</td>\n",
       "      <td>0.19</td>\n",
       "      <td>0.25</td>\n",
       "      <td>99</td>\n",
       "    </tr>\n",
       "    <tr>\n",
       "      <th>river</th>\n",
       "      <td>0.22</td>\n",
       "      <td>0.80</td>\n",
       "      <td>0.35</td>\n",
       "      <td>20</td>\n",
       "    </tr>\n",
       "    <tr>\n",
       "      <th>micro avg</th>\n",
       "      <td>0.19</td>\n",
       "      <td>0.46</td>\n",
       "      <td>0.27</td>\n",
       "      <td>705</td>\n",
       "    </tr>\n",
       "    <tr>\n",
       "      <th>macro avg</th>\n",
       "      <td>0.20</td>\n",
       "      <td>0.41</td>\n",
       "      <td>0.23</td>\n",
       "      <td>705</td>\n",
       "    </tr>\n",
       "    <tr>\n",
       "      <th>weighted avg</th>\n",
       "      <td>0.36</td>\n",
       "      <td>0.46</td>\n",
       "      <td>0.37</td>\n",
       "      <td>705</td>\n",
       "    </tr>\n",
       "    <tr>\n",
       "      <th>samples avg</th>\n",
       "      <td>0.19</td>\n",
       "      <td>0.45</td>\n",
       "      <td>0.26</td>\n",
       "      <td>705</td>\n",
       "    </tr>\n",
       "  </tbody>\n",
       "</table>\n",
       "</div>"
      ],
      "text/plain": [
       "                   precision  recall  f1-score  support\n",
       "agricultural            0.10    0.57      0.17       14\n",
       "airplane                0.09    0.10      0.10       68\n",
       "baseballdiamond         0.46    0.64      0.53       69\n",
       "beach                   0.49    0.76      0.60       89\n",
       "buildings               0.23    0.69      0.34       16\n",
       "chaparral               0.01    0.10      0.02       10\n",
       "denseresidential        0.01    0.07      0.02       15\n",
       "forest                  0.01    0.08      0.02       12\n",
       "freeway                 0.45    0.43      0.44       88\n",
       "golfcourse              0.06    0.36      0.10       14\n",
       "harbor                  0.62    0.61      0.61      130\n",
       "intersection            0.11    0.41      0.18       27\n",
       "mediumresidential       0.02    0.38      0.04        8\n",
       "mobilehomepark          0.00    0.00      0.00       15\n",
       "overpass                0.06    0.82      0.11       11\n",
       "parkinglot              0.37    0.19      0.25       99\n",
       "river                   0.22    0.80      0.35       20\n",
       "micro avg               0.19    0.46      0.27      705\n",
       "macro avg               0.20    0.41      0.23      705\n",
       "weighted avg            0.36    0.46      0.37      705\n",
       "samples avg             0.19    0.45      0.26      705"
      ]
     },
     "execution_count": 51,
     "metadata": {},
     "output_type": "execute_result"
    }
   ],
   "source": [
    "pretty_classification_report_print(report, class_names=classLabels)"
   ]
  },
  {
   "cell_type": "code",
   "execution_count": null,
   "id": "634b4ebd-8f48-4d3d-a193-4e4c4f296663",
   "metadata": {},
   "outputs": [],
   "source": []
  },
  {
   "cell_type": "code",
   "execution_count": null,
   "id": "851df786-d2c2-4756-a1f5-c7bf830d089f",
   "metadata": {},
   "outputs": [],
   "source": []
  },
  {
   "cell_type": "code",
   "execution_count": null,
   "id": "7d242938-fd6b-470a-a271-b4d631c42a4f",
   "metadata": {},
   "outputs": [],
   "source": []
  },
  {
   "cell_type": "code",
   "execution_count": null,
   "id": "4b2f4cfb-03c9-4420-ba69-4da9ea643312",
   "metadata": {},
   "outputs": [],
   "source": []
  },
  {
   "cell_type": "code",
   "execution_count": null,
   "id": "929061bd-9125-4bf0-91df-1c096a333e8c",
   "metadata": {},
   "outputs": [],
   "source": []
  },
  {
   "cell_type": "code",
   "execution_count": null,
   "id": "28fa0d4d-fc41-45f1-a3cc-ea835fd2f282",
   "metadata": {},
   "outputs": [],
   "source": []
  },
  {
   "cell_type": "code",
   "execution_count": null,
   "id": "87b05ad8-a6b8-4f3e-a553-bc850daf5156",
   "metadata": {},
   "outputs": [],
   "source": []
  },
  {
   "cell_type": "code",
   "execution_count": null,
   "id": "f171a4ef-ade1-4c2b-b9af-708655bde7d0",
   "metadata": {},
   "outputs": [],
   "source": []
  },
  {
   "cell_type": "code",
   "execution_count": null,
   "id": "7eb60e36-f55b-4645-82c4-bd77bdbb95e6",
   "metadata": {},
   "outputs": [],
   "source": []
  },
  {
   "cell_type": "code",
   "execution_count": null,
   "id": "739bf598-3d58-4ec9-9779-be34b2804d75",
   "metadata": {},
   "outputs": [],
   "source": []
  },
  {
   "cell_type": "code",
   "execution_count": null,
   "id": "73f775b0-5f6d-4442-9d27-b77c8ab89d10",
   "metadata": {},
   "outputs": [],
   "source": []
  },
  {
   "cell_type": "code",
   "execution_count": null,
   "id": "0a0489f1-9fe1-481b-a517-7f4fce4e7b9e",
   "metadata": {},
   "outputs": [],
   "source": []
  },
  {
   "cell_type": "code",
   "execution_count": null,
   "id": "ccac7fb6-a7ac-4863-ad8d-fff6c9febca8",
   "metadata": {},
   "outputs": [],
   "source": []
  },
  {
   "cell_type": "code",
   "execution_count": null,
   "id": "5eb0773d-1d0d-4127-bc79-526dbbb87b1a",
   "metadata": {},
   "outputs": [],
   "source": []
  },
  {
   "cell_type": "code",
   "execution_count": null,
   "id": "1ff31dda-829d-46a4-afd7-dd66d353ab41",
   "metadata": {},
   "outputs": [],
   "source": []
  }
 ],
 "metadata": {
  "kernelspec": {
   "display_name": "ip4rs",
   "language": "python",
   "name": "ip4rs"
  },
  "language_info": {
   "codemirror_mode": {
    "name": "ipython",
    "version": 3
   },
   "file_extension": ".py",
   "mimetype": "text/x-python",
   "name": "python",
   "nbconvert_exporter": "python",
   "pygments_lexer": "ipython3",
   "version": "3.8.13"
  }
 },
 "nbformat": 4,
 "nbformat_minor": 5
}
