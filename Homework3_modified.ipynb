{
 "cells": [
  {
   "cell_type": "markdown",
   "id": "f7e627e4-ed29-46d0-90d6-41f2e2263d02",
   "metadata": {},
   "source": [
    "# Homework 3 - CNN on Multilabel remote sensing images\n",
    "## By: Syed Ali Murad Tahir\n",
    "\n",
    "In this homework we will be performing CNN on UCMerced dataset. This dataset contains Multispectral images. \n",
    "\n",
    "Tasks for this homework:\n",
    "1) Importing data\n",
    "2) Training data\n",
    "3) Data Augmentation on training data\n",
    "4) \n",
    "\n",
    "\n",
    "\n",
    "\n",
    "The task is divided into following step\n",
    "\n",
    "1)  Prepairing data\n",
    "2) The data we get, we divide that data, into training, test and validation. We divide training data into training and test\n",
    "3) To pretrain the model in order to avoid overfitting, we can use pretrained data already provided to us. Or, we can perform data augmentation\n",
    "to pre train the data so we have more samples of data\n",
    "4) Now we perform Convolution. So we choose the number of layers, neuron in that layer and the activation function of that layer (Check if need to perform padding before,). For padding check the following link: https://www.youtube.com/watch?v=mTVf7BN7S8w&list=PLeo1K3hjS3uu7CxAacxVndI4bE_o3BDtO&index=27\n",
    "5) Then we add Max pooling to take out dominant features\n",
    "6) We can add dropout\n",
    "7) Then we have to perform flatten the data\n",
    "8) We can add a desne layer (Check if we need it or not) -> These are actually the hidden layers we specify when performing forward propgation\n",
    "9) Then we train or data\n",
    "10) After that we check our results on test data to check for overfitting\n",
    "11) At the end we check validation\n"
   ]
  },
  {
   "cell_type": "markdown",
   "id": "adfc398e-dd1a-4922-b484-287d06bff04c",
   "metadata": {},
   "source": [
    "## Understanding the dataset\n",
    "\n",
    "This is a 21 class land use image dataset meant for research purposes. However, for multilabel, we only have 17 labels\n",
    "\n",
    "There are 100 images for each of the following classes:\n",
    "    \n",
    "    \n",
    " 1) airplane\t\n",
    " 2) bare-soil\t\n",
    " 3) buildings\t\n",
    " 4) cars\t\n",
    " 5) chaparral\t\n",
    " 6) court\t\n",
    " 7) dock\t\n",
    " 8) field\t\n",
    " 9) grass\t\n",
    " 10) mobile-home\t\n",
    " 11) pavement\t\n",
    " 12) sand\t\n",
    " 13) sea\t\n",
    " 14) ship\t\n",
    " 15) tanks\t\n",
    " 16) trees\t\n",
    " 17) water\n",
    "\n",
    "Each image measures 256x256 pixels.\n",
    "\n"
   ]
  },
  {
   "cell_type": "code",
   "execution_count": 25,
   "id": "a83d46b9-5220-4662-8b36-90f3738eaf4f",
   "metadata": {
    "execution": {
     "iopub.execute_input": "2022-07-12T23:36:22.413070Z",
     "iopub.status.busy": "2022-07-12T23:36:22.412049Z",
     "iopub.status.idle": "2022-07-12T23:36:22.420891Z",
     "shell.execute_reply": "2022-07-12T23:36:22.419346Z",
     "shell.execute_reply.started": "2022-07-12T23:36:22.413040Z"
    }
   },
   "outputs": [],
   "source": [
    "import copy\n",
    "import os\n",
    "import numpy as np\n",
    "import pandas as pd\n",
    "from pathlib import *\n",
    "import zipfile\n",
    "import matplotlib.pyplot as plt\n",
    "from simple_downloader import download\n",
    "from tqdm.notebook import tqdm\n",
    "from pathlib import Path\n",
    "from PIL import Image\n",
    "from sklearn.metrics import classification_report, confusion_matrix\n",
    "\n",
    "\n",
    "\n",
    "import torch\n",
    "import torch.nn as nn\n",
    "import torch.nn.functional as F\n",
    "import torch.optim as optim\n",
    "from torchvision import transforms\n",
    "from torch.utils.data import Dataset, Subset, DataLoader"
   ]
  },
  {
   "cell_type": "markdown",
   "id": "7c759d12-4053-4918-b6e5-c0f13d220296",
   "metadata": {},
   "source": [
    "## Importing Dataset"
   ]
  },
  {
   "cell_type": "code",
   "execution_count": 22,
   "id": "4e7f1576-a705-4291-bbc4-0ac33ba98f10",
   "metadata": {
    "execution": {
     "iopub.execute_input": "2022-07-12T13:24:55.629503Z",
     "iopub.status.busy": "2022-07-12T13:24:55.628988Z",
     "iopub.status.idle": "2022-07-12T13:25:09.132867Z",
     "shell.execute_reply": "2022-07-12T13:25:09.132191Z",
     "shell.execute_reply.started": "2022-07-12T13:24:55.629475Z"
    }
   },
   "outputs": [],
   "source": [
    "#For removing directory and all files inside the directory. \n",
    "\"\"\" I created it so I don't have to delete all the files one by one in case I need to empty the folder\"\"\"\n",
    "\"\"\"\n",
    "path = os.path.join(\"/notebooks\", \"Hw3data_modified\", \"\")\n",
    "for root, dirs, files in os.walk(path, topdown=False):\n",
    "    for name in files:\n",
    "        os.remove(os.path.join(root, name))\n",
    "    for name in dirs:\n",
    "        os.rmdir(os.path.join(root, name))\n",
    "\n",
    "\n",
    "os.chdir(\"/notebooks\")\n",
    "\"\"\"\n"
   ]
  },
  {
   "cell_type": "code",
   "execution_count": 23,
   "id": "9c24b0c4-a6a1-4442-a03e-80404790e3e7",
   "metadata": {
    "execution": {
     "iopub.execute_input": "2022-07-12T13:25:39.128092Z",
     "iopub.status.busy": "2022-07-12T13:25:39.127771Z",
     "iopub.status.idle": "2022-07-12T13:25:39.138323Z",
     "shell.execute_reply": "2022-07-12T13:25:39.137787Z",
     "shell.execute_reply.started": "2022-07-12T13:25:39.128070Z"
    }
   },
   "outputs": [],
   "source": [
    "download_dir = Path(\"./Hw3data_modified\")\n",
    "download_dir.mkdir(exist_ok=True)"
   ]
  },
  {
   "cell_type": "code",
   "execution_count": 24,
   "id": "24af904b-6980-47c3-8447-5c881a565e79",
   "metadata": {
    "execution": {
     "iopub.execute_input": "2022-07-12T13:25:40.292302Z",
     "iopub.status.busy": "2022-07-12T13:25:40.291367Z",
     "iopub.status.idle": "2022-07-12T13:26:50.991089Z",
     "shell.execute_reply": "2022-07-12T13:26:50.990124Z",
     "shell.execute_reply.started": "2022-07-12T13:25:40.292269Z"
    }
   },
   "outputs": [
    {
     "data": {
      "text/html": [
       "<pre style=\"white-space:pre;overflow-x:auto;line-height:normal;font-family:Menlo,'DejaVu Sans Mono',consolas,'Courier New',monospace\"><span style=\"font-weight: bold\">UCMerced_LandUse.zip</span> <span style=\"color: #729c1f; text-decoration-color: #729c1f\">━━━━━━━━━━━━━━━━━━━━━━━━━━━</span> <span style=\"color: #800080; text-decoration-color: #800080\">100.0%</span> | <span style=\"color: #008000; text-decoration-color: #008000\">332.9/332.9 MB</span> | <span style=\"color: #800000; text-decoration-color: #800000\">2.7 MB/s</span> | <span style=\"color: #008080; text-decoration-color: #008080\">0:00:00</span>\n",
       "      <span style=\"font-weight: bold\">All_Images.zip</span> <span style=\"color: #729c1f; text-decoration-color: #729c1f\">━━━━━━━━━━━━━━━━━━━━━━━━━━━</span> <span style=\"color: #800080; text-decoration-color: #800080\">100.0%</span> | <span style=\"color: #008000; text-decoration-color: #008000\">331.5/331.5 MB</span> | <span style=\"color: #800000; text-decoration-color: #800000\">8.0 MB/s</span> | <span style=\"color: #008080; text-decoration-color: #008080\">0:00:00</span>\n",
       "      <span style=\"font-weight: bold\">All_Images.zip</span> <span style=\"color: #729c1f; text-decoration-color: #729c1f\">━━━━━━━━━━━━━━━━━━━━━━━━━━━</span> <span style=\"color: #800080; text-decoration-color: #800080\">100.0%</span> | <span style=\"color: #008000; text-decoration-color: #008000\">331.5/331.5 MB</span> | <span style=\"color: #800000; text-decoration-color: #800000\">7.5 MB/s</span> | <span style=\"color: #008080; text-decoration-color: #008080\">0:00:00</span>\n",
       "<span style=\"font-weight: bold\">UCMerced_LandUse.zip</span> <span style=\"color: #f92672; text-decoration-color: #f92672\">━━━━━━━━━━━━━━━━━━━━━━━━━━╸</span> <span style=\"color: #800080; text-decoration-color: #800080\">100.0%</span> | <span style=\"color: #008000; text-decoration-color: #008000\">332.8/332.9 MB</span> | <span style=\"color: #800000; text-decoration-color: #800000\">4.9 MB/s</span> | <span style=\"color: #008080; text-decoration-color: #008080\">0:00:01</span>\n",
       "</pre>\n"
      ],
      "text/plain": [
       "\u001b[1mUCMerced_LandUse.zip\u001b[0m \u001b[38;2;114;156;31m━━━━━━━━━━━━━━━━━━━━━━━━━━━\u001b[0m \u001b[35m100.0%\u001b[0m | \u001b[32m332.9/332.9 MB\u001b[0m | \u001b[31m2.7 MB/s\u001b[0m | \u001b[36m0:00:00\u001b[0m\n",
       "      \u001b[1mAll_Images.zip\u001b[0m \u001b[38;2;114;156;31m━━━━━━━━━━━━━━━━━━━━━━━━━━━\u001b[0m \u001b[35m100.0%\u001b[0m | \u001b[32m331.5/331.5 MB\u001b[0m | \u001b[31m8.0 MB/s\u001b[0m | \u001b[36m0:00:00\u001b[0m\n",
       "      \u001b[1mAll_Images.zip\u001b[0m \u001b[38;2;114;156;31m━━━━━━━━━━━━━━━━━━━━━━━━━━━\u001b[0m \u001b[35m100.0%\u001b[0m | \u001b[32m331.5/331.5 MB\u001b[0m | \u001b[31m7.5 MB/s\u001b[0m | \u001b[36m0:00:00\u001b[0m\n",
       "\u001b[1mUCMerced_LandUse.zip\u001b[0m \u001b[38;2;249;38;114m━━━━━━━━━━━━━━━━━━━━━━━━━━\u001b[0m\u001b[38;2;249;38;114m╸\u001b[0m \u001b[35m100.0%\u001b[0m | \u001b[32m332.8/332.9 MB\u001b[0m | \u001b[31m4.9 MB/s\u001b[0m | \u001b[36m0:00:01\u001b[0m\n"
      ]
     },
     "metadata": {},
     "output_type": "display_data"
    },
    {
     "data": {
      "text/html": [
       "<pre style=\"white-space:pre;overflow-x:auto;line-height:normal;font-family:Menlo,'DejaVu Sans Mono',consolas,'Courier New',monospace\"></pre>\n"
      ],
      "text/plain": []
     },
     "metadata": {},
     "output_type": "display_data"
    },
    {
     "data": {
      "text/html": [
       "<pre style=\"white-space:pre;overflow-x:auto;line-height:normal;font-family:Menlo,'DejaVu Sans Mono',consolas,'Courier New',monospace\">\n",
       "</pre>\n"
      ],
      "text/plain": [
       "\n"
      ]
     },
     "metadata": {},
     "output_type": "display_data"
    }
   ],
   "source": [
    "TUB_URL = \"https://tubcloud.tu-berlin.de/s/H4QHX5GPDY6wDog/download/UCMerced_LandUse.zip\"\n",
    "output_file = download(TUB_URL, \"./Hw3data_modified/\")"
   ]
  },
  {
   "cell_type": "code",
   "execution_count": 25,
   "id": "582108d5-bb6d-4c32-82d8-365163c0c8f4",
   "metadata": {
    "execution": {
     "iopub.execute_input": "2022-07-12T13:26:50.996981Z",
     "iopub.status.busy": "2022-07-12T13:26:50.996699Z",
     "iopub.status.idle": "2022-07-12T13:27:06.450232Z",
     "shell.execute_reply": "2022-07-12T13:27:06.449480Z",
     "shell.execute_reply.started": "2022-07-12T13:26:50.996960Z"
    }
   },
   "outputs": [],
   "source": [
    "zipf = zipfile.ZipFile(output_file)\n",
    "zipf.extractall(path=\"Hw3data_modified\")"
   ]
  },
  {
   "cell_type": "code",
   "execution_count": 2,
   "id": "b6a4d288-aaab-4892-84cb-da536bc02bdd",
   "metadata": {
    "execution": {
     "iopub.execute_input": "2022-07-12T22:56:15.588143Z",
     "iopub.status.busy": "2022-07-12T22:56:15.587657Z",
     "iopub.status.idle": "2022-07-12T22:56:16.292453Z",
     "shell.execute_reply": "2022-07-12T22:56:16.291589Z",
     "shell.execute_reply.started": "2022-07-12T22:56:15.588111Z"
    }
   },
   "outputs": [
    {
     "name": "stdout",
     "output_type": "stream",
     "text": [
      "Current working directory: /notebooks/Hw3data_modified/UCMerced_LandUse/multilabels\n"
     ]
    },
    {
     "data": {
      "text/html": [
       "<div>\n",
       "<style scoped>\n",
       "    .dataframe tbody tr th:only-of-type {\n",
       "        vertical-align: middle;\n",
       "    }\n",
       "\n",
       "    .dataframe tbody tr th {\n",
       "        vertical-align: top;\n",
       "    }\n",
       "\n",
       "    .dataframe thead th {\n",
       "        text-align: right;\n",
       "    }\n",
       "</style>\n",
       "<table border=\"1\" class=\"dataframe\">\n",
       "  <thead>\n",
       "    <tr style=\"text-align: right;\">\n",
       "      <th></th>\n",
       "      <th>IMAGE\\LABEL</th>\n",
       "      <th>airplane</th>\n",
       "      <th>bare-soil</th>\n",
       "      <th>buildings</th>\n",
       "      <th>cars</th>\n",
       "      <th>chaparral</th>\n",
       "      <th>court</th>\n",
       "      <th>dock</th>\n",
       "      <th>field</th>\n",
       "      <th>grass</th>\n",
       "      <th>mobile-home</th>\n",
       "      <th>pavement</th>\n",
       "      <th>sand</th>\n",
       "      <th>sea</th>\n",
       "      <th>ship</th>\n",
       "      <th>tanks</th>\n",
       "      <th>trees</th>\n",
       "      <th>water</th>\n",
       "    </tr>\n",
       "  </thead>\n",
       "  <tbody>\n",
       "    <tr>\n",
       "      <th>0</th>\n",
       "      <td>agricultural00</td>\n",
       "      <td>0</td>\n",
       "      <td>0</td>\n",
       "      <td>0</td>\n",
       "      <td>0</td>\n",
       "      <td>0</td>\n",
       "      <td>0</td>\n",
       "      <td>0</td>\n",
       "      <td>1</td>\n",
       "      <td>0</td>\n",
       "      <td>0</td>\n",
       "      <td>0</td>\n",
       "      <td>0</td>\n",
       "      <td>0</td>\n",
       "      <td>0</td>\n",
       "      <td>0</td>\n",
       "      <td>1</td>\n",
       "      <td>0</td>\n",
       "    </tr>\n",
       "    <tr>\n",
       "      <th>1</th>\n",
       "      <td>agricultural01</td>\n",
       "      <td>0</td>\n",
       "      <td>0</td>\n",
       "      <td>0</td>\n",
       "      <td>0</td>\n",
       "      <td>0</td>\n",
       "      <td>0</td>\n",
       "      <td>0</td>\n",
       "      <td>1</td>\n",
       "      <td>0</td>\n",
       "      <td>0</td>\n",
       "      <td>0</td>\n",
       "      <td>0</td>\n",
       "      <td>0</td>\n",
       "      <td>0</td>\n",
       "      <td>0</td>\n",
       "      <td>0</td>\n",
       "      <td>0</td>\n",
       "    </tr>\n",
       "    <tr>\n",
       "      <th>2</th>\n",
       "      <td>agricultural02</td>\n",
       "      <td>0</td>\n",
       "      <td>0</td>\n",
       "      <td>0</td>\n",
       "      <td>0</td>\n",
       "      <td>0</td>\n",
       "      <td>0</td>\n",
       "      <td>0</td>\n",
       "      <td>1</td>\n",
       "      <td>0</td>\n",
       "      <td>0</td>\n",
       "      <td>0</td>\n",
       "      <td>0</td>\n",
       "      <td>0</td>\n",
       "      <td>0</td>\n",
       "      <td>0</td>\n",
       "      <td>0</td>\n",
       "      <td>0</td>\n",
       "    </tr>\n",
       "    <tr>\n",
       "      <th>3</th>\n",
       "      <td>agricultural03</td>\n",
       "      <td>0</td>\n",
       "      <td>0</td>\n",
       "      <td>0</td>\n",
       "      <td>0</td>\n",
       "      <td>0</td>\n",
       "      <td>0</td>\n",
       "      <td>0</td>\n",
       "      <td>1</td>\n",
       "      <td>0</td>\n",
       "      <td>0</td>\n",
       "      <td>0</td>\n",
       "      <td>0</td>\n",
       "      <td>0</td>\n",
       "      <td>0</td>\n",
       "      <td>0</td>\n",
       "      <td>0</td>\n",
       "      <td>0</td>\n",
       "    </tr>\n",
       "    <tr>\n",
       "      <th>4</th>\n",
       "      <td>agricultural04</td>\n",
       "      <td>0</td>\n",
       "      <td>0</td>\n",
       "      <td>0</td>\n",
       "      <td>0</td>\n",
       "      <td>0</td>\n",
       "      <td>0</td>\n",
       "      <td>0</td>\n",
       "      <td>0</td>\n",
       "      <td>0</td>\n",
       "      <td>0</td>\n",
       "      <td>0</td>\n",
       "      <td>0</td>\n",
       "      <td>0</td>\n",
       "      <td>0</td>\n",
       "      <td>0</td>\n",
       "      <td>1</td>\n",
       "      <td>0</td>\n",
       "    </tr>\n",
       "    <tr>\n",
       "      <th>...</th>\n",
       "      <td>...</td>\n",
       "      <td>...</td>\n",
       "      <td>...</td>\n",
       "      <td>...</td>\n",
       "      <td>...</td>\n",
       "      <td>...</td>\n",
       "      <td>...</td>\n",
       "      <td>...</td>\n",
       "      <td>...</td>\n",
       "      <td>...</td>\n",
       "      <td>...</td>\n",
       "      <td>...</td>\n",
       "      <td>...</td>\n",
       "      <td>...</td>\n",
       "      <td>...</td>\n",
       "      <td>...</td>\n",
       "      <td>...</td>\n",
       "      <td>...</td>\n",
       "    </tr>\n",
       "    <tr>\n",
       "      <th>2095</th>\n",
       "      <td>tenniscourt95</td>\n",
       "      <td>0</td>\n",
       "      <td>1</td>\n",
       "      <td>0</td>\n",
       "      <td>0</td>\n",
       "      <td>0</td>\n",
       "      <td>1</td>\n",
       "      <td>0</td>\n",
       "      <td>0</td>\n",
       "      <td>1</td>\n",
       "      <td>0</td>\n",
       "      <td>1</td>\n",
       "      <td>0</td>\n",
       "      <td>0</td>\n",
       "      <td>0</td>\n",
       "      <td>0</td>\n",
       "      <td>0</td>\n",
       "      <td>0</td>\n",
       "    </tr>\n",
       "    <tr>\n",
       "      <th>2096</th>\n",
       "      <td>tenniscourt96</td>\n",
       "      <td>0</td>\n",
       "      <td>1</td>\n",
       "      <td>1</td>\n",
       "      <td>1</td>\n",
       "      <td>0</td>\n",
       "      <td>1</td>\n",
       "      <td>0</td>\n",
       "      <td>0</td>\n",
       "      <td>1</td>\n",
       "      <td>0</td>\n",
       "      <td>1</td>\n",
       "      <td>0</td>\n",
       "      <td>0</td>\n",
       "      <td>0</td>\n",
       "      <td>0</td>\n",
       "      <td>1</td>\n",
       "      <td>0</td>\n",
       "    </tr>\n",
       "    <tr>\n",
       "      <th>2097</th>\n",
       "      <td>tenniscourt97</td>\n",
       "      <td>0</td>\n",
       "      <td>1</td>\n",
       "      <td>1</td>\n",
       "      <td>1</td>\n",
       "      <td>0</td>\n",
       "      <td>1</td>\n",
       "      <td>0</td>\n",
       "      <td>0</td>\n",
       "      <td>1</td>\n",
       "      <td>0</td>\n",
       "      <td>1</td>\n",
       "      <td>0</td>\n",
       "      <td>0</td>\n",
       "      <td>0</td>\n",
       "      <td>0</td>\n",
       "      <td>1</td>\n",
       "      <td>0</td>\n",
       "    </tr>\n",
       "    <tr>\n",
       "      <th>2098</th>\n",
       "      <td>tenniscourt98</td>\n",
       "      <td>0</td>\n",
       "      <td>1</td>\n",
       "      <td>1</td>\n",
       "      <td>1</td>\n",
       "      <td>0</td>\n",
       "      <td>1</td>\n",
       "      <td>0</td>\n",
       "      <td>0</td>\n",
       "      <td>1</td>\n",
       "      <td>0</td>\n",
       "      <td>1</td>\n",
       "      <td>0</td>\n",
       "      <td>0</td>\n",
       "      <td>0</td>\n",
       "      <td>0</td>\n",
       "      <td>1</td>\n",
       "      <td>0</td>\n",
       "    </tr>\n",
       "    <tr>\n",
       "      <th>2099</th>\n",
       "      <td>tenniscourt99</td>\n",
       "      <td>0</td>\n",
       "      <td>1</td>\n",
       "      <td>0</td>\n",
       "      <td>1</td>\n",
       "      <td>0</td>\n",
       "      <td>1</td>\n",
       "      <td>0</td>\n",
       "      <td>0</td>\n",
       "      <td>1</td>\n",
       "      <td>0</td>\n",
       "      <td>1</td>\n",
       "      <td>0</td>\n",
       "      <td>0</td>\n",
       "      <td>0</td>\n",
       "      <td>0</td>\n",
       "      <td>1</td>\n",
       "      <td>0</td>\n",
       "    </tr>\n",
       "  </tbody>\n",
       "</table>\n",
       "<p>2100 rows × 18 columns</p>\n",
       "</div>"
      ],
      "text/plain": [
       "         IMAGE\\LABEL  airplane  bare-soil  buildings  cars  chaparral  court  \\\n",
       "0     agricultural00         0          0          0     0          0      0   \n",
       "1     agricultural01         0          0          0     0          0      0   \n",
       "2     agricultural02         0          0          0     0          0      0   \n",
       "3     agricultural03         0          0          0     0          0      0   \n",
       "4     agricultural04         0          0          0     0          0      0   \n",
       "...              ...       ...        ...        ...   ...        ...    ...   \n",
       "2095   tenniscourt95         0          1          0     0          0      1   \n",
       "2096   tenniscourt96         0          1          1     1          0      1   \n",
       "2097   tenniscourt97         0          1          1     1          0      1   \n",
       "2098   tenniscourt98         0          1          1     1          0      1   \n",
       "2099   tenniscourt99         0          1          0     1          0      1   \n",
       "\n",
       "      dock  field  grass  mobile-home  pavement  sand  sea  ship  tanks  \\\n",
       "0        0      1      0            0         0     0    0     0      0   \n",
       "1        0      1      0            0         0     0    0     0      0   \n",
       "2        0      1      0            0         0     0    0     0      0   \n",
       "3        0      1      0            0         0     0    0     0      0   \n",
       "4        0      0      0            0         0     0    0     0      0   \n",
       "...    ...    ...    ...          ...       ...   ...  ...   ...    ...   \n",
       "2095     0      0      1            0         1     0    0     0      0   \n",
       "2096     0      0      1            0         1     0    0     0      0   \n",
       "2097     0      0      1            0         1     0    0     0      0   \n",
       "2098     0      0      1            0         1     0    0     0      0   \n",
       "2099     0      0      1            0         1     0    0     0      0   \n",
       "\n",
       "      trees  water  \n",
       "0         1      0  \n",
       "1         0      0  \n",
       "2         0      0  \n",
       "3         0      0  \n",
       "4         1      0  \n",
       "...     ...    ...  \n",
       "2095      0      0  \n",
       "2096      1      0  \n",
       "2097      1      0  \n",
       "2098      1      0  \n",
       "2099      1      0  \n",
       "\n",
       "[2100 rows x 18 columns]"
      ]
     },
     "execution_count": 2,
     "metadata": {},
     "output_type": "execute_result"
    }
   ],
   "source": [
    "#Go to different file directory\n",
    "path = os.path.join(\"/notebooks\", \"Hw3data_modified\", \"UCMerced_LandUse\", \"multilabels\", \"\")\n",
    "os.chdir(path)\n",
    "\n",
    "\n",
    "\n",
    "\n",
    "# Print the current working directory\n",
    "print(\"Current working directory: {0}\".format(os.getcwd()))\n",
    "\n",
    "\n",
    "data = pd.DataFrame(pd.read_excel(\"LandUse_Multilabeled.xlsx\"))\n",
    "data"
   ]
  },
  {
   "cell_type": "code",
   "execution_count": 26,
   "id": "18da7cff-a507-4f3f-b7a6-9f5939bf4dd7",
   "metadata": {
    "execution": {
     "iopub.execute_input": "2022-07-12T23:36:30.850378Z",
     "iopub.status.busy": "2022-07-12T23:36:30.849968Z",
     "iopub.status.idle": "2022-07-12T23:36:31.115567Z",
     "shell.execute_reply": "2022-07-12T23:36:31.114267Z",
     "shell.execute_reply.started": "2022-07-12T23:36:30.850351Z"
    }
   },
   "outputs": [
    {
     "name": "stdout",
     "output_type": "stream",
     "text": [
      "            Number of labels\n",
      "airplane                 100\n",
      "bare-soil                718\n",
      "buildings                691\n",
      "cars                     886\n",
      "chaparral                115\n",
      "court                    105\n",
      "dock                     100\n",
      "field                    103\n",
      "grass                    975\n",
      "mobile-home              102\n",
      "pavement                1300\n",
      "sand                     294\n",
      "sea                      100\n",
      "ship                     102\n",
      "tanks                    100\n",
      "trees                   1009\n",
      "water                    203\n"
     ]
    },
    {
     "data": {
      "text/plain": [
       "Text(0.5, 1.0, 'Total no. of labels that belong to each class')"
      ]
     },
     "execution_count": 26,
     "metadata": {},
     "output_type": "execute_result"
    },
    {
     "data": {
      "image/png": "[encoded data removed]",
      "text/plain": [
       "<Figure size 720x720 with 1 Axes>"
      ]
     },
     "metadata": {
      "needs_background": "light"
     },
     "output_type": "display_data"
    }
   ],
   "source": [
    "result = data.sum(axis=\"rows\")\n",
    "df = pd.DataFrame(result,columns=['Number of labels'])   #Convert into Data Frame\n",
    "#Drop the first row\n",
    "df.drop(index=df.index[0], \n",
    "        axis=0, \n",
    "        inplace=True)\n",
    "print(df)\n",
    "\n",
    "\n",
    "df.plot.bar(figsize=(10,10))\n",
    "plt.xlabel(\"Total Classes\")\n",
    "plt.ylabel(\"No. of Labels\")\n",
    "plt.title(\"Total no. of labels that belong to each class\")\n",
    "\n"
   ]
  },
  {
   "cell_type": "markdown",
   "id": "1e757c47-ecfd-44be-8f73-acceeb5cd324",
   "metadata": {},
   "source": [
    "Since we have images in different folder, we can create a new folder and move all of them there"
   ]
  },
  {
   "cell_type": "code",
   "execution_count": 28,
   "id": "1ac6ae1f-eee1-4044-a0f2-b9a9519f8923",
   "metadata": {
    "execution": {
     "iopub.execute_input": "2022-07-12T13:27:07.637217Z",
     "iopub.status.busy": "2022-07-12T13:27:07.636278Z",
     "iopub.status.idle": "2022-07-12T13:27:07.643503Z",
     "shell.execute_reply": "2022-07-12T13:27:07.642838Z",
     "shell.execute_reply.started": "2022-07-12T13:27:07.637174Z"
    }
   },
   "outputs": [
    {
     "name": "stdout",
     "output_type": "stream",
     "text": [
      "Target file already exists!\n",
      "Will skip download. To force download set `force=True`\n"
     ]
    }
   ],
   "source": [
    "#We move all images to one folve all images to one folder\n",
    "os.chdir(\"/notebooks\")\n",
    "TUB_URL = \"https://tubcloud.tu-berlin.de/s/ByA4webNJcpYDSK/download/All_Images.zip\"\n",
    "output_file = download(TUB_URL, \"\")"
   ]
  },
  {
   "cell_type": "code",
   "execution_count": 29,
   "id": "424a53bf-340b-42d6-a43f-8305b34d6af5",
   "metadata": {
    "execution": {
     "iopub.execute_input": "2022-07-12T13:27:07.645445Z",
     "iopub.status.busy": "2022-07-12T13:27:07.644918Z",
     "iopub.status.idle": "2022-07-12T13:27:19.847346Z",
     "shell.execute_reply": "2022-07-12T13:27:19.846684Z",
     "shell.execute_reply.started": "2022-07-12T13:27:07.645412Z"
    }
   },
   "outputs": [],
   "source": [
    "zipf = zipfile.ZipFile(output_file)\n",
    "zipf.extractall()"
   ]
  },
  {
   "cell_type": "code",
   "execution_count": 30,
   "id": "b034bbe2-8e10-45a8-aa4e-86c9819b566f",
   "metadata": {
    "execution": {
     "iopub.execute_input": "2022-07-12T13:38:15.671818Z",
     "iopub.status.busy": "2022-07-12T13:38:15.670670Z",
     "iopub.status.idle": "2022-07-12T13:38:16.214001Z",
     "shell.execute_reply": "2022-07-12T13:38:16.213369Z",
     "shell.execute_reply.started": "2022-07-12T13:38:15.671783Z"
    }
   },
   "outputs": [
    {
     "name": "stdout",
     "output_type": "stream",
     "text": [
      "Current working directory: /notebooks/Hw3data_modified/UCMerced_LandUse/multilabels\n"
     ]
    }
   ],
   "source": [
    "path = os.path.join(\"/notebooks\", \"Hw3data_modified\", \"UCMerced_LandUse\", \"multilabels\", \"\")\n",
    "os.chdir(path)\n",
    "\n",
    "print(\"Current working directory: {0}\".format(os.getcwd()))\n",
    "\n",
    "\n",
    "#Load all classes for all images\n",
    "data = pd.read_excel(\"LandUse_Multilabeled.xlsx\")\n",
    "\n"
   ]
  },
  {
   "cell_type": "markdown",
   "id": "8f1aad45-434b-4f1f-b069-d6bdc6414a98",
   "metadata": {},
   "source": [
    "## Design the Data Pipeline"
   ]
  },
  {
   "cell_type": "code",
   "execution_count": 28,
   "id": "ed73ef3c-571b-4adc-be94-e069cc13bac7",
   "metadata": {
    "execution": {
     "iopub.execute_input": "2022-07-12T23:36:40.658010Z",
     "iopub.status.busy": "2022-07-12T23:36:40.657557Z",
     "iopub.status.idle": "2022-07-12T23:36:41.288922Z",
     "shell.execute_reply": "2022-07-12T23:36:41.288182Z",
     "shell.execute_reply.started": "2022-07-12T23:36:40.657981Z"
    }
   },
   "outputs": [
    {
     "data": {
      "text/html": [
       "<div>\n",
       "<style scoped>\n",
       "    .dataframe tbody tr th:only-of-type {\n",
       "        vertical-align: middle;\n",
       "    }\n",
       "\n",
       "    .dataframe tbody tr th {\n",
       "        vertical-align: top;\n",
       "    }\n",
       "\n",
       "    .dataframe thead th {\n",
       "        text-align: right;\n",
       "    }\n",
       "</style>\n",
       "<table border=\"1\" class=\"dataframe\">\n",
       "  <thead>\n",
       "    <tr style=\"text-align: right;\">\n",
       "      <th></th>\n",
       "      <th>IMAGE\\LABEL</th>\n",
       "      <th>airplane</th>\n",
       "      <th>bare-soil</th>\n",
       "      <th>buildings</th>\n",
       "      <th>cars</th>\n",
       "      <th>chaparral</th>\n",
       "      <th>court</th>\n",
       "      <th>dock</th>\n",
       "      <th>field</th>\n",
       "      <th>grass</th>\n",
       "      <th>mobile-home</th>\n",
       "      <th>pavement</th>\n",
       "      <th>sand</th>\n",
       "      <th>sea</th>\n",
       "      <th>ship</th>\n",
       "      <th>tanks</th>\n",
       "      <th>trees</th>\n",
       "      <th>water</th>\n",
       "    </tr>\n",
       "  </thead>\n",
       "  <tbody>\n",
       "    <tr>\n",
       "      <th>0</th>\n",
       "      <td>agricultural00</td>\n",
       "      <td>0</td>\n",
       "      <td>0</td>\n",
       "      <td>0</td>\n",
       "      <td>0</td>\n",
       "      <td>0</td>\n",
       "      <td>0</td>\n",
       "      <td>0</td>\n",
       "      <td>1</td>\n",
       "      <td>0</td>\n",
       "      <td>0</td>\n",
       "      <td>0</td>\n",
       "      <td>0</td>\n",
       "      <td>0</td>\n",
       "      <td>0</td>\n",
       "      <td>0</td>\n",
       "      <td>1</td>\n",
       "      <td>0</td>\n",
       "    </tr>\n",
       "    <tr>\n",
       "      <th>1</th>\n",
       "      <td>agricultural01</td>\n",
       "      <td>0</td>\n",
       "      <td>0</td>\n",
       "      <td>0</td>\n",
       "      <td>0</td>\n",
       "      <td>0</td>\n",
       "      <td>0</td>\n",
       "      <td>0</td>\n",
       "      <td>1</td>\n",
       "      <td>0</td>\n",
       "      <td>0</td>\n",
       "      <td>0</td>\n",
       "      <td>0</td>\n",
       "      <td>0</td>\n",
       "      <td>0</td>\n",
       "      <td>0</td>\n",
       "      <td>0</td>\n",
       "      <td>0</td>\n",
       "    </tr>\n",
       "    <tr>\n",
       "      <th>2</th>\n",
       "      <td>agricultural02</td>\n",
       "      <td>0</td>\n",
       "      <td>0</td>\n",
       "      <td>0</td>\n",
       "      <td>0</td>\n",
       "      <td>0</td>\n",
       "      <td>0</td>\n",
       "      <td>0</td>\n",
       "      <td>1</td>\n",
       "      <td>0</td>\n",
       "      <td>0</td>\n",
       "      <td>0</td>\n",
       "      <td>0</td>\n",
       "      <td>0</td>\n",
       "      <td>0</td>\n",
       "      <td>0</td>\n",
       "      <td>0</td>\n",
       "      <td>0</td>\n",
       "    </tr>\n",
       "    <tr>\n",
       "      <th>3</th>\n",
       "      <td>agricultural03</td>\n",
       "      <td>0</td>\n",
       "      <td>0</td>\n",
       "      <td>0</td>\n",
       "      <td>0</td>\n",
       "      <td>0</td>\n",
       "      <td>0</td>\n",
       "      <td>0</td>\n",
       "      <td>1</td>\n",
       "      <td>0</td>\n",
       "      <td>0</td>\n",
       "      <td>0</td>\n",
       "      <td>0</td>\n",
       "      <td>0</td>\n",
       "      <td>0</td>\n",
       "      <td>0</td>\n",
       "      <td>0</td>\n",
       "      <td>0</td>\n",
       "    </tr>\n",
       "    <tr>\n",
       "      <th>4</th>\n",
       "      <td>agricultural04</td>\n",
       "      <td>0</td>\n",
       "      <td>0</td>\n",
       "      <td>0</td>\n",
       "      <td>0</td>\n",
       "      <td>0</td>\n",
       "      <td>0</td>\n",
       "      <td>0</td>\n",
       "      <td>0</td>\n",
       "      <td>0</td>\n",
       "      <td>0</td>\n",
       "      <td>0</td>\n",
       "      <td>0</td>\n",
       "      <td>0</td>\n",
       "      <td>0</td>\n",
       "      <td>0</td>\n",
       "      <td>1</td>\n",
       "      <td>0</td>\n",
       "    </tr>\n",
       "    <tr>\n",
       "      <th>...</th>\n",
       "      <td>...</td>\n",
       "      <td>...</td>\n",
       "      <td>...</td>\n",
       "      <td>...</td>\n",
       "      <td>...</td>\n",
       "      <td>...</td>\n",
       "      <td>...</td>\n",
       "      <td>...</td>\n",
       "      <td>...</td>\n",
       "      <td>...</td>\n",
       "      <td>...</td>\n",
       "      <td>...</td>\n",
       "      <td>...</td>\n",
       "      <td>...</td>\n",
       "      <td>...</td>\n",
       "      <td>...</td>\n",
       "      <td>...</td>\n",
       "      <td>...</td>\n",
       "    </tr>\n",
       "    <tr>\n",
       "      <th>2095</th>\n",
       "      <td>tenniscourt95</td>\n",
       "      <td>0</td>\n",
       "      <td>1</td>\n",
       "      <td>0</td>\n",
       "      <td>0</td>\n",
       "      <td>0</td>\n",
       "      <td>1</td>\n",
       "      <td>0</td>\n",
       "      <td>0</td>\n",
       "      <td>1</td>\n",
       "      <td>0</td>\n",
       "      <td>1</td>\n",
       "      <td>0</td>\n",
       "      <td>0</td>\n",
       "      <td>0</td>\n",
       "      <td>0</td>\n",
       "      <td>0</td>\n",
       "      <td>0</td>\n",
       "    </tr>\n",
       "    <tr>\n",
       "      <th>2096</th>\n",
       "      <td>tenniscourt96</td>\n",
       "      <td>0</td>\n",
       "      <td>1</td>\n",
       "      <td>1</td>\n",
       "      <td>1</td>\n",
       "      <td>0</td>\n",
       "      <td>1</td>\n",
       "      <td>0</td>\n",
       "      <td>0</td>\n",
       "      <td>1</td>\n",
       "      <td>0</td>\n",
       "      <td>1</td>\n",
       "      <td>0</td>\n",
       "      <td>0</td>\n",
       "      <td>0</td>\n",
       "      <td>0</td>\n",
       "      <td>1</td>\n",
       "      <td>0</td>\n",
       "    </tr>\n",
       "    <tr>\n",
       "      <th>2097</th>\n",
       "      <td>tenniscourt97</td>\n",
       "      <td>0</td>\n",
       "      <td>1</td>\n",
       "      <td>1</td>\n",
       "      <td>1</td>\n",
       "      <td>0</td>\n",
       "      <td>1</td>\n",
       "      <td>0</td>\n",
       "      <td>0</td>\n",
       "      <td>1</td>\n",
       "      <td>0</td>\n",
       "      <td>1</td>\n",
       "      <td>0</td>\n",
       "      <td>0</td>\n",
       "      <td>0</td>\n",
       "      <td>0</td>\n",
       "      <td>1</td>\n",
       "      <td>0</td>\n",
       "    </tr>\n",
       "    <tr>\n",
       "      <th>2098</th>\n",
       "      <td>tenniscourt98</td>\n",
       "      <td>0</td>\n",
       "      <td>1</td>\n",
       "      <td>1</td>\n",
       "      <td>1</td>\n",
       "      <td>0</td>\n",
       "      <td>1</td>\n",
       "      <td>0</td>\n",
       "      <td>0</td>\n",
       "      <td>1</td>\n",
       "      <td>0</td>\n",
       "      <td>1</td>\n",
       "      <td>0</td>\n",
       "      <td>0</td>\n",
       "      <td>0</td>\n",
       "      <td>0</td>\n",
       "      <td>1</td>\n",
       "      <td>0</td>\n",
       "    </tr>\n",
       "    <tr>\n",
       "      <th>2099</th>\n",
       "      <td>tenniscourt99</td>\n",
       "      <td>0</td>\n",
       "      <td>1</td>\n",
       "      <td>0</td>\n",
       "      <td>1</td>\n",
       "      <td>0</td>\n",
       "      <td>1</td>\n",
       "      <td>0</td>\n",
       "      <td>0</td>\n",
       "      <td>1</td>\n",
       "      <td>0</td>\n",
       "      <td>1</td>\n",
       "      <td>0</td>\n",
       "      <td>0</td>\n",
       "      <td>0</td>\n",
       "      <td>0</td>\n",
       "      <td>1</td>\n",
       "      <td>0</td>\n",
       "    </tr>\n",
       "  </tbody>\n",
       "</table>\n",
       "<p>2100 rows × 18 columns</p>\n",
       "</div>"
      ],
      "text/plain": [
       "         IMAGE\\LABEL  airplane  bare-soil  buildings  cars  chaparral  court  \\\n",
       "0     agricultural00         0          0          0     0          0      0   \n",
       "1     agricultural01         0          0          0     0          0      0   \n",
       "2     agricultural02         0          0          0     0          0      0   \n",
       "3     agricultural03         0          0          0     0          0      0   \n",
       "4     agricultural04         0          0          0     0          0      0   \n",
       "...              ...       ...        ...        ...   ...        ...    ...   \n",
       "2095   tenniscourt95         0          1          0     0          0      1   \n",
       "2096   tenniscourt96         0          1          1     1          0      1   \n",
       "2097   tenniscourt97         0          1          1     1          0      1   \n",
       "2098   tenniscourt98         0          1          1     1          0      1   \n",
       "2099   tenniscourt99         0          1          0     1          0      1   \n",
       "\n",
       "      dock  field  grass  mobile-home  pavement  sand  sea  ship  tanks  \\\n",
       "0        0      1      0            0         0     0    0     0      0   \n",
       "1        0      1      0            0         0     0    0     0      0   \n",
       "2        0      1      0            0         0     0    0     0      0   \n",
       "3        0      1      0            0         0     0    0     0      0   \n",
       "4        0      0      0            0         0     0    0     0      0   \n",
       "...    ...    ...    ...          ...       ...   ...  ...   ...    ...   \n",
       "2095     0      0      1            0         1     0    0     0      0   \n",
       "2096     0      0      1            0         1     0    0     0      0   \n",
       "2097     0      0      1            0         1     0    0     0      0   \n",
       "2098     0      0      1            0         1     0    0     0      0   \n",
       "2099     0      0      1            0         1     0    0     0      0   \n",
       "\n",
       "      trees  water  \n",
       "0         1      0  \n",
       "1         0      0  \n",
       "2         0      0  \n",
       "3         0      0  \n",
       "4         1      0  \n",
       "...     ...    ...  \n",
       "2095      0      0  \n",
       "2096      1      0  \n",
       "2097      1      0  \n",
       "2098      1      0  \n",
       "2099      1      0  \n",
       "\n",
       "[2100 rows x 18 columns]"
      ]
     },
     "execution_count": 28,
     "metadata": {},
     "output_type": "execute_result"
    }
   ],
   "source": [
    "#importing pandas as pd\n",
    "import pandas as pd\n",
    "path = os.path.join(\"/notebooks\", \"Hw3data_modified\", \"UCMerced_LandUse\", \"multilabels\", \"\")\n",
    "os.chdir(path)\n",
    "  \n",
    "# Read and store content\n",
    "# of an excel file \n",
    "read_file = pd.read_excel(\"LandUse_Multilabeled.xlsx\")\n",
    "  \n",
    "# Write the dataframe object\n",
    "# into csv file\n",
    "read_file.to_csv(\"LandUse_Multilabeled.csv\", \n",
    "                  index = None,\n",
    "                  header=True)\n",
    "    \n",
    "# read csv file and convert into a dataframe object\n",
    "df = pd.DataFrame(pd.read_csv(\"LandUse_Multilabeled.csv\"))\n",
    "df"
   ]
  },
  {
   "cell_type": "code",
   "execution_count": 29,
   "id": "6e42350e-94b4-48cf-bcea-6e42ebd18efb",
   "metadata": {
    "execution": {
     "iopub.execute_input": "2022-07-12T23:36:41.669719Z",
     "iopub.status.busy": "2022-07-12T23:36:41.668857Z",
     "iopub.status.idle": "2022-07-12T23:36:41.674540Z",
     "shell.execute_reply": "2022-07-12T23:36:41.673435Z",
     "shell.execute_reply.started": "2022-07-12T23:36:41.669674Z"
    }
   },
   "outputs": [],
   "source": [
    "#Create class labels\n",
    "classLabels = [\"airplane\", \"bare-soil\", \"buildings\", \"cars\",\"chaparral\", \"court\", \"dock\", \"field\", \"grass\", \"mobile-home\",\"pavement\",\"sand\", \"sea\",\"ship\",\n",
    "               \"tanks\", \"trees\", \"water\"]\n"
   ]
  },
  {
   "cell_type": "code",
   "execution_count": 61,
   "id": "672c95ab-b4b1-4c55-8888-910156a5b4c7",
   "metadata": {
    "execution": {
     "iopub.execute_input": "2022-07-13T00:15:53.787677Z",
     "iopub.status.busy": "2022-07-13T00:15:53.787300Z",
     "iopub.status.idle": "2022-07-13T00:15:53.794698Z",
     "shell.execute_reply": "2022-07-13T00:15:53.793329Z",
     "shell.execute_reply.started": "2022-07-13T00:15:53.787650Z"
    }
   },
   "outputs": [
    {
     "data": {
      "text/plain": [
       "'/notebooks'"
      ]
     },
     "execution_count": 61,
     "metadata": {},
     "output_type": "execute_result"
    }
   ],
   "source": [
    "import os\n",
    "os.chdir(\"/notebooks\")\n",
    "os.getcwd()"
   ]
  },
  {
   "cell_type": "code",
   "execution_count": 64,
   "id": "c8b05815-ae85-4065-82df-5c16d2496344",
   "metadata": {
    "execution": {
     "iopub.execute_input": "2022-07-13T00:17:13.848117Z",
     "iopub.status.busy": "2022-07-13T00:17:13.847758Z",
     "iopub.status.idle": "2022-07-13T00:17:13.854605Z",
     "shell.execute_reply": "2022-07-13T00:17:13.853435Z",
     "shell.execute_reply.started": "2022-07-13T00:17:13.848092Z"
    }
   },
   "outputs": [],
   "source": [
    "import argparse\n",
    "import csv\n",
    "import os\n",
    "\n",
    "import numpy as np\n",
    "from PIL import Image\n",
    "from tqdm import tqdm\n",
    "\n",
    "\n",
    "\n",
    "def save_csv(data, path, fieldnames=['image_path', 'airplane', 'bare_soil', 'buildings', 'cars', 'chaparral', 'court', 'dock', 'field', 'grass', 'mobile_home', \n",
    "                                     'pavement', 'sand', 'sea', 'ship', 'tanks', 'trees', 'water']):\n",
    "    with open(path, 'w', newline='') as csv_file:\n",
    "        writer = csv.DictWriter(csv_file, fieldnames=fieldnames)\n",
    "        writer.writeheader()\n",
    "        for row in data:\n",
    "            writer.writerow(dict(zip(fieldnames, row)))\n"
   ]
  },
  {
   "cell_type": "code",
   "execution_count": 65,
   "id": "462715d8-19f2-4fb6-95fc-d057eaa2b1e5",
   "metadata": {
    "execution": {
     "iopub.execute_input": "2022-07-13T00:17:17.654207Z",
     "iopub.status.busy": "2022-07-13T00:17:17.653845Z",
     "iopub.status.idle": "2022-07-13T00:17:18.618009Z",
     "shell.execute_reply": "2022-07-13T00:17:18.616675Z",
     "shell.execute_reply.started": "2022-07-13T00:17:17.654183Z"
    }
   },
   "outputs": [
    {
     "name": "stderr",
     "output_type": "stream",
     "text": [
      "2100it [00:00, 2281.30it/s]"
     ]
    },
    {
     "name": "stdout",
     "output_type": "stream",
     "text": [
      "[]\n"
     ]
    },
    {
     "name": "stderr",
     "output_type": "stream",
     "text": [
      "\n"
     ]
    },
    {
     "ename": "IndexError",
     "evalue": "index 1034 is out of bounds for axis 0 with size 0",
     "output_type": "error",
     "traceback": [
      "\u001b[0;31m---------------------------------------------------------------------------\u001b[0m",
      "\u001b[0;31mIndexError\u001b[0m                                Traceback (most recent call last)",
      "Input \u001b[0;32mIn [65]\u001b[0m, in \u001b[0;36m<cell line: 60>\u001b[0;34m()\u001b[0m\n\u001b[1;32m     58\u001b[0m inds \u001b[38;5;241m=\u001b[39m np\u001b[38;5;241m.\u001b[39mrandom\u001b[38;5;241m.\u001b[39mchoice(\u001b[38;5;241m2100\u001b[39m, replace\u001b[38;5;241m=\u001b[39m\u001b[38;5;28;01mFalse\u001b[39;00m)\n\u001b[1;32m     59\u001b[0m \u001b[38;5;66;03m# split the data into train, val, test and save them as csv files\u001b[39;00m\n\u001b[0;32m---> 60\u001b[0m save_csv(\u001b[43mall_data\u001b[49m\u001b[43m[\u001b[49m\u001b[43minds\u001b[49m\u001b[43m]\u001b[49m[:\u001b[38;5;241m1470\u001b[39m], os\u001b[38;5;241m.\u001b[39mpath\u001b[38;5;241m.\u001b[39mjoin(\u001b[38;5;124m'\u001b[39m\u001b[38;5;124m/notebooks\u001b[39m\u001b[38;5;124m'\u001b[39m, \u001b[38;5;124m'\u001b[39m\u001b[38;5;124mtrain2.csv\u001b[39m\u001b[38;5;124m'\u001b[39m))\n\u001b[1;32m     61\u001b[0m save_csv(all_data[inds][\u001b[38;5;241m1471\u001b[39m:\u001b[38;5;241m1680\u001b[39m], os\u001b[38;5;241m.\u001b[39mpath\u001b[38;5;241m.\u001b[39mjoin(\u001b[38;5;124m'\u001b[39m\u001b[38;5;124m/notebooks\u001b[39m\u001b[38;5;124m'\u001b[39m,\u001b[38;5;124m'\u001b[39m\u001b[38;5;124mval2.csv\u001b[39m\u001b[38;5;124m'\u001b[39m))\n\u001b[1;32m     62\u001b[0m save_csv(all_data[inds][\u001b[38;5;241m1681\u001b[39m:\u001b[38;5;241m2100\u001b[39m], os\u001b[38;5;241m.\u001b[39mpath\u001b[38;5;241m.\u001b[39mjoin(\u001b[38;5;124m'\u001b[39m\u001b[38;5;124m/notebooks\u001b[39m\u001b[38;5;124m'\u001b[39m, \u001b[38;5;124m'\u001b[39m\u001b[38;5;124mtest2.csv\u001b[39m\u001b[38;5;124m'\u001b[39m))\n",
      "\u001b[0;31mIndexError\u001b[0m: index 1034 is out of bounds for axis 0 with size 0"
     ]
    }
   ],
   "source": [
    "import csv\n",
    "\n",
    "\n",
    "\n",
    "annotation = 'LandUse_Multilabeled.csv'\n",
    "\n",
    "all_data = []\n",
    "# open annotation file\n",
    "with open(annotation) as csv_file:\n",
    "    # parse it as CSV\n",
    "    reader = csv.DictReader(csv_file)\n",
    "    # tqdm shows pretty progress bar\n",
    "    # each row in the CSV file corresponds to the image\n",
    "    for row in tqdm(reader, total=reader.line_num):\n",
    "        # we need image ID to build the path to the image file\n",
    "        img_id = row['IMAGE\\LABEL']\n",
    "        # we're going to use only 3 attributes\n",
    "        airplane = row['airplane']\n",
    "        bare_soil = row['bare-soil']\n",
    "        buildings = row['buildings']\n",
    "        cars = row['cars']\n",
    "        chaparral = row['chaparral']\n",
    "        court = row['court']\n",
    "        dock = row['dock']\n",
    "        field = row['field']\n",
    "        grass = row['grass']\n",
    "        mobile_home = row['mobile-home']\n",
    "        pavement = row['pavement']\n",
    "        sand = row['sand']\n",
    "        sea = row['sea']\n",
    "        ship = row['ship']\n",
    "        tanks = row['tanks']\n",
    "        trees = row['trees']\n",
    "        water = row['water']\n",
    "        \n",
    "        img_name = os.path.join('/notebooks', 'All_Images', str(img_id) + '.tif')\n",
    "        # check if file is in place\n",
    "        if os.path.exists(img_name):\n",
    "            # check if the image has 80*60 pixels with 3 channels\n",
    "            img = Image.open(img_name)\n",
    "            if img.size == (60, 80) and img.mode == \"RGB\":\n",
    "                all_data.append([img_name, airplane, bare_soil, buildings, cars, chaparral, court, dock, field, grass, mobile_home, pavement,\n",
    "                                 sand, sea, ship, tanks, trees, water])\n",
    "                print(all_data)\n",
    "        else:\n",
    "            print(\"Something went wrong: there is no file \", img_name)\n",
    "            \n",
    "\n",
    "\n",
    "\n",
    "\n",
    "# set the seed of the random numbers generator, so we can reproduce the results later\n",
    "np.random.seed(42)\n",
    "# construct a Numpy array from the list\n",
    "all_data = np.asarray(all_data)\n",
    "\n",
    "# Take 40000 samples in random order\n",
    "inds = np.random.choice(2100, replace=False)\n",
    "# split the data into train, val, test and save them as csv files\n",
    "save_csv(all_data[inds][:1470], os.path.join('/notebooks', 'train2.csv'))\n",
    "save_csv(all_data[inds][1471:1680], os.path.join('/notebooks','val2.csv'))\n",
    "save_csv(all_data[inds][1681:2100], os.path.join('/notebooks', 'test2.csv'))"
   ]
  },
  {
   "cell_type": "code",
   "execution_count": 48,
   "id": "15e655d9-a938-41f3-858e-aa4de589da2d",
   "metadata": {
    "execution": {
     "iopub.execute_input": "2022-07-13T00:07:50.198751Z",
     "iopub.status.busy": "2022-07-13T00:07:50.198357Z",
     "iopub.status.idle": "2022-07-13T00:07:50.204180Z",
     "shell.execute_reply": "2022-07-13T00:07:50.203077Z",
     "shell.execute_reply.started": "2022-07-13T00:07:50.198696Z"
    }
   },
   "outputs": [
    {
     "name": "stdout",
     "output_type": "stream",
     "text": [
      "[]\n"
     ]
    }
   ],
   "source": [
    "print(all_data)"
   ]
  },
  {
   "cell_type": "code",
   "execution_count": 8,
   "id": "ffd08db7-8809-4435-8dd7-57cbba70d43a",
   "metadata": {
    "execution": {
     "iopub.execute_input": "2022-07-12T22:56:35.379037Z",
     "iopub.status.busy": "2022-07-12T22:56:35.377768Z",
     "iopub.status.idle": "2022-07-12T22:56:35.388635Z",
     "shell.execute_reply": "2022-07-12T22:56:35.387319Z",
     "shell.execute_reply.started": "2022-07-12T22:56:35.379006Z"
    }
   },
   "outputs": [],
   "source": [
    "from torchvision import datasets ,models , transforms\n",
    "import json\n",
    "from torch.utils.data import Dataset, DataLoader ,random_split\n",
    "from PIL import Image\n",
    "from pathlib import Path\n",
    "from torchvision.models import ResNet18_Weights\n",
    "from torch.optim import Adam\n",
    "\n",
    "\n",
    "class MyDataset(Dataset):\n",
    "  def __init__(self , csv_file , img_dir , transforms=None ):\n",
    "    \n",
    "    self.df = pd.read_csv(csv_file)\n",
    "    self.img_dir = img_dir\n",
    "    self.transforms = transforms\n",
    "    \n",
    "  def __getitem__(self,idx):\n",
    "    img_path = self.img_dir[idx]\n",
    "    \n",
    "    img = Image.open(img_path).convert(\"RGB\")\n",
    "    label = torch.tensor(img_path[1:].tolist() , dtype=torch.float32)\n",
    "    if self.img_transform is not None:\n",
    "        img = self.img_transform(img)\n",
    "\n",
    "    return dict(img=img, label=label)\n",
    "\n",
    "\n",
    "  \n",
    "  def __len__(self):\n",
    "    return len(self.df)\n"
   ]
  },
  {
   "cell_type": "code",
   "execution_count": 9,
   "id": "8a677f56-70a2-4f7f-a64f-03b9d9a0b30b",
   "metadata": {
    "execution": {
     "iopub.execute_input": "2022-07-12T22:56:35.897429Z",
     "iopub.status.busy": "2022-07-12T22:56:35.897077Z",
     "iopub.status.idle": "2022-07-12T22:56:35.911581Z",
     "shell.execute_reply": "2022-07-12T22:56:35.910439Z",
     "shell.execute_reply.started": "2022-07-12T22:56:35.897429Z"
    }
   },
   "outputs": [],
   "source": [
    "#Transform the data\n",
    "#  We also want to normalize the dataset and make sure all datasets have the same size\n",
    "\n",
    "transform = transforms.Compose([\n",
    "    transforms.Resize((150,150)),\n",
    "    transforms.ToTensor(), #0-255 -> 0-1. Also changes numpy -> Tensors\n",
    "    transforms.Normalize([0.595425, 0.3518577, 0.3225522],                \n",
    "                        [0.19303136, 0.12492529, 0.10577361]),\n",
    "      \n",
    "])\n",
    "\n",
    "#LandUse_csv = Path(r\"/notebooks/Hw3data_modified/UCMerced_LandUse/multilabels/LandUse_Multilabeled.csv\")\n",
    "#f = open(LandUse_csv)\n",
    "dataset = MyDataset(\"LandUse_Multilabeled.csv\", Path(\"All_Images\") , transform)"
   ]
  },
  {
   "cell_type": "markdown",
   "id": "dee6a17c-6624-43c5-aafa-d134a756ce03",
   "metadata": {},
   "source": [
    "## Training Design\n",
    "\n",
    "In this part, we will be creating a CNN. In order to perform CNN, we\n",
    "1) Divide our data into training, test and validation. We provide 70% data to training, 20% for testing and 10% for validation. \n",
    "2) After that, we create the Convolution layer. In this case we use the pytorch pretrained resnet 18 model\n",
    "3) For criterion, we use a #Criterion BCEWithLogitsLoss function\n",
    "4) For optimizer, we use Adam optimizer. It is the same as stochastic gradient descent\n",
    "5) We create a dense layer that used for training the model\n",
    "6) We evaluate the model in order to check whether the model is overfitting or underfitting\n",
    "7) Test the model for unseen data"
   ]
  },
  {
   "cell_type": "markdown",
   "id": "3966a553-8ca3-422a-943e-b67916c080ef",
   "metadata": {},
   "source": [
    "### Train - Test divide\n",
    "\n",
    "In the first part, we divide our dataset into training test and validation. We provide 80% data to training, 10% to validation and 10% to test."
   ]
  },
  {
   "cell_type": "code",
   "execution_count": 10,
   "id": "e405c5e2-2b7b-42ff-a7ab-9dd6893ad015",
   "metadata": {
    "execution": {
     "iopub.execute_input": "2022-07-12T22:56:40.283832Z",
     "iopub.status.busy": "2022-07-12T22:56:40.283419Z",
     "iopub.status.idle": "2022-07-12T22:56:40.292741Z",
     "shell.execute_reply": "2022-07-12T22:56:40.291511Z",
     "shell.execute_reply.started": "2022-07-12T22:56:40.283805Z"
    }
   },
   "outputs": [
    {
     "name": "stdout",
     "output_type": "stream",
     "text": [
      "No: of dataset for training: 1470, validation: 210, testing: 420\n",
      "\n",
      "\n",
      "We want to check if data actually splitted the way we anticipated\n",
      "trainset: 1470 valset: 210 testset: 420\n"
     ]
    }
   ],
   "source": [
    "# Divide data into train, test and validation\n",
    "valid_no = int(len(dataset)*0.1)\n",
    "train_no = int(len(dataset)*0.7) \n",
    "test_no = int(len(dataset)*0.2)\n",
    "train_val = int(len(dataset)*0.8) \n",
    "\n",
    "print(\"No: of dataset for training: {}, validation: {}, testing: {}\".format(train_no, valid_no, test_no))\n",
    "\n",
    "\n",
    "#Split data into training, validation, and testing\n",
    "trainset ,validset, testset  = random_split(dataset , [train_no, valid_no, test_no])\n",
    "\n",
    "\n",
    "print(\"\\n\")\n",
    "print(\"We want to check if data actually splitted the way we anticipated\")\n",
    "print(f\"trainset: {len(trainset)} valset: {len(validset)} testset: {len(testset)}\")\n"
   ]
  },
  {
   "cell_type": "code",
   "execution_count": 11,
   "id": "e083a72f-f2b0-4624-875e-e10e18068922",
   "metadata": {
    "execution": {
     "iopub.execute_input": "2022-07-12T22:56:41.688724Z",
     "iopub.status.busy": "2022-07-12T22:56:41.688166Z",
     "iopub.status.idle": "2022-07-12T22:56:41.696643Z",
     "shell.execute_reply": "2022-07-12T22:56:41.695330Z",
     "shell.execute_reply.started": "2022-07-12T22:56:41.688683Z"
    }
   },
   "outputs": [],
   "source": [
    "batch_size = 64\n",
    "dataloader = {\"train\":DataLoader(trainset , shuffle=True , batch_size=batch_size),\n",
    "              \"val\": DataLoader(validset , shuffle=False , batch_size=batch_size),\n",
    "              \"test\": DataLoader(testset , shuffle=False , batch_size=batch_size)\n",
    "             }\n",
    "train_loader = DataLoader(trainset, batch_size=batch_size, shuffle=True, pin_memory=True)"
   ]
  },
  {
   "cell_type": "markdown",
   "id": "bf56299d-5061-4340-9f74-baab806a62b1",
   "metadata": {},
   "source": [
    "### Define Device"
   ]
  },
  {
   "cell_type": "code",
   "execution_count": 12,
   "id": "2d633516-6bad-4fe9-af71-40f696019f18",
   "metadata": {
    "execution": {
     "iopub.execute_input": "2022-07-12T22:56:42.504321Z",
     "iopub.status.busy": "2022-07-12T22:56:42.503960Z",
     "iopub.status.idle": "2022-07-12T22:56:42.509713Z",
     "shell.execute_reply": "2022-07-12T22:56:42.508882Z",
     "shell.execute_reply.started": "2022-07-12T22:56:42.504297Z"
    }
   },
   "outputs": [
    {
     "name": "stdout",
     "output_type": "stream",
     "text": [
      "cuda\n"
     ]
    }
   ],
   "source": [
    "device=torch.device('cuda' if torch.cuda.is_available() else 'cpu')\n",
    "print(device)"
   ]
  },
  {
   "cell_type": "markdown",
   "id": "cc64970e-c81c-4670-83f8-0a2e1b2da762",
   "metadata": {},
   "source": [
    "### Define Model\n",
    "\n",
    "Generally we have to create a 2-3 layer CNN an before creating a dense network to perform Forward and backpropogation (please refer to line 26 of Lab07). \n",
    "However, in this case we are told RESNET18. THis is an already built CNN. Hence, we don't need to create convoltuion layers and dense layer by ourself. \n",
    "We just need to adjust the values and RESNET18 will train the model by itself.\n",
    "\n",
    "To understand RESNET18, check the following links: https://www.youtube.com/watch?v=K0lWSB2QoIQ https://www.coursera.org/lecture/ai-deep-learning-capstone/pre-trained-models-with-resnet-18-review-pytorch-F0nDe"
   ]
  },
  {
   "cell_type": "code",
   "execution_count": 13,
   "id": "1e33c06b-ac0f-47da-9544-c9d97d201bdb",
   "metadata": {
    "execution": {
     "iopub.execute_input": "2022-07-12T22:56:44.681080Z",
     "iopub.status.busy": "2022-07-12T22:56:44.680704Z",
     "iopub.status.idle": "2022-07-12T22:56:47.557999Z",
     "shell.execute_reply": "2022-07-12T22:56:47.556969Z",
     "shell.execute_reply.started": "2022-07-12T22:56:44.681053Z"
    }
   },
   "outputs": [
    {
     "name": "stderr",
     "output_type": "stream",
     "text": [
      "/opt/conda/envs/ip4rs/lib/python3.8/site-packages/torchvision/models/_utils.py:208: UserWarning: The parameter 'pretrained' is deprecated since 0.13 and will be removed in 0.15, please use 'weights' instead.\n",
      "  warnings.warn(\n",
      "/opt/conda/envs/ip4rs/lib/python3.8/site-packages/torchvision/models/_utils.py:223: UserWarning: Arguments other than a weight enum or `None` for 'weights' are deprecated since 0.13 and will be removed in 0.15. The current behavior is equivalent to passing `weights=ResNet18_Weights.IMAGENET1K_V1`. You can also use `weights=ResNet18_Weights.DEFAULT` to get the most up-to-date weights.\n",
      "  warnings.warn(msg)\n",
      "Downloading: \"https://download.pytorch.org/models/resnet18-f37072fd.pth\" to /home/jovyan/.cache/torch/hub/checkpoints/resnet18-f37072fd.pth\n"
     ]
    },
    {
     "data": {
      "application/vnd.jupyter.widget-view+json": {
       "model_id": "bf80d6d0418f4582ad2a1512b4623959",
       "version_major": 2,
       "version_minor": 0
      },
      "text/plain": [
       "  0%|          | 0.00/44.7M [00:00<?, ?B/s]"
      ]
     },
     "metadata": {},
     "output_type": "display_data"
    },
    {
     "data": {
      "text/plain": [
       "'\\nmodel = models.resnet50(pretrained=True) # load the pretrained model\\nnum_features = model.fc.in_features # get the no of on_features in last Linear unit\\nprint(num_features)\\n## freeze the entire convolution base\\nfor param in model.parameters():\\n  param.requires_grad_(False)\\n '"
      ]
     },
     "execution_count": 13,
     "metadata": {},
     "output_type": "execute_result"
    }
   ],
   "source": [
    "model = models.resnet18(pretrained = True)\n",
    "model.fc = nn.Linear(512, 17) #21 - number of classes\n",
    "model.to(device)\n",
    "\n",
    "\"\"\"\n",
    "model = models.resnet50(pretrained=True) # load the pretrained model\n",
    "num_features = model.fc.in_features # get the no of on_features in last Linear unit\n",
    "print(num_features)\n",
    "## freeze the entire convolution base\n",
    "for param in model.parameters():\n",
    "  param.requires_grad_(False)\n",
    " \"\"\""
   ]
  },
  {
   "cell_type": "markdown",
   "id": "821c0023-df64-4df7-95ce-d4a48e923b82",
   "metadata": {},
   "source": [
    "### Optimizer and Criterion\n"
   ]
  },
  {
   "cell_type": "code",
   "execution_count": 14,
   "id": "cb3d13fd-bce6-4140-b319-dfc3dffd8ccb",
   "metadata": {
    "execution": {
     "iopub.execute_input": "2022-07-12T22:57:04.328939Z",
     "iopub.status.busy": "2022-07-12T22:57:04.328582Z",
     "iopub.status.idle": "2022-07-12T22:57:04.337265Z",
     "shell.execute_reply": "2022-07-12T22:57:04.336306Z",
     "shell.execute_reply.started": "2022-07-12T22:57:04.328913Z"
    }
   },
   "outputs": [],
   "source": [
    "import torch.optim as optim\n",
    "from torch.optim import lr_scheduler\n",
    "\n",
    "\n",
    "#Device\n",
    "device = torch.device(\"cuda\" if torch.cuda.is_available() else \"cpu\")\n",
    "model = model.to(device)\n",
    "\n",
    "\n",
    "#Criterion\n",
    "criterion = nn.BCELoss()\n",
    "#criterion = nn.CrossEntropyLoss()\n",
    "\n",
    "\n",
    "\n",
    "\n",
    "# specify optimizer\n",
    "optimizer = optim.Adam(model.parameters(), lr=0.001, weight_decay=0.0001)\n",
    "sgdr_partial = lr_scheduler.CosineAnnealingLR(optimizer, T_max=5, eta_min=0.005 )"
   ]
  },
  {
   "cell_type": "code",
   "execution_count": 15,
   "id": "c04875fd-f086-4474-b515-4f8358e43cd8",
   "metadata": {
    "execution": {
     "iopub.execute_input": "2022-07-12T22:57:06.157429Z",
     "iopub.status.busy": "2022-07-12T22:57:06.157024Z",
     "iopub.status.idle": "2022-07-12T22:57:06.170467Z",
     "shell.execute_reply": "2022-07-12T22:57:06.169057Z",
     "shell.execute_reply.started": "2022-07-12T22:57:06.157396Z"
    }
   },
   "outputs": [],
   "source": [
    "from tqdm import trange\n",
    "from sklearn.metrics import precision_score,f1_score\n",
    "\n",
    "def train(model , data_loader , criterion , optimizer ,scheduler, num_epochs=5):\n",
    "\n",
    "  for epoch in trange(num_epochs,desc=\"Epochs\"):\n",
    "    result = []\n",
    "    for phase in ['train', 'val']:\n",
    "      if phase==\"train\":     # put the model in training mode\n",
    "        model.train()\n",
    "        scheduler.step()\n",
    "      else:     # put the model in validation mode\n",
    "        model.eval()\n",
    "       \n",
    "      # keep track of training and validation loss\n",
    "      running_loss = 0.0\n",
    "      running_corrects = 0.0  \n",
    "      \n",
    "      for data , target in data_loader[phase]:\n",
    "        #load the data and target to respective device\n",
    "        data , target = data.to(device)  , target.to(device)\n",
    "\n",
    "        with torch.set_grad_enabled(phase==\"train\"):\n",
    "          #feed the input\n",
    "          output = model(data)\n",
    "          #calculate the loss\n",
    "          loss = criterion(output,target)\n",
    "          preds = torch.sigmoid(output).data > 0.5\n",
    "          preds = preds.to(torch.float32)\n",
    "          \n",
    "          if phase==\"train\"  :\n",
    "            # backward pass: compute gradient of the loss with respect to model parameters \n",
    "            loss.backward()\n",
    "            # update the model parameters\n",
    "            optimizer.step()\n",
    "            # zero the grad to stop it from accumulating\n",
    "            optimizer.zero_grad()\n",
    "\n",
    "\n",
    "        # statistics\n",
    "        running_loss += loss.item() * data.size(0)\n",
    "        running_corrects += f1_score(target.to(\"cpu\").to(torch.int).numpy() ,preds.to(\"cpu\").to(torch.int).numpy() , average=\"samples\")  * data.size(0)\n",
    "        \n",
    "        \n",
    "      epoch_loss = running_loss / len(data_loader[phase].dataset)\n",
    "      epoch_acc = running_corrects / len(data_loader[phase].dataset)\n",
    "\n",
    "      result.append('{} Loss: {:.4f} Acc: {:.4f}'.format(phase, epoch_loss, epoch_acc))\n",
    "    print(result)"
   ]
  },
  {
   "cell_type": "code",
   "execution_count": 16,
   "id": "db4eeb69-f531-4f86-b88d-5a2be4870e06",
   "metadata": {
    "execution": {
     "iopub.execute_input": "2022-07-12T22:57:09.553394Z",
     "iopub.status.busy": "2022-07-12T22:57:09.553015Z",
     "iopub.status.idle": "2022-07-12T22:57:10.698485Z",
     "shell.execute_reply": "2022-07-12T22:57:10.696315Z",
     "shell.execute_reply.started": "2022-07-12T22:57:09.553369Z"
    }
   },
   "outputs": [
    {
     "name": "stderr",
     "output_type": "stream",
     "text": [
      "Epochs:   0%|          | 0/10 [00:00<?, ?it/s]/opt/conda/envs/ip4rs/lib/python3.8/site-packages/torch/optim/lr_scheduler.py:131: UserWarning: Detected call of `lr_scheduler.step()` before `optimizer.step()`. In PyTorch 1.1.0 and later, you should call them in the opposite order: `optimizer.step()` before `lr_scheduler.step()`.  Failure to do this will result in PyTorch skipping the first value of the learning rate schedule. See more details at https://pytorch.org/docs/stable/optim.html#how-to-adjust-learning-rate\n",
      "  warnings.warn(\"Detected call of `lr_scheduler.step()` before `optimizer.step()`. \"\n",
      "Epochs:   0%|          | 0/10 [00:00<?, ?it/s]\n"
     ]
    },
    {
     "ename": "TypeError",
     "evalue": "'PosixPath' object is not subscriptable",
     "output_type": "error",
     "traceback": [
      "\u001b[0;31m---------------------------------------------------------------------------\u001b[0m",
      "\u001b[0;31mTypeError\u001b[0m                                 Traceback (most recent call last)",
      "Input \u001b[0;32mIn [16]\u001b[0m, in \u001b[0;36m<cell line: 1>\u001b[0;34m()\u001b[0m\n\u001b[0;32m----> 1\u001b[0m \u001b[43mtrain\u001b[49m\u001b[43m(\u001b[49m\u001b[43mmodel\u001b[49m\u001b[43m,\u001b[49m\u001b[43mdataloader\u001b[49m\u001b[43m,\u001b[49m\u001b[43m \u001b[49m\u001b[43mcriterion\u001b[49m\u001b[43m,\u001b[49m\u001b[43m \u001b[49m\u001b[43moptimizer\u001b[49m\u001b[43m,\u001b[49m\u001b[43msgdr_partial\u001b[49m\u001b[43m,\u001b[49m\u001b[43mnum_epochs\u001b[49m\u001b[38;5;241;43m=\u001b[39;49m\u001b[38;5;241;43m10\u001b[39;49m\u001b[43m)\u001b[49m\n",
      "Input \u001b[0;32mIn [15]\u001b[0m, in \u001b[0;36mtrain\u001b[0;34m(model, data_loader, criterion, optimizer, scheduler, num_epochs)\u001b[0m\n\u001b[1;32m     16\u001b[0m running_loss \u001b[38;5;241m=\u001b[39m \u001b[38;5;241m0.0\u001b[39m\n\u001b[1;32m     17\u001b[0m running_corrects \u001b[38;5;241m=\u001b[39m \u001b[38;5;241m0.0\u001b[39m  \n\u001b[0;32m---> 19\u001b[0m \u001b[38;5;28;01mfor\u001b[39;00m data , target \u001b[38;5;129;01min\u001b[39;00m data_loader[phase]:\n\u001b[1;32m     20\u001b[0m   \u001b[38;5;66;03m#load the data and target to respective device\u001b[39;00m\n\u001b[1;32m     21\u001b[0m   data , target \u001b[38;5;241m=\u001b[39m data\u001b[38;5;241m.\u001b[39mto(device)  , target\u001b[38;5;241m.\u001b[39mto(device)\n\u001b[1;32m     23\u001b[0m   \u001b[38;5;28;01mwith\u001b[39;00m torch\u001b[38;5;241m.\u001b[39mset_grad_enabled(phase\u001b[38;5;241m==\u001b[39m\u001b[38;5;124m\"\u001b[39m\u001b[38;5;124mtrain\u001b[39m\u001b[38;5;124m\"\u001b[39m):\n\u001b[1;32m     24\u001b[0m     \u001b[38;5;66;03m#feed the input\u001b[39;00m\n",
      "File \u001b[0;32m/opt/conda/envs/ip4rs/lib/python3.8/site-packages/torch/utils/data/dataloader.py:652\u001b[0m, in \u001b[0;36m_BaseDataLoaderIter.__next__\u001b[0;34m(self)\u001b[0m\n\u001b[1;32m    649\u001b[0m \u001b[38;5;28;01mif\u001b[39;00m \u001b[38;5;28mself\u001b[39m\u001b[38;5;241m.\u001b[39m_sampler_iter \u001b[38;5;129;01mis\u001b[39;00m \u001b[38;5;28;01mNone\u001b[39;00m:\n\u001b[1;32m    650\u001b[0m     \u001b[38;5;66;03m# TODO(https://github.com/pytorch/pytorch/issues/76750)\u001b[39;00m\n\u001b[1;32m    651\u001b[0m     \u001b[38;5;28mself\u001b[39m\u001b[38;5;241m.\u001b[39m_reset()  \u001b[38;5;66;03m# type: ignore[call-arg]\u001b[39;00m\n\u001b[0;32m--> 652\u001b[0m data \u001b[38;5;241m=\u001b[39m \u001b[38;5;28;43mself\u001b[39;49m\u001b[38;5;241;43m.\u001b[39;49m\u001b[43m_next_data\u001b[49m\u001b[43m(\u001b[49m\u001b[43m)\u001b[49m\n\u001b[1;32m    653\u001b[0m \u001b[38;5;28mself\u001b[39m\u001b[38;5;241m.\u001b[39m_num_yielded \u001b[38;5;241m+\u001b[39m\u001b[38;5;241m=\u001b[39m \u001b[38;5;241m1\u001b[39m\n\u001b[1;32m    654\u001b[0m \u001b[38;5;28;01mif\u001b[39;00m \u001b[38;5;28mself\u001b[39m\u001b[38;5;241m.\u001b[39m_dataset_kind \u001b[38;5;241m==\u001b[39m _DatasetKind\u001b[38;5;241m.\u001b[39mIterable \u001b[38;5;129;01mand\u001b[39;00m \\\n\u001b[1;32m    655\u001b[0m         \u001b[38;5;28mself\u001b[39m\u001b[38;5;241m.\u001b[39m_IterableDataset_len_called \u001b[38;5;129;01mis\u001b[39;00m \u001b[38;5;129;01mnot\u001b[39;00m \u001b[38;5;28;01mNone\u001b[39;00m \u001b[38;5;129;01mand\u001b[39;00m \\\n\u001b[1;32m    656\u001b[0m         \u001b[38;5;28mself\u001b[39m\u001b[38;5;241m.\u001b[39m_num_yielded \u001b[38;5;241m>\u001b[39m \u001b[38;5;28mself\u001b[39m\u001b[38;5;241m.\u001b[39m_IterableDataset_len_called:\n",
      "File \u001b[0;32m/opt/conda/envs/ip4rs/lib/python3.8/site-packages/torch/utils/data/dataloader.py:692\u001b[0m, in \u001b[0;36m_SingleProcessDataLoaderIter._next_data\u001b[0;34m(self)\u001b[0m\n\u001b[1;32m    690\u001b[0m \u001b[38;5;28;01mdef\u001b[39;00m \u001b[38;5;21m_next_data\u001b[39m(\u001b[38;5;28mself\u001b[39m):\n\u001b[1;32m    691\u001b[0m     index \u001b[38;5;241m=\u001b[39m \u001b[38;5;28mself\u001b[39m\u001b[38;5;241m.\u001b[39m_next_index()  \u001b[38;5;66;03m# may raise StopIteration\u001b[39;00m\n\u001b[0;32m--> 692\u001b[0m     data \u001b[38;5;241m=\u001b[39m \u001b[38;5;28;43mself\u001b[39;49m\u001b[38;5;241;43m.\u001b[39;49m\u001b[43m_dataset_fetcher\u001b[49m\u001b[38;5;241;43m.\u001b[39;49m\u001b[43mfetch\u001b[49m\u001b[43m(\u001b[49m\u001b[43mindex\u001b[49m\u001b[43m)\u001b[49m  \u001b[38;5;66;03m# may raise StopIteration\u001b[39;00m\n\u001b[1;32m    693\u001b[0m     \u001b[38;5;28;01mif\u001b[39;00m \u001b[38;5;28mself\u001b[39m\u001b[38;5;241m.\u001b[39m_pin_memory:\n\u001b[1;32m    694\u001b[0m         data \u001b[38;5;241m=\u001b[39m _utils\u001b[38;5;241m.\u001b[39mpin_memory\u001b[38;5;241m.\u001b[39mpin_memory(data, \u001b[38;5;28mself\u001b[39m\u001b[38;5;241m.\u001b[39m_pin_memory_device)\n",
      "File \u001b[0;32m/opt/conda/envs/ip4rs/lib/python3.8/site-packages/torch/utils/data/_utils/fetch.py:49\u001b[0m, in \u001b[0;36m_MapDatasetFetcher.fetch\u001b[0;34m(self, possibly_batched_index)\u001b[0m\n\u001b[1;32m     47\u001b[0m \u001b[38;5;28;01mdef\u001b[39;00m \u001b[38;5;21mfetch\u001b[39m(\u001b[38;5;28mself\u001b[39m, possibly_batched_index):\n\u001b[1;32m     48\u001b[0m     \u001b[38;5;28;01mif\u001b[39;00m \u001b[38;5;28mself\u001b[39m\u001b[38;5;241m.\u001b[39mauto_collation:\n\u001b[0;32m---> 49\u001b[0m         data \u001b[38;5;241m=\u001b[39m [\u001b[38;5;28mself\u001b[39m\u001b[38;5;241m.\u001b[39mdataset[idx] \u001b[38;5;28;01mfor\u001b[39;00m idx \u001b[38;5;129;01min\u001b[39;00m possibly_batched_index]\n\u001b[1;32m     50\u001b[0m     \u001b[38;5;28;01melse\u001b[39;00m:\n\u001b[1;32m     51\u001b[0m         data \u001b[38;5;241m=\u001b[39m \u001b[38;5;28mself\u001b[39m\u001b[38;5;241m.\u001b[39mdataset[possibly_batched_index]\n",
      "File \u001b[0;32m/opt/conda/envs/ip4rs/lib/python3.8/site-packages/torch/utils/data/_utils/fetch.py:49\u001b[0m, in \u001b[0;36m<listcomp>\u001b[0;34m(.0)\u001b[0m\n\u001b[1;32m     47\u001b[0m \u001b[38;5;28;01mdef\u001b[39;00m \u001b[38;5;21mfetch\u001b[39m(\u001b[38;5;28mself\u001b[39m, possibly_batched_index):\n\u001b[1;32m     48\u001b[0m     \u001b[38;5;28;01mif\u001b[39;00m \u001b[38;5;28mself\u001b[39m\u001b[38;5;241m.\u001b[39mauto_collation:\n\u001b[0;32m---> 49\u001b[0m         data \u001b[38;5;241m=\u001b[39m [\u001b[38;5;28;43mself\u001b[39;49m\u001b[38;5;241;43m.\u001b[39;49m\u001b[43mdataset\u001b[49m\u001b[43m[\u001b[49m\u001b[43midx\u001b[49m\u001b[43m]\u001b[49m \u001b[38;5;28;01mfor\u001b[39;00m idx \u001b[38;5;129;01min\u001b[39;00m possibly_batched_index]\n\u001b[1;32m     50\u001b[0m     \u001b[38;5;28;01melse\u001b[39;00m:\n\u001b[1;32m     51\u001b[0m         data \u001b[38;5;241m=\u001b[39m \u001b[38;5;28mself\u001b[39m\u001b[38;5;241m.\u001b[39mdataset[possibly_batched_index]\n",
      "File \u001b[0;32m/opt/conda/envs/ip4rs/lib/python3.8/site-packages/torch/utils/data/dataset.py:290\u001b[0m, in \u001b[0;36mSubset.__getitem__\u001b[0;34m(self, idx)\u001b[0m\n\u001b[1;32m    288\u001b[0m \u001b[38;5;28;01mif\u001b[39;00m \u001b[38;5;28misinstance\u001b[39m(idx, \u001b[38;5;28mlist\u001b[39m):\n\u001b[1;32m    289\u001b[0m     \u001b[38;5;28;01mreturn\u001b[39;00m \u001b[38;5;28mself\u001b[39m\u001b[38;5;241m.\u001b[39mdataset[[\u001b[38;5;28mself\u001b[39m\u001b[38;5;241m.\u001b[39mindices[i] \u001b[38;5;28;01mfor\u001b[39;00m i \u001b[38;5;129;01min\u001b[39;00m idx]]\n\u001b[0;32m--> 290\u001b[0m \u001b[38;5;28;01mreturn\u001b[39;00m \u001b[38;5;28;43mself\u001b[39;49m\u001b[38;5;241;43m.\u001b[39;49m\u001b[43mdataset\u001b[49m\u001b[43m[\u001b[49m\u001b[38;5;28;43mself\u001b[39;49m\u001b[38;5;241;43m.\u001b[39;49m\u001b[43mindices\u001b[49m\u001b[43m[\u001b[49m\u001b[43midx\u001b[49m\u001b[43m]\u001b[49m\u001b[43m]\u001b[49m\n",
      "Input \u001b[0;32mIn [8]\u001b[0m, in \u001b[0;36mMyDataset.__getitem__\u001b[0;34m(self, idx)\u001b[0m\n\u001b[1;32m     17\u001b[0m \u001b[38;5;28;01mdef\u001b[39;00m \u001b[38;5;21m__getitem__\u001b[39m(\u001b[38;5;28mself\u001b[39m,idx):\n\u001b[0;32m---> 18\u001b[0m   img_path \u001b[38;5;241m=\u001b[39m \u001b[38;5;28;43mself\u001b[39;49m\u001b[38;5;241;43m.\u001b[39;49m\u001b[43mimg_dir\u001b[49m\u001b[43m[\u001b[49m\u001b[43midx\u001b[49m\u001b[43m]\u001b[49m\n\u001b[1;32m     20\u001b[0m   img \u001b[38;5;241m=\u001b[39m Image\u001b[38;5;241m.\u001b[39mopen(img_path)\u001b[38;5;241m.\u001b[39mconvert(\u001b[38;5;124m\"\u001b[39m\u001b[38;5;124mRGB\u001b[39m\u001b[38;5;124m\"\u001b[39m)\n\u001b[1;32m     21\u001b[0m   label \u001b[38;5;241m=\u001b[39m torch\u001b[38;5;241m.\u001b[39mtensor(img_path[\u001b[38;5;241m1\u001b[39m:]\u001b[38;5;241m.\u001b[39mtolist() , dtype\u001b[38;5;241m=\u001b[39mtorch\u001b[38;5;241m.\u001b[39mfloat32)\n",
      "\u001b[0;31mTypeError\u001b[0m: 'PosixPath' object is not subscriptable"
     ]
    }
   ],
   "source": [
    "train(model,dataloader, criterion, optimizer,sgdr_partial,num_epochs=10)\n"
   ]
  },
  {
   "cell_type": "code",
   "execution_count": 16,
   "id": "f2465114-fd94-434a-a351-1649f7bbc444",
   "metadata": {
    "execution": {
     "iopub.execute_input": "2022-07-12T20:29:32.659149Z",
     "iopub.status.busy": "2022-07-12T20:29:32.657974Z",
     "iopub.status.idle": "2022-07-12T20:29:32.735388Z",
     "shell.execute_reply": "2022-07-12T20:29:32.714024Z",
     "shell.execute_reply.started": "2022-07-12T20:29:32.659117Z"
    }
   },
   "outputs": [
    {
     "ename": "NameError",
     "evalue": "name 'idx' is not defined",
     "output_type": "error",
     "traceback": [
      "\u001b[0;31m---------------------------------------------------------------------------\u001b[0m",
      "\u001b[0;31mNameError\u001b[0m                                 Traceback (most recent call last)",
      "Input \u001b[0;32mIn [16]\u001b[0m, in \u001b[0;36m<cell line: 4>\u001b[0;34m()\u001b[0m\n\u001b[1;32m      3\u001b[0m \u001b[38;5;28;01mwhile\u001b[39;00m \u001b[38;5;28;01mTrue\u001b[39;00m:\n\u001b[1;32m      4\u001b[0m     batch_losses \u001b[38;5;241m=\u001b[39m []\n\u001b[0;32m----> 5\u001b[0m     \u001b[38;5;28;01mfor\u001b[39;00m imgs, targets \u001b[38;5;129;01min\u001b[39;00m train_loader:\n\u001b[1;32m      6\u001b[0m         imgs, targets \u001b[38;5;241m=\u001b[39m imgs\u001b[38;5;241m.\u001b[39mto(device), targets\u001b[38;5;241m.\u001b[39mto(device)\n\u001b[1;32m      8\u001b[0m         optimizer\u001b[38;5;241m.\u001b[39mzero_grad()\n",
      "File \u001b[0;32m/opt/conda/envs/ip4rs/lib/python3.8/site-packages/torch/utils/data/dataloader.py:652\u001b[0m, in \u001b[0;36m_BaseDataLoaderIter.__next__\u001b[0;34m(self)\u001b[0m\n\u001b[1;32m    649\u001b[0m \u001b[38;5;28;01mif\u001b[39;00m \u001b[38;5;28mself\u001b[39m\u001b[38;5;241m.\u001b[39m_sampler_iter \u001b[38;5;129;01mis\u001b[39;00m \u001b[38;5;28;01mNone\u001b[39;00m:\n\u001b[1;32m    650\u001b[0m     \u001b[38;5;66;03m# TODO(https://github.com/pytorch/pytorch/issues/76750)\u001b[39;00m\n\u001b[1;32m    651\u001b[0m     \u001b[38;5;28mself\u001b[39m\u001b[38;5;241m.\u001b[39m_reset()  \u001b[38;5;66;03m# type: ignore[call-arg]\u001b[39;00m\n\u001b[0;32m--> 652\u001b[0m data \u001b[38;5;241m=\u001b[39m \u001b[38;5;28;43mself\u001b[39;49m\u001b[38;5;241;43m.\u001b[39;49m\u001b[43m_next_data\u001b[49m\u001b[43m(\u001b[49m\u001b[43m)\u001b[49m\n\u001b[1;32m    653\u001b[0m \u001b[38;5;28mself\u001b[39m\u001b[38;5;241m.\u001b[39m_num_yielded \u001b[38;5;241m+\u001b[39m\u001b[38;5;241m=\u001b[39m \u001b[38;5;241m1\u001b[39m\n\u001b[1;32m    654\u001b[0m \u001b[38;5;28;01mif\u001b[39;00m \u001b[38;5;28mself\u001b[39m\u001b[38;5;241m.\u001b[39m_dataset_kind \u001b[38;5;241m==\u001b[39m _DatasetKind\u001b[38;5;241m.\u001b[39mIterable \u001b[38;5;129;01mand\u001b[39;00m \\\n\u001b[1;32m    655\u001b[0m         \u001b[38;5;28mself\u001b[39m\u001b[38;5;241m.\u001b[39m_IterableDataset_len_called \u001b[38;5;129;01mis\u001b[39;00m \u001b[38;5;129;01mnot\u001b[39;00m \u001b[38;5;28;01mNone\u001b[39;00m \u001b[38;5;129;01mand\u001b[39;00m \\\n\u001b[1;32m    656\u001b[0m         \u001b[38;5;28mself\u001b[39m\u001b[38;5;241m.\u001b[39m_num_yielded \u001b[38;5;241m>\u001b[39m \u001b[38;5;28mself\u001b[39m\u001b[38;5;241m.\u001b[39m_IterableDataset_len_called:\n",
      "File \u001b[0;32m/opt/conda/envs/ip4rs/lib/python3.8/site-packages/torch/utils/data/dataloader.py:692\u001b[0m, in \u001b[0;36m_SingleProcessDataLoaderIter._next_data\u001b[0;34m(self)\u001b[0m\n\u001b[1;32m    690\u001b[0m \u001b[38;5;28;01mdef\u001b[39;00m \u001b[38;5;21m_next_data\u001b[39m(\u001b[38;5;28mself\u001b[39m):\n\u001b[1;32m    691\u001b[0m     index \u001b[38;5;241m=\u001b[39m \u001b[38;5;28mself\u001b[39m\u001b[38;5;241m.\u001b[39m_next_index()  \u001b[38;5;66;03m# may raise StopIteration\u001b[39;00m\n\u001b[0;32m--> 692\u001b[0m     data \u001b[38;5;241m=\u001b[39m \u001b[38;5;28;43mself\u001b[39;49m\u001b[38;5;241;43m.\u001b[39;49m\u001b[43m_dataset_fetcher\u001b[49m\u001b[38;5;241;43m.\u001b[39;49m\u001b[43mfetch\u001b[49m\u001b[43m(\u001b[49m\u001b[43mindex\u001b[49m\u001b[43m)\u001b[49m  \u001b[38;5;66;03m# may raise StopIteration\u001b[39;00m\n\u001b[1;32m    693\u001b[0m     \u001b[38;5;28;01mif\u001b[39;00m \u001b[38;5;28mself\u001b[39m\u001b[38;5;241m.\u001b[39m_pin_memory:\n\u001b[1;32m    694\u001b[0m         data \u001b[38;5;241m=\u001b[39m _utils\u001b[38;5;241m.\u001b[39mpin_memory\u001b[38;5;241m.\u001b[39mpin_memory(data, \u001b[38;5;28mself\u001b[39m\u001b[38;5;241m.\u001b[39m_pin_memory_device)\n",
      "File \u001b[0;32m/opt/conda/envs/ip4rs/lib/python3.8/site-packages/torch/utils/data/_utils/fetch.py:49\u001b[0m, in \u001b[0;36m_MapDatasetFetcher.fetch\u001b[0;34m(self, possibly_batched_index)\u001b[0m\n\u001b[1;32m     47\u001b[0m \u001b[38;5;28;01mdef\u001b[39;00m \u001b[38;5;21mfetch\u001b[39m(\u001b[38;5;28mself\u001b[39m, possibly_batched_index):\n\u001b[1;32m     48\u001b[0m     \u001b[38;5;28;01mif\u001b[39;00m \u001b[38;5;28mself\u001b[39m\u001b[38;5;241m.\u001b[39mauto_collation:\n\u001b[0;32m---> 49\u001b[0m         data \u001b[38;5;241m=\u001b[39m [\u001b[38;5;28mself\u001b[39m\u001b[38;5;241m.\u001b[39mdataset[idx] \u001b[38;5;28;01mfor\u001b[39;00m idx \u001b[38;5;129;01min\u001b[39;00m possibly_batched_index]\n\u001b[1;32m     50\u001b[0m     \u001b[38;5;28;01melse\u001b[39;00m:\n\u001b[1;32m     51\u001b[0m         data \u001b[38;5;241m=\u001b[39m \u001b[38;5;28mself\u001b[39m\u001b[38;5;241m.\u001b[39mdataset[possibly_batched_index]\n",
      "File \u001b[0;32m/opt/conda/envs/ip4rs/lib/python3.8/site-packages/torch/utils/data/_utils/fetch.py:49\u001b[0m, in \u001b[0;36m<listcomp>\u001b[0;34m(.0)\u001b[0m\n\u001b[1;32m     47\u001b[0m \u001b[38;5;28;01mdef\u001b[39;00m \u001b[38;5;21mfetch\u001b[39m(\u001b[38;5;28mself\u001b[39m, possibly_batched_index):\n\u001b[1;32m     48\u001b[0m     \u001b[38;5;28;01mif\u001b[39;00m \u001b[38;5;28mself\u001b[39m\u001b[38;5;241m.\u001b[39mauto_collation:\n\u001b[0;32m---> 49\u001b[0m         data \u001b[38;5;241m=\u001b[39m [\u001b[38;5;28;43mself\u001b[39;49m\u001b[38;5;241;43m.\u001b[39;49m\u001b[43mdataset\u001b[49m\u001b[43m[\u001b[49m\u001b[43midx\u001b[49m\u001b[43m]\u001b[49m \u001b[38;5;28;01mfor\u001b[39;00m idx \u001b[38;5;129;01min\u001b[39;00m possibly_batched_index]\n\u001b[1;32m     50\u001b[0m     \u001b[38;5;28;01melse\u001b[39;00m:\n\u001b[1;32m     51\u001b[0m         data \u001b[38;5;241m=\u001b[39m \u001b[38;5;28mself\u001b[39m\u001b[38;5;241m.\u001b[39mdataset[possibly_batched_index]\n",
      "File \u001b[0;32m/opt/conda/envs/ip4rs/lib/python3.8/site-packages/torch/utils/data/dataset.py:290\u001b[0m, in \u001b[0;36mSubset.__getitem__\u001b[0;34m(self, idx)\u001b[0m\n\u001b[1;32m    288\u001b[0m \u001b[38;5;28;01mif\u001b[39;00m \u001b[38;5;28misinstance\u001b[39m(idx, \u001b[38;5;28mlist\u001b[39m):\n\u001b[1;32m    289\u001b[0m     \u001b[38;5;28;01mreturn\u001b[39;00m \u001b[38;5;28mself\u001b[39m\u001b[38;5;241m.\u001b[39mdataset[[\u001b[38;5;28mself\u001b[39m\u001b[38;5;241m.\u001b[39mindices[i] \u001b[38;5;28;01mfor\u001b[39;00m i \u001b[38;5;129;01min\u001b[39;00m idx]]\n\u001b[0;32m--> 290\u001b[0m \u001b[38;5;28;01mreturn\u001b[39;00m \u001b[38;5;28;43mself\u001b[39;49m\u001b[38;5;241;43m.\u001b[39;49m\u001b[43mdataset\u001b[49m\u001b[43m[\u001b[49m\u001b[38;5;28;43mself\u001b[39;49m\u001b[38;5;241;43m.\u001b[39;49m\u001b[43mindices\u001b[49m\u001b[43m[\u001b[49m\u001b[43midx\u001b[49m\u001b[43m]\u001b[49m\u001b[43m]\u001b[49m\n",
      "Input \u001b[0;32mIn [4]\u001b[0m, in \u001b[0;36mMyDataset.__getitem__\u001b[0;34m(self, sd)\u001b[0m\n\u001b[1;32m     17\u001b[0m \u001b[38;5;28;01mdef\u001b[39;00m \u001b[38;5;21m__getitem__\u001b[39m(\u001b[38;5;28mself\u001b[39m,sd):\n\u001b[0;32m---> 18\u001b[0m   img_path \u001b[38;5;241m=\u001b[39m \u001b[38;5;28mself\u001b[39m\u001b[38;5;241m.\u001b[39mimg_dir[\u001b[43midx\u001b[49m]\n\u001b[1;32m     20\u001b[0m   img \u001b[38;5;241m=\u001b[39m Image\u001b[38;5;241m.\u001b[39mopen(img_path)\u001b[38;5;241m.\u001b[39mconvert(\u001b[38;5;124m\"\u001b[39m\u001b[38;5;124mRGB\u001b[39m\u001b[38;5;124m\"\u001b[39m)\n\u001b[1;32m     21\u001b[0m   label \u001b[38;5;241m=\u001b[39m torch\u001b[38;5;241m.\u001b[39mtensor(img_path[\u001b[38;5;241m1\u001b[39m:]\u001b[38;5;241m.\u001b[39mtolist() , dtype\u001b[38;5;241m=\u001b[39mtorch\u001b[38;5;241m.\u001b[39mfloat32)\n",
      "\u001b[0;31mNameError\u001b[0m: name 'idx' is not defined"
     ]
    }
   ],
   "source": [
    "epoch = 0\n",
    "iteration = 0\n",
    "while True:\n",
    "    batch_losses = []\n",
    "    for imgs, targets in train_loader:\n",
    "        imgs, targets = imgs.to(device), targets.to(device)\n",
    "\n",
    "        optimizer.zero_grad()\n",
    "\n",
    "        model_result = model(imgs)\n",
    "        loss = criterion(model_result, targets.type(torch.float))\n",
    "\n",
    "        batch_loss_value = loss.item()\n",
    "        loss.backward()\n",
    "        optimizer.step()\n",
    "\n",
    "        batch_losses.append(batch_loss_value)\n",
    "\n",
    "        if iteration % test_freq == 0:\n",
    "            model.eval()\n",
    "            with torch.no_grad():\n",
    "                model_result = []\n",
    "                targets = []\n",
    "                for imgs, batch_targets in test_dataloader:\n",
    "                    imgs = imgs.to(device)\n",
    "                    model_batch_result = model(imgs)\n",
    "                    model_result.extend(model_batch_result.cpu().numpy())\n",
    "                    targets.extend(batch_targets.cpu().numpy())\n",
    "\n",
    "            result = calculate_metrics(np.array(model_result), np.array(targets))\n",
    "            print(\"epoch:{:2d} iter:{:3d} test: \"\n",
    "                  \"micro f1: {:.3f} \"\n",
    "                  \"macro f1: {:.3f} \"\n",
    "                  \"samples f1: {:.3f}\".format(epoch, iteration,\n",
    "                                              result['micro/f1'],\n",
    "                                              result['macro/f1'],\n",
    "                                              result['samples/f1']))\n",
    "\n",
    "            model.train()\n",
    "        iteration += 1\n",
    "\n",
    "    loss_value = np.mean(batch_losses)\n",
    "    print(\"epoch:{:2d} iter:{:3d} train: loss:{:.3f}\".format(epoch, iteration, loss_value))\n",
    "    if epoch % save_freq == 0:\n",
    "        checkpoint_save(model, save_path, epoch)\n",
    "    epoch += 1\n",
    "    if max_epoch_number < epoch:\n",
    "        break"
   ]
  },
  {
   "cell_type": "code",
   "execution_count": null,
   "id": "ca4b0efe-bf15-4cd4-85bf-5c1003c6ec4d",
   "metadata": {},
   "outputs": [],
   "source": []
  },
  {
   "cell_type": "code",
   "execution_count": null,
   "id": "a021aa0f-2eac-4b14-9c83-24ddf938e537",
   "metadata": {},
   "outputs": [],
   "source": []
  },
  {
   "cell_type": "code",
   "execution_count": null,
   "id": "9d4db0cb-ee90-488f-909f-28d30b2acea8",
   "metadata": {},
   "outputs": [],
   "source": []
  }
 ],
 "metadata": {
  "kernelspec": {
   "display_name": "ip4rs",
   "language": "python",
   "name": "ip4rs"
  },
  "language_info": {
   "codemirror_mode": {
    "name": "ipython",
    "version": 3
   },
   "file_extension": ".py",
   "mimetype": "text/x-python",
   "name": "python",
   "nbconvert_exporter": "python",
   "pygments_lexer": "ipython3",
   "version": "3.8.13"
  }
 },
 "nbformat": 4,
 "nbformat_minor": 5
}
