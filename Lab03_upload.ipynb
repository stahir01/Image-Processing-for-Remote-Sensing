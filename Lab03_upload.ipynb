{
 "cells": [
  {
   "cell_type": "markdown",
   "metadata": {
    "id": "B9BQYP--mkSu"
   },
   "source": [
    "# Mathematical Morphology Operators\n",
    "\n",
    "Goal of the lecture:\n",
    "1. Understand & apply the basic morphological operators:\n",
    "    - Erosion\n",
    "    - Dilation\n",
    "    - Opening\n",
    "    - Closing\n",
    "1. Apply the operators to _real_ data.\n",
    "\n",
    "\n",
    "Morphological transformations are simple operations based on the image shape.\n",
    "They are usually used in digital image processing (e.g, in object recognition, and image segmentation tasks) in order for noise reduction, edge enhancement, and eliminating everything but the object of interest. \n",
    "\n",
    "Morphological operators need two inputs: \n",
    "1. The original image\n",
    "2. A structuring element (SE/kernel)\n",
    "\n",
    "In this lecture we study the basic morphological operators:\n",
    "- Erosion\n",
    "- Dilation\n",
    "\n",
    "With their variants Opening and Closing.\n",
    "\n",
    "| ![alt text](https://docs.opencv.org/trunk/j.png) | ![alt text](https://docs.opencv.org/trunk/erosion.png) | ![alt text](https://docs.opencv.org/trunk/dilation.png) |\n",
    "| :---: | :---: | :---: |\n",
    "| original image | erotion | dilation |\n",
    "\n",
    "Example images of opening and closing:\n",
    "\n",
    "|![alt text](https://docs.opencv.org/trunk/opening.png) |![alt text](https://docs.opencv.org/trunk/closing.png) |\n",
    "| :---: | :---: |\n",
    "| opening | closing |\n",
    "\n",
    "\n",
    "*Images taken from [OpenCV](https://opencv.org) docs*\n",
    "\n",
    "Useful Links:\n",
    "\n",
    "* http://homepages.inf.ed.ac.uk/rbf/HIPR2/morops.htm\n",
    "* https://en.wikipedia.org/wiki/Erosion_%28morphology%29"
   ]
  },
  {
   "cell_type": "code",
   "execution_count": 1,
   "metadata": {
    "execution": {
     "iopub.execute_input": "2022-05-26T17:06:10.247666Z",
     "iopub.status.busy": "2022-05-26T17:06:10.246245Z",
     "iopub.status.idle": "2022-05-26T17:06:13.479010Z",
     "shell.execute_reply": "2022-05-26T17:06:13.477906Z",
     "shell.execute_reply.started": "2022-05-26T17:06:10.247538Z"
    }
   },
   "outputs": [],
   "source": [
    "# importing libraries and defining _smart_ imshow function\n",
    "import numpy as np\n",
    "from scipy import ndimage\n",
    "import matplotlib.pyplot as plt\n",
    "\n",
    "\n",
    "def imshow(*args, **kwargs):\n",
    "    # force cmap to be gray\n",
    "    kwargs[\"cmap\"] = \"gray\"\n",
    "    # Force range to be 8-bit range\n",
    "    kwargs[\"vmin\"] = 0\n",
    "    kwargs[\"vmax\"] = 255\n",
    "    plt.imshow(*args, **kwargs)\n",
    "    plt.axis(\"off\")"
   ]
  },
  {
   "cell_type": "markdown",
   "metadata": {
    "id": "6gei7be7AV-H"
   },
   "source": [
    "## Erosion\n",
    "\n",
    "The erosion operator decays the boundaries of the foreground object, by replacing every pixel by the *minimum* value computed over the neighborhood defined by the structuring element (SE). As a result:\n",
    "* Features that are **darker** than their immediate surroundings are **enlarged** \n",
    "* Features that are **brighter** than their immediate surroundings are **shrinked**\n",
    "\n",
    "![](https://upload.wikimedia.org/wikipedia/commons/b/b9/Grayscale_Morphological_Erosion.gif)\n",
    "\n",
    "**Image from [Greg Insana](https://commons.wikimedia.org/w/index.php?title=User:Greg2020&action=edit&redlink=1) shared via [wikimedia](https://commons.wikimedia.org/wiki/File:Grayscale_Morphological_Erosion.gif).**\n",
    "\n",
    "### Structuring Element\n",
    "\n",
    "As we mentioned earlier morphological operators need two inputs, first the original image and the Structuring Element (kernel).\n",
    "In `SciPy` we define a structuring element by creating an array where non-zero elements define the region of the structuring element."
   ]
  },
  {
   "cell_type": "code",
   "execution_count": 2,
   "metadata": {
    "execution": {
     "iopub.execute_input": "2022-05-26T17:06:37.961133Z",
     "iopub.status.busy": "2022-05-26T17:06:37.959967Z",
     "iopub.status.idle": "2022-05-26T17:06:37.979153Z",
     "shell.execute_reply": "2022-05-26T17:06:37.978314Z",
     "shell.execute_reply.started": "2022-05-26T17:06:37.961098Z"
    }
   },
   "outputs": [
    {
     "data": {
      "text/plain": [
       "array([[1., 1., 1.],\n",
       "       [1., 1., 1.],\n",
       "       [1., 1., 1.]])"
      ]
     },
     "execution_count": 2,
     "metadata": {},
     "output_type": "execute_result"
    }
   ],
   "source": [
    "#Our window function is a 3x3 matrix\n",
    "kernel_rect = np.ones((3, 3))\n",
    "kernel_rect"
   ]
  },
  {
   "cell_type": "markdown",
   "metadata": {},
   "source": [
    "### Example Erosion\n",
    "\n",
    "In the following we will apply the erosion operation to an example array:"
   ]
  },
  {
   "cell_type": "code",
   "execution_count": 7,
   "metadata": {
    "execution": {
     "iopub.execute_input": "2022-05-26T17:10:59.204783Z",
     "iopub.status.busy": "2022-05-26T17:10:59.204357Z",
     "iopub.status.idle": "2022-05-26T17:10:59.217127Z",
     "shell.execute_reply": "2022-05-26T17:10:59.215316Z",
     "shell.execute_reply.started": "2022-05-26T17:10:59.204750Z"
    }
   },
   "outputs": [
    {
     "name": "stdout",
     "output_type": "stream",
     "text": [
      "[[  0   0   0 120 120 120 255 255 255 120 120 120   0   0   0]\n",
      " [  0   0   0 120 120 120 255 255 255 120 120 120   0   0   0]\n",
      " [  0   0   0 120 120 120 255 255 255 120 120 120   0   0   0]\n",
      " [  0   0   0 120 120 120 255 255 255 120 120 120   0   0   0]\n",
      " [  0   0   0 120 120 120 255 255 255 120 120 120   0   0   0]\n",
      " [  0   0   0 120 120 120 255 255 255 120 120 120   0   0   0]\n",
      " [  0   0   0 120 120 120 255 255 255 120 120 120   0   0   0]\n",
      " [  0   0   0 120 120 120 255 255 255 120 120 120   0   0   0]\n",
      " [  0   0   0 120 120 120 255 255 255 120 120 120   0   0   0]\n",
      " [  0   0   0 120 120 120 255 255 255 120 120 120   0   0   0]\n",
      " [  0   0   0 120 120 120 255 255 255 120 120 120   0   0   0]\n",
      " [  0   0   0 120 120 120 255 255 255 120 120 120   0   0   0]\n",
      " [  0   0   0 120 120 120 255 255 255 120 120 120   0   0   0]\n",
      " [  0   0   0 120 120 120 255 255 255 120 120 120   0   0   0]\n",
      " [  0   0   0 120 120 120 255 255 255 120 120 120   0   0   0]]\n"
     ]
    }
   ],
   "source": [
    "#We create a 15x15 matrix\n",
    "a = np.zeros((15, 15), dtype=np.uint8)\n",
    "#Column 3-6 = 120\n",
    "a[:, 3:6] = 120\n",
    "a[:, 6:9] = 255\n",
    "a[:, 9:12] = 120\n",
    "\n",
    "print(a)"
   ]
  },
  {
   "cell_type": "markdown",
   "metadata": {},
   "source": [
    "Before applying the erosion operations, how to you expect the output array to look like?\n",
    "What will the resulting image look like?\n",
    "\n",
    "Remember, the kernel is a 3 x 3 fully connected kernel."
   ]
  },
  {
   "cell_type": "code",
   "execution_count": 8,
   "metadata": {
    "execution": {
     "iopub.execute_input": "2022-05-26T17:11:04.365299Z",
     "iopub.status.busy": "2022-05-26T17:11:04.364585Z",
     "iopub.status.idle": "2022-05-26T17:11:04.475026Z",
     "shell.execute_reply": "2022-05-26T17:11:04.473784Z",
     "shell.execute_reply.started": "2022-05-26T17:11:04.365265Z"
    }
   },
   "outputs": [
    {
     "data": {
      "image/png": "[encoded data removed]",
      "text/plain": [
       "<Figure size 432x288 with 1 Axes>"
      ]
     },
     "metadata": {
      "needs_background": "light"
     },
     "output_type": "display_data"
    }
   ],
   "source": [
    "# Before applying erosion\n",
    "imshow(a)"
   ]
  },
  {
   "cell_type": "code",
   "execution_count": 9,
   "metadata": {
    "execution": {
     "iopub.execute_input": "2022-05-26T17:11:08.869181Z",
     "iopub.status.busy": "2022-05-26T17:11:08.868181Z",
     "iopub.status.idle": "2022-05-26T17:11:08.990834Z",
     "shell.execute_reply": "2022-05-26T17:11:08.989667Z",
     "shell.execute_reply.started": "2022-05-26T17:11:08.869135Z"
    }
   },
   "outputs": [
    {
     "name": "stdout",
     "output_type": "stream",
     "text": [
      "[[  0   0   0   0 120 120 120 255 120 120 120   0   0   0   0]\n",
      " [  0   0   0   0 120 120 120 255 120 120 120   0   0   0   0]\n",
      " [  0   0   0   0 120 120 120 255 120 120 120   0   0   0   0]\n",
      " [  0   0   0   0 120 120 120 255 120 120 120   0   0   0   0]\n",
      " [  0   0   0   0 120 120 120 255 120 120 120   0   0   0   0]\n",
      " [  0   0   0   0 120 120 120 255 120 120 120   0   0   0   0]\n",
      " [  0   0   0   0 120 120 120 255 120 120 120   0   0   0   0]\n",
      " [  0   0   0   0 120 120 120 255 120 120 120   0   0   0   0]\n",
      " [  0   0   0   0 120 120 120 255 120 120 120   0   0   0   0]\n",
      " [  0   0   0   0 120 120 120 255 120 120 120   0   0   0   0]\n",
      " [  0   0   0   0 120 120 120 255 120 120 120   0   0   0   0]\n",
      " [  0   0   0   0 120 120 120 255 120 120 120   0   0   0   0]\n",
      " [  0   0   0   0 120 120 120 255 120 120 120   0   0   0   0]\n",
      " [  0   0   0   0 120 120 120 255 120 120 120   0   0   0   0]\n",
      " [  0   0   0   0 120 120 120 255 120 120 120   0   0   0   0]]\n"
     ]
    },
    {
     "data": {
      "image/png": "[encoded data removed]",
      "text/plain": [
       "<Figure size 432x288 with 1 Axes>"
      ]
     },
     "metadata": {
      "needs_background": "light"
     },
     "output_type": "display_data"
    }
   ],
   "source": [
    "e = ndimage.grey_erosion(a, footprint=kernel_rect) #We use the 3x3 window function we created before\n",
    "print(e)\n",
    "imshow(e)"
   ]
  },
  {
   "cell_type": "markdown",
   "metadata": {},
   "source": [
    "### In-course practice\n",
    "\n",
    "Create a new 3 x 3 kernel where the corners are _not_ part of the structuring element."
   ]
  },
  {
   "cell_type": "code",
   "execution_count": 20,
   "metadata": {
    "execution": {
     "iopub.execute_input": "2022-05-26T17:19:10.481817Z",
     "iopub.status.busy": "2022-05-26T17:19:10.481384Z",
     "iopub.status.idle": "2022-05-26T17:19:10.629495Z",
     "shell.execute_reply": "2022-05-26T17:19:10.628047Z",
     "shell.execute_reply.started": "2022-05-26T17:19:10.481781Z"
    }
   },
   "outputs": [
    {
     "name": "stdout",
     "output_type": "stream",
     "text": [
      "[[255. 255. 255. 255. 255. 255. 255. 255. 255. 255. 255. 255. 255. 255.\n",
      "  255.]\n",
      " [255. 255. 255. 255. 255. 255. 255. 255. 255. 255. 255. 255. 255. 255.\n",
      "  255.]\n",
      " [255. 255. 255. 255. 255. 255. 255. 255. 255. 255. 255. 255. 255. 255.\n",
      "  255.]\n",
      " [255. 255. 255. 255. 255. 255. 255. 255. 255. 255. 255. 255. 255. 255.\n",
      "  255.]\n",
      " [255. 255. 255. 255. 255. 255. 255. 255. 255. 255. 255. 255. 255. 255.\n",
      "  255.]\n",
      " [255. 255. 255. 255. 255. 255. 255. 255. 255. 255. 255. 255. 255. 255.\n",
      "  255.]\n",
      " [255. 255. 255. 255. 255. 255. 255. 255. 255. 255. 255. 255. 255. 255.\n",
      "  255.]\n",
      " [255. 255. 255. 255. 255. 255. 255. 255. 255. 255. 255. 255. 255. 255.\n",
      "  255.]\n",
      " [255. 255. 255. 255. 255. 255. 255. 255. 255. 255. 255. 255. 255. 255.\n",
      "  255.]\n",
      " [255. 255. 255. 255. 255. 255. 255. 255. 255. 255. 255. 255. 255. 255.\n",
      "  255.]\n",
      " [255. 255. 255. 255. 255. 255. 255. 255. 255. 255. 255. 255. 255. 255.\n",
      "  255.]\n",
      " [255. 255. 255. 255. 255. 255. 255. 255. 255. 255. 255. 255. 255. 255.\n",
      "  255.]\n",
      " [255. 255. 255. 255. 255. 255. 255. 255. 255. 255. 255. 255. 255. 255.\n",
      "  255.]\n",
      " [255. 255. 255. 255. 255. 255. 255. 255. 255. 255. 255. 255. 255. 255.\n",
      "  255.]\n",
      " [255. 255. 255. 255. 255. 255. 255. 255. 255. 255. 255. 255. 255. 255.\n",
      "  255.]]\n"
     ]
    },
    {
     "data": {
      "image/png": "[encoded data removed]",
      "text/plain": [
       "<Figure size 432x288 with 1 Axes>"
      ]
     },
     "metadata": {
      "needs_background": "light"
     },
     "output_type": "display_data"
    }
   ],
   "source": [
    "# THis how actual image looks. Our whole image is white\n",
    "no_corner_inp = np.ones((15, 15)) * 255\n",
    "print(no_corner_inp) \n",
    "imshow(no_corner_inp)"
   ]
  },
  {
   "cell_type": "code",
   "execution_count": 21,
   "metadata": {
    "execution": {
     "iopub.execute_input": "2022-05-26T17:20:05.959553Z",
     "iopub.status.busy": "2022-05-26T17:20:05.958692Z",
     "iopub.status.idle": "2022-05-26T17:20:06.184506Z",
     "shell.execute_reply": "2022-05-26T17:20:06.181135Z",
     "shell.execute_reply.started": "2022-05-26T17:20:05.959501Z"
    }
   },
   "outputs": [
    {
     "name": "stdout",
     "output_type": "stream",
     "text": [
      "[[  0. 255.   0. 255.   0. 255.   0. 255.   0. 255.   0. 255.   0. 255.\n",
      "    0.]\n",
      " [255. 255. 255. 255. 255. 255. 255. 255. 255. 255. 255. 255. 255. 255.\n",
      "  255.]\n",
      " [  0. 255.   0. 255.   0. 255.   0. 255.   0. 255.   0. 255.   0. 255.\n",
      "    0.]\n",
      " [255. 255. 255. 255. 255. 255. 255. 255. 255. 255. 255. 255. 255. 255.\n",
      "  255.]\n",
      " [  0. 255.   0. 255.   0. 255.   0. 255.   0. 255.   0. 255.   0. 255.\n",
      "    0.]\n",
      " [255. 255. 255. 255. 255. 255. 255. 255. 255. 255. 255. 255. 255. 255.\n",
      "  255.]\n",
      " [  0. 255.   0. 255.   0. 255.   0. 255.   0. 255.   0. 255.   0. 255.\n",
      "    0.]\n",
      " [255. 255. 255. 255. 255. 255. 255. 255. 255. 255. 255. 255. 255. 255.\n",
      "  255.]\n",
      " [  0. 255.   0. 255.   0. 255.   0. 255.   0. 255.   0. 255.   0. 255.\n",
      "    0.]\n",
      " [255. 255. 255. 255. 255. 255. 255. 255. 255. 255. 255. 255. 255. 255.\n",
      "  255.]\n",
      " [  0. 255.   0. 255.   0. 255.   0. 255.   0. 255.   0. 255.   0. 255.\n",
      "    0.]\n",
      " [255. 255. 255. 255. 255. 255. 255. 255. 255. 255. 255. 255. 255. 255.\n",
      "  255.]\n",
      " [  0. 255.   0. 255.   0. 255.   0. 255.   0. 255.   0. 255.   0. 255.\n",
      "    0.]\n",
      " [255. 255. 255. 255. 255. 255. 255. 255. 255. 255. 255. 255. 255. 255.\n",
      "  255.]\n",
      " [  0. 255.   0. 255.   0. 255.   0. 255.   0. 255.   0. 255.   0. 255.\n",
      "    0.]]\n"
     ]
    },
    {
     "data": {
      "image/png": "[encoded data removed]",
      "text/plain": [
       "<Figure size 432x288 with 1 Axes>"
      ]
     },
     "metadata": {
      "needs_background": "light"
     },
     "output_type": "display_data"
    }
   ],
   "source": [
    "# We make some elements go to zero so we have half white and half black points in an image\n",
    "no_corner_inp[::2, ::2] = 0\n",
    "print(no_corner_inp)\n",
    "imshow(no_corner_inp)"
   ]
  },
  {
   "cell_type": "code",
   "execution_count": 22,
   "metadata": {
    "execution": {
     "iopub.execute_input": "2022-05-26T17:24:05.686747Z",
     "iopub.status.busy": "2022-05-26T17:24:05.686317Z",
     "iopub.status.idle": "2022-05-26T17:24:05.783338Z",
     "shell.execute_reply": "2022-05-26T17:24:05.779855Z",
     "shell.execute_reply.started": "2022-05-26T17:24:05.686716Z"
    }
   },
   "outputs": [
    {
     "name": "stdout",
     "output_type": "stream",
     "text": [
      "[[0. 0. 0. 0. 0. 0. 0. 0. 0. 0. 0. 0. 0. 0. 0.]\n",
      " [0. 0. 0. 0. 0. 0. 0. 0. 0. 0. 0. 0. 0. 0. 0.]\n",
      " [0. 0. 0. 0. 0. 0. 0. 0. 0. 0. 0. 0. 0. 0. 0.]\n",
      " [0. 0. 0. 0. 0. 0. 0. 0. 0. 0. 0. 0. 0. 0. 0.]\n",
      " [0. 0. 0. 0. 0. 0. 0. 0. 0. 0. 0. 0. 0. 0. 0.]\n",
      " [0. 0. 0. 0. 0. 0. 0. 0. 0. 0. 0. 0. 0. 0. 0.]\n",
      " [0. 0. 0. 0. 0. 0. 0. 0. 0. 0. 0. 0. 0. 0. 0.]\n",
      " [0. 0. 0. 0. 0. 0. 0. 0. 0. 0. 0. 0. 0. 0. 0.]\n",
      " [0. 0. 0. 0. 0. 0. 0. 0. 0. 0. 0. 0. 0. 0. 0.]\n",
      " [0. 0. 0. 0. 0. 0. 0. 0. 0. 0. 0. 0. 0. 0. 0.]\n",
      " [0. 0. 0. 0. 0. 0. 0. 0. 0. 0. 0. 0. 0. 0. 0.]\n",
      " [0. 0. 0. 0. 0. 0. 0. 0. 0. 0. 0. 0. 0. 0. 0.]\n",
      " [0. 0. 0. 0. 0. 0. 0. 0. 0. 0. 0. 0. 0. 0. 0.]\n",
      " [0. 0. 0. 0. 0. 0. 0. 0. 0. 0. 0. 0. 0. 0. 0.]\n",
      " [0. 0. 0. 0. 0. 0. 0. 0. 0. 0. 0. 0. 0. 0. 0.]]\n"
     ]
    },
    {
     "data": {
      "image/png": "[encoded data removed]",
      "text/plain": [
       "<Figure size 432x288 with 1 Axes>"
      ]
     },
     "metadata": {
      "needs_background": "light"
     },
     "output_type": "display_data"
    }
   ],
   "source": [
    "not_part = ndimage.grey_erosion(no_corner_inp, footprint=kernel_rect)\n",
    "print(not_part)\n",
    "imshow(not_part)"
   ]
  },
  {
   "cell_type": "markdown",
   "metadata": {
    "id": "S6r1_rzZTne3"
   },
   "source": [
    "## Dilation\n",
    "\n",
    "The dilation operator is the opposite of erosion, increasing the brighter boundries, by replacing every pixel by the *maximum* value computed over the neighborhood defined by the SE. As a result:\n",
    "* Features that are **brighter** than their immediate surroundings are **enlarged** \n",
    "* Features that are **darker** than their immediate surroundings are **shrinked**\n",
    "\n",
    "### Example Dilation"
   ]
  },
  {
   "cell_type": "code",
   "execution_count": 23,
   "metadata": {
    "execution": {
     "iopub.execute_input": "2022-05-26T17:26:43.395869Z",
     "iopub.status.busy": "2022-05-26T17:26:43.395307Z",
     "iopub.status.idle": "2022-05-26T17:26:43.497533Z",
     "shell.execute_reply": "2022-05-26T17:26:43.496175Z",
     "shell.execute_reply.started": "2022-05-26T17:26:43.395816Z"
    }
   },
   "outputs": [
    {
     "data": {
      "image/png": "[encoded data removed]",
      "text/plain": [
       "<Figure size 432x288 with 1 Axes>"
      ]
     },
     "metadata": {
      "needs_background": "light"
     },
     "output_type": "display_data"
    }
   ],
   "source": [
    "# same array as in first example:\n",
    "a = np.zeros((15, 15), dtype=np.uint8)\n",
    "a[:, 3:6] = 120\n",
    "a[:, 6:9] = 255\n",
    "a[:, 9:12] = 120\n",
    "imshow(a)"
   ]
  },
  {
   "cell_type": "code",
   "execution_count": 24,
   "metadata": {
    "execution": {
     "iopub.execute_input": "2022-05-26T17:26:49.780461Z",
     "iopub.status.busy": "2022-05-26T17:26:49.779977Z",
     "iopub.status.idle": "2022-05-26T17:26:49.898531Z",
     "shell.execute_reply": "2022-05-26T17:26:49.897494Z",
     "shell.execute_reply.started": "2022-05-26T17:26:49.780429Z"
    }
   },
   "outputs": [
    {
     "data": {
      "image/png": "[encoded data removed]",
      "text/plain": [
       "<Figure size 432x288 with 1 Axes>"
      ]
     },
     "metadata": {
      "needs_background": "light"
     },
     "output_type": "display_data"
    }
   ],
   "source": [
    "d = ndimage.grey_dilation(a, footprint=kernel_rect)\n",
    "imshow(d)"
   ]
  },
  {
   "cell_type": "markdown",
   "metadata": {},
   "source": [
    "### In-course practice\n",
    "\n",
    "Create an array that produces a white image if the dilation operation is applied with the `rect_kernel`.\n",
    "\n",
    "Do not create an input array that only contains the value 255!"
   ]
  },
  {
   "cell_type": "code",
   "execution_count": 30,
   "metadata": {
    "execution": {
     "iopub.execute_input": "2022-05-26T17:35:16.471511Z",
     "iopub.status.busy": "2022-05-26T17:35:16.470671Z",
     "iopub.status.idle": "2022-05-26T17:35:16.486627Z",
     "shell.execute_reply": "2022-05-26T17:35:16.485429Z",
     "shell.execute_reply.started": "2022-05-26T17:35:16.471468Z"
    }
   },
   "outputs": [
    {
     "name": "stdout",
     "output_type": "stream",
     "text": [
      "[[  0.   0.   0.   0.   0.   0.   0.   0.   0.   0.   0.   0.   0.   0.\n",
      "    0.]\n",
      " [255. 255. 255. 255. 255. 255. 255. 255. 255. 255. 255. 255. 255. 255.\n",
      "  255.]\n",
      " [  0.   0.   0.   0.   0.   0.   0.   0.   0.   0.   0.   0.   0.   0.\n",
      "    0.]\n",
      " [255. 255. 255. 255. 255. 255. 255. 255. 255. 255. 255. 255. 255. 255.\n",
      "  255.]\n",
      " [  0.   0.   0.   0.   0.   0.   0.   0.   0.   0.   0.   0.   0.   0.\n",
      "    0.]\n",
      " [255. 255. 255. 255. 255. 255. 255. 255. 255. 255. 255. 255. 255. 255.\n",
      "  255.]\n",
      " [  0.   0.   0.   0.   0.   0.   0.   0.   0.   0.   0.   0.   0.   0.\n",
      "    0.]\n",
      " [255. 255. 255. 255. 255. 255. 255. 255. 255. 255. 255. 255. 255. 255.\n",
      "  255.]\n",
      " [  0.   0.   0.   0.   0.   0.   0.   0.   0.   0.   0.   0.   0.   0.\n",
      "    0.]\n",
      " [255. 255. 255. 255. 255. 255. 255. 255. 255. 255. 255. 255. 255. 255.\n",
      "  255.]\n",
      " [  0.   0.   0.   0.   0.   0.   0.   0.   0.   0.   0.   0.   0.   0.\n",
      "    0.]\n",
      " [255. 255. 255. 255. 255. 255. 255. 255. 255. 255. 255. 255. 255. 255.\n",
      "  255.]\n",
      " [  0.   0.   0.   0.   0.   0.   0.   0.   0.   0.   0.   0.   0.   0.\n",
      "    0.]\n",
      " [255. 255. 255. 255. 255. 255. 255. 255. 255. 255. 255. 255. 255. 255.\n",
      "  255.]\n",
      " [  0.   0.   0.   0.   0.   0.   0.   0.   0.   0.   0.   0.   0.   0.\n",
      "    0.]]\n"
     ]
    }
   ],
   "source": [
    "make_white_inp = np.ones((15,15)) * 255\n",
    "make_white_inp[::2] = 0\n",
    "print(make_white_inp)"
   ]
  },
  {
   "cell_type": "code",
   "execution_count": 31,
   "metadata": {
    "execution": {
     "iopub.execute_input": "2022-05-26T17:35:30.766255Z",
     "iopub.status.busy": "2022-05-26T17:35:30.765617Z",
     "iopub.status.idle": "2022-05-26T17:35:30.881358Z",
     "shell.execute_reply": "2022-05-26T17:35:30.880461Z",
     "shell.execute_reply.started": "2022-05-26T17:35:30.766223Z"
    }
   },
   "outputs": [
    {
     "name": "stdout",
     "output_type": "stream",
     "text": [
      "[[255. 255. 255. 255. 255. 255. 255. 255. 255. 255. 255. 255. 255. 255.\n",
      "  255.]\n",
      " [255. 255. 255. 255. 255. 255. 255. 255. 255. 255. 255. 255. 255. 255.\n",
      "  255.]\n",
      " [255. 255. 255. 255. 255. 255. 255. 255. 255. 255. 255. 255. 255. 255.\n",
      "  255.]\n",
      " [255. 255. 255. 255. 255. 255. 255. 255. 255. 255. 255. 255. 255. 255.\n",
      "  255.]\n",
      " [255. 255. 255. 255. 255. 255. 255. 255. 255. 255. 255. 255. 255. 255.\n",
      "  255.]\n",
      " [255. 255. 255. 255. 255. 255. 255. 255. 255. 255. 255. 255. 255. 255.\n",
      "  255.]\n",
      " [255. 255. 255. 255. 255. 255. 255. 255. 255. 255. 255. 255. 255. 255.\n",
      "  255.]\n",
      " [255. 255. 255. 255. 255. 255. 255. 255. 255. 255. 255. 255. 255. 255.\n",
      "  255.]\n",
      " [255. 255. 255. 255. 255. 255. 255. 255. 255. 255. 255. 255. 255. 255.\n",
      "  255.]\n",
      " [255. 255. 255. 255. 255. 255. 255. 255. 255. 255. 255. 255. 255. 255.\n",
      "  255.]\n",
      " [255. 255. 255. 255. 255. 255. 255. 255. 255. 255. 255. 255. 255. 255.\n",
      "  255.]\n",
      " [255. 255. 255. 255. 255. 255. 255. 255. 255. 255. 255. 255. 255. 255.\n",
      "  255.]\n",
      " [255. 255. 255. 255. 255. 255. 255. 255. 255. 255. 255. 255. 255. 255.\n",
      "  255.]\n",
      " [255. 255. 255. 255. 255. 255. 255. 255. 255. 255. 255. 255. 255. 255.\n",
      "  255.]\n",
      " [255. 255. 255. 255. 255. 255. 255. 255. 255. 255. 255. 255. 255. 255.\n",
      "  255.]]\n"
     ]
    },
    {
     "data": {
      "image/png": "[encoded data removed]",
      "text/plain": [
       "<Figure size 432x288 with 1 Axes>"
      ]
     },
     "metadata": {
      "needs_background": "light"
     },
     "output_type": "display_data"
    }
   ],
   "source": [
    "w = ndimage.grey_dilation(make_white_inp, footprint=kernel_rect)\n",
    "print(w)\n",
    "imshow(w)"
   ]
  },
  {
   "cell_type": "markdown",
   "metadata": {},
   "source": [
    "## Opening\n",
    "\n",
    "Opening is just another name for erosion followed by dilation using the same SE. Generally used to remove small light details and/or noise removal.\n",
    "\n",
    "* The initial erosion removes the small details, but it also darkens the image\n",
    "* The dilation again increases the overall image intensity without reintroducing the details removed by the erosion\n",
    "\n",
    "|![alt text](https://docs.opencv.org/trunk/opening.png) |\n",
    "| :---: |\n",
    "| opening |"
   ]
  },
  {
   "cell_type": "code",
   "execution_count": 33,
   "metadata": {
    "execution": {
     "iopub.execute_input": "2022-05-26T17:42:20.207754Z",
     "iopub.status.busy": "2022-05-26T17:42:20.206713Z",
     "iopub.status.idle": "2022-05-26T17:42:20.385425Z",
     "shell.execute_reply": "2022-05-26T17:42:20.378729Z",
     "shell.execute_reply.started": "2022-05-26T17:42:20.207713Z"
    }
   },
   "outputs": [
    {
     "name": "stdout",
     "output_type": "stream",
     "text": [
      "[[255   0   0 120 120 120 255 255 255 120 120 120   0   0   0]\n",
      " [  0   0   0 120 120 120 255 255 255 120 120 120   0   0   0]\n",
      " [  0   0   0 120 120 120 255 255 255 120 120 120   0   0   0]\n",
      " [  0   0   0 120 120 120 255 255 255 120 120 120   0   0   0]\n",
      " [  0   0   0 120 120 120 255 255 255 120 120 120   0   0   0]\n",
      " [  0   0   0 120 120 255 255 255 255 120 120 120   0   0   0]\n",
      " [  0   0   0 120 120 120 255 255 255 120 120 120   0   0   0]\n",
      " [  0   0   0 120 120 120 255 255 255 120 120 120   0   0   0]\n",
      " [  0   0   0 120 120 120 255 255 255 120 120 120   0   0   0]\n",
      " [  0   0   0 120 120 120 255 255 255 120 120 120   0   0   0]\n",
      " [  0   0   0 120 120 120 255 255 255 120 255 120   0   0   0]\n",
      " [  0   0   0 120 120 120 255 255 255 120 120 120   0   0   0]\n",
      " [  0   0   0 120 120 120 255 255 255 120 120 120   0   0   0]\n",
      " [  0   0   0 120 120 120 255 255 255 120 120 120   0   0   0]\n",
      " [  0   0   0 120 120 120 255 255 255 120 120 120   0   0 255]]\n"
     ]
    },
    {
     "data": {
      "image/png": "[encoded data removed]",
      "text/plain": [
       "<Figure size 432x288 with 1 Axes>"
      ]
     },
     "metadata": {
      "needs_background": "light"
     },
     "output_type": "display_data"
    }
   ],
   "source": [
    "opening_inp = a.copy()\n",
    "for idx_x, idx_y in [(0, 0), (-1, -1), (5, 5), (-5, -5)]:\n",
    "    opening_inp[idx_x, idx_y] = 255\n",
    "print(opening_inp)\n",
    "imshow(opening_inp)"
   ]
  },
  {
   "cell_type": "code",
   "execution_count": 34,
   "metadata": {
    "execution": {
     "iopub.execute_input": "2022-05-26T17:46:10.242203Z",
     "iopub.status.busy": "2022-05-26T17:46:10.241318Z",
     "iopub.status.idle": "2022-05-26T17:46:10.321271Z",
     "shell.execute_reply": "2022-05-26T17:46:10.320502Z",
     "shell.execute_reply.started": "2022-05-26T17:46:10.242172Z"
    }
   },
   "outputs": [
    {
     "data": {
      "image/png": "[encoded data removed]",
      "text/plain": [
       "<Figure size 432x288 with 1 Axes>"
      ]
     },
     "metadata": {
      "needs_background": "light"
     },
     "output_type": "display_data"
    }
   ],
   "source": [
    "opening_inp_eroded = ndimage.grey_erosion(opening_inp, footprint=kernel_rect)\n",
    "imshow(opening_inp_eroded)"
   ]
  },
  {
   "cell_type": "code",
   "execution_count": 35,
   "metadata": {
    "execution": {
     "iopub.execute_input": "2022-05-26T17:46:24.857378Z",
     "iopub.status.busy": "2022-05-26T17:46:24.855948Z",
     "iopub.status.idle": "2022-05-26T17:46:24.971757Z",
     "shell.execute_reply": "2022-05-26T17:46:24.970938Z",
     "shell.execute_reply.started": "2022-05-26T17:46:24.857331Z"
    }
   },
   "outputs": [
    {
     "data": {
      "image/png": "[encoded data removed]",
      "text/plain": [
       "<Figure size 432x288 with 1 Axes>"
      ]
     },
     "metadata": {
      "needs_background": "light"
     },
     "output_type": "display_data"
    }
   ],
   "source": [
    "opening_output = ndimage.grey_dilation(opening_inp_eroded, footprint=kernel_rect)\n",
    "imshow(opening_output)"
   ]
  },
  {
   "cell_type": "code",
   "execution_count": null,
   "metadata": {},
   "outputs": [],
   "source": [
    "# Or directly call the `grey_opening` directly\n",
    "# imshow(ndimage.grey_opening(opening_inp, footprint=kernel_rect))"
   ]
  },
  {
   "cell_type": "markdown",
   "metadata": {
    "id": "M8sCeb7_pfcJ"
   },
   "source": [
    "## Closing\n",
    "\n",
    "Closing is just another name for dilation followed by erosion. Generally used to remove dark details, while leaving bright features relatively undisturbed \n",
    "\n",
    "* The initial dilation removes the dark details and brightens the image\n",
    "* The erosion darkens the image without reintroducing the details removed by dilation\n",
    "\n",
    "\n",
    "|![](https://docs.opencv.org/trunk/closing.png) |\n",
    "| :---: |\n",
    "| closing |"
   ]
  },
  {
   "cell_type": "code",
   "execution_count": 36,
   "metadata": {
    "execution": {
     "iopub.execute_input": "2022-05-26T17:46:44.229618Z",
     "iopub.status.busy": "2022-05-26T17:46:44.223710Z",
     "iopub.status.idle": "2022-05-26T17:46:44.377184Z",
     "shell.execute_reply": "2022-05-26T17:46:44.375801Z",
     "shell.execute_reply.started": "2022-05-26T17:46:44.229545Z"
    }
   },
   "outputs": [
    {
     "data": {
      "image/png": "[encoded data removed]",
      "text/plain": [
       "<Figure size 432x288 with 1 Axes>"
      ]
     },
     "metadata": {
      "needs_background": "light"
     },
     "output_type": "display_data"
    }
   ],
   "source": [
    "closing_inp = a.copy()\n",
    "for idx_x, idx_y in [(5, -5), (-5, 5), (5, 5), (-5, -5)]:\n",
    "    closing_inp[idx_x, idx_y] = 0\n",
    "imshow(closing_inp)"
   ]
  },
  {
   "cell_type": "code",
   "execution_count": 37,
   "metadata": {
    "execution": {
     "iopub.execute_input": "2022-05-26T17:46:49.592363Z",
     "iopub.status.busy": "2022-05-26T17:46:49.591912Z",
     "iopub.status.idle": "2022-05-26T17:46:49.813909Z",
     "shell.execute_reply": "2022-05-26T17:46:49.812825Z",
     "shell.execute_reply.started": "2022-05-26T17:46:49.592332Z"
    }
   },
   "outputs": [
    {
     "data": {
      "image/png": "[encoded data removed]",
      "text/plain": [
       "<Figure size 432x288 with 1 Axes>"
      ]
     },
     "metadata": {
      "needs_background": "light"
     },
     "output_type": "display_data"
    }
   ],
   "source": [
    "closing_inp_dilated = ndimage.grey_dilation(closing_inp, footprint=kernel_rect)\n",
    "imshow(closing_inp_dilated)"
   ]
  },
  {
   "cell_type": "code",
   "execution_count": 38,
   "metadata": {
    "execution": {
     "iopub.execute_input": "2022-05-26T17:46:55.070925Z",
     "iopub.status.busy": "2022-05-26T17:46:55.069999Z",
     "iopub.status.idle": "2022-05-26T17:46:55.187095Z",
     "shell.execute_reply": "2022-05-26T17:46:55.186005Z",
     "shell.execute_reply.started": "2022-05-26T17:46:55.070875Z"
    }
   },
   "outputs": [
    {
     "data": {
      "image/png": "[encoded data removed]",
      "text/plain": [
       "<Figure size 432x288 with 1 Axes>"
      ]
     },
     "metadata": {
      "needs_background": "light"
     },
     "output_type": "display_data"
    }
   ],
   "source": [
    "closing_out = ndimage.grey_erosion(closing_inp_dilated, footprint=kernel_rect)\n",
    "imshow(closing_out)"
   ]
  },
  {
   "cell_type": "code",
   "execution_count": 39,
   "metadata": {
    "execution": {
     "iopub.execute_input": "2022-05-26T17:47:10.208399Z",
     "iopub.status.busy": "2022-05-26T17:47:10.207963Z",
     "iopub.status.idle": "2022-05-26T17:47:10.776170Z",
     "shell.execute_reply": "2022-05-26T17:47:10.775042Z",
     "shell.execute_reply.started": "2022-05-26T17:47:10.208369Z"
    }
   },
   "outputs": [
    {
     "name": "stdout",
     "output_type": "stream",
     "text": [
      "Target file already exists!\n",
      "Will skip download. To force download set `force=True`\n"
     ]
    }
   ],
   "source": [
    "from simple_downloader import download\n",
    "\n",
    "# downlaod the sub-image from the previous lecture\n",
    "# we have stored the bands individually to give them a meaningful name\n",
    "file_path = download(\n",
    "    \"https://tubcloud.tu-berlin.de/s/i2n2wxEqkPWWYZi/download/sub_rgb_arr.npz\", target_dir=\"data\"\n",
    ")\n",
    "npzfile = np.load(file_path)\n",
    "red_arr = npzfile[\"red\"]"
   ]
  },
  {
   "cell_type": "code",
   "execution_count": 40,
   "metadata": {
    "execution": {
     "iopub.execute_input": "2022-05-26T17:47:23.005054Z",
     "iopub.status.busy": "2022-05-26T17:47:23.003509Z",
     "iopub.status.idle": "2022-05-26T17:47:23.022946Z",
     "shell.execute_reply": "2022-05-26T17:47:23.022126Z",
     "shell.execute_reply.started": "2022-05-26T17:47:23.005001Z"
    }
   },
   "outputs": [
    {
     "data": {
      "text/plain": [
       "array([[66, 63, 63, ..., 64, 67, 72],\n",
       "       [65, 64, 63, ..., 68, 67, 70],\n",
       "       [66, 63, 64, ..., 68, 67, 66],\n",
       "       ...,\n",
       "       [55, 55, 55, ..., 58, 62, 67],\n",
       "       [56, 55, 55, ..., 56, 58, 61],\n",
       "       [55, 55, 55, ..., 57, 57, 62]], dtype=uint8)"
      ]
     },
     "execution_count": 40,
     "metadata": {},
     "output_type": "execute_result"
    }
   ],
   "source": [
    "# use the code and formulae from previous Lab. So we normalize the image\n",
    "red_float = (red_arr + 1_000) / 10_000\n",
    "red_float = np.clip(red_float, 0.0, 1.0)\n",
    "red_img = np.uint8(red_float * 255)\n",
    "red_img"
   ]
  },
  {
   "cell_type": "code",
   "execution_count": 41,
   "metadata": {
    "execution": {
     "iopub.execute_input": "2022-05-26T17:47:28.604187Z",
     "iopub.status.busy": "2022-05-26T17:47:28.602965Z",
     "iopub.status.idle": "2022-05-26T17:47:28.775179Z",
     "shell.execute_reply": "2022-05-26T17:47:28.774304Z",
     "shell.execute_reply.started": "2022-05-26T17:47:28.604149Z"
    }
   },
   "outputs": [
    {
     "data": {
      "image/png": "[encoded data removed]",
      "text/plain": [
       "<Figure size 432x288 with 1 Axes>"
      ]
     },
     "metadata": {
      "needs_background": "light"
     },
     "output_type": "display_data"
    }
   ],
   "source": [
    "imshow(red_img)"
   ]
  },
  {
   "cell_type": "code",
   "execution_count": 42,
   "metadata": {
    "execution": {
     "iopub.execute_input": "2022-05-26T17:49:30.078880Z",
     "iopub.status.busy": "2022-05-26T17:49:30.077366Z",
     "iopub.status.idle": "2022-05-26T17:49:30.205622Z",
     "shell.execute_reply": "2022-05-26T17:49:30.204895Z",
     "shell.execute_reply.started": "2022-05-26T17:49:30.078823Z"
    }
   },
   "outputs": [
    {
     "data": {
      "image/png": "[encoded data removed]",
      "text/plain": [
       "<Figure size 432x288 with 1 Axes>"
      ]
     },
     "metadata": {
      "needs_background": "light"
     },
     "output_type": "display_data"
    }
   ],
   "source": [
    "# kernel-size; iterations\n",
    "# img = red_img[150:350, -200:].copy()\n",
    "img = red_img[50:150, 150:250]\n",
    "imshow(img)"
   ]
  },
  {
   "cell_type": "code",
   "execution_count": 43,
   "metadata": {
    "execution": {
     "iopub.execute_input": "2022-05-26T17:49:40.764531Z",
     "iopub.status.busy": "2022-05-26T17:49:40.763280Z",
     "iopub.status.idle": "2022-05-26T17:49:40.896401Z",
     "shell.execute_reply": "2022-05-26T17:49:40.891029Z",
     "shell.execute_reply.started": "2022-05-26T17:49:40.764426Z"
    }
   },
   "outputs": [
    {
     "data": {
      "image/png": "[encoded data removed]",
      "text/plain": [
       "<Figure size 432x288 with 1 Axes>"
      ]
     },
     "metadata": {
      "needs_background": "light"
     },
     "output_type": "display_data"
    }
   ],
   "source": [
    "kernel_rect = np.ones((3, 3))\n",
    "\n",
    "i = img.copy()\n",
    "for _ in range(3):\n",
    "    i = ndimage.grey_erosion(i, footprint=kernel_rect)\n",
    "imshow(i)"
   ]
  },
  {
   "cell_type": "markdown",
   "metadata": {},
   "source": [
    "## In-course practice\n",
    "\n",
    "Investigate the effect of changes to the SE shape, size, number of iterations, and morphological operators."
   ]
  },
  {
   "cell_type": "code",
   "execution_count": null,
   "metadata": {},
   "outputs": [],
   "source": []
  }
 ],
 "metadata": {
  "colab": {
   "authorship_tag": "ABX9TyMcIaFpMIiQL3Fx46uQpHLF",
   "name": "Lab4.ipynb",
   "provenance": [],
   "toc_visible": true
  },
  "interpreter": {
   "hash": "d950cc255805eca97bc9adaef38440cdd4d88c80fff2afb10853f0ffb81a073c"
  },
  "kernelspec": {
   "display_name": "ip4rs",
   "language": "python",
   "name": "ip4rs"
  },
  "language_info": {
   "codemirror_mode": {
    "name": "ipython",
    "version": 3
   },
   "file_extension": ".py",
   "mimetype": "text/x-python",
   "name": "python",
   "nbconvert_exporter": "python",
   "pygments_lexer": "ipython3",
   "version": "3.8.13"
  }
 },
 "nbformat": 4,
 "nbformat_minor": 4
}
