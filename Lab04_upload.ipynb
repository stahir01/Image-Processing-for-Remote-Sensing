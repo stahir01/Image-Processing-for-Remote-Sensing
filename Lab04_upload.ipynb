{
 "cells": [
  {
   "cell_type": "markdown",
   "metadata": {
    "id": "sshoo_A_Uj1N"
   },
   "source": [
    "# Image Filtering\n",
    "\n",
    "Goal of the lecture:\n",
    "\n",
    "1. Understand and apply basic image filtering operations\n",
    "    - Average Filtering\n",
    "    - Median Filtering\n",
    "    - Sobel Filtering\n",
    "1. Learn how to define custom filters\n",
    "1. Utilize filter operations to denoise an image"
   ]
  },
  {
   "cell_type": "markdown",
   "metadata": {
    "id": "it7A5NIxWfBm"
   },
   "source": [
    "Useful links:\n",
    "- Theoretical lecture\n",
    "- Videos of [Computerphile](https://www.youtube.com/user/Computerphile) on the topic\n",
    "    - [Mean Filtering](https://www.youtube.com/watch?v=C_zFhWdM4ic&ab_channel=Computerphile)\n",
    "    - [Sobel](https://www.youtube.com/watch?v=uihBwtPIBxM&ab_channel=Computerphile)"
   ]
  },
  {
   "cell_type": "code",
   "execution_count": 25,
   "metadata": {
    "execution": {
     "iopub.execute_input": "2022-06-05T13:14:23.559699Z",
     "iopub.status.busy": "2022-06-05T13:14:23.558645Z",
     "iopub.status.idle": "2022-06-05T13:14:23.565046Z",
     "shell.execute_reply": "2022-06-05T13:14:23.564223Z",
     "shell.execute_reply.started": "2022-06-05T13:14:23.559667Z"
    }
   },
   "outputs": [],
   "source": [
    "# importing libraries and defining _smart_ imshow function\n",
    "import numpy as np\n",
    "from scipy import ndimage\n",
    "import matplotlib.pyplot as plt\n",
    "import copy\n",
    "\n",
    "\n",
    "def imshow(*args, **kwargs):\n",
    "    # force cmap to be gray\n",
    "    kwargs[\"cmap\"] = \"gray\"\n",
    "    # no restrictions on vmin/vmax\n",
    "    # kwargs[\"vmin\"] = 0\n",
    "    # kwargs[\"vmax\"] = 255\n",
    "    plt.imshow(*args, **kwargs)\n",
    "    plt.axis(\"off\")\n",
    "\n",
    "\n",
    "def get_example_arr():\n",
    "    a = np.zeros((15, 15), dtype=np.float32)\n",
    "    a[:, 3:6] = 0.5\n",
    "    a[:, 6:9] = 1.0\n",
    "    a[:, 9:12] = 0.5\n",
    "    return a"
   ]
  },
  {
   "cell_type": "markdown",
   "metadata": {},
   "source": [
    "## Average filtering"
   ]
  },
  {
   "cell_type": "code",
   "execution_count": 2,
   "metadata": {
    "execution": {
     "iopub.execute_input": "2022-06-05T13:07:23.065100Z",
     "iopub.status.busy": "2022-06-05T13:07:23.064365Z",
     "iopub.status.idle": "2022-06-05T13:07:23.167723Z",
     "shell.execute_reply": "2022-06-05T13:07:23.167105Z",
     "shell.execute_reply.started": "2022-06-05T13:07:23.065068Z"
    }
   },
   "outputs": [
    {
     "data": {
      "image/png": "[encoded data removed]",
      "text/plain": [
       "<Figure size 432x288 with 1 Axes>"
      ]
     },
     "metadata": {
      "needs_background": "light"
     },
     "output_type": "display_data"
    }
   ],
   "source": [
    "a = get_example_arr()\n",
    "# use range [0, 1] for lab\n",
    "imshow(a, vmin=0, vmax=1.0)"
   ]
  },
  {
   "cell_type": "code",
   "execution_count": 3,
   "metadata": {
    "execution": {
     "iopub.execute_input": "2022-06-05T13:07:25.158563Z",
     "iopub.status.busy": "2022-06-05T13:07:25.158224Z",
     "iopub.status.idle": "2022-06-05T13:07:25.164521Z",
     "shell.execute_reply": "2022-06-05T13:07:25.163768Z",
     "shell.execute_reply.started": "2022-06-05T13:07:25.158537Z"
    }
   },
   "outputs": [
    {
     "name": "stdout",
     "output_type": "stream",
     "text": [
      "[[0.  0.  0.  0.5 0.5 0.5 1.  1.  1.  0.5 0.5 0.5 0.  0.  0. ]\n",
      " [0.  0.  0.  0.5 0.5 0.5 1.  1.  1.  0.5 0.5 0.5 0.  0.  0. ]\n",
      " [0.  0.  0.  0.5 0.5 0.5 1.  1.  1.  0.5 0.5 0.5 0.  0.  0. ]\n",
      " [0.  0.  0.  0.5 0.5 0.5 1.  1.  1.  0.5 0.5 0.5 0.  0.  0. ]\n",
      " [0.  0.  0.  0.5 0.5 0.5 1.  1.  1.  0.5 0.5 0.5 0.  0.  0. ]\n",
      " [0.  0.  0.  0.5 0.5 0.5 1.  1.  1.  0.5 0.5 0.5 0.  0.  0. ]\n",
      " [0.  0.  0.  0.5 0.5 0.5 1.  1.  1.  0.5 0.5 0.5 0.  0.  0. ]\n",
      " [0.  0.  0.  0.5 0.5 0.5 1.  1.  1.  0.5 0.5 0.5 0.  0.  0. ]\n",
      " [0.  0.  0.  0.5 0.5 0.5 1.  1.  1.  0.5 0.5 0.5 0.  0.  0. ]\n",
      " [0.  0.  0.  0.5 0.5 0.5 1.  1.  1.  0.5 0.5 0.5 0.  0.  0. ]\n",
      " [0.  0.  0.  0.5 0.5 0.5 1.  1.  1.  0.5 0.5 0.5 0.  0.  0. ]\n",
      " [0.  0.  0.  0.5 0.5 0.5 1.  1.  1.  0.5 0.5 0.5 0.  0.  0. ]\n",
      " [0.  0.  0.  0.5 0.5 0.5 1.  1.  1.  0.5 0.5 0.5 0.  0.  0. ]\n",
      " [0.  0.  0.  0.5 0.5 0.5 1.  1.  1.  0.5 0.5 0.5 0.  0.  0. ]\n",
      " [0.  0.  0.  0.5 0.5 0.5 1.  1.  1.  0.5 0.5 0.5 0.  0.  0. ]]\n",
      "0.0 0.0 0.0 0.5 0.5 0.5 1.0 1.0 1.0 0.5 0.5 0.5 0.0 0.0 0.0 0.0 0.0 0.0 0.5 0.5 0.5 1.0 1.0 1.0 0.5 0.5 0.5 0.0 0.0 0.0 0.0 0.0 0.0 0.5 0.5 0.5 1.0 1.0 1.0 0.5 0.5 0.5 0.0 0.0 0.0 0.0 0.0 0.0 0.5 0.5 0.5 1.0 1.0 1.0 0.5 0.5 0.5 0.0 0.0 0.0 0.0 0.0 0.0 0.5 0.5 0.5 1.0 1.0 1.0 0.5 0.5 0.5 0.0 0.0 0.0 0.0 0.0 0.0 0.5 0.5 0.5 1.0 1.0 1.0 0.5 0.5 0.5 0.0 0.0 0.0 0.0 0.0 0.0 0.5 0.5 0.5 1.0 1.0 1.0 0.5 0.5 0.5 0.0 0.0 0.0 0.0 0.0 0.0 0.5 0.5 0.5 1.0 1.0 1.0 0.5 0.5 0.5 0.0 0.0 0.0 0.0 0.0 0.0 0.5 0.5 0.5 1.0 1.0 1.0 0.5 0.5 0.5 0.0 0.0 0.0 0.0 0.0 0.0 0.5 0.5 0.5 1.0 1.0 1.0 0.5 0.5 0.5 0.0 0.0 0.0 0.0 0.0 0.0 0.5 0.5 0.5 1.0 1.0 1.0 0.5 0.5 0.5 0.0 0.0 0.0 0.0 0.0 0.0 0.5 0.5 0.5 1.0 1.0 1.0 0.5 0.5 0.5 0.0 0.0 0.0 0.0 0.0 0.0 0.5 0.5 0.5 1.0 1.0 1.0 0.5 0.5 0.5 0.0 0.0 0.0 0.0 0.0 0.0 0.5 0.5 0.5 1.0 1.0 1.0 0.5 0.5 0.5 0.0 0.0 0.0 0.0 0.0 0.0 0.5 0.5 0.5 1.0 1.0 1.0 0.5 0.5 0.5 0.0 0.0 0.0 "
     ]
    }
   ],
   "source": [
    "print(a)\n",
    "for i in a:\n",
    "    for j in i:\n",
    "        print(j, end=\" \")"
   ]
  },
  {
   "cell_type": "code",
   "execution_count": 4,
   "metadata": {
    "execution": {
     "iopub.execute_input": "2022-06-05T13:07:27.349073Z",
     "iopub.status.busy": "2022-06-05T13:07:27.348430Z",
     "iopub.status.idle": "2022-06-05T13:07:27.356206Z",
     "shell.execute_reply": "2022-06-05T13:07:27.355696Z",
     "shell.execute_reply.started": "2022-06-05T13:07:27.349042Z"
    }
   },
   "outputs": [
    {
     "name": "stdout",
     "output_type": "stream",
     "text": [
      "[[0.  0.  1.5 3.  4.5 6.  7.5 9.  7.5 6.  4.5 3.  1.5 0.  0. ]\n",
      " [0.  0.  1.5 3.  4.5 6.  7.5 9.  7.5 6.  4.5 3.  1.5 0.  0. ]\n",
      " [0.  0.  1.5 3.  4.5 6.  7.5 9.  7.5 6.  4.5 3.  1.5 0.  0. ]\n",
      " [0.  0.  1.5 3.  4.5 6.  7.5 9.  7.5 6.  4.5 3.  1.5 0.  0. ]\n",
      " [0.  0.  1.5 3.  4.5 6.  7.5 9.  7.5 6.  4.5 3.  1.5 0.  0. ]\n",
      " [0.  0.  1.5 3.  4.5 6.  7.5 9.  7.5 6.  4.5 3.  1.5 0.  0. ]\n",
      " [0.  0.  1.5 3.  4.5 6.  7.5 9.  7.5 6.  4.5 3.  1.5 0.  0. ]\n",
      " [0.  0.  1.5 3.  4.5 6.  7.5 9.  7.5 6.  4.5 3.  1.5 0.  0. ]\n",
      " [0.  0.  1.5 3.  4.5 6.  7.5 9.  7.5 6.  4.5 3.  1.5 0.  0. ]\n",
      " [0.  0.  1.5 3.  4.5 6.  7.5 9.  7.5 6.  4.5 3.  1.5 0.  0. ]\n",
      " [0.  0.  1.5 3.  4.5 6.  7.5 9.  7.5 6.  4.5 3.  1.5 0.  0. ]\n",
      " [0.  0.  1.5 3.  4.5 6.  7.5 9.  7.5 6.  4.5 3.  1.5 0.  0. ]\n",
      " [0.  0.  1.5 3.  4.5 6.  7.5 9.  7.5 6.  4.5 3.  1.5 0.  0. ]\n",
      " [0.  0.  1.5 3.  4.5 6.  7.5 9.  7.5 6.  4.5 3.  1.5 0.  0. ]\n",
      " [0.  0.  1.5 3.  4.5 6.  7.5 9.  7.5 6.  4.5 3.  1.5 0.  0. ]]\n",
      "0.0 0.0 1.5 3.0 4.5 6.0 7.5 9.0 7.5 6.0 4.5 3.0 1.5 0.0 0.0 0.0 0.0 1.5 3.0 4.5 6.0 7.5 9.0 7.5 6.0 4.5 3.0 1.5 0.0 0.0 0.0 0.0 1.5 3.0 4.5 6.0 7.5 9.0 7.5 6.0 4.5 3.0 1.5 0.0 0.0 0.0 0.0 1.5 3.0 4.5 6.0 7.5 9.0 7.5 6.0 4.5 3.0 1.5 0.0 0.0 0.0 0.0 1.5 3.0 4.5 6.0 7.5 9.0 7.5 6.0 4.5 3.0 1.5 0.0 0.0 0.0 0.0 1.5 3.0 4.5 6.0 7.5 9.0 7.5 6.0 4.5 3.0 1.5 0.0 0.0 0.0 0.0 1.5 3.0 4.5 6.0 7.5 9.0 7.5 6.0 4.5 3.0 1.5 0.0 0.0 0.0 0.0 1.5 3.0 4.5 6.0 7.5 9.0 7.5 6.0 4.5 3.0 1.5 0.0 0.0 0.0 0.0 1.5 3.0 4.5 6.0 7.5 9.0 7.5 6.0 4.5 3.0 1.5 0.0 0.0 0.0 0.0 1.5 3.0 4.5 6.0 7.5 9.0 7.5 6.0 4.5 3.0 1.5 0.0 0.0 0.0 0.0 1.5 3.0 4.5 6.0 7.5 9.0 7.5 6.0 4.5 3.0 1.5 0.0 0.0 0.0 0.0 1.5 3.0 4.5 6.0 7.5 9.0 7.5 6.0 4.5 3.0 1.5 0.0 0.0 0.0 0.0 1.5 3.0 4.5 6.0 7.5 9.0 7.5 6.0 4.5 3.0 1.5 0.0 0.0 0.0 0.0 1.5 3.0 4.5 6.0 7.5 9.0 7.5 6.0 4.5 3.0 1.5 0.0 0.0 0.0 0.0 1.5 3.0 4.5 6.0 7.5 9.0 7.5 6.0 4.5 3.0 1.5 0.0 0.0 "
     ]
    }
   ],
   "source": [
    "avg_kernel = np.ones((3, 3))\n",
    "avg_out = ndimage.convolve(a, avg_kernel)\n",
    "print(avg_out)\n",
    "for i in avg_out:\n",
    "    for j in i:\n",
    "        print(j, end= \" \")"
   ]
  },
  {
   "cell_type": "markdown",
   "metadata": {},
   "source": [
    "Why does the following code produce the wrong output?"
   ]
  },
  {
   "cell_type": "code",
   "execution_count": 5,
   "metadata": {
    "execution": {
     "iopub.execute_input": "2022-06-05T13:07:29.496685Z",
     "iopub.status.busy": "2022-06-05T13:07:29.496015Z",
     "iopub.status.idle": "2022-06-05T13:07:29.537137Z",
     "shell.execute_reply": "2022-06-05T13:07:29.536594Z",
     "shell.execute_reply.started": "2022-06-05T13:07:29.496657Z"
    }
   },
   "outputs": [
    {
     "data": {
      "image/png": "[encoded data removed]",
      "text/plain": [
       "<Figure size 432x288 with 1 Axes>"
      ]
     },
     "metadata": {
      "needs_background": "light"
     },
     "output_type": "display_data"
    }
   ],
   "source": [
    "imshow(avg_out, vmin=0, vmax=1)"
   ]
  },
  {
   "cell_type": "code",
   "execution_count": 6,
   "metadata": {
    "execution": {
     "iopub.execute_input": "2022-06-05T13:07:31.488703Z",
     "iopub.status.busy": "2022-06-05T13:07:31.488063Z",
     "iopub.status.idle": "2022-06-05T13:07:31.700334Z",
     "shell.execute_reply": "2022-06-05T13:07:31.699755Z",
     "shell.execute_reply.started": "2022-06-05T13:07:31.488671Z"
    }
   },
   "outputs": [
    {
     "name": "stdout",
     "output_type": "stream",
     "text": [
      "9.0\n",
      "0.0 0.0 0.16666667 0.33333334 0.5 0.6666667 0.8333333 1.0 0.8333333 0.6666667 0.5 0.33333334 0.16666667 0.0 0.0 0.0 0.0 0.16666667 0.33333334 0.5 0.6666667 0.8333333 1.0 0.8333333 0.6666667 0.5 0.33333334 0.16666667 0.0 0.0 0.0 0.0 0.16666667 0.33333334 0.5 0.6666667 0.8333333 1.0 0.8333333 0.6666667 0.5 0.33333334 0.16666667 0.0 0.0 0.0 0.0 0.16666667 0.33333334 0.5 0.6666667 0.8333333 1.0 0.8333333 0.6666667 0.5 0.33333334 0.16666667 0.0 0.0 0.0 0.0 0.16666667 0.33333334 0.5 0.6666667 0.8333333 1.0 0.8333333 0.6666667 0.5 0.33333334 0.16666667 0.0 0.0 0.0 0.0 0.16666667 0.33333334 0.5 0.6666667 0.8333333 1.0 0.8333333 0.6666667 0.5 0.33333334 0.16666667 0.0 0.0 0.0 0.0 0.16666667 0.33333334 0.5 0.6666667 0.8333333 1.0 0.8333333 0.6666667 0.5 0.33333334 0.16666667 0.0 0.0 0.0 0.0 0.16666667 0.33333334 0.5 0.6666667 0.8333333 1.0 0.8333333 0.6666667 0.5 0.33333334 0.16666667 0.0 0.0 0.0 0.0 0.16666667 0.33333334 0.5 0.6666667 0.8333333 1.0 0.8333333 0.6666667 0.5 0.33333334 0.16666667 0.0 0.0 0.0 0.0 0.16666667 0.33333334 0.5 0.6666667 0.8333333 1.0 0.8333333 0.6666667 0.5 0.33333334 0.16666667 0.0 0.0 0.0 0.0 0.16666667 0.33333334 0.5 0.6666667 0.8333333 1.0 0.8333333 0.6666667 0.5 0.33333334 0.16666667 0.0 0.0 0.0 0.0 0.16666667 0.33333334 0.5 0.6666667 0.8333333 1.0 0.8333333 0.6666667 0.5 0.33333334 0.16666667 0.0 0.0 0.0 0.0 0.16666667 0.33333334 0.5 0.6666667 0.8333333 1.0 0.8333333 0.6666667 0.5 0.33333334 0.16666667 0.0 0.0 0.0 0.0 0.16666667 0.33333334 0.5 0.6666667 0.8333333 1.0 0.8333333 0.6666667 0.5 0.33333334 0.16666667 0.0 0.0 0.0 0.0 0.16666667 0.33333334 0.5 0.6666667 0.8333333 1.0 0.8333333 0.6666667 0.5 0.33333334 0.16666667 0.0 0.0 "
     ]
    },
    {
     "data": {
      "image/png": "[encoded data removed]",
      "text/plain": [
       "<Figure size 432x288 with 1 Axes>"
      ]
     },
     "metadata": {
      "needs_background": "light"
     },
     "output_type": "display_data"
    }
   ],
   "source": [
    "#Perform normalization\n",
    "print(avg_kernel.sum())\n",
    "\n",
    "norm_avg_out = avg_out / avg_kernel.sum()\n",
    "for i in norm_avg_out:\n",
    "    for j in i:\n",
    "        print(j, end=\" \")\n",
    "        \n",
    "imshow(norm_avg_out, vmin=0, vmax=1.0)\n",
    "\n",
    "# watch out for implicit normalization of imshow!\n",
    "# imshow(wrong_avg_out)"
   ]
  },
  {
   "cell_type": "markdown",
   "metadata": {},
   "source": [
    "The average filter:\n",
    "- Blurs edges\n",
    "    - Softer transitions (= smoothing effect)\n"
   ]
  },
  {
   "cell_type": "markdown",
   "metadata": {},
   "source": [
    "### In-course practice\n",
    "\n",
    "- Try out different kernel sizes"
   ]
  },
  {
   "cell_type": "code",
   "execution_count": 48,
   "metadata": {},
   "outputs": [],
   "source": [
    "# what is the effect of different kernel sizes?"
   ]
  },
  {
   "cell_type": "code",
   "execution_count": 7,
   "metadata": {
    "execution": {
     "iopub.execute_input": "2022-06-05T13:07:34.675620Z",
     "iopub.status.busy": "2022-06-05T13:07:34.674992Z",
     "iopub.status.idle": "2022-06-05T13:07:34.724422Z",
     "shell.execute_reply": "2022-06-05T13:07:34.723893Z",
     "shell.execute_reply.started": "2022-06-05T13:07:34.675589Z"
    }
   },
   "outputs": [
    {
     "name": "stdout",
     "output_type": "stream",
     "text": [
      "(5, 5)\n",
      "(-5, -5)\n",
      "(2, 2)\n",
      "(-2, -2)\n",
      "(2, -2)\n",
      "5 5\n",
      "-5 -5\n",
      "2 2\n",
      "-2 -2\n",
      "2 -2\n"
     ]
    },
    {
     "data": {
      "image/png": "[encoded data removed]",
      "text/plain": [
       "<Figure size 432x288 with 1 Axes>"
      ]
     },
     "metadata": {
      "needs_background": "light"
     },
     "output_type": "display_data"
    }
   ],
   "source": [
    "noisy_a = get_example_arr()\n",
    "\n",
    "for i in [(5, 5), (-5, -5), (2, 2), (-2, -2), (2, -2)]:\n",
    "    print(i)\n",
    "\n",
    "\n",
    "for n_x, n_y in [(5, 5), (-5, -5), (2, 2), (-2, -2), (2, -2)]:\n",
    "    print(n_x, n_y) #So we create a 2D array\n",
    "    noisy_a[n_x, n_y] = 1.0 #So we change the value to 1 in the location we provided above\n",
    "\n",
    "\n",
    "imshow(noisy_a)"
   ]
  },
  {
   "cell_type": "code",
   "execution_count": 8,
   "metadata": {
    "execution": {
     "iopub.execute_input": "2022-06-05T13:07:38.068683Z",
     "iopub.status.busy": "2022-06-05T13:07:38.068041Z",
     "iopub.status.idle": "2022-06-05T13:07:38.114769Z",
     "shell.execute_reply": "2022-06-05T13:07:38.113952Z",
     "shell.execute_reply.started": "2022-06-05T13:07:38.068650Z"
    }
   },
   "outputs": [
    {
     "data": {
      "image/png": "[encoded data removed]",
      "text/plain": [
       "<Figure size 432x288 with 1 Axes>"
      ]
     },
     "metadata": {
      "needs_background": "light"
     },
     "output_type": "display_data"
    }
   ],
   "source": [
    "avg_kernel = np.ones((3, 3))\n",
    "avg_out = ndimage.convolve(noisy_a, avg_kernel) / avg_kernel.sum()\n",
    "imshow(avg_out, vmin=0, vmax=1)"
   ]
  },
  {
   "cell_type": "markdown",
   "metadata": {},
   "source": [
    "## Median Filtering"
   ]
  },
  {
   "cell_type": "markdown",
   "metadata": {},
   "source": [
    "- Non-linear digital filtering technique\n",
    "- Reduces noise while preserves edges\n",
    "    - What other technique could be used to filter out noise without blurring the edges?\n",
    "- Effective for \"salt-and-pepper noise\"\n",
    "    - Sparsely occuring white and black pixels (defective pixels)"
   ]
  },
  {
   "cell_type": "code",
   "execution_count": 9,
   "metadata": {
    "execution": {
     "iopub.execute_input": "2022-06-05T13:07:40.822532Z",
     "iopub.status.busy": "2022-06-05T13:07:40.821512Z",
     "iopub.status.idle": "2022-06-05T13:07:40.827615Z",
     "shell.execute_reply": "2022-06-05T13:07:40.827036Z",
     "shell.execute_reply.started": "2022-06-05T13:07:40.822495Z"
    }
   },
   "outputs": [
    {
     "data": {
      "text/plain": [
       "array([[1., 0., 0.],\n",
       "       [0., 0., 0.],\n",
       "       [0., 0., 1.]])"
      ]
     },
     "execution_count": 9,
     "metadata": {},
     "output_type": "execute_result"
    }
   ],
   "source": [
    "inp = np.zeros((3, 3))\n",
    "inp[-1, -1] = inp[0, 0] = 1\n",
    "inp"
   ]
  },
  {
   "cell_type": "code",
   "execution_count": 10,
   "metadata": {
    "execution": {
     "iopub.execute_input": "2022-06-05T13:07:43.093486Z",
     "iopub.status.busy": "2022-06-05T13:07:43.092883Z",
     "iopub.status.idle": "2022-06-05T13:07:43.099144Z",
     "shell.execute_reply": "2022-06-05T13:07:43.098626Z",
     "shell.execute_reply.started": "2022-06-05T13:07:43.093457Z"
    }
   },
   "outputs": [
    {
     "data": {
      "text/plain": [
       "array([1., 0., 0., 0., 0., 0., 0., 0., 1.])"
      ]
     },
     "execution_count": 10,
     "metadata": {},
     "output_type": "execute_result"
    }
   ],
   "source": [
    "inp_flatten = inp.flatten()\n",
    "inp_flatten"
   ]
  },
  {
   "cell_type": "code",
   "execution_count": 11,
   "metadata": {
    "execution": {
     "iopub.execute_input": "2022-06-05T13:07:44.202429Z",
     "iopub.status.busy": "2022-06-05T13:07:44.201837Z",
     "iopub.status.idle": "2022-06-05T13:07:44.207333Z",
     "shell.execute_reply": "2022-06-05T13:07:44.206906Z",
     "shell.execute_reply.started": "2022-06-05T13:07:44.202400Z"
    }
   },
   "outputs": [
    {
     "data": {
      "text/plain": [
       "array([0., 0., 0., 0., 0., 0., 0., 1., 1.])"
      ]
     },
     "execution_count": 11,
     "metadata": {},
     "output_type": "execute_result"
    }
   ],
   "source": [
    "inp_sorted = np.sort(inp_flatten)\n",
    "inp_sorted"
   ]
  },
  {
   "cell_type": "code",
   "execution_count": 13,
   "metadata": {
    "execution": {
     "iopub.execute_input": "2022-06-05T13:07:47.680351Z",
     "iopub.status.busy": "2022-06-05T13:07:47.679623Z",
     "iopub.status.idle": "2022-06-05T13:07:47.684754Z",
     "shell.execute_reply": "2022-06-05T13:07:47.684023Z",
     "shell.execute_reply.started": "2022-06-05T13:07:47.680322Z"
    }
   },
   "outputs": [
    {
     "data": {
      "text/plain": [
       "4"
      ]
     },
     "execution_count": 13,
     "metadata": {},
     "output_type": "execute_result"
    }
   ],
   "source": [
    "idx = (inp_sorted.size - 1) // 2\n",
    "idx"
   ]
  },
  {
   "cell_type": "code",
   "execution_count": 14,
   "metadata": {
    "execution": {
     "iopub.execute_input": "2022-06-05T13:07:48.869475Z",
     "iopub.status.busy": "2022-06-05T13:07:48.868716Z",
     "iopub.status.idle": "2022-06-05T13:07:48.875085Z",
     "shell.execute_reply": "2022-06-05T13:07:48.874325Z",
     "shell.execute_reply.started": "2022-06-05T13:07:48.869443Z"
    }
   },
   "outputs": [
    {
     "data": {
      "text/plain": [
       "0.0"
      ]
     },
     "execution_count": 14,
     "metadata": {},
     "output_type": "execute_result"
    }
   ],
   "source": [
    "inp_sorted[idx]"
   ]
  },
  {
   "cell_type": "code",
   "execution_count": 15,
   "metadata": {
    "execution": {
     "iopub.execute_input": "2022-06-05T13:07:49.769905Z",
     "iopub.status.busy": "2022-06-05T13:07:49.769104Z",
     "iopub.status.idle": "2022-06-05T13:07:49.812969Z",
     "shell.execute_reply": "2022-06-05T13:07:49.812297Z",
     "shell.execute_reply.started": "2022-06-05T13:07:49.769872Z"
    }
   },
   "outputs": [
    {
     "data": {
      "image/png": "[encoded data removed]",
      "text/plain": [
       "<Figure size 432x288 with 1 Axes>"
      ]
     },
     "metadata": {
      "needs_background": "light"
     },
     "output_type": "display_data"
    }
   ],
   "source": [
    "imshow(\n",
    "    ndimage.median_filter(noisy_a, size=(3, 3)),\n",
    "    vmin=0,\n",
    "    vmax=1,\n",
    ")"
   ]
  },
  {
   "cell_type": "markdown",
   "metadata": {},
   "source": [
    "### In-course practice\n",
    "\n",
    "Manually add noise with the maximum value to the input image that cannot be _filtered_ by the `3 x 3` median filter"
   ]
  },
  {
   "cell_type": "code",
   "execution_count": 49,
   "metadata": {},
   "outputs": [],
   "source": [
    "# How can one achieve that?"
   ]
  },
  {
   "cell_type": "code",
   "execution_count": 40,
   "metadata": {
    "execution": {
     "iopub.execute_input": "2022-06-05T13:37:49.527814Z",
     "iopub.status.busy": "2022-06-05T13:37:49.527029Z",
     "iopub.status.idle": "2022-06-05T13:37:49.569298Z",
     "shell.execute_reply": "2022-06-05T13:37:49.568747Z",
     "shell.execute_reply.started": "2022-06-05T13:37:49.527783Z"
    }
   },
   "outputs": [
    {
     "name": "stdout",
     "output_type": "stream",
     "text": [
      "[[0.  0.  0.  0.5 0.5 0.5 1.  1.  1.  0.5 0.5 0.5 0.  0.  0. ]\n",
      " [0.  0.  0.  0.5 0.5 0.5 1.  1.  1.  0.5 0.5 0.5 0.  0.  0. ]\n",
      " [0.  0.  0.  0.5 0.5 0.5 1.  1.  1.  0.5 0.5 0.5 0.  0.  0. ]\n",
      " [0.  0.  0.  0.5 0.5 0.5 1.  1.  1.  0.5 0.5 0.5 0.  0.  0. ]\n",
      " [0.  0.  0.  0.5 0.5 0.5 1.  1.  1.  0.5 0.5 0.5 0.  0.  0. ]\n",
      " [0.  0.  0.  0.5 0.5 0.5 1.  1.  1.  0.5 0.5 0.5 0.  0.  0. ]\n",
      " [0.  0.  0.  0.5 0.5 0.5 1.  1.  1.  0.5 0.5 0.5 0.  0.  0. ]\n",
      " [0.  0.  0.  0.5 0.5 0.5 1.  1.  1.  0.5 0.5 0.5 0.  0.  0. ]\n",
      " [0.  0.  0.  0.5 0.5 0.5 1.  1.  1.  0.5 0.5 0.5 0.  0.  0. ]\n",
      " [0.  0.  0.  0.5 0.5 0.5 1.  1.  1.  0.5 0.5 0.5 0.  0.  0. ]\n",
      " [0.  0.  0.  0.5 0.5 0.5 1.  1.  1.  0.5 0.5 0.5 0.  0.  0. ]\n",
      " [0.  0.  0.  0.5 0.5 0.5 1.  1.  1.  0.5 0.5 0.5 0.  0.  0. ]\n",
      " [0.  0.  0.  0.5 0.5 0.5 1.  1.  1.  0.5 0.5 0.5 0.  0.  0. ]\n",
      " [0.  0.  0.  0.5 0.5 0.5 1.  1.  1.  0.5 0.5 0.5 0.  0.  0. ]\n",
      " [0.  0.  0.  0.5 0.5 0.5 1.  1.  1.  0.5 0.5 0.5 0.  0.  0. ]]\n",
      "[[0.  0.  0.  0.5 0.5 0.5 1.  1.  1.  0.5 0.5 0.5 0.  0.  0. ]\n",
      " [0.  0.  0.  0.5 0.5 0.5 1.  1.  1.  0.5 0.5 0.5 0.  0.  0. ]\n",
      " [0.  0.  1.  1.  1.  0.5 1.  1.  1.  0.5 0.5 0.5 0.  0.  0. ]\n",
      " [0.  0.  1.  1.  1.  0.5 1.  1.  1.  0.5 0.5 0.5 0.  0.  0. ]\n",
      " [0.  0.  1.  1.  1.  0.5 1.  1.  1.  0.5 0.5 0.5 0.  0.  0. ]\n",
      " [0.  0.  0.  0.5 0.5 0.5 1.  1.  1.  0.5 0.5 0.5 0.  0.  0. ]\n",
      " [0.  0.  0.  0.5 0.5 0.5 1.  1.  1.  0.5 0.5 0.5 0.  0.  0. ]\n",
      " [0.  0.  0.  0.5 0.5 0.5 1.  1.  1.  0.5 0.5 0.5 0.  0.  0. ]\n",
      " [0.  0.  0.  0.5 0.5 0.5 1.  1.  1.  0.5 0.5 0.5 0.  0.  0. ]\n",
      " [0.  0.  0.  0.5 0.5 0.5 1.  1.  1.  0.5 0.5 0.5 0.  0.  0. ]\n",
      " [0.  0.  0.  0.5 0.5 0.5 1.  1.  1.  1.  1.  1.  0.  0.  0. ]\n",
      " [0.  0.  0.  0.5 0.5 0.5 1.  1.  1.  1.  1.  1.  0.  0.  0. ]\n",
      " [0.  0.  0.  0.5 0.5 0.5 1.  1.  1.  1.  1.  1.  0.  0.  0. ]\n",
      " [0.  0.  0.  0.5 0.5 0.5 1.  1.  1.  0.5 0.5 0.5 0.  0.  0. ]\n",
      " [0.  0.  0.  0.5 0.5 0.5 1.  1.  1.  0.5 0.5 0.5 0.  0.  0. ]]\n"
     ]
    },
    {
     "data": {
      "image/png": "[encoded data removed]",
      "text/plain": [
       "<Figure size 432x288 with 1 Axes>"
      ]
     },
     "metadata": {
      "needs_background": "light"
     },
     "output_type": "display_data"
    }
   ],
   "source": [
    "noise_img = np.copy(a)\n",
    "print(noise_img)\n",
    "\n",
    "for n_x, n_y in[(2,2), (-5,-6)]:\n",
    "    noise_img[n_x : n_x + 3, n_y : n_y + 3] = 1.0\n",
    "\n",
    "print(noise_img)\n",
    "imshow(noise_img)\n",
    "    \n"
   ]
  },
  {
   "cell_type": "code",
   "execution_count": 42,
   "metadata": {
    "execution": {
     "iopub.execute_input": "2022-06-05T13:38:19.713756Z",
     "iopub.status.busy": "2022-06-05T13:38:19.713041Z",
     "iopub.status.idle": "2022-06-05T13:38:19.759032Z",
     "shell.execute_reply": "2022-06-05T13:38:19.758451Z",
     "shell.execute_reply.started": "2022-06-05T13:38:19.713727Z"
    }
   },
   "outputs": [
    {
     "data": {
      "image/png": "[encoded data removed]",
      "text/plain": [
       "<Figure size 432x288 with 1 Axes>"
      ]
     },
     "metadata": {
      "needs_background": "light"
     },
     "output_type": "display_data"
    }
   ],
   "source": [
    "fil_img = ndimage.median_filter(noise_img, size=(3,3))\n",
    "imshow(fil_img, vmin=0.0, vmax=1.0)"
   ]
  },
  {
   "cell_type": "markdown",
   "metadata": {},
   "source": [
    "## Sobel"
   ]
  },
  {
   "cell_type": "code",
   "execution_count": 45,
   "metadata": {
    "execution": {
     "iopub.execute_input": "2022-06-05T13:39:01.234431Z",
     "iopub.status.busy": "2022-06-05T13:39:01.233382Z",
     "iopub.status.idle": "2022-06-05T13:39:01.269940Z",
     "shell.execute_reply": "2022-06-05T13:39:01.269366Z",
     "shell.execute_reply.started": "2022-06-05T13:39:01.234400Z"
    }
   },
   "outputs": [
    {
     "data": {
      "image/png": "[encoded data removed]",
      "text/plain": [
       "<Figure size 432x288 with 1 Axes>"
      ]
     },
     "metadata": {
      "needs_background": "light"
     },
     "output_type": "display_data"
    }
   ],
   "source": [
    "a = get_example_arr()\n",
    "\n",
    "# note that the contents sum to 0\n",
    "# Preserving center pixels with 2\n",
    "# Prewitt would only have ones\n",
    "sobel_x = np.array(\n",
    "    [\n",
    "        [1, 0, -1],\n",
    "        [2, 0, -2],\n",
    "        [1, 0, -1],\n",
    "    ]\n",
    ")\n",
    "\n",
    "imshow(sobel_x)"
   ]
  },
  {
   "cell_type": "code",
   "execution_count": 51,
   "metadata": {
    "execution": {
     "iopub.execute_input": "2022-06-05T13:46:37.437965Z",
     "iopub.status.busy": "2022-06-05T13:46:37.437154Z",
     "iopub.status.idle": "2022-06-05T13:46:37.444778Z",
     "shell.execute_reply": "2022-06-05T13:46:37.443947Z",
     "shell.execute_reply.started": "2022-06-05T13:46:37.437932Z"
    }
   },
   "outputs": [
    {
     "name": "stdout",
     "output_type": "stream",
     "text": [
      "[[0.  0.  0.  0.5 0.5 0.5 1.  1.  1.  0.5 0.5 0.5 0.  0.  0. ]\n",
      " [0.  0.  0.  0.5 0.5 0.5 1.  1.  1.  0.5 0.5 0.5 0.  0.  0. ]\n",
      " [0.  0.  0.  0.5 0.5 0.5 1.  1.  1.  0.5 0.5 0.5 0.  0.  0. ]\n",
      " [0.  0.  0.  0.5 0.5 0.5 1.  1.  1.  0.5 0.5 0.5 0.  0.  0. ]\n",
      " [0.  0.  0.  0.5 0.5 0.5 1.  1.  1.  0.5 0.5 0.5 0.  0.  0. ]\n",
      " [0.  0.  0.  0.5 0.5 0.5 1.  1.  1.  0.5 0.5 0.5 0.  0.  0. ]\n",
      " [0.  0.  0.  0.5 0.5 0.5 1.  1.  1.  0.5 0.5 0.5 0.  0.  0. ]\n",
      " [0.  0.  0.  0.5 0.5 0.5 1.  1.  1.  0.5 0.5 0.5 0.  0.  0. ]\n",
      " [0.  0.  0.  0.5 0.5 0.5 1.  1.  1.  0.5 0.5 0.5 0.  0.  0. ]\n",
      " [0.  0.  0.  0.5 0.5 0.5 1.  1.  1.  0.5 0.5 0.5 0.  0.  0. ]\n",
      " [0.  0.  0.  0.5 0.5 0.5 1.  1.  1.  0.5 0.5 0.5 0.  0.  0. ]\n",
      " [0.  0.  0.  0.5 0.5 0.5 1.  1.  1.  0.5 0.5 0.5 0.  0.  0. ]\n",
      " [0.  0.  0.  0.5 0.5 0.5 1.  1.  1.  0.5 0.5 0.5 0.  0.  0. ]\n",
      " [0.  0.  0.  0.5 0.5 0.5 1.  1.  1.  0.5 0.5 0.5 0.  0.  0. ]\n",
      " [0.  0.  0.  0.5 0.5 0.5 1.  1.  1.  0.5 0.5 0.5 0.  0.  0. ]]\n",
      "[[ 0.  0.  2.  2.  0.  2.  2.  0. -2. -2.  0. -2. -2.  0.  0.]\n",
      " [ 0.  0.  2.  2.  0.  2.  2.  0. -2. -2.  0. -2. -2.  0.  0.]\n",
      " [ 0.  0.  2.  2.  0.  2.  2.  0. -2. -2.  0. -2. -2.  0.  0.]\n",
      " [ 0.  0.  2.  2.  0.  2.  2.  0. -2. -2.  0. -2. -2.  0.  0.]\n",
      " [ 0.  0.  2.  2.  0.  2.  2.  0. -2. -2.  0. -2. -2.  0.  0.]\n",
      " [ 0.  0.  2.  2.  0.  2.  2.  0. -2. -2.  0. -2. -2.  0.  0.]\n",
      " [ 0.  0.  2.  2.  0.  2.  2.  0. -2. -2.  0. -2. -2.  0.  0.]\n",
      " [ 0.  0.  2.  2.  0.  2.  2.  0. -2. -2.  0. -2. -2.  0.  0.]\n",
      " [ 0.  0.  2.  2.  0.  2.  2.  0. -2. -2.  0. -2. -2.  0.  0.]\n",
      " [ 0.  0.  2.  2.  0.  2.  2.  0. -2. -2.  0. -2. -2.  0.  0.]\n",
      " [ 0.  0.  2.  2.  0.  2.  2.  0. -2. -2.  0. -2. -2.  0.  0.]\n",
      " [ 0.  0.  2.  2.  0.  2.  2.  0. -2. -2.  0. -2. -2.  0.  0.]\n",
      " [ 0.  0.  2.  2.  0.  2.  2.  0. -2. -2.  0. -2. -2.  0.  0.]\n",
      " [ 0.  0.  2.  2.  0.  2.  2.  0. -2. -2.  0. -2. -2.  0.  0.]\n",
      " [ 0.  0.  2.  2.  0.  2.  2.  0. -2. -2.  0. -2. -2.  0.  0.]]\n"
     ]
    }
   ],
   "source": [
    "print(a)\n",
    "sobel_x_a = ndimage.convolve(a, weights=sobel_x)\n",
    "print(sobel_x_a)"
   ]
  },
  {
   "cell_type": "markdown",
   "metadata": {},
   "source": [
    "- Why are some values negative?\n",
    "    - What does that mean?"
   ]
  },
  {
   "cell_type": "code",
   "execution_count": 52,
   "metadata": {
    "execution": {
     "iopub.execute_input": "2022-06-05T13:46:39.768506Z",
     "iopub.status.busy": "2022-06-05T13:46:39.767950Z",
     "iopub.status.idle": "2022-06-05T13:46:39.811131Z",
     "shell.execute_reply": "2022-06-05T13:46:39.810203Z",
     "shell.execute_reply.started": "2022-06-05T13:46:39.768479Z"
    }
   },
   "outputs": [
    {
     "data": {
      "image/png": "[encoded data removed]",
      "text/plain": [
       "<Figure size 432x288 with 1 Axes>"
      ]
     },
     "metadata": {
      "needs_background": "light"
     },
     "output_type": "display_data"
    }
   ],
   "source": [
    "imshow(a, vmin=0, vmax=1)"
   ]
  },
  {
   "cell_type": "code",
   "execution_count": 53,
   "metadata": {
    "execution": {
     "iopub.execute_input": "2022-06-05T13:46:44.496283Z",
     "iopub.status.busy": "2022-06-05T13:46:44.495732Z",
     "iopub.status.idle": "2022-06-05T13:46:44.536829Z",
     "shell.execute_reply": "2022-06-05T13:46:44.536303Z",
     "shell.execute_reply.started": "2022-06-05T13:46:44.496254Z"
    }
   },
   "outputs": [
    {
     "data": {
      "image/png": "[encoded data removed]",
      "text/plain": [
       "<Figure size 432x288 with 1 Axes>"
      ]
     },
     "metadata": {
      "needs_background": "light"
     },
     "output_type": "display_data"
    }
   ],
   "source": [
    "# utilize implicit normalization\n",
    "imshow(np.absolute(sobel_x_a))"
   ]
  },
  {
   "cell_type": "code",
   "execution_count": 49,
   "metadata": {
    "execution": {
     "iopub.execute_input": "2022-06-05T13:41:41.486058Z",
     "iopub.status.busy": "2022-06-05T13:41:41.485667Z",
     "iopub.status.idle": "2022-06-05T13:41:41.525292Z",
     "shell.execute_reply": "2022-06-05T13:41:41.524788Z",
     "shell.execute_reply.started": "2022-06-05T13:41:41.486010Z"
    }
   },
   "outputs": [
    {
     "data": {
      "image/png": "[encoded data removed]",
      "text/plain": [
       "<Figure size 432x288 with 1 Axes>"
      ]
     },
     "metadata": {
      "needs_background": "light"
     },
     "output_type": "display_data"
    }
   ],
   "source": [
    "horz_a = get_example_arr().T\n",
    "imshow(horz_a)"
   ]
  },
  {
   "cell_type": "markdown",
   "metadata": {},
   "source": [
    "What would the output of the sobel-x operation look like?"
   ]
  },
  {
   "cell_type": "markdown",
   "metadata": {},
   "source": [
    "### In-course practice\n",
    "\n",
    "Define a Sobel-Y filter and apply it to `horz_a`."
   ]
  },
  {
   "cell_type": "code",
   "execution_count": 59,
   "metadata": {
    "execution": {
     "iopub.execute_input": "2022-06-05T13:50:47.002311Z",
     "iopub.status.busy": "2022-06-05T13:50:47.001991Z",
     "iopub.status.idle": "2022-06-05T13:50:47.089387Z",
     "shell.execute_reply": "2022-06-05T13:50:47.088579Z",
     "shell.execute_reply.started": "2022-06-05T13:50:47.002288Z"
    }
   },
   "outputs": [
    {
     "name": "stdout",
     "output_type": "stream",
     "text": [
      "[[ 0.  0.  0.  0.  0.  0.  0.  0.  0.  0.  0.  0.  0.  0.  0.]\n",
      " [ 0.  0.  0.  0.  0.  0.  0.  0.  0.  0.  0.  0.  0.  0.  0.]\n",
      " [ 2.  2.  2.  2.  2.  2.  2.  2.  2.  2.  2.  2.  2.  2.  2.]\n",
      " [ 2.  2.  2.  2.  2.  2.  2.  2.  2.  2.  2.  2.  2.  2.  2.]\n",
      " [ 0.  0.  0.  0.  0.  0.  0.  0.  0.  0.  0.  0.  0.  0.  0.]\n",
      " [ 2.  2.  2.  2.  2.  2.  2.  2.  2.  2.  2.  2.  2.  2.  2.]\n",
      " [ 2.  2.  2.  2.  2.  2.  2.  2.  2.  2.  2.  2.  2.  2.  2.]\n",
      " [ 0.  0.  0.  0.  0.  0.  0.  0.  0.  0.  0.  0.  0.  0.  0.]\n",
      " [-2. -2. -2. -2. -2. -2. -2. -2. -2. -2. -2. -2. -2. -2. -2.]\n",
      " [-2. -2. -2. -2. -2. -2. -2. -2. -2. -2. -2. -2. -2. -2. -2.]\n",
      " [ 0.  0.  0.  0.  0.  0.  0.  0.  0.  0.  0.  0.  0.  0.  0.]\n",
      " [-2. -2. -2. -2. -2. -2. -2. -2. -2. -2. -2. -2. -2. -2. -2.]\n",
      " [-2. -2. -2. -2. -2. -2. -2. -2. -2. -2. -2. -2. -2. -2. -2.]\n",
      " [ 0.  0.  0.  0.  0.  0.  0.  0.  0.  0.  0.  0.  0.  0.  0.]\n",
      " [ 0.  0.  0.  0.  0.  0.  0.  0.  0.  0.  0.  0.  0.  0.  0.]]\n"
     ]
    },
    {
     "data": {
      "image/png": "[encoded data removed]",
      "text/plain": [
       "<Figure size 432x288 with 1 Axes>"
      ]
     },
     "metadata": {
      "needs_background": "light"
     },
     "output_type": "display_data"
    }
   ],
   "source": [
    "sobel_y = np.array(\n",
    "    [\n",
    "        [1, 2, 1],\n",
    "        [0, 0, 0],\n",
    "        [-1, -2, -1],\n",
    "    ]\n",
    ")\n",
    "\n",
    "imshow(sobel_y)\n",
    "sobel_y_a = ndimage.convolve(horz_a, weights=sobel_y)\n",
    "print(sobel_y_a)\n",
    "\n",
    "imshow(np.absolute(sobel_y_a), vmin=0, vmax=1.0)"
   ]
  },
  {
   "cell_type": "markdown",
   "metadata": {},
   "source": [
    "Afterwards, try to construct a \"diagonal\" edge-detection filter."
   ]
  },
  {
   "cell_type": "code",
   "execution_count": 62,
   "metadata": {
    "execution": {
     "iopub.execute_input": "2022-06-05T13:57:01.712571Z",
     "iopub.status.busy": "2022-06-05T13:57:01.711502Z",
     "iopub.status.idle": "2022-06-05T13:57:01.754353Z",
     "shell.execute_reply": "2022-06-05T13:57:01.753796Z",
     "shell.execute_reply.started": "2022-06-05T13:57:01.712540Z"
    }
   },
   "outputs": [
    {
     "name": "stdout",
     "output_type": "stream",
     "text": [
      "[[ 0.   0.   1.5  1.5  0.   1.5  1.5  0.  -1.5 -1.5  0.  -1.5 -1.5  0.\n",
      "   0. ]\n",
      " [ 0.   0.   1.5  1.5  0.   1.5  1.5  0.  -1.5 -1.5  0.  -1.5 -1.5  0.\n",
      "   0. ]\n",
      " [ 0.   0.   1.5  1.5  0.   1.5  1.5  0.  -1.5 -1.5  0.  -1.5 -1.5  0.\n",
      "   0. ]\n",
      " [ 0.   0.   1.5  1.5  0.   1.5  1.5  0.  -1.5 -1.5  0.  -1.5 -1.5  0.\n",
      "   0. ]\n",
      " [ 0.   0.   1.5  1.5  0.   1.5  1.5  0.  -1.5 -1.5  0.  -1.5 -1.5  0.\n",
      "   0. ]\n",
      " [ 0.   0.   1.5  1.5  0.   1.5  1.5  0.  -1.5 -1.5  0.  -1.5 -1.5  0.\n",
      "   0. ]\n",
      " [ 0.   0.   1.5  1.5  0.   1.5  1.5  0.  -1.5 -1.5  0.  -1.5 -1.5  0.\n",
      "   0. ]\n",
      " [ 0.   0.   1.5  1.5  0.   1.5  1.5  0.  -1.5 -1.5  0.  -1.5 -1.5  0.\n",
      "   0. ]\n",
      " [ 0.   0.   1.5  1.5  0.   1.5  1.5  0.  -1.5 -1.5  0.  -1.5 -1.5  0.\n",
      "   0. ]\n",
      " [ 0.   0.   1.5  1.5  0.   1.5  1.5  0.  -1.5 -1.5  0.  -1.5 -1.5  0.\n",
      "   0. ]\n",
      " [ 0.   0.   1.5  1.5  0.   1.5  1.5  0.  -1.5 -1.5  0.  -1.5 -1.5  0.\n",
      "   0. ]\n",
      " [ 0.   0.   1.5  1.5  0.   1.5  1.5  0.  -1.5 -1.5  0.  -1.5 -1.5  0.\n",
      "   0. ]\n",
      " [ 0.   0.   1.5  1.5  0.   1.5  1.5  0.  -1.5 -1.5  0.  -1.5 -1.5  0.\n",
      "   0. ]\n",
      " [ 0.   0.   1.5  1.5  0.   1.5  1.5  0.  -1.5 -1.5  0.  -1.5 -1.5  0.\n",
      "   0. ]\n",
      " [ 0.   0.   1.5  1.5  0.   1.5  1.5  0.  -1.5 -1.5  0.  -1.5 -1.5  0.\n",
      "   0. ]]\n"
     ]
    },
    {
     "data": {
      "image/png": "[encoded data removed]",
      "text/plain": [
       "<Figure size 432x288 with 1 Axes>"
      ]
     },
     "metadata": {
      "needs_background": "light"
     },
     "output_type": "display_data"
    }
   ],
   "source": [
    "a = get_example_arr()\n",
    "\n",
    "edge_filter = np.array(\n",
    "    [\n",
    "        [2,1,0],\n",
    "        [1,0,-1],\n",
    "        [0,-1,-2]\n",
    "    ]\n",
    "\n",
    ")\n",
    "sobel_edge = ndimage.convolve(a, weights=edge_filter)\n",
    "print(sobel_edge)\n",
    "imshow(np.absolute(sobel_edge), vmin=0, vmax=1.0)"
   ]
  }
 ],
 "metadata": {
  "colab": {
   "collapsed_sections": [],
   "name": "Lab03.ipynb",
   "provenance": [
    {
     "file_id": "1OOMKGkWMIbLEgfeIw-bQgDrVSLJtmwDr",
     "timestamp": 1620370628455
    }
   ]
  },
  "interpreter": {
   "hash": "d950cc255805eca97bc9adaef38440cdd4d88c80fff2afb10853f0ffb81a073c"
  },
  "kernelspec": {
   "display_name": "ip4rs",
   "language": "python",
   "name": "ip4rs"
  },
  "language_info": {
   "codemirror_mode": {
    "name": "ipython",
    "version": 3
   },
   "file_extension": ".py",
   "mimetype": "text/x-python",
   "name": "python",
   "nbconvert_exporter": "python",
   "pygments_lexer": "ipython3",
   "version": "3.8.13"
  }
 },
 "nbformat": 4,
 "nbformat_minor": 4
}
